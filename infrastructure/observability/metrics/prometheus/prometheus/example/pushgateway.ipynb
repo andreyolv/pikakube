{
 "cells": [
  {
   "cell_type": "code",
   "execution_count": null,
   "id": "a2804b86-9e8d-4a2d-a5d4-d0068a76c17a",
   "metadata": {},
   "outputs": [],
   "source": [
    "# pip install prometheus_client"
   ]
  },
  {
   "cell_type": "code",
   "execution_count": null,
   "id": "10b5ce7b-2482-443a-975c-08715549d048",
   "metadata": {
    "tags": []
   },
   "outputs": [
    {
     "name": "stderr",
     "output_type": "stream",
     "text": [
      "Stopping previous SparkSession\n",
      "Stopping previous SparkContext\n"
     ]
    }
   ],
   "source": [
    "from pyspark.sql.types import *\n",
    "from pyspark.sql import functions as F\n",
    "from prometheus_client import CollectorRegistry, Gauge, Counter, push_to_gateway\n",
    "import time\n",
    "\n"
   ]
  },
  {
   "cell_type": "code",
   "execution_count": null,
   "id": "f9186686-3900-4be2-bfb3-fcfd1a49fac0",
   "metadata": {
    "tags": []
   },
   "outputs": [],
   "source": [
    "pushgateway_endpoint = 'prometheus-prometheus-pushgateway.monitoring:9091'\n",
    "\n",
    "path_root = 'xxxxxxxxxxx'\n",
    "path_relative = 'SANDBOX/xxxxxxxxx/PUSHGATEWAY'"
   ]
  },
  {
   "cell_type": "code",
   "execution_count": 27,
   "id": "ab502f01-a2f1-4e86-9ca1-1b8b35a8d3ee",
   "metadata": {
    "tags": []
   },
   "outputs": [
    {
     "name": "stdout",
     "output_type": "stream",
     "text": [
      "+---+-------+---+\n",
      "| id|   name|age|\n",
      "+---+-------+---+\n",
      "|  1|  Alice| 30|\n",
      "|  2|    Bob| 25|\n",
      "|  3|Charlie| 35|\n",
      "+---+-------+---+\n",
      "\n"
     ]
    }
   ],
   "source": [
    "schema = StructType([\n",
    "    StructField(\"id\", IntegerType(), True),\n",
    "    StructField(\"name\", StringType(), True),\n",
    "    StructField(\"age\", IntegerType(), True)\n",
    "])\n",
    "\n",
    "data = [\n",
    "    (1, \"Alice\", 30),\n",
    "    (2, \"Bob\", 25),\n",
    "    (3, \"Charlie\", 35)\n",
    "]\n",
    "\n",
    "df = spark.createDataFrame(data, schema)\n",
    "\n",
    "df.show()"
   ]
  },
  {
   "cell_type": "code",
   "execution_count": 34,
   "id": "f060ac18-63ec-41a3-b26e-21ba8c8e86c5",
   "metadata": {
    "tags": []
   },
   "outputs": [],
   "source": [
    "project = 'power'\n",
    "dag_id = 'abc'\n",
    "task_id = 'teste1'\n",
    "\n",
    "# DEFINE METRICS\n",
    "registry = CollectorRegistry()\n",
    "\n",
    "write_datalake_seconds = Gauge('write_datalake_seconds',\n",
    "                               'Writing time for a table in the datalake',\n",
    "                               ['project', 'dag_id', 'task_id', 'path_lake'],\n",
    "                               registry=registry\n",
    "                              )\n",
    "\n",
    "write_datalake_rows = Gauge('write_datalake_rows',\n",
    "                            'Number of rows in a table saved in the data lake',\n",
    "                            ['project', 'dag_id', 'task_id', 'path_lake'],\n",
    "                            registry=registry\n",
    "                           )\n",
    "\n",
    "# WRITE DATALAKE SECONDS\n",
    "start_time = time.time()\n",
    "\n",
    "df.write.mode(\"overwrite\").parquet(path_root+path_relative)\n",
    "\n",
    "execution_time = time.time() - start_time\n",
    "\n",
    "(write_datalake_seconds.labels(project=project,\n",
    "                               dag_id=dag_id,\n",
    "                               task_id=task_id,\n",
    "                               path_lake=path_relative)\n",
    "                         .set(execution_time)\n",
    ")\n",
    "\n",
    "# WRITE DATALAKE ROWS\n",
    "rows = df.count()\n",
    "(write_datalake_rows.labels(project=project,\n",
    "                            dag_id=dag_id,\n",
    "                            task_id=task_id,\n",
    "                            path_lake=path_relative)\n",
    "                     .set(rows)\n",
    ")\n",
    "\n",
    "# SEND TO PUSHGATEWAY\n",
    "push_to_gateway(pushgateway_endpoint, job='my_job', registry=registry)"
   ]
  },
  {
   "cell_type": "code",
   "execution_count": null,
   "id": "28151323-6921-4a49-a00a-2f626f0f97b3",
   "metadata": {},
   "outputs": [],
   "source": []
  }
 ],
 "metadata": {
  "kernelspec": {
   "display_name": "Python 3 (ipykernel)",
   "language": "python",
   "name": "python3"
  },
  "language_info": {
   "codemirror_mode": {
    "name": "ipython",
    "version": 3
   },
   "file_extension": ".py",
   "mimetype": "text/x-python",
   "name": "python",
   "nbconvert_exporter": "python",
   "pygments_lexer": "ipython3",
   "version": "3.10.0"
  }
 },
 "nbformat": 4,
 "nbformat_minor": 5
}
