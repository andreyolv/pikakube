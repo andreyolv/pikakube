{
 "cells": [
  {
   "cell_type": "code",
   "execution_count": 1,
   "id": "be966b02-d30d-4cda-9122-91a92a043e3c",
   "metadata": {
    "tags": []
   },
   "outputs": [],
   "source": [
    "# !pip install prometheus-api-client"
   ]
  },
  {
   "cell_type": "code",
   "execution_count": 1,
   "id": "8e8ef36c-185d-4835-a751-660158fdd681",
   "metadata": {
    "tags": []
   },
   "outputs": [
    {
     "ename": "NameError",
     "evalue": "name 'datetime' is not defined",
     "output_type": "error",
     "traceback": [
      "\u001b[0;31m---------------------------------------------------------------------------\u001b[0m",
      "\u001b[0;31mNameError\u001b[0m                                 Traceback (most recent call last)",
      "Cell \u001b[0;32mIn[1], line 36\u001b[0m\n\u001b[1;32m     33\u001b[0m start_time \u001b[38;5;241m=\u001b[39m \u001b[38;5;124m'\u001b[39m\u001b[38;5;124m2024-02-01T21:00:00\u001b[39m\u001b[38;5;124m'\u001b[39m\n\u001b[1;32m     34\u001b[0m end_time \u001b[38;5;241m=\u001b[39m \u001b[38;5;124m'\u001b[39m\u001b[38;5;124m2024-02-02T21:00:00\u001b[39m\u001b[38;5;124m'\u001b[39m\n\u001b[0;32m---> 36\u001b[0m start_time \u001b[38;5;241m=\u001b[39m \u001b[43mdatetime\u001b[49m\u001b[38;5;241m.\u001b[39mfromisoformat(start_time)\n\u001b[1;32m     37\u001b[0m end_time \u001b[38;5;241m=\u001b[39m datetime\u001b[38;5;241m.\u001b[39mfromisoformat(end_time)\n\u001b[1;32m     39\u001b[0m \u001b[38;5;66;03m#start_time = parse_datetime('1d')\u001b[39;00m\n\u001b[1;32m     40\u001b[0m \u001b[38;5;66;03m#end_time = parse_datetime('now')\u001b[39;00m\n",
      "\u001b[0;31mNameError\u001b[0m: name 'datetime' is not defined"
     ]
    }
   ],
   "source": [
    "import pandas as pd\n",
    "from prometheus_api_client import PrometheusConnect\n",
    "from prometheus_api_client.utils import parse_datetime\n",
    "\n",
    "prometheus_url = \"http://prometheus-server.monitoring:80\"\n",
    "\n",
    "prom = PrometheusConnect(url=prometheus_url, disable_ssl=True)\n",
    "\n",
    "query = \"\"\"\n",
    "sum(\n",
    "  (\n",
    "\tsum(\n",
    "\t\tsum(container_memory_allocation_bytes{job=\"kubecost\"}) by (namespace,instance) * on(instance) group_left() (\n",
    "\t\t\t\tnode_ram_hourly_cost{job=\"kubecost\"} / 1024 / 1024 / 1024 * 730\n",
    "\t\t\t\t+ on(node,instance_type) group_left()\n",
    "\t\t\t\t\tlabel_replace\n",
    "\t\t\t\t\t(\n",
    "\t\t\t\t\t\tkube_node_labels{job=\"kubecost\"}, \"instance_type\", \"$1\", \"label_node_kubernetes_io_instance_type\", \"(.*)\"\n",
    "\t\t\t\t\t) * 0\n",
    "\t\t\t)\n",
    "  \t\t+ \n",
    "  \t\tsum(container_cpu_allocation{job=\"kubecost\"}) by (namespace,instance) * on(instance) group_left() (\n",
    "\t  \t\t\tnode_cpu_hourly_cost{job=\"kubecost\"} + on(node,instance_type) group_left()\n",
    "\t\t  \t\t\tlabel_replace\n",
    "\t\t  \t\t\t(\n",
    "\t\t  \t\t\t\tkube_node_labels{job=\"kubecost\"}, \"instance_type\", \"$1\", \"label_node_kubernetes_io_instance_type\", \"(.*)\"\n",
    "\t\t  \t\t\t) * 0\n",
    "\t\t  \t) * 730) by (namespace)\n",
    "\t) and on(namespace) kube_namespace_labels{label_billable=\"true\", job=\"kubecost\"}\n",
    ") by (namespace)\n",
    "\"\"\"\n",
    "\n",
    "start_time = '2024-02-01T21:00:00'\n",
    "end_time = '2024-02-02T21:00:00'\n",
    "\n",
    "start_time = datetime.fromisoformat(start_time)\n",
    "end_time = datetime.fromisoformat(end_time)\n",
    "\n",
    "#start_time = parse_datetime('1d')\n",
    "#end_time = parse_datetime('now')\n",
    "\n",
    "step_in_sec = 60\n",
    "\n",
    "# Fazer a consulta\n",
    "result = prom.custom_query_range(query, start_time, end_time, step_in_sec)\n",
    "\n",
    "df = pd.DataFrame(result)\n",
    "\n",
    "df['namespace'] = df['metric'].apply(lambda x: x['namespace'])\n",
    "df['time_extraction'] = df['values'].apply(lambda x: x[0][0])\n",
    "df['porcentagem'] = df['values'].apply(lambda x: sum(float(pair[1]) for pair in x))\n",
    "\n",
    "df['time_extraction'] = pd.to_datetime(df['time_extraction'], unit='s')\n",
    "df['year'] = df['time_extraction'].dt.year\n",
    "df['month'] = df['time_extraction'].dt.month\n",
    "df['day'] = df['time_extraction'].dt.day\n",
    "\n",
    "df['Porcentagem Normalizada'] = 100* (df['porcentagem'] / df['porcentagem'].sum())\n",
    "\n",
    "df = df[['namespace', 'Porcentagem Normalizada', 'time_extraction', 'year', 'month', 'day']]\n",
    "df = df.sort_values(by='Porcentagem Normalizada', ascending=False)\n",
    "\n",
    "df.head(20)"
   ]
  },
  {
   "cell_type": "code",
   "execution_count": 155,
   "id": "d25de605-e421-4bfd-9532-dc0b1e8f9c98",
   "metadata": {
    "tags": []
   },
   "outputs": [
    {
     "data": {
      "text/plain": [
       "99.99999999999999"
      ]
     },
     "execution_count": 155,
     "metadata": {},
     "output_type": "execute_result"
    }
   ],
   "source": [
    "df['Porcentagem Normalizada'].sum()"
   ]
  },
  {
   "cell_type": "markdown",
   "id": "1f1986d6-85f6-4ea6-a3af-e3b0cf11465e",
   "metadata": {},
   "source": [
    "# Namespace Labels"
   ]
  },
  {
   "cell_type": "code",
   "execution_count": null,
   "id": "ec578eeb-42b2-4a92-98fb-5f8bbcd428cc",
   "metadata": {
    "tags": []
   },
   "outputs": [
    {
     "ename": "",
     "evalue": "",
     "output_type": "error",
     "traceback": [
      "\u001b[1;31mRunning cells with 'Python 3.12.3' requires the ipykernel package.\n",
      "\u001b[1;31m<a href='command:jupyter.createPythonEnvAndSelectController'>Create a Python Environment</a> with the required packages.\n",
      "\u001b[1;31mOr install 'ipykernel' using the command: '/bin/python3 -m pip install ipykernel -U --user --force-reinstall'"
     ]
    }
   ],
   "source": [
    "import pandas as pd\n",
    "from prometheus_api_client import PrometheusConnect\n",
    "\n",
    "prometheus_url = \"http://prometheus-server.monitoring:80\"\n",
    "\n",
    "prom = PrometheusConnect(url=prometheus_url, disable_ssl=True)\n",
    "\n",
    "query = \"\"\"kube_namespace_labels{job=\"kubecost\"}\"\"\"\n",
    "\n",
    "data = prom.custom_query(query)\n",
    "\n",
    "metrics = [metric['metric'] for metric in data]\n",
    "\n",
    "df = pd.DataFrame(metrics)\n",
    "\n",
    "df = df[['namespace', \n",
    "         'label_acr_secret', \n",
    "         'label_billable', \n",
    "         'label_environment', \n",
    "         'label_project', \n",
    "         'label_team', \n",
    "         'label_spot', \n",
    "         'label_airflow']]\n",
    "\n",
    "# Exibir o DataFrame\n",
    "df.sort_values('namespace')\n",
    "\n",
    "filtered_df = df[df['label_billable'] == 'true']\n",
    "\n",
    "filtered_df.head(20)"
   ]
  },
  {
   "cell_type": "markdown",
   "id": "d7db19a6-4986-4816-a514-c32f0442b73e",
   "metadata": {},
   "source": [
    "# Pod Label"
   ]
  },
  {
   "cell_type": "code",
   "execution_count": null,
   "id": "4724010e-87e7-48c2-a158-58224a5ed60f",
   "metadata": {},
   "outputs": [],
   "source": [
    "import pandas as pd\n",
    "from prometheus_api_client import PrometheusConnect\n",
    "\n",
    "prometheus_url = \"http://prometheus-server.monitoring:80\"\n",
    "\n",
    "prom = PrometheusConnect(url=prometheus_url, disable_ssl=True)\n",
    "\n",
    "query = \"\"\"kube_pod_labels{job=\"kubecost\"}\"\"\"\n",
    "\n",
    "data = prom.custom_query(query)\n",
    "\n",
    "metrics = [metric['metric'] for metric in data]\n",
    "\n",
    "df = pd.DataFrame(metrics)\n",
    "\n",
    "df = df[['label_dag_id', \n",
    "         'namespace']]\n",
    "\n",
    "# Exibir o DataFrame\n",
    "df.sort_values('namespace')\n",
    "\n",
    "filtered_df = df[df['label_billable'] == 'true']\n",
    "\n",
    "filtered_df.head(20)"
   ]
  }
 ],
 "metadata": {
  "kernelspec": {
   "display_name": "Python 3",
   "language": "python",
   "name": "python3"
  },
  "language_info": {
   "codemirror_mode": {
    "name": "ipython",
    "version": 3
   },
   "file_extension": ".py",
   "mimetype": "text/x-python",
   "name": "python",
   "nbconvert_exporter": "python",
   "pygments_lexer": "ipython3",
   "version": "3.12.3"
  }
 },
 "nbformat": 4,
 "nbformat_minor": 5
}
