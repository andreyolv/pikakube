{
 "cells": [
  {
   "cell_type": "code",
   "execution_count": 1,
   "id": "be966b02-d30d-4cda-9122-91a92a043e3c",
   "metadata": {
    "tags": []
   },
   "outputs": [],
   "source": [
    "# !pip install prometheus-api-client"
   ]
  },
  {
   "cell_type": "code",
   "execution_count": 26,
   "id": "8e8ef36c-185d-4835-a751-660158fdd681",
   "metadata": {
    "tags": []
   },
   "outputs": [
    {
     "data": {
      "text/html": [
       "<div>\n",
       "<style scoped>\n",
       "    .dataframe tbody tr th:only-of-type {\n",
       "        vertical-align: middle;\n",
       "    }\n",
       "\n",
       "    .dataframe tbody tr th {\n",
       "        vertical-align: top;\n",
       "    }\n",
       "\n",
       "    .dataframe thead th {\n",
       "        text-align: right;\n",
       "    }\n",
       "</style>\n",
       "<table border=\"1\" class=\"dataframe\">\n",
       "  <thead>\n",
       "    <tr style=\"text-align: right;\">\n",
       "      <th></th>\n",
       "      <th>namespace</th>\n",
       "      <th>value</th>\n",
       "      <th>timestamp</th>\n",
       "    </tr>\n",
       "  </thead>\n",
       "  <tbody>\n",
       "    <tr>\n",
       "      <th>0</th>\n",
       "      <td>cgf</td>\n",
       "      <td>715.894266</td>\n",
       "      <td>2023-12-30 14:49:39.240</td>\n",
       "    </tr>\n",
       "    <tr>\n",
       "      <th>1</th>\n",
       "      <td>financas</td>\n",
       "      <td>179.624399</td>\n",
       "      <td>2023-12-30 14:49:39.240</td>\n",
       "    </tr>\n",
       "    <tr>\n",
       "      <th>2</th>\n",
       "      <td>ldi</td>\n",
       "      <td>76.197280</td>\n",
       "      <td>2023-12-30 14:49:39.240</td>\n",
       "    </tr>\n",
       "    <tr>\n",
       "      <th>3</th>\n",
       "      <td>snop</td>\n",
       "      <td>114.784202</td>\n",
       "      <td>2023-12-30 14:49:39.240</td>\n",
       "    </tr>\n",
       "    <tr>\n",
       "      <th>4</th>\n",
       "      <td>bcg</td>\n",
       "      <td>8.239581</td>\n",
       "      <td>2023-12-30 14:49:39.240</td>\n",
       "    </tr>\n",
       "  </tbody>\n",
       "</table>\n",
       "</div>"
      ],
      "text/plain": [
       "  namespace       value               timestamp\n",
       "0       cgf  715.894266 2023-12-30 14:49:39.240\n",
       "1  financas  179.624399 2023-12-30 14:49:39.240\n",
       "2       ldi   76.197280 2023-12-30 14:49:39.240\n",
       "3      snop  114.784202 2023-12-30 14:49:39.240\n",
       "4       bcg    8.239581 2023-12-30 14:49:39.240"
      ]
     },
     "execution_count": 26,
     "metadata": {},
     "output_type": "execute_result"
    }
   ],
   "source": [
    "import pandas as pd\n",
    "from prometheus_api_client import PrometheusConnect\n",
    "\n",
    "prometheus_url = \"http://prometheus-server.monitoring:80\"\n",
    "\n",
    "prom = PrometheusConnect(url=prometheus_url, disable_ssl=True)\n",
    "\n",
    "query = \"\"\"\n",
    "sum(\n",
    "  (\n",
    "\tsum(\n",
    "\t\tsum(container_memory_allocation_bytes{job=\"kubecost\"}) by (namespace,instance) * on(instance) group_left() (\n",
    "\t\t\t\tnode_ram_hourly_cost{job=\"kubecost\"} / 1024 / 1024 / 1024 * 730\n",
    "\t\t\t\t+ on(node,instance_type) group_left()\n",
    "\t\t\t\t\tlabel_replace\n",
    "\t\t\t\t\t(\n",
    "\t\t\t\t\t\tkube_node_labels{job=\"kubecost\"}, \"instance_type\", \"$1\", \"label_node_kubernetes_io_instance_type\", \"(.*)\"\n",
    "\t\t\t\t\t) * 0\n",
    "\t\t\t)\n",
    "  \t\t+ \n",
    "  \t\tsum(container_cpu_allocation{job=\"kubecost\"}) by (namespace,instance) * on(instance) group_left() (\n",
    "\t  \t\t\tnode_cpu_hourly_cost{job=\"kubecost\"} + on(node,instance_type) group_left()\n",
    "\t\t  \t\t\tlabel_replace\n",
    "\t\t  \t\t\t(\n",
    "\t\t  \t\t\t\tkube_node_labels{job=\"kubecost\"}, \"instance_type\", \"$1\", \"label_node_kubernetes_io_instance_type\", \"(.*)\"\n",
    "\t\t  \t\t\t) * 0\n",
    "\t\t  \t) * 730) by (namespace)\n",
    "\t) and on(namespace) kube_namespace_labels{label_billable=\"true\", job=\"kubecost\"}\n",
    ") by (namespace)\n",
    "\"\"\"\n",
    "\n",
    "result = prom.custom_query(query)\n",
    "\n",
    "df = pd.DataFrame(result)\n",
    "df = pd.concat([df.drop(['metric'], axis=1), df['metric'].apply(pd.Series)], axis=1)\n",
    "\n",
    "df['timestamp'] = pd.to_datetime(df['value'].apply(lambda x: x[0]), unit='s')\n",
    "\n",
    "df['value'] = df['value'].apply(lambda x: float(x[1]))\n",
    "\n",
    "df = df[['namespace', 'value', 'timestamp']]\n",
    "\n",
    "df.head(5)"
   ]
  },
  {
   "cell_type": "code",
   "execution_count": null,
   "id": "06456c6e-3ecc-42a8-96f8-371818bb70bf",
   "metadata": {},
   "outputs": [],
   "source": []
  }
 ],
 "metadata": {
  "kernelspec": {
   "display_name": "Python 3 (ipykernel)",
   "language": "python",
   "name": "python3"
  },
  "language_info": {
   "codemirror_mode": {
    "name": "ipython",
    "version": 3
   },
   "file_extension": ".py",
   "mimetype": "text/x-python",
   "name": "python",
   "nbconvert_exporter": "python",
   "pygments_lexer": "ipython3",
   "version": "3.10.0"
  }
 },
 "nbformat": 4,
 "nbformat_minor": 5
}
