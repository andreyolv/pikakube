{
 "cells": [
  {
   "attachments": {
    "8fc4ad03-92a2-458e-b4e6-ce57dae8c84a.png": {
     "image/png": "[encoded data removed]"
    }
   },
   "cell_type": "markdown",
   "id": "aa4bd87d-852c-49fb-845e-4b7d85cf4d79",
   "metadata": {
    "tags": []
   },
   "source": [
    "# Statistics\n",
    "![image.png](attachment:8fc4ad03-92a2-458e-b4e6-ce57dae8c84a.png)"
   ]
  },
  {
   "cell_type": "code",
   "execution_count": null,
   "id": "9ea61f87-134b-47fc-be44-58e7a0815821",
   "metadata": {
    "tags": []
   },
   "outputs": [],
   "source": [
    "from pyspark.sql import SparkSession\n",
    "from pyspark.sql.types import *\n",
    "from pyspark.sql import functions as F\n",
    "from pyspark.sql import Window\n",
    "\n",
    "# Create SparkSession\n",
    "spark = (SparkSession.builder\n",
    "                    .appName('PySparkSyntax')\n",
    "                    .getOrCreate()\n",
    "        )\n",
    "\n",
    "# Define the schema for a DataFrame\n",
    "schema = StructType([\n",
    "    StructField(\"name\", StringType(), True),\n",
    "    StructField(\"age\", IntegerType(), True),\n",
    "    StructField(\"city\", StringType(), True)\n",
    "])\n",
    "\n",
    "\n",
    "# Create a DataFrame using the schema\n",
    "data = [(\"Alice\", 25, \"New York\")\n",
    "        , (\"Bob\", 30, \"San Francisco\")\n",
    "        , (\"Bob\", None, \"Las Vegas\")\n",
    "        , (\"Charlie\", 35, \"Chicago\")\n",
    "        , (\"Charlie\", 35, None)]\n",
    "df = spark.createDataFrame(data, schema)\n",
    "\n",
    "# Show the DataFrame\n",
    "df.show()"
   ]
  },
  {
   "cell_type": "markdown",
   "id": "9d68d6dd-e97d-407e-ad77-30173e28b1d7",
   "metadata": {},
   "source": [
    "### [describe](https://spark.apache.org/docs/latest/api/python/reference/pyspark.sql/api/pyspark.sql.DataFrame.describe.html#pyspark.sql.DataFrame.describe)\n",
    "\n",
    "describe(*cols: Union[str, List[str]]) → pyspark.sql.dataframe.DataFrame\n",
    "\n",
    "Computes basic statistics for numeric and string columns.\n",
    "\n",
    "This include count, mean, stddev, min, and max. If no columns are given, this function computes statistics for all numerical or string columns."
   ]
  },
  {
   "cell_type": "code",
   "execution_count": null,
   "id": "33195fdc-b797-4f6b-a999-dff56f7b9146",
   "metadata": {
    "tags": []
   },
   "outputs": [],
   "source": [
    "df.describe()"
   ]
  },
  {
   "cell_type": "code",
   "execution_count": null,
   "id": "01de16c2-7567-43ee-9795-fc5b9eab7172",
   "metadata": {
    "tags": []
   },
   "outputs": [],
   "source": [
    "df.describe().show()"
   ]
  },
  {
   "cell_type": "code",
   "execution_count": null,
   "id": "be287c1c-c01c-4f58-b02a-69f5f770ed5c",
   "metadata": {
    "tags": []
   },
   "outputs": [],
   "source": [
    "df.describe(['age']).show()"
   ]
  },
  {
   "cell_type": "markdown",
   "id": "a3c66093-3355-4b8c-9dca-f23ae4f47a35",
   "metadata": {},
   "source": [
    "## [summary](https://spark.apache.org/docs/latest/api/python/reference/pyspark.sql/api/pyspark.sql.DataFrame.summary.html)\n",
    "\n",
    "DataFrame.summary(*statistics: str) → pyspark.sql.dataframe.DataFrame\n",
    "\n",
    "Computes specified statistics for numeric and string columns. Available statistics are: - count - mean - stddev - min - max - arbitrary approximate percentiles specified as a percentage (e.g., 75%)\n",
    "\n",
    "If no statistics are given, this function computes count, mean, stddev, min, approximate quartiles (percentiles at 25%, 50%, and 75%), and max."
   ]
  },
  {
   "cell_type": "code",
   "execution_count": null,
   "id": "53680afe-1940-46f1-aea5-c99196a739fa",
   "metadata": {
    "tags": []
   },
   "outputs": [],
   "source": [
    "df.summary()"
   ]
  },
  {
   "cell_type": "code",
   "execution_count": null,
   "id": "f0773562-d8d5-499f-8225-83a35fdd87c7",
   "metadata": {
    "tags": []
   },
   "outputs": [],
   "source": [
    "df.summary().show()"
   ]
  },
  {
   "cell_type": "code",
   "execution_count": null,
   "id": "84e42961-c6c9-49ab-a755-79cf9afa6863",
   "metadata": {
    "tags": []
   },
   "outputs": [],
   "source": [
    "df.summary('mean').show()"
   ]
  },
  {
   "cell_type": "markdown",
   "id": "59d688fe-f76a-4351-a708-ebb989b42dbb",
   "metadata": {
    "tags": []
   },
   "source": [
    "## [rand](https://spark.apache.org/docs/latest/api/python/reference/pyspark.sql/api/pyspark.sql.functions.rand.html)\n",
    "\n",
    "pyspark.sql.functions.rand(seed: Optional[int] = None) → pyspark.sql.column.Column\n",
    "\n",
    "Generates a random column with independent and identically distributed (i.i.d.) samples uniformly distributed in [0.0, 1.0)."
   ]
  },
  {
   "cell_type": "code",
   "execution_count": null,
   "id": "117ced83-2d90-48e9-9b95-4ea9bcfc5cba",
   "metadata": {
    "tags": []
   },
   "outputs": [],
   "source": [
    "df_rand = df.withColumn('rand', F.rand())\n",
    "df_rand.toPandas()"
   ]
  },
  {
   "cell_type": "code",
   "execution_count": null,
   "id": "f2d4cd19-af83-4f85-89a1-15db597262aa",
   "metadata": {
    "tags": []
   },
   "outputs": [],
   "source": [
    "df_rand = df.withColumn('rand', F.rand(123))\n",
    "df_rand.toPandas()"
   ]
  },
  {
   "cell_type": "markdown",
   "id": "0619d681-c69b-4065-a25c-2844955738a2",
   "metadata": {},
   "source": [
    "# [sample](https://spark.apache.org/docs/3.1.2/api/python/reference/api/pyspark.sql.DataFrame.sample.html)\n",
    "\n",
    "DataFrame.sample(withReplacement=None, fraction=None, seed=None)\n",
    "\n",
    "Returns a sampled subset of this DataFrame.\n",
    "\n",
    "Parameters:\n",
    "\n",
    "withReplacement: bool, optional\n",
    "\n",
    "Sample with replacement or not (default False).\n",
    "\n",
    "fraction: float, optional\n",
    "\n",
    "Fraction of rows to generate, range [0.0, 1.0].\n",
    "\n",
    "seed: int, optional\n",
    "\n",
    "Seed for sampling (default a random seed)."
   ]
  },
  {
   "cell_type": "code",
   "execution_count": null,
   "id": "ca5a74ad-1d51-4cf1-a75f-a55287d12418",
   "metadata": {
    "tags": []
   },
   "outputs": [],
   "source": [
    "df = spark.range(10)\n",
    "\n",
    "df.sample(False, 0.5).show()"
   ]
  },
  {
   "cell_type": "code",
   "execution_count": null,
   "id": "a2c0020e-2f70-4ae8-93fe-8978b54b4ef1",
   "metadata": {
    "tags": []
   },
   "outputs": [],
   "source": [
    "df = spark.range(10)\n",
    "\n",
    "df.sample(True, 0.5).show()"
   ]
  },
  {
   "cell_type": "code",
   "execution_count": null,
   "id": "2bf417e8-6a0d-46fe-9c7d-96bb5d187076",
   "metadata": {
    "tags": []
   },
   "outputs": [],
   "source": [
    "df_sample = df.sample(False, 0.1, 123)\n",
    "df_sample.toPandas()"
   ]
  },
  {
   "cell_type": "code",
   "execution_count": null,
   "id": "5064464e-8857-467d-b6c2-6527c153e4b7",
   "metadata": {},
   "outputs": [],
   "source": []
  },
  {
   "cell_type": "code",
   "execution_count": null,
   "id": "1dd21c42-0bee-4fde-b647-76d10e4056e2",
   "metadata": {},
   "outputs": [],
   "source": []
  }
 ],
 "metadata": {
  "kernelspec": {
   "display_name": "Python 3 (ipykernel)",
   "language": "python",
   "name": "python3"
  },
  "language_info": {
   "codemirror_mode": {
    "name": "ipython",
    "version": 3
   },
   "file_extension": ".py",
   "mimetype": "text/x-python",
   "name": "python",
   "nbconvert_exporter": "python",
   "pygments_lexer": "ipython3",
   "version": "3.10.10"
  }
 },
 "nbformat": 4,
 "nbformat_minor": 5
}
