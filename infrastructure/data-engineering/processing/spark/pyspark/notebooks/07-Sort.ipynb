{
 "cells": [
  {
   "attachments": {
    "787c9f9e-0ce2-4f6a-832b-08fedb72d671.png": {
     "image/png": "[encoded data removed]"
    }
   },
   "cell_type": "markdown",
   "id": "030a6758-37e9-4696-9b0e-825170c00793",
   "metadata": {},
   "source": [
    "# [Sort Functions](https://spark.apache.org/docs/latest/api/python/reference/pyspark.sql/functions.html#sort-functions)\n",
    "\n",
    "![image.png](attachment:787c9f9e-0ce2-4f6a-832b-08fedb72d671.png)"
   ]
  },
  {
   "cell_type": "code",
   "execution_count": null,
   "id": "abfc1d20-7cec-4af0-9761-829d232281be",
   "metadata": {
    "tags": []
   },
   "outputs": [],
   "source": [
    "from pyspark.sql import SparkSession\n",
    "from pyspark.sql.types import *\n",
    "from pyspark.sql import functions as F\n",
    "from pyspark.sql import Window\n",
    "\n",
    "# Create SparkSession\n",
    "spark = (SparkSession.builder\n",
    "                    .appName('PySparkSyntax')\n",
    "                    .getOrCreate()\n",
    "        )\n",
    "\n",
    "# Define the schema for a DataFrame\n",
    "schema = StructType([\n",
    "    StructField(\"name\", StringType(), True),\n",
    "    StructField(\"age\", IntegerType(), True),\n",
    "    StructField(\"city\", StringType(), True)\n",
    "])\n",
    "\n",
    "\n",
    "# Create a DataFrame using the schema\n",
    "data = [(\"Alice\", 25, \"New York\")\n",
    "        , (\"Bob\", 30, \"San Francisco\")\n",
    "        , (\"Bob\", 20, \"Las Vegas\")\n",
    "        , (\"Bob\", None, \"Las Vegas\")\n",
    "        , (\"Charlie\", 35, \"Chicago\")\n",
    "        , (\"Charlie\", 35, None)]\n",
    "df = spark.createDataFrame(data, schema)\n",
    "\n",
    "# Show the DataFrame\n",
    "df.show()"
   ]
  },
  {
   "cell_type": "markdown",
   "id": "742a64e4-a893-4436-841d-684b583df745",
   "metadata": {},
   "source": [
    "## [orderBy](https://spark.apache.org/docs/latest/api/python/reference/pyspark.sql/api/pyspark.sql.DataFrame.orderBy.html)\n",
    "\n",
    "DataFrame.orderBy(*cols: Union[str, pyspark.sql.column.Column, List[Union[str, pyspark.sql.column.Column]]], **kwargs: Any) → pyspark.sql.dataframe.DataFrame\n",
    "\n",
    "Returns a new DataFrame sorted by the specified column(s)."
   ]
  },
  {
   "cell_type": "code",
   "execution_count": null,
   "id": "77d233e3-a74f-4e1b-b994-c3f831921928",
   "metadata": {
    "tags": []
   },
   "outputs": [],
   "source": [
    "df_dp = df.orderBy('name', 'age')\n",
    "\n",
    "df_dp.toPandas()"
   ]
  },
  {
   "cell_type": "code",
   "execution_count": null,
   "id": "4121e8f8-7e11-472b-ad79-59b2d5760a03",
   "metadata": {
    "tags": []
   },
   "outputs": [],
   "source": [
    "df_dp = df.orderBy('name', 'age', ascending=[True, False])\n",
    "\n",
    "df_dp.toPandas()"
   ]
  },
  {
   "cell_type": "code",
   "execution_count": null,
   "id": "7ff6f079-d916-4355-b3fe-0a49a72d290d",
   "metadata": {
    "tags": []
   },
   "outputs": [],
   "source": [
    "df_dp = df.orderBy(F.asc('name'), F.desc('age'))\n",
    "\n",
    "df_dp.toPandas()"
   ]
  },
  {
   "cell_type": "markdown",
   "id": "53d92c1e-ebe9-4b06-a821-04ff9181b4a7",
   "metadata": {},
   "source": [
    "## [asc](https://spark.apache.org/docs/latest/api/python/reference/pyspark.sql/api/pyspark.sql.functions.asc.html#pyspark.sql.functions.asc)\n",
    "\n",
    "asc(col: ColumnOrName) → pyspark.sql.column.Column\n",
    "\n",
    "Returns a sort expression based on the ascending order of the given column name."
   ]
  },
  {
   "cell_type": "code",
   "execution_count": null,
   "id": "912c4cd3-9143-4ed2-bed7-e3898db1fe29",
   "metadata": {
    "tags": []
   },
   "outputs": [],
   "source": [
    "# Sort the DataFrame by the \"age\" column in ascending order\n",
    "sorted_df = df.sort(F.asc(\"age\"))\n",
    "sorted_df.show()"
   ]
  },
  {
   "cell_type": "markdown",
   "id": "1c9bf994-8876-452d-acce-fb8cba545fca",
   "metadata": {},
   "source": [
    "## [desc](https://spark.apache.org/docs/latest/api/python/reference/pyspark.sql/api/pyspark.sql.functions.desc.html#pyspark.sql.functions.desc)\n",
    "\n",
    "desc(col: ColumnOrName) → pyspark.sql.column.Column\n",
    "\n",
    "Returns a sort expression based on the descending order of the given column name."
   ]
  },
  {
   "cell_type": "code",
   "execution_count": null,
   "id": "aa69808f-75be-4b7e-985b-d8568f343308",
   "metadata": {
    "tags": []
   },
   "outputs": [],
   "source": [
    "# Sort the DataFrame by the \"age\" column in descending order\n",
    "sorted_df = df.sort(F.desc(\"age\"))\n",
    "sorted_df.show()"
   ]
  },
  {
   "cell_type": "markdown",
   "id": "957a191c-9009-4e00-b601-870ce1dee842",
   "metadata": {},
   "source": [
    "## [asc_nulls_first](https://spark.apache.org/docs/latest/api/python/reference/pyspark.sql/api/pyspark.sql.functions.asc_nulls_first.html#pyspark.sql.functions.asc_nulls_first)\n",
    "\n",
    "asc_nulls_first(col: ColumnOrName) → pyspark.sql.column.Column\n",
    "\n",
    "Returns a sort expression based on the ascending order of the given column name, and null values return before non-null values."
   ]
  },
  {
   "cell_type": "code",
   "execution_count": null,
   "id": "74ce0d02-75bf-4783-9d62-6bcd8827ecd6",
   "metadata": {
    "tags": []
   },
   "outputs": [],
   "source": [
    "sorted_df = df.sort(F.asc_nulls_first(\"age\"))\n",
    "sorted_df.show()"
   ]
  },
  {
   "cell_type": "markdown",
   "id": "24e9153a-15e7-440f-8a6c-8cd429fb6c9d",
   "metadata": {
    "tags": []
   },
   "source": [
    "## [asc_nulls_last](https://spark.apache.org/docs/latest/api/python/reference/pyspark.sql/api/pyspark.sql.functions.asc_nulls_last.html#pyspark.sql.functions.asc_nulls_last)\n",
    "\n",
    "asc_nulls_last(col: ColumnOrName) → pyspark.sql.column.Column\n",
    "\n",
    "Returns a sort expression based on the ascending order of the given column name, and null values appear after non-null values."
   ]
  },
  {
   "cell_type": "code",
   "execution_count": null,
   "id": "ece44b30-ae9c-46b6-aa0e-ae34486c1ccb",
   "metadata": {
    "tags": []
   },
   "outputs": [],
   "source": [
    "sorted_df = df.sort(F.asc_nulls_last(\"age\"))\n",
    "sorted_df.show()"
   ]
  },
  {
   "cell_type": "markdown",
   "id": "855440cb-194b-4524-9b16-975be54b60f5",
   "metadata": {
    "tags": []
   },
   "source": [
    "## [desc_nulls_first](https://spark.apache.org/docs/latest/api/python/reference/pyspark.sql/api/pyspark.sql.functions.desc_nulls_first.html#pyspark.sql.functions.desc_nulls_first)\n",
    "\n",
    "desc_nulls_first(col: ColumnOrName) → pyspark.sql.column.Column\n",
    "\n",
    "Returns a sort expression based on the descending order of the given column name, and null values appear before non-null values."
   ]
  },
  {
   "cell_type": "code",
   "execution_count": null,
   "id": "967b3558-391d-4bae-a559-f0261228ead9",
   "metadata": {
    "tags": []
   },
   "outputs": [],
   "source": [
    "sorted_df = df.sort(F.desc_nulls_first(\"age\"))\n",
    "sorted_df.show()"
   ]
  },
  {
   "cell_type": "markdown",
   "id": "82b85161-ebd2-4629-ac77-c23b2932c797",
   "metadata": {},
   "source": [
    "## [desc_nulls_last](https://spark.apache.org/docs/latest/api/python/reference/pyspark.sql/api/pyspark.sql.functions.desc_nulls_last.html#pyspark.sql.functions.desc_nulls_last)\n",
    "\n",
    "desc_nulls_last(col: ColumnOrName) → pyspark.sql.column.Column\n",
    "\n",
    "Returns a sort expression based on the descending order of the given column name, and null values appear after non-null values.\n",
    "\n"
   ]
  },
  {
   "cell_type": "code",
   "execution_count": null,
   "id": "db36a3a3-0d36-4c3a-a008-845e5c81050c",
   "metadata": {
    "tags": []
   },
   "outputs": [],
   "source": [
    "sorted_df = df.sort(F.desc_nulls_last(\"age\"))\n",
    "sorted_df.show()"
   ]
  },
  {
   "cell_type": "code",
   "execution_count": null,
   "id": "2608d6ab-8848-4f3a-9711-adfff33760a5",
   "metadata": {},
   "outputs": [],
   "source": []
  }
 ],
 "metadata": {
  "kernelspec": {
   "display_name": "Python 3 (ipykernel)",
   "language": "python",
   "name": "python3"
  },
  "language_info": {
   "codemirror_mode": {
    "name": "ipython",
    "version": 3
   },
   "file_extension": ".py",
   "mimetype": "text/x-python",
   "name": "python",
   "nbconvert_exporter": "python",
   "pygments_lexer": "ipython3",
   "version": "3.10.10"
  }
 },
 "nbformat": 4,
 "nbformat_minor": 5
}
