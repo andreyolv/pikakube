{
 "cells": [
  {
   "attachments": {
    "595d1c07-7cdb-4567-a4c5-14005eb59c0e.png": {
     "image/png": "[encoded data removed]"
    }
   },
   "cell_type": "markdown",
   "id": "775f74a9-97cb-4c37-9ee7-91549c299e71",
   "metadata": {},
   "source": [
    "# Read / Input Data\n",
    "![image.png](attachment:595d1c07-7cdb-4567-a4c5-14005eb59c0e.png)"
   ]
  },
  {
   "cell_type": "code",
   "execution_count": null,
   "id": "310676b8-742f-4c1e-a14f-9c06e3687ab5",
   "metadata": {
    "tags": []
   },
   "outputs": [],
   "source": [
    "from pyspark.sql import SparkSession\n",
    "from pyspark.sql.types import *\n",
    "from pyspark.sql import functions as F\n",
    "from pyspark.sql import Window\n",
    "\n",
    "# Create SparkSession\n",
    "spark = SparkSession.builder.appName(\"DeltaSession\") \\\n",
    "            .config(\"spark.jars.packages\", \"io.delta:delta-core_2.12:2.2.0\") \\\n",
    "            .config(\"spark.sql.extensions\", \"io.delta.sql.DeltaSparkSessionExtension\") \\\n",
    "            .config(\"spark.sql.catalog.spark_catalog\", \"org.apache.spark.sql.delta.catalog.DeltaCatalog\")\\\n",
    "            .getOrCreate()\n"
   ]
  },
  {
   "cell_type": "markdown",
   "id": "dbccf475-27f8-44a9-8e17-960b38c69127",
   "metadata": {},
   "source": [
    "## csv"
   ]
  },
  {
   "cell_type": "code",
   "execution_count": null,
   "id": "3f8334f1-ee6e-4e0c-8f23-1433f728f46a",
   "metadata": {
    "tags": []
   },
   "outputs": [],
   "source": [
    "df = (spark.read.format('csv')\n",
    "     .option('encoding', 'cp1252')\n",
    "     .option('header', True)\n",
    "     .option('sep', ';')\n",
    "     .load('extract/arquivo_csv/')\n",
    "     )\n",
    "\n",
    "df.show()"
   ]
  },
  {
   "cell_type": "markdown",
   "id": "1b658dc4-2388-4a2a-aebe-0237bdaf36ef",
   "metadata": {},
   "source": [
    "## parquet"
   ]
  },
  {
   "cell_type": "code",
   "execution_count": null,
   "id": "b78a4230-a729-4c61-96fd-b6d4d489f1d6",
   "metadata": {
    "tags": []
   },
   "outputs": [],
   "source": [
    "df = spark.read.format('parquet').load('extract/arquivo_parquet/')\n",
    "      \n",
    "df.show()"
   ]
  },
  {
   "cell_type": "code",
   "execution_count": null,
   "id": "f0099f94-8376-4029-9f89-36e3b2a8e00a",
   "metadata": {
    "tags": []
   },
   "outputs": [],
   "source": [
    "df = spark.read.parquet('extract/arquivo_parquet/age=30')\n",
    "      \n",
    "df.show()"
   ]
  },
  {
   "cell_type": "markdown",
   "id": "76cd260e-f322-41cb-b63c-72f3158d9a6c",
   "metadata": {},
   "source": [
    "## orc"
   ]
  },
  {
   "cell_type": "code",
   "execution_count": null,
   "id": "62f61b73-4b18-4077-bb8b-82f37aad24c9",
   "metadata": {
    "tags": []
   },
   "outputs": [],
   "source": [
    "df = spark.read.format('orc').load('extract/arquivo_orc/')\n",
    "      \n",
    "df.show()"
   ]
  },
  {
   "cell_type": "markdown",
   "id": "0519e3f4-0a50-4db3-b8b9-fe28f5cbb3b7",
   "metadata": {},
   "source": [
    "## delta"
   ]
  },
  {
   "cell_type": "code",
   "execution_count": null,
   "id": "dbc05bc8-3171-43d8-b921-e1ab11021e28",
   "metadata": {
    "tags": []
   },
   "outputs": [],
   "source": [
    "df2 = spark.read.format('delta').load('extract/arquivo_delta/')\n",
    "\n",
    "df2.show()"
   ]
  },
  {
   "attachments": {},
   "cell_type": "markdown",
   "id": "aa604287",
   "metadata": {},
   "source": [
    "## jdbc"
   ]
  },
  {
   "cell_type": "code",
   "execution_count": null,
   "id": "b3c61994-281e-45c6-9752-bf15ff37eec3",
   "metadata": {},
   "outputs": [],
   "source": [
    "df_db = (spark.read\n",
    "        .format('jdbc')\n",
    "        .option('url', 'jdbc:sqlserver://<endpoint>:1433;database=<db>')\n",
    "        .option('driver', 'com.microsoft.sqlserver.jdbc.SQLServerDriver')\n",
    "        .option('user', '')\n",
    "        .option('password', '')\n",
    "        .option('dbtable', 'dbo.<table>')\n",
    "        .load()\n",
    "     )"
   ]
  }
 ],
 "metadata": {
  "kernelspec": {
   "display_name": "Python 3 (ipykernel)",
   "language": "python",
   "name": "python3"
  },
  "language_info": {
   "codemirror_mode": {
    "name": "ipython",
    "version": 3
   },
   "file_extension": ".py",
   "mimetype": "text/x-python",
   "name": "python",
   "nbconvert_exporter": "python",
   "pygments_lexer": "ipython3",
   "version": "3.10.10"
  }
 },
 "nbformat": 4,
 "nbformat_minor": 5
}
