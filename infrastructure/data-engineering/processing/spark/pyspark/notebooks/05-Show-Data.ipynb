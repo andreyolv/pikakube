{
 "cells": [
  {
   "attachments": {
    "1f7975f8-4e99-4e72-aeb9-5898e23dcbea.png": {
     "image/png": "[encoded data removed]"
    }
   },
   "cell_type": "markdown",
   "id": "07980224-1216-4c73-bdd4-dd3af319e97d",
   "metadata": {},
   "source": [
    "# Show Data\n",
    "![image.png](attachment:1f7975f8-4e99-4e72-aeb9-5898e23dcbea.png)"
   ]
  },
  {
   "cell_type": "code",
   "execution_count": null,
   "id": "7cdd19e5-9843-4e90-bafc-1e8e028e9236",
   "metadata": {
    "tags": []
   },
   "outputs": [],
   "source": [
    "from pyspark.sql import SparkSession\n",
    "from pyspark.sql.types import *\n",
    "from pyspark.sql import functions as F\n",
    "from pyspark.sql import Window\n",
    "\n",
    "# Create SparkSession\n",
    "spark = (SparkSession.builder\n",
    "                    .appName('PySparkSyntax')\n",
    "                    .getOrCreate()\n",
    "        )\n",
    "\n",
    "# Define the schema for a DataFrame\n",
    "schema = StructType([\n",
    "    StructField(\"name\", StringType(), True),\n",
    "    StructField(\"age\", IntegerType(), True),\n",
    "    StructField(\"city\", StringType(), True)\n",
    "])\n",
    "\n",
    "\n",
    "# Create a DataFrame using the schema\n",
    "data = [(\"Alice\", 25, \"New York\")\n",
    "        , (\"Bob\", 30, \"San Francisco\")\n",
    "        , (\"Bob\", 12, \"Las Vegas\")\n",
    "        , (\"Charlie\", 35, \"Chicago\")\n",
    "        , (\"Charlie\", 35, \"Chicago\")]\n",
    "df = spark.createDataFrame(data, schema)\n",
    "\n",
    "# Show the DataFrame\n",
    "df.show()"
   ]
  },
  {
   "cell_type": "markdown",
   "id": "d6cec539-ed0b-4d2f-947f-ec8a3e1d560d",
   "metadata": {},
   "source": [
    "## [show](https://spark.apache.org/docs/latest/api/python/reference/pyspark.sql/api/pyspark.sql.DataFrame.show.html)\n",
    "\n",
    "DataFrame.show(n: int = 20, truncate: Union[bool, int] = True, vertical: bool = False) → None\n",
    "\n",
    "Prints the first n rows to the console.\n",
    "\n",
    "Parameters:\n",
    "\n",
    "n:int, optional\n",
    "\n",
    "Number of rows to show.\n",
    "\n",
    "truncate: bool or int, optional\n",
    "\n",
    "If set to True, truncate strings longer than 20 chars by default. If set to a number greater than one, truncates long strings to length truncate and align cells right.\n",
    "\n",
    "vertical: bool, optional\n",
    "\n",
    "If set to True, print output rows vertically (one line per column value)."
   ]
  },
  {
   "cell_type": "code",
   "execution_count": null,
   "id": "7a2106f8-0fe5-48b8-a483-bce01d50841f",
   "metadata": {
    "tags": []
   },
   "outputs": [],
   "source": [
    "df.show()"
   ]
  },
  {
   "cell_type": "code",
   "execution_count": null,
   "id": "802ef69f-ef95-4536-8131-6e07178f9ff5",
   "metadata": {
    "tags": []
   },
   "outputs": [],
   "source": [
    "df.show(3)"
   ]
  },
  {
   "cell_type": "code",
   "execution_count": null,
   "id": "7da43e10-384f-4fda-9854-cdf8fb7ad74d",
   "metadata": {
    "tags": []
   },
   "outputs": [],
   "source": [
    "df.show(3, 3)"
   ]
  },
  {
   "cell_type": "code",
   "execution_count": null,
   "id": "a97144fb-9256-4063-8a65-244d0abd8609",
   "metadata": {
    "tags": []
   },
   "outputs": [],
   "source": [
    "df.show(3, 3, True)"
   ]
  },
  {
   "cell_type": "code",
   "execution_count": null,
   "id": "5823e37d-690c-4789-8ed8-a03755948a07",
   "metadata": {
    "tags": []
   },
   "outputs": [],
   "source": [
    "df.show(vertical=True)"
   ]
  },
  {
   "cell_type": "markdown",
   "id": "23b621c1-f147-42a4-9bc8-2a5513b58a26",
   "metadata": {},
   "source": [
    "## [toPandas](https://spark.apache.org/docs/latest/api/python/reference/pyspark.sql/api/pyspark.sql.DataFrame.toPandas.html)\n",
    "\n",
    "DataFrame.toPandas() → PandasDataFrameLike\n",
    "\n",
    "Returns the contents of this DataFrame as Pandas pandas.DataFrame.\n",
    "\n",
    "This is only available if Pandas is installed and available."
   ]
  },
  {
   "cell_type": "code",
   "execution_count": null,
   "id": "c807dec5-d914-4edb-9fd3-d296bcc793d8",
   "metadata": {
    "tags": []
   },
   "outputs": [],
   "source": [
    "df.toPandas()"
   ]
  },
  {
   "cell_type": "markdown",
   "id": "67d1a76b-e727-4edb-b42d-55ccb32153a0",
   "metadata": {
    "tags": []
   },
   "source": [
    "### [count()](https://spark.apache.org/docs/latest/api/python/reference/pyspark.sql/api/pyspark.sql.DataFrame.count.html#pyspark.sql.DataFrame.count)\n",
    "count() → int\n",
    "\n",
    "Returns the number of rows in this DataFrame."
   ]
  },
  {
   "cell_type": "code",
   "execution_count": null,
   "id": "030fa9b2-be3f-40eb-8e22-25c2be280906",
   "metadata": {
    "tags": []
   },
   "outputs": [],
   "source": [
    "df.count()"
   ]
  },
  {
   "cell_type": "markdown",
   "id": "d2ef1eb9-44ed-46c6-895c-24e33aa6a4a7",
   "metadata": {},
   "source": [
    "## [limit](https://spark.apache.org/docs/latest/api/python/reference/pyspark.sql/api/pyspark.sql.DataFrame.limit.html)\n",
    "\n",
    "DataFrame.limit(num: int) → pyspark.sql.dataframe.DataFrame\n",
    "\n",
    "Limits the result count to the number specified."
   ]
  },
  {
   "cell_type": "code",
   "execution_count": null,
   "id": "04f8fee1-2dc8-40ee-8e64-b888f630d835",
   "metadata": {
    "tags": []
   },
   "outputs": [],
   "source": [
    "df = df.select('name', 'age')\n",
    "\n",
    "df.limit(1).toPandas()"
   ]
  },
  {
   "cell_type": "markdown",
   "id": "7e9d99ff-849e-4566-a04c-69ab263b55b0",
   "metadata": {},
   "source": [
    "## [collect](https://spark.apache.org/docs/latest/api/python/reference/pyspark.sql/api/pyspark.sql.DataFrame.collect.html#pyspark.sql.DataFrame.collect)\n",
    "\n",
    "collect() → List[pyspark.sql.types.Row]\n",
    "\n",
    "Returns all the records as a list of Row."
   ]
  },
  {
   "cell_type": "code",
   "execution_count": null,
   "id": "82d7f4d1-4a67-4872-834d-3fd95bd42ae6",
   "metadata": {
    "tags": []
   },
   "outputs": [],
   "source": [
    "df.collect()"
   ]
  },
  {
   "cell_type": "code",
   "execution_count": null,
   "id": "36928caf-b4cf-4e90-aa96-1cc233ca7c72",
   "metadata": {
    "tags": []
   },
   "outputs": [],
   "source": [
    "type(df.collect())"
   ]
  },
  {
   "cell_type": "code",
   "execution_count": null,
   "id": "169acf58-cfc0-453e-a4af-a8d71767760e",
   "metadata": {
    "tags": []
   },
   "outputs": [],
   "source": [
    "for row in df.collect():\n",
    "    print(row['name'], row['age'])"
   ]
  },
  {
   "cell_type": "markdown",
   "id": "e39bd719-ea43-4912-9c66-00fda3edd201",
   "metadata": {},
   "source": [
    "## [take](https://spark.apache.org/docs/latest/api/python/reference/pyspark.sql/api/pyspark.sql.DataFrame.take.html#pyspark.sql.DataFrame.take)\n",
    "\n",
    "take(num: int) → List[pyspark.sql.types.Row]\n",
    "\n",
    "Returns the first num rows as a list of Row."
   ]
  },
  {
   "cell_type": "code",
   "execution_count": null,
   "id": "77c895c5-c38b-47ca-8001-95e62b413f74",
   "metadata": {
    "tags": []
   },
   "outputs": [],
   "source": [
    "df.take(2)"
   ]
  },
  {
   "cell_type": "markdown",
   "id": "8e9d2d9b-cf85-455e-87e0-9b2fd01fcf61",
   "metadata": {
    "tags": []
   },
   "source": [
    "## [head](https://spark.apache.org/docs/latest/api/python/reference/pyspark.sql/api/pyspark.sql.DataFrame.head.html)\n",
    "\n",
    "DataFrame.head(n: Optional[int] = None) → Union[pyspark.sql.types.Row, None, List[pyspark.sql.types.Row]]\n",
    "\n",
    "Returns the first n rows."
   ]
  },
  {
   "cell_type": "code",
   "execution_count": null,
   "id": "2ab4a4eb-5879-4c0f-a9ff-bd3313111dfb",
   "metadata": {
    "tags": []
   },
   "outputs": [],
   "source": [
    "df.head(2)"
   ]
  },
  {
   "cell_type": "markdown",
   "id": "3bfbd0e2-bf13-4e62-b038-4d6ef81b8eee",
   "metadata": {},
   "source": [
    "## [first](https://spark.apache.org/docs/latest/api/python/reference/pyspark.sql/api/pyspark.sql.DataFrame.first.html)\n",
    "\n",
    "DataFrame.first() → Optional[pyspark.sql.types.Row]\n",
    "\n",
    "Returns the first row as a Row."
   ]
  },
  {
   "cell_type": "code",
   "execution_count": null,
   "id": "3e0ccb55-2634-4b50-8d5d-9acc646fe884",
   "metadata": {
    "tags": []
   },
   "outputs": [],
   "source": [
    "df.first()"
   ]
  },
  {
   "cell_type": "markdown",
   "id": "57bb843d-6ea0-471c-aadd-aaf8f234e83a",
   "metadata": {},
   "source": [
    "## [tail](https://spark.apache.org/docs/latest/api/python/reference/pyspark.sql/api/pyspark.sql.DataFrame.tail.html#pyspark.sql.DataFrame.tail)\n",
    "\n",
    "tail(num: int) → List[pyspark.sql.types.Row]\n",
    "\n",
    "Returns the last num rows as a list of Row."
   ]
  },
  {
   "cell_type": "code",
   "execution_count": null,
   "id": "4e568af6-5acd-49e2-a2a4-a769963cde22",
   "metadata": {
    "tags": []
   },
   "outputs": [],
   "source": [
    "df.tail(2)"
   ]
  },
  {
   "cell_type": "code",
   "execution_count": null,
   "id": "8e8d860d-3f32-49ee-8243-423a351aec05",
   "metadata": {},
   "outputs": [],
   "source": []
  }
 ],
 "metadata": {
  "kernelspec": {
   "display_name": "Python 3 (ipykernel)",
   "language": "python",
   "name": "python3"
  },
  "language_info": {
   "codemirror_mode": {
    "name": "ipython",
    "version": 3
   },
   "file_extension": ".py",
   "mimetype": "text/x-python",
   "name": "python",
   "nbconvert_exporter": "python",
   "pygments_lexer": "ipython3",
   "version": "3.10.10"
  }
 },
 "nbformat": 4,
 "nbformat_minor": 5
}
