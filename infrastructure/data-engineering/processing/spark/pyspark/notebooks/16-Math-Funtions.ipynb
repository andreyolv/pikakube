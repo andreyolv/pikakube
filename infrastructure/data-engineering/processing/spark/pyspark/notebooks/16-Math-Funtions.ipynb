{
 "cells": [
  {
   "attachments": {
    "0ca67929-eaa2-4f72-9cd3-76f604ab361f.png": {
     "image/png": "[encoded data removed]"
    }
   },
   "cell_type": "markdown",
   "id": "7732295e-2f79-4b13-92fa-b2bfdd89c361",
   "metadata": {},
   "source": [
    "# [Math Functions](https://spark.apache.org/docs/latest/api/python/reference/pyspark.sql/functions.html#math-functions)\n",
    "\n",
    "![image.png](attachment:0ca67929-eaa2-4f72-9cd3-76f604ab361f.png)"
   ]
  },
  {
   "cell_type": "code",
   "execution_count": null,
   "id": "d6c258c0-f3f7-45ed-a80a-e5c49f1f2dcb",
   "metadata": {
    "tags": []
   },
   "outputs": [],
   "source": [
    "from pyspark.sql import SparkSession\n",
    "from pyspark.sql.types import *\n",
    "from pyspark.sql import functions as F\n",
    "from pyspark.sql import Window\n",
    "\n",
    "# Create SparkSession\n",
    "spark = (SparkSession.builder\n",
    "                    .appName('PySparkSyntax')\n",
    "                    .getOrCreate()\n",
    "        )\n",
    "\n",
    "# Cria um DataFrame com valores negativos e positivos\n",
    "data = [(\"A\", -1), (\"B\", 2), (\"C\", -3), (\"D\", 4)]\n",
    "df = spark.createDataFrame(data, [\"id\", \"values\"])\n",
    "\n",
    "df.show()"
   ]
  },
  {
   "cell_type": "markdown",
   "id": "8eabfd48-d762-42e8-b1b4-31eef1710b96",
   "metadata": {},
   "source": [
    "## [abs](https://spark.apache.org/docs/latest/api/python/reference/pyspark.sql/api/pyspark.sql.functions.abs.html#pyspark.sql.functions.abs)\n",
    "\n",
    "abs(col: ColumnOrName) → pyspark.sql.column.Column\n",
    "\n",
    "Computes the absolute value."
   ]
  },
  {
   "cell_type": "code",
   "execution_count": null,
   "id": "2c7b7078-100a-437d-9838-2d87d70ea886",
   "metadata": {
    "tags": []
   },
   "outputs": [],
   "source": [
    "df = df.withColumn(\"absolute_values\", F.abs(F.col(\"values\")))\n",
    "\n",
    "df.show()"
   ]
  },
  {
   "cell_type": "markdown",
   "id": "2a09ce1f-0b6e-430a-a5e4-3e14aefaa0b1",
   "metadata": {},
   "source": [
    "## [sqrt](https://spark.apache.org/docs/latest/api/python/reference/pyspark.sql/api/pyspark.sql.functions.sqrt.html#pyspark.sql.functions.sqrt)\n",
    "\n",
    "sqrt(col: ColumnOrName) → pyspark.sql.column.Column\n",
    "\n",
    "Computes the square root of the specified float value."
   ]
  },
  {
   "cell_type": "code",
   "execution_count": null,
   "id": "3b868d15-bde9-4fa3-be8d-db0f598db2de",
   "metadata": {
    "tags": []
   },
   "outputs": [],
   "source": [
    "df = df.withColumn(\"sqrt_values\", F.sqrt(F.col(\"values\")))\n",
    "\n",
    "df.show()"
   ]
  },
  {
   "cell_type": "markdown",
   "id": "9259545f-db25-473c-b00d-57bc649e5f4e",
   "metadata": {},
   "source": [
    "## [exp](https://spark.apache.org/docs/latest/api/python/reference/pyspark.sql/api/pyspark.sql.functions.exp.html#pyspark.sql.functions.exp)\n",
    "\n",
    "exp(col: ColumnOrName) → pyspark.sql.column.Column\n",
    "\n",
    "Computes the exponential of the given value."
   ]
  },
  {
   "cell_type": "code",
   "execution_count": null,
   "id": "24d9ce59-5797-48a0-915a-ec061f6f7961",
   "metadata": {
    "tags": []
   },
   "outputs": [],
   "source": [
    "# e=2.71828 como base\n",
    "df = df.withColumn(\"exp\", F.exp(df[\"values\"]))\n",
    "\n",
    "df.show()"
   ]
  },
  {
   "cell_type": "markdown",
   "id": "3dda2011-c338-4cb0-a225-01be9f9ae5f6",
   "metadata": {},
   "source": [
    "## [pow](https://spark.apache.org/docs/latest/api/python/reference/pyspark.sql/api/pyspark.sql.functions.pow.html#pyspark.sql.functions.pow)\n",
    "\n",
    "pow(col1: Union[ColumnOrName, float], col2: Union[ColumnOrName, float]) → pyspark.sql.column.Column\n",
    "\n",
    "Returns the value of the first argument raised to the power of the second argument."
   ]
  },
  {
   "cell_type": "code",
   "execution_count": null,
   "id": "937771ed-6084-46a0-a551-7ac9e8b3ae18",
   "metadata": {
    "tags": []
   },
   "outputs": [],
   "source": [
    "df = (df.withColumn(\"pow2\", F.pow(F.col('values'), 2))\n",
    "        .withColumn(\"pow3\", F.pow(F.col('values'), 3))\n",
    "     )\n",
    "\n",
    "df.show()"
   ]
  },
  {
   "cell_type": "markdown",
   "id": "d77b7cb3-37a2-4a79-9850-be8df0ad34ab",
   "metadata": {},
   "source": [
    "## [ceil](https://spark.apache.org/docs/latest/api/python/reference/pyspark.sql/api/pyspark.sql.functions.ceil.html#pyspark.sql.functions.ceil)\n",
    "\n",
    "ceil(col: ColumnOrName) → pyspark.sql.column.Column\n",
    "\n",
    "Computes the ceiling of the given value."
   ]
  },
  {
   "cell_type": "code",
   "execution_count": null,
   "id": "63beca2d-da95-4402-8e1a-aa8c38b0fc52",
   "metadata": {
    "tags": []
   },
   "outputs": [],
   "source": [
    "df = df.withColumn(\"ceil\", F.ceil(F.col(\"exp\")))\n",
    "\n",
    "df.show()"
   ]
  },
  {
   "cell_type": "markdown",
   "id": "65315dea-4e5b-4734-9e36-f447a0172a5e",
   "metadata": {},
   "source": [
    "## [floor](https://spark.apache.org/docs/latest/api/python/reference/pyspark.sql/api/pyspark.sql.functions.floor.html#pyspark.sql.functions.floor)\n",
    "\n",
    "floor(col: ColumnOrName) → pyspark.sql.column.Column\n",
    "\n",
    "Computes the floor of the given value."
   ]
  },
  {
   "cell_type": "code",
   "execution_count": null,
   "id": "50e47b57-6641-43cf-beec-d8c46fa6c4fa",
   "metadata": {
    "tags": []
   },
   "outputs": [],
   "source": [
    "df = df.withColumn(\"floor\", F.floor(F.col(\"exp\")))\n",
    "\n",
    "df.show()"
   ]
  },
  {
   "cell_type": "markdown",
   "id": "b7fdcd90-c0e5-46ca-9a79-6b12bd8a0a55",
   "metadata": {},
   "source": [
    "## [round](https://spark.apache.org/docs/latest/api/python/reference/pyspark.sql/api/pyspark.sql.functions.round.html#pyspark.sql.functions.round)\n",
    "\n",
    "round(col: ColumnOrName, scale: int = 0) → pyspark.sql.column.Column\n",
    "\n",
    "Round the given value to scale decimal places using HALF_UP rounding mode if scale >= 0 or at integral part when scale < 0."
   ]
  },
  {
   "cell_type": "code",
   "execution_count": null,
   "id": "6eb94751-78f4-48b2-a6e1-baefe71c736f",
   "metadata": {
    "tags": []
   },
   "outputs": [],
   "source": [
    "df = (df.withColumn(\"round2\", F.round(F.col(\"exp\"), 2))\n",
    "        .withColumn(\"round5\", F.round(F.col(\"exp\"), 5))\n",
    "     )\n",
    "\n",
    "df.show()"
   ]
  },
  {
   "cell_type": "code",
   "execution_count": null,
   "id": "47b37e9b-6b04-47a0-b5c7-511bae16d089",
   "metadata": {},
   "outputs": [],
   "source": []
  }
 ],
 "metadata": {
  "kernelspec": {
   "display_name": "Python 3 (ipykernel)",
   "language": "python",
   "name": "python3"
  },
  "language_info": {
   "codemirror_mode": {
    "name": "ipython",
    "version": 3
   },
   "file_extension": ".py",
   "mimetype": "text/x-python",
   "name": "python",
   "nbconvert_exporter": "python",
   "pygments_lexer": "ipython3",
   "version": "3.10.10"
  }
 },
 "nbformat": 4,
 "nbformat_minor": 5
}
