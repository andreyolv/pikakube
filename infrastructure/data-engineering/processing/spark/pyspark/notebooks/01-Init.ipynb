{
 "cells": [
  {
   "attachments": {
    "26e1549b-9045-48eb-ba0f-407426b5152c.png": {
     "image/png": "[encoded data removed]"
    }
   },
   "cell_type": "markdown",
   "id": "e887321c-fab6-481b-9b43-1f33e50b8dfe",
   "metadata": {},
   "source": [
    "# Init\n",
    "![image.png](attachment:26e1549b-9045-48eb-ba0f-407426b5152c.png)"
   ]
  },
  {
   "cell_type": "code",
   "execution_count": null,
   "id": "624895cb-6819-416d-b078-090f6ab2c266",
   "metadata": {
    "tags": []
   },
   "outputs": [],
   "source": [
    "!pyspark --version"
   ]
  },
  {
   "cell_type": "code",
   "execution_count": null,
   "id": "d80a24cb-8663-4c80-804f-ac2d21057899",
   "metadata": {
    "tags": []
   },
   "outputs": [],
   "source": [
    "from pyspark.sql import SparkSession\n",
    "from pyspark.sql.types import *\n",
    "from pyspark.sql import functions as F\n",
    "from pyspark.sql import Window\n",
    "\n",
    "# Create SparkSession\n",
    "spark = (SparkSession.builder\n",
    "                    .appName('PySparkSyntax')\n",
    "                    .config(\"spark.executor.memory\", \"4G\")\n",
    "                    .config(\"spark.driver.memory\", \"2G\")\n",
    "                    .getOrCreate()\n",
    "        )\n",
    "\n",
    "print(f'The PySpark {spark.version} version is running...')"
   ]
  },
  {
   "cell_type": "code",
   "execution_count": null,
   "id": "47a0cb5d-2fa6-4423-938a-66a43d02b2bd",
   "metadata": {
    "tags": []
   },
   "outputs": [],
   "source": [
    "spark"
   ]
  },
  {
   "cell_type": "code",
   "execution_count": null,
   "id": "f013eb80-dcd9-4790-bf31-7d41db8c4d3b",
   "metadata": {
    "tags": []
   },
   "outputs": [],
   "source": [
    "spark.conf.get(\"spark.executor.memory\")"
   ]
  },
  {
   "cell_type": "code",
   "execution_count": null,
   "id": "ec353157-e786-4e81-a0f4-151fe040a40e",
   "metadata": {
    "tags": []
   },
   "outputs": [],
   "source": [
    "spark.conf.get(\"spark.driver.memory\")"
   ]
  },
  {
   "cell_type": "code",
   "execution_count": null,
   "id": "d695674e-b21d-4f22-b4a2-8aa5e6c48ef5",
   "metadata": {
    "tags": []
   },
   "outputs": [],
   "source": [
    "spark.conf.get(\"spark.sql.shuffle.partitions\")"
   ]
  },
  {
   "cell_type": "code",
   "execution_count": null,
   "id": "61046dd3-a2fe-4ae2-8a77-b87b97a7b8ee",
   "metadata": {
    "tags": []
   },
   "outputs": [],
   "source": [
    "spark.conf.set(\"spark.sql.shuffle.partitions\", \"100\")"
   ]
  },
  {
   "cell_type": "code",
   "execution_count": null,
   "id": "2312cb2a-72af-457d-a8da-0c3f0ef5ac57",
   "metadata": {
    "tags": []
   },
   "outputs": [],
   "source": [
    "spark.conf.get(\"spark.sql.shuffle.partitions\")"
   ]
  },
  {
   "cell_type": "code",
   "execution_count": null,
   "id": "f5057228-56cc-45e0-9fae-b74246f0c34d",
   "metadata": {
    "tags": []
   },
   "outputs": [],
   "source": [
    "spark.stop()"
   ]
  },
  {
   "cell_type": "code",
   "execution_count": null,
   "id": "6ec61419-bc52-4399-8c85-cba9d1f9fea1",
   "metadata": {
    "tags": []
   },
   "outputs": [],
   "source": [
    "spark"
   ]
  },
  {
   "cell_type": "code",
   "execution_count": null,
   "id": "5935761c-efa8-457a-ad40-f3315aba6557",
   "metadata": {},
   "outputs": [],
   "source": []
  }
 ],
 "metadata": {
  "kernelspec": {
   "display_name": "Python 3 (ipykernel)",
   "language": "python",
   "name": "python3"
  },
  "language_info": {
   "codemirror_mode": {
    "name": "ipython",
    "version": 3
   },
   "file_extension": ".py",
   "mimetype": "text/x-python",
   "name": "python",
   "nbconvert_exporter": "python",
   "pygments_lexer": "ipython3",
   "version": "3.10.10"
  }
 },
 "nbformat": 4,
 "nbformat_minor": 5
}
