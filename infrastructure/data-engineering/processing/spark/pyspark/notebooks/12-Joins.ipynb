{
 "cells": [
  {
   "attachments": {
    "35e5f95c-893f-4113-9f21-92d8de55239c.png": {
     "image/png": "[encoded data removed]"
    }
   },
   "cell_type": "markdown",
   "id": "39c8e2d7-d90c-4821-8e7b-578b7000a3b4",
   "metadata": {},
   "source": [
    "## Joins\n",
    "\n",
    "![image.png](attachment:35e5f95c-893f-4113-9f21-92d8de55239c.png)\n"
   ]
  },
  {
   "cell_type": "code",
   "execution_count": null,
   "id": "d21af61a-9957-49b3-972d-521c06a70a2b",
   "metadata": {
    "tags": []
   },
   "outputs": [],
   "source": [
    "from pyspark.sql import SparkSession\n",
    "from pyspark.sql.types import *\n",
    "from pyspark.sql import functions as F\n",
    "from pyspark.sql import Window\n",
    "\n",
    "# Create SparkSession\n",
    "spark = (SparkSession.builder\n",
    "                    .appName('PySparkSyntax')\n",
    "                    .getOrCreate()\n",
    "        )"
   ]
  },
  {
   "cell_type": "code",
   "execution_count": null,
   "id": "fd294673-ce53-4170-ad20-97e4b26210d4",
   "metadata": {
    "tags": []
   },
   "outputs": [],
   "source": [
    "# Cria um DataFrame com informações de vendas\n",
    "vendas_data = [(\"2022-01-01\", 1, 100.0),\n",
    "               (\"2022-01-02\", 2, 50.0),\n",
    "               (\"2022-01-03\", 3, 25.0)]\n",
    "\n",
    "vendas = spark.createDataFrame(vendas_data, [\"data\", \"produto_id\", \"valor\"])\n",
    "\n",
    "vendas.toPandas()"
   ]
  },
  {
   "cell_type": "code",
   "execution_count": null,
   "id": "2821e431-d4df-492a-9f0c-637dbfda6e10",
   "metadata": {
    "tags": []
   },
   "outputs": [],
   "source": [
    "# Cria um DataFrame com informações de produtos\n",
    "produtos_data = [(1, \"Arroz\"),\n",
    "                 (2, \"Feijão\"),\n",
    "                 (4, \"Óleo\")]\n",
    "\n",
    "produtos = spark.createDataFrame(produtos_data, [\"produto_id\", \"produto_nome\"])\n",
    "\n",
    "produtos.toPandas()"
   ]
  },
  {
   "cell_type": "markdown",
   "id": "5d79390d-edaa-4771-9fde-ce790e1ef4b0",
   "metadata": {},
   "source": [
    "## [join](https://spark.apache.org/docs/latest/api/python/reference/pyspark.sql/api/pyspark.sql.DataFrame.join.html#pyspark.sql.DataFrame.join)\n",
    "\n",
    "DataFrame.join(\n",
    "\n",
    "other: pyspark.sql.dataframe.DataFrame, \n",
    "\n",
    "on: Union[str, List[str], pyspark.sql.column.Column, List[pyspark.sql.column.Column], None] = None, \n",
    "\n",
    "how: Optional[str] = None) → pyspark.sql.dataframe.DataFrame"
   ]
  },
  {
   "cell_type": "markdown",
   "id": "14d6fb8a-d938-4f24-b3fe-76b763009586",
   "metadata": {
    "tags": []
   },
   "source": [
    "## Left Join"
   ]
  },
  {
   "cell_type": "code",
   "execution_count": null,
   "id": "3b56e6b3-1ea8-467a-8c90-3414a91aa42a",
   "metadata": {
    "tags": []
   },
   "outputs": [],
   "source": [
    "# Executa um left join entre as tabelas vendas e produtos\n",
    "# left, leftouter, left_outer\n",
    "left_join = vendas.join(produtos, \"produto_id\", \"left\")\n",
    "\n",
    "left_join.show()"
   ]
  },
  {
   "cell_type": "markdown",
   "id": "52581a23-fc59-4753-89dd-46f359397e57",
   "metadata": {},
   "source": [
    "## Right Join"
   ]
  },
  {
   "cell_type": "code",
   "execution_count": null,
   "id": "137411e9-dedd-4345-868d-c0d720500295",
   "metadata": {
    "tags": []
   },
   "outputs": [],
   "source": [
    "# Executa um right join entre as tabelas vendas e produtos\n",
    "# right, rightouter, right_outer\n",
    "right_join = vendas.join(produtos, \"produto_id\", \"right\")\n",
    "\n",
    "right_join.show()"
   ]
  },
  {
   "cell_type": "markdown",
   "id": "496fbb71-427b-43b6-b39f-d1ab19db037c",
   "metadata": {},
   "source": [
    "## Full Join"
   ]
  },
  {
   "cell_type": "code",
   "execution_count": null,
   "id": "428c05cd-9823-4156-8bd0-e87990b64186",
   "metadata": {
    "tags": []
   },
   "outputs": [],
   "source": [
    "# Executa um full join entre as tabelas vendas e produtos\n",
    "# full, outer, fullouter, full_outer\n",
    "full_join = vendas.join(produtos, \"produto_id\", \"full\")\n",
    "\n",
    "full_join.show()"
   ]
  },
  {
   "cell_type": "markdown",
   "id": "9a7be17f-e393-4b44-b0cc-31f0aabd2edb",
   "metadata": {},
   "source": [
    "## Inner Join (default)"
   ]
  },
  {
   "cell_type": "code",
   "execution_count": null,
   "id": "66774309-f118-4072-9ff8-2eab00389686",
   "metadata": {
    "tags": []
   },
   "outputs": [],
   "source": [
    "# Executa um inner join entre as tabelas vendas e produtos\n",
    "inner_join = vendas.join(produtos, \"produto_id\")\n",
    "\n",
    "inner_join.show()"
   ]
  },
  {
   "cell_type": "code",
   "execution_count": null,
   "id": "cf5c04cc-2fe3-43da-914d-a7f31e719a75",
   "metadata": {
    "tags": []
   },
   "outputs": [],
   "source": [
    "# Executa um inner join entre as tabelas vendas e produtos\n",
    "inner_join = vendas.join(produtos, \"produto_id\", \"inner\")\n",
    "\n",
    "inner_join.show()"
   ]
  },
  {
   "cell_type": "code",
   "execution_count": null,
   "id": "1d687d20-d1d7-4602-8f65-fe0cd6530de1",
   "metadata": {
    "tags": []
   },
   "outputs": [],
   "source": [
    "inner_join = vendas.join(produtos, vendas.produto_id == produtos.produto_id, 'inner')\n",
    "inner_join.show()"
   ]
  },
  {
   "cell_type": "markdown",
   "id": "ed81fd34-dd4c-4b02-8066-16793dae3cd9",
   "metadata": {},
   "source": [
    "## [alias](https://spark.apache.org/docs/latest/api/python/reference/pyspark.sql/api/pyspark.sql.DataFrame.alias.html)\n",
    "\n",
    "DataFrame.alias(alias: str) → pyspark.sql.dataframe.DataFrame\n",
    "\n",
    "Returns a new DataFrame with an alias set."
   ]
  },
  {
   "cell_type": "code",
   "execution_count": null,
   "id": "9a04e23f-2af3-409e-80c0-cbf2ea76feda",
   "metadata": {
    "tags": []
   },
   "outputs": [],
   "source": [
    "inner_join = vendas.alias('v').join(produtos.alias('p'), F.col(\"v.produto_id\") == F.col(\"p.produto_id\"), 'inner')\n",
    "inner_join.show()"
   ]
  },
  {
   "cell_type": "markdown",
   "id": "0e7c3e66-b002-4990-ac86-08209efcda41",
   "metadata": {},
   "source": [
    "## [CrossJoin](https://spark.apache.org/docs/latest/api/python/reference/pyspark.sql/api/pyspark.sql.DataFrame.crossJoin.html#pyspark.sql.DataFrame.crossJoin)\n",
    "\n",
    "DataFrame.crossJoin(other: pyspark.sql.dataframe.DataFrame) → pyspark.sql.dataframe.DataFrame\n",
    "\n",
    "Returns the cartesian product with another DataFrame."
   ]
  },
  {
   "cell_type": "code",
   "execution_count": null,
   "id": "5b7af89d-dc63-410c-b34a-bb1fd9eabf11",
   "metadata": {
    "tags": []
   },
   "outputs": [],
   "source": [
    "# Cria um DataFrame com os possíveis naipes\n",
    "naipes_data = [(\"Ouros\",), (\"Espadas\",), (\"Copas\",), (\"Paus\",)]\n",
    "naipes = spark.createDataFrame(naipes_data, [\"naipes\"])\n",
    "\n",
    "naipes.toPandas()"
   ]
  },
  {
   "cell_type": "code",
   "execution_count": null,
   "id": "5f45ab10-d3ff-461f-96de-a42141930152",
   "metadata": {
    "tags": []
   },
   "outputs": [],
   "source": [
    "# Cria um DataFrame com os possíveis números de cartas\n",
    "numeros_data = [(\"2\",), (\"3\",), (\"4\",), (\"5\",), (\"6\",), (\"7\",), (\"8\",), (\"9\",), (\"10\",), (\"J\",), (\"Q\",), (\"K\",), (\"A\",)]\n",
    "numeros = spark.createDataFrame(numeros_data, [\"numero\"])\n",
    "\n",
    "numeros.toPandas()"
   ]
  },
  {
   "cell_type": "code",
   "execution_count": null,
   "id": "87d7af74-ac86-4a23-95e3-8b73d8a36a84",
   "metadata": {
    "tags": []
   },
   "outputs": [],
   "source": [
    "# Executa o cross join entre os DataFrames \"naipes\" e \"numeros_com_valor\"\n",
    "baralho = numeros.crossJoin(naipes)\n",
    "\n",
    "baralho.orderBy('numero', 'naipes').show()"
   ]
  },
  {
   "cell_type": "code",
   "execution_count": null,
   "id": "c311cc6e-a91c-4e4d-9f39-38de22bd6e22",
   "metadata": {
    "tags": []
   },
   "outputs": [],
   "source": [
    "print(numeros.count())\n",
    "print(naipes.count())\n",
    "print(baralho.count())"
   ]
  },
  {
   "cell_type": "code",
   "execution_count": null,
   "id": "d35e5252-3202-49fb-98bd-a750e023e318",
   "metadata": {},
   "outputs": [],
   "source": []
  }
 ],
 "metadata": {
  "kernelspec": {
   "display_name": "Python 3 (ipykernel)",
   "language": "python",
   "name": "python3"
  },
  "language_info": {
   "codemirror_mode": {
    "name": "ipython",
    "version": 3
   },
   "file_extension": ".py",
   "mimetype": "text/x-python",
   "name": "python",
   "nbconvert_exporter": "python",
   "pygments_lexer": "ipython3",
   "version": "3.10.10"
  }
 },
 "nbformat": 4,
 "nbformat_minor": 5
}
