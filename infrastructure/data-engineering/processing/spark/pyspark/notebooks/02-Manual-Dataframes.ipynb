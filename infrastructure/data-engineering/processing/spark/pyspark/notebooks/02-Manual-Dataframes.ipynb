{
 "cells": [
  {
   "attachments": {
    "bc701bff-1d1a-4321-90a1-74310f24dc15.png": {
     "image/png": "[encoded data removed]"
    }
   },
   "cell_type": "markdown",
   "id": "a33a4f88-49ec-48fd-af1f-e5059988d108",
   "metadata": {
    "tags": []
   },
   "source": [
    "# Create manual dataframe\n",
    "![image.png](attachment:bc701bff-1d1a-4321-90a1-74310f24dc15.png)"
   ]
  },
  {
   "cell_type": "code",
   "execution_count": null,
   "id": "b57c6dfc-8420-43e1-96b1-00cfb8bb0349",
   "metadata": {
    "tags": []
   },
   "outputs": [],
   "source": [
    "import warnings\n",
    "from pyspark.sql import SparkSession\n",
    "from pyspark.sql.types import *\n",
    "from pyspark.sql import functions as F\n",
    "from pyspark.sql import Window\n",
    "\n",
    "warnings.filterwarnings(\"ignore\", category=FutureWarning)\n",
    "\n",
    "# Create SparkSession\n",
    "spark = (SparkSession.builder\n",
    "                    .appName('PySparkSyntax')\n",
    "                    .getOrCreate()\n",
    "        )"
   ]
  },
  {
   "cell_type": "markdown",
   "id": "c697afe8-48ed-4e4b-97ad-30908118cd1b",
   "metadata": {
    "tags": []
   },
   "source": [
    "## From a list of tuples"
   ]
  },
  {
   "cell_type": "code",
   "execution_count": null,
   "id": "90200be9-804c-4a3a-a958-a3b64f31b208",
   "metadata": {
    "tags": []
   },
   "outputs": [],
   "source": [
    "# Create a schema for your dataframe\n",
    "schema = StructType([\n",
    "    StructField(\"name\", StringType(), True),\n",
    "    StructField(\"email\", StringType(), True),\n",
    "    StructField(\"address\", StringType(), True),\n",
    "    StructField(\"phone_number\", StringType(), True)\n",
    "])\n",
    "\n",
    "# Use the Faker library to generate data for your dataframe\n",
    "data = [\n",
    "    ('Andrey', 'andrey@gmail.com', 'Rua dos Canários', '4199991111'),\n",
    "    ('Joao', 'jaozinho@gmail.com', 'Rua dos Pardais', '4199992222'),\n",
    "    ('Amora', 'amorinha@gmail.com', 'Rua das Andorinhas', '4199993333'),\n",
    "    ('Lucy', 'lucymara@gmail.com', 'Rua dos Papagaios', '4199994444'),]\n",
    "\n",
    "# Create a PySpark dataframe from your data and schema\n",
    "df = spark.createDataFrame(data, schema)\n",
    "\n",
    "# Show your dataframe\n",
    "df.show()"
   ]
  },
  {
   "cell_type": "markdown",
   "id": "8632ac11-7138-4bf8-b540-aa1fdae8c70d",
   "metadata": {
    "tags": []
   },
   "source": [
    "## From pandas"
   ]
  },
  {
   "cell_type": "code",
   "execution_count": null,
   "id": "bcce5371-eb1e-4807-bb5c-087b01709c28",
   "metadata": {
    "tags": []
   },
   "outputs": [],
   "source": [
    "import pandas as pd\n",
    "\n",
    "data = {'nome': ['Andrey', 'Joao', 'Amora', 'Lucy'],\n",
    "        'idade': [25, 15, 45, 35],\n",
    "        'cidade': ['Curitiba', 'São Paulo', 'Rio de Janeiro', 'Belo Horizonte']}\n",
    "\n",
    "df_pandas = pd.DataFrame(data)\n",
    "df_pyspark = spark.createDataFrame(df_pandas)\n",
    "df_pyspark.show()"
   ]
  },
  {
   "cell_type": "code",
   "execution_count": null,
   "id": "237fd7b4-416a-4a4a-ba6d-21c677b0f020",
   "metadata": {},
   "outputs": [],
   "source": []
  },
  {
   "cell_type": "code",
   "execution_count": null,
   "id": "1fcdfe2e-5783-4ad5-beb4-3070f391b5cf",
   "metadata": {},
   "outputs": [],
   "source": []
  }
 ],
 "metadata": {
  "kernelspec": {
   "display_name": "Python 3 (ipykernel)",
   "language": "python",
   "name": "python3"
  },
  "language_info": {
   "codemirror_mode": {
    "name": "ipython",
    "version": 3
   },
   "file_extension": ".py",
   "mimetype": "text/x-python",
   "name": "python",
   "nbconvert_exporter": "python",
   "pygments_lexer": "ipython3",
   "version": "3.10.10"
  }
 },
 "nbformat": 4,
 "nbformat_minor": 5
}
