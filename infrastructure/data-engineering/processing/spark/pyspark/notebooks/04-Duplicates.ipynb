{
 "cells": [
  {
   "attachments": {
    "570e04d9-4ea6-4830-b4f8-191750a51627.png": {
     "image/png": "[encoded data removed]"
    }
   },
   "cell_type": "markdown",
   "id": "0f5e760d-c1a3-4c6a-811e-cd1ecd8ff98b",
   "metadata": {
    "tags": []
   },
   "source": [
    "## Duplicates\n",
    "![image.png](attachment:570e04d9-4ea6-4830-b4f8-191750a51627.png)"
   ]
  },
  {
   "cell_type": "code",
   "execution_count": null,
   "id": "c40a667f-c0a4-4c79-8f20-22ed05ff9eb4",
   "metadata": {
    "tags": []
   },
   "outputs": [],
   "source": [
    "from pyspark.sql import SparkSession\n",
    "from pyspark.sql.types import *\n",
    "from pyspark.sql import functions as F\n",
    "from pyspark.sql import Window\n",
    "\n",
    "# Create SparkSession\n",
    "spark = (SparkSession.builder\n",
    "                    .appName('PySparkSyntax')\n",
    "                    .getOrCreate()\n",
    "        )\n",
    "\n",
    "# Define the schema for a DataFrame\n",
    "schema = StructType([\n",
    "    StructField(\"name\", StringType(), True),\n",
    "    StructField(\"age\", IntegerType(), True),\n",
    "    StructField(\"city\", StringType(), True)\n",
    "])\n",
    "\n",
    "\n",
    "# Create a DataFrame using the schema\n",
    "data = [(\"Alice\", 25, \"New York\")\n",
    "        , (\"Bob\", 30, \"San Francisco\")\n",
    "        , (\"Bob\", 12, \"Las Vegas\")\n",
    "        , (\"Charlie\", 35, \"Chicago\")\n",
    "        , (\"Charlie\", 35, \"Chicago\")]\n",
    "df = spark.createDataFrame(data, schema)\n",
    "\n",
    "# Show the DataFrame\n",
    "df.show()"
   ]
  },
  {
   "cell_type": "markdown",
   "id": "4699acd0-82f3-4fe4-9dfe-1bc3b6d6e2e6",
   "metadata": {},
   "source": [
    "## [dropDuplicates](https://spark.apache.org/docs/latest/api/python/reference/pyspark.sql/api/pyspark.sql.DataFrame.dropDuplicates.html)\n",
    "\n",
    "DataFrame.dropDuplicates(subset: Optional[List[str]] = None) → pyspark.sql.dataframe.DataFrame\n",
    "\n",
    "Return a new DataFrame with duplicate rows removed, optionally only considering certain columns.\n",
    "\n",
    "For a static batch DataFrame, it just drops duplicate rows.\n",
    "\n",
    "drop_duplicates() is an alias for dropDuplicates()."
   ]
  },
  {
   "cell_type": "code",
   "execution_count": null,
   "id": "d813e281-35f1-409f-b34f-fd1c75ad89b2",
   "metadata": {
    "tags": []
   },
   "outputs": [],
   "source": [
    "df.show()"
   ]
  },
  {
   "cell_type": "code",
   "execution_count": null,
   "id": "1287b894-d70d-4032-8826-c151a8b5926d",
   "metadata": {
    "tags": []
   },
   "outputs": [],
   "source": [
    "df_dp = df.dropDuplicates()\n",
    "\n",
    "df_dp.toPandas()"
   ]
  },
  {
   "cell_type": "code",
   "execution_count": null,
   "id": "23336ade-e81e-408d-bf59-c976b11443b4",
   "metadata": {
    "tags": []
   },
   "outputs": [],
   "source": [
    "df_dp = df.dropDuplicates(['name'])\n",
    "\n",
    "df_dp.toPandas()"
   ]
  },
  {
   "cell_type": "code",
   "execution_count": null,
   "id": "fff1c949-6591-45b2-906c-acb89529030f",
   "metadata": {
    "tags": []
   },
   "outputs": [],
   "source": [
    "df_dp = df.drop_duplicates()\n",
    "\n",
    "df_dp.toPandas()"
   ]
  },
  {
   "cell_type": "markdown",
   "id": "144644c6-87e8-447a-b0ca-94631391fedc",
   "metadata": {},
   "source": [
    "## [distinct](https://spark.apache.org/docs/latest/api/python/reference/pyspark.sql/api/pyspark.sql.DataFrame.drop_duplicates.html)\n",
    "\n",
    "DataFrame.distinct() → pyspark.sql.dataframe.DataFrame\n",
    "\n",
    "Returns a new DataFrame containing the distinct rows in this DataFrame."
   ]
  },
  {
   "cell_type": "code",
   "execution_count": null,
   "id": "2c3d4abb-7615-4004-a265-743bc7e01ce8",
   "metadata": {
    "tags": []
   },
   "outputs": [],
   "source": [
    "df_d = df.distinct()\n",
    "\n",
    "df_d.toPandas()"
   ]
  },
  {
   "cell_type": "code",
   "execution_count": null,
   "id": "c9489ead-1d44-4c8b-a7bf-8b77b6ad329b",
   "metadata": {},
   "outputs": [],
   "source": []
  }
 ],
 "metadata": {
  "kernelspec": {
   "display_name": "Python 3 (ipykernel)",
   "language": "python",
   "name": "python3"
  },
  "language_info": {
   "codemirror_mode": {
    "name": "ipython",
    "version": 3
   },
   "file_extension": ".py",
   "mimetype": "text/x-python",
   "name": "python",
   "nbconvert_exporter": "python",
   "pygments_lexer": "ipython3",
   "version": "3.10.10"
  }
 },
 "nbformat": 4,
 "nbformat_minor": 5
}
