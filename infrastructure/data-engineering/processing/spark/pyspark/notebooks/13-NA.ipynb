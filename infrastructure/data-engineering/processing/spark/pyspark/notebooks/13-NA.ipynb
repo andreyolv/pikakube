{
 "cells": [
  {
   "attachments": {
    "d00f175e-65ed-4958-94b7-8b5f5b6c18be.png": {
     "image/png": "[encoded data removed]"
    }
   },
   "cell_type": "markdown",
   "id": "c9c5c518-3c48-43d8-a6d4-9c168f4a5a89",
   "metadata": {},
   "source": [
    "# NA\n",
    "![image.png](attachment:d00f175e-65ed-4958-94b7-8b5f5b6c18be.png)"
   ]
  },
  {
   "cell_type": "code",
   "execution_count": null,
   "id": "973ac6c3-f218-430d-b455-ebbf30eaa96c",
   "metadata": {
    "tags": []
   },
   "outputs": [],
   "source": [
    "from pyspark.sql import SparkSession\n",
    "from pyspark.sql.types import *\n",
    "from pyspark.sql import functions as F\n",
    "from pyspark.sql import Window\n",
    "\n",
    "# Create SparkSession\n",
    "spark = (SparkSession.builder\n",
    "                    .appName('PySparkSyntax')\n",
    "                    .getOrCreate()\n",
    "        )\n",
    "\n",
    "# Define the schema for a DataFrame\n",
    "schema = StructType([\n",
    "    StructField(\"name\", StringType(), True),\n",
    "    StructField(\"age\", IntegerType(), True),\n",
    "    StructField(\"city\", StringType(), True)\n",
    "])\n",
    "\n",
    "\n",
    "# Create a DataFrame using the schema\n",
    "data = [(\"Alice\", 25, \"New York\")\n",
    "        , (\"Bob\", 30, \"San Francisco\")\n",
    "        , (\"Bob\", 12, \"Las Vegas\")\n",
    "        , (\"Charlie\", 35, \"Bob\")\n",
    "        , (\"Charlie\", 12, \"New York\")\n",
    "        , (\"Charlie\", None, \"Chicago\")\n",
    "        , (None, None, \"Chicago\")\n",
    "        , (None, None, None)]\n",
    "df = spark.createDataFrame(data, schema)\n",
    "\n",
    "df.show()"
   ]
  },
  {
   "cell_type": "markdown",
   "id": "651b6120-1e69-4306-a11c-7b3eb5a38647",
   "metadata": {},
   "source": [
    "## dropna x na.drop\n",
    "\n",
    "## [dropna](https://spark.apache.org/docs/latest/api/python/reference/pyspark.sql/api/pyspark.sql.DataFrame.dropna.html)\n",
    "DataFrame.dropna(how: str = 'any', thresh: Optional[int] = None, subset: Union[str, Tuple[str, …], List[str], None] = None) → pyspark.sql.dataframe.DataFrame\n",
    "\n",
    "Returns a new DataFrame omitting rows with null values. DataFrame.dropna() and DataFrameNaFunctions.drop() are aliases of each other.\n",
    "\n",
    "Parameters:\n",
    "\n",
    "how: ‘any’ or ‘all’. If ‘any’, drop a row if it contains any nulls. If ‘all’, drop a row only if all its values are null.\n",
    "\n",
    "thresh: default None If specified, drop rows that have less than thresh non-null values. This overwrites the how parameter.\n",
    "\n",
    "subset: optional list of column names to consider."
   ]
  },
  {
   "cell_type": "code",
   "execution_count": null,
   "id": "8c602374-ebc9-411b-a641-c1ea787514d0",
   "metadata": {
    "tags": []
   },
   "outputs": [],
   "source": [
    "df_dropna = df.dropna()\n",
    "\n",
    "df_dropna.show()"
   ]
  },
  {
   "cell_type": "code",
   "execution_count": null,
   "id": "d586a2a0-6409-4748-a662-33b64341129a",
   "metadata": {
    "tags": []
   },
   "outputs": [],
   "source": [
    "df_dropna = df.na.drop()\n",
    "\n",
    "df_dropna.show()"
   ]
  },
  {
   "cell_type": "code",
   "execution_count": null,
   "id": "7d8f18dd-27dd-43df-ace4-9a7625adeba9",
   "metadata": {
    "tags": []
   },
   "outputs": [],
   "source": [
    "df_dropna = df.dropna(how='any')\n",
    "\n",
    "df_dropna.show()"
   ]
  },
  {
   "cell_type": "code",
   "execution_count": null,
   "id": "941d5b7d-a4cb-4182-b21e-c98863462a6d",
   "metadata": {
    "tags": []
   },
   "outputs": [],
   "source": [
    "# thresh = o mínino de não nulos que quero\n",
    "df_dropna = df.dropna(thresh=1)\n",
    "\n",
    "df_dropna.show()"
   ]
  },
  {
   "cell_type": "code",
   "execution_count": null,
   "id": "4ed8b193-eed6-4c49-a68c-28af829a00d2",
   "metadata": {
    "tags": []
   },
   "outputs": [],
   "source": [
    "df_dropna = df.dropna(subset='city')\n",
    "\n",
    "df_dropna.show()"
   ]
  },
  {
   "cell_type": "code",
   "execution_count": null,
   "id": "8442779d-7174-4615-8b8a-52e7cd87dcbb",
   "metadata": {
    "tags": []
   },
   "outputs": [],
   "source": [
    "df.printSchema()"
   ]
  },
  {
   "cell_type": "markdown",
   "id": "df48ad37-f0a0-4e33-bfb4-7efb52ab557b",
   "metadata": {},
   "source": [
    "## fillna x na.fill\n",
    "\n",
    "## [fillna](https://spark.apache.org/docs/latest/api/python/reference/pyspark.sql/api/pyspark.sql.DataFrame.fillna.html)\n",
    "\n",
    "DataFrame.fillna(value: Union[LiteralType, Dict[str, LiteralType]], subset: Union[str, Tuple[str, …], List[str], None] = None) → DataFrame\n",
    "\n",
    "Replace null values, alias for na.fill(). DataFrame.fillna() and DataFrameNaFunctions.fill() are aliases of each other.\n",
    "\n",
    "Parameters:\n",
    "\n",
    "value:\n",
    "Value to replace null values with. If the value is a dict, then subset is ignored and value must be a mapping from column name (string) to replacement value. The replacement value must be an int, float, boolean, or string.\n",
    "\n",
    "subset:\n",
    "optional list of column names to consider. Columns specified in subset that do not have matching data type are ignored. For example, if value is a string, and subset contains a non-string column, then the non-string column is simply ignored."
   ]
  },
  {
   "cell_type": "code",
   "execution_count": null,
   "id": "556f41fc-7347-413b-aea9-195b8953b1a8",
   "metadata": {
    "tags": []
   },
   "outputs": [],
   "source": [
    "df_fillna = df.fillna(10)\n",
    "df_fillna.toPandas()"
   ]
  },
  {
   "cell_type": "code",
   "execution_count": null,
   "id": "e75578fd-dc4e-4b1d-ad15-0c13e8fb5776",
   "metadata": {
    "tags": []
   },
   "outputs": [],
   "source": [
    "df_fillna = df.fillna('NaoIdentificado')\n",
    "df_fillna.toPandas()"
   ]
  },
  {
   "cell_type": "code",
   "execution_count": null,
   "id": "3c414979-8058-49cb-b85e-c1a42d2fca84",
   "metadata": {
    "tags": []
   },
   "outputs": [],
   "source": [
    "df_fillna = df.fillna(value={'name': 'NaoIdentificado', 'age': 10, 'city': 'NaoIdentificado'})\n",
    "df_fillna.toPandas()"
   ]
  },
  {
   "cell_type": "markdown",
   "id": "c5afdd6c-a7e4-4eb3-944b-19e15a94b045",
   "metadata": {
    "tags": []
   },
   "source": [
    "## replacena x na.replace\n",
    "\n",
    "## [replace](https://spark.apache.org/docs/latest/api/python/reference/pyspark.sql/api/pyspark.sql.DataFrame.replace.html)\n",
    "\n",
    "DataFrame.replace(to_replace: Union[LiteralType, List[LiteralType], Dict[LiteralType, OptionalPrimitiveType]], value: Union[OptionalPrimitiveType, List[OptionalPrimitiveType], pyspark._globals._NoValueType, None] = <no value>, subset: Optional[List[str]] = None) → DataFrame\n",
    "    \n",
    "Returns a new DataFrame replacing a value with another value. DataFrame.replace() and DataFrameNaFunctions.replace() are aliases of each other. Values to_replace and value must have the same type and can only be numerics, booleans, or strings. Value can have None. When replacing, the new value will be cast to the type of the existing column. For numeric replacements all values to be replaced should have unique floating point representation. In case of conflicts (for example with {42: -1, 42.0: 1}) and arbitrary replacement will be used.\n",
    "    \n",
    "Parameters:\n",
    "\n",
    "to_replace: bool, int, float, string, list or dict\n",
    "    \n",
    "Value to be replaced. If the value is a dict, then value is ignored or can be omitted, and to_replace must be a mapping between a value and a replacement.\n",
    "\n",
    "value: bool, int, float, string or None, optional\n",
    "    \n",
    "The replacement value must be a bool, int, float, string or None. If value is a list, value should be of the same length and type as to_replace. If value is a scalar and to_replace is a sequence, then value is used as a replacement for each item in to_replace.\n",
    "\n",
    "subset: list, optional\n",
    "    \n",
    "optional list of column names to consider. Columns specified in subset that do not have matching data type are ignored. For example, if value is a string, and subset contains a non-string column, then the non-string column is simply ignored."
   ]
  },
  {
   "cell_type": "code",
   "execution_count": null,
   "id": "87f060be-0573-4b59-afbf-05195b17fba4",
   "metadata": {
    "tags": []
   },
   "outputs": [],
   "source": [
    "df_replace = df.replace('Bob', 'Bob2')\n",
    "df_replace.toPandas()"
   ]
  },
  {
   "cell_type": "code",
   "execution_count": null,
   "id": "fcc86002-a628-49ed-bdd2-fc9335ad538d",
   "metadata": {
    "tags": []
   },
   "outputs": [],
   "source": [
    "df_replace = df.replace('Bob', 'Bob2', 'name')\n",
    "df_replace.toPandas()"
   ]
  },
  {
   "cell_type": "code",
   "execution_count": null,
   "id": "4daad4c1-9145-447f-95ad-21aa4b20e187",
   "metadata": {},
   "outputs": [],
   "source": []
  }
 ],
 "metadata": {
  "kernelspec": {
   "display_name": "Python 3 (ipykernel)",
   "language": "python",
   "name": "python3"
  },
  "language_info": {
   "codemirror_mode": {
    "name": "ipython",
    "version": 3
   },
   "file_extension": ".py",
   "mimetype": "text/x-python",
   "name": "python",
   "nbconvert_exporter": "python",
   "pygments_lexer": "ipython3",
   "version": "3.10.10"
  }
 },
 "nbformat": 4,
 "nbformat_minor": 5
}
