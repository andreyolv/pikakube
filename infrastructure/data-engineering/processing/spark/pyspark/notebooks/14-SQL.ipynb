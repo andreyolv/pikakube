{
 "cells": [
  {
   "attachments": {
    "fbe83d2e-8fd1-4a1f-b8ac-caceafa6a247.png": {
     "image/png": "[encoded data removed]"
    }
   },
   "cell_type": "markdown",
   "id": "c908f3a1-7ad3-437f-8d7a-c30c024d2acc",
   "metadata": {
    "tags": []
   },
   "source": [
    "## SQL\n",
    "![image.png](attachment:fbe83d2e-8fd1-4a1f-b8ac-caceafa6a247.png)"
   ]
  },
  {
   "cell_type": "code",
   "execution_count": null,
   "id": "899ba108-1e0d-4d97-b425-290168f79c62",
   "metadata": {
    "tags": []
   },
   "outputs": [],
   "source": [
    "from pyspark.sql import SparkSession\n",
    "from pyspark.sql.types import *\n",
    "from pyspark.sql import functions as F\n",
    "from pyspark.sql import Window\n",
    "\n",
    "# Create SparkSession\n",
    "spark = (SparkSession.builder\n",
    "                    .appName('PySparkSyntax')\n",
    "                    .getOrCreate()\n",
    "        )\n",
    "\n",
    "\n",
    "# Define the schema for a DataFrame\n",
    "schema = StructType([\n",
    "    StructField(\"name\", StringType(), True),\n",
    "    StructField(\"age\", IntegerType(), True),\n",
    "    StructField(\"city\", StringType(), True)\n",
    "])\n",
    "\n",
    "\n",
    "# Create a DataFrame using the schema\n",
    "data = [(\"Alice\", 25, \"New York\")\n",
    "        ,(\"Bob\", 30, \"San Francisco\")\n",
    "        ,(\"Charlie\", 35, \"Chicago\")\n",
    "        ,(\"Anderson\", 40, \"Chicago\")]\n",
    "df = spark.createDataFrame(data, schema)\n",
    "\n",
    "# Show the DataFrame\n",
    "df.show()"
   ]
  },
  {
   "cell_type": "markdown",
   "id": "574f868e-024a-4f3d-9bae-01ff6457cee5",
   "metadata": {},
   "source": [
    "## [createOrReplaceTempView](https://spark.apache.org/docs/latest/api/python/reference/pyspark.sql/api/pyspark.sql.DataFrame.createOrReplaceTempView.html)\n",
    "\n",
    "DataFrame.createOrReplaceTempView(name: str) → None\n",
    "\n",
    "Creates or replaces a local temporary view with this DataFrame.\n",
    "\n",
    "The lifetime of this temporary table is tied to the SparkSession that was used to create this DataFrame."
   ]
  },
  {
   "cell_type": "code",
   "execution_count": null,
   "id": "bb1b5d70-08f2-417f-93c6-c4f84e3d028b",
   "metadata": {
    "tags": []
   },
   "outputs": [],
   "source": [
    "# Registra o DataFrame como uma tabela temporária\n",
    "df.createOrReplaceTempView(\"table\")\n"
   ]
  },
  {
   "cell_type": "markdown",
   "id": "22e3627b-7006-47f7-b72e-7af2be7358a7",
   "metadata": {},
   "source": [
    "## [sql](https://spark.apache.org/docs/latest/api/python/reference/pyspark.sql/api/pyspark.sql.SparkSession.sql.html)\n",
    "\n",
    "SparkSession.sql(sqlQuery: str, **kwargs: Any) → pyspark.sql.dataframe.DataFrame\n",
    "\n",
    "Returns a DataFrame representing the result of the given query. When kwargs is specified, this method formats the given string by using the Python standard formatter."
   ]
  },
  {
   "cell_type": "code",
   "execution_count": null,
   "id": "a9476b69-f21d-4643-b8e1-bc7ec065ce22",
   "metadata": {
    "tags": []
   },
   "outputs": [],
   "source": [
    "# Executa a consulta SQL\n",
    "resultado = spark.sql(\"SELECT city, MAX(age) AS maior_idade FROM table GROUP BY city\")\n",
    "\n",
    "resultado.show()"
   ]
  },
  {
   "cell_type": "code",
   "execution_count": null,
   "id": "14e927b9-0ce3-4ce0-9c27-16a01fbf1cea",
   "metadata": {},
   "outputs": [],
   "source": []
  }
 ],
 "metadata": {
  "kernelspec": {
   "display_name": "Python 3 (ipykernel)",
   "language": "python",
   "name": "python3"
  },
  "language_info": {
   "codemirror_mode": {
    "name": "ipython",
    "version": 3
   },
   "file_extension": ".py",
   "mimetype": "text/x-python",
   "name": "python",
   "nbconvert_exporter": "python",
   "pygments_lexer": "ipython3",
   "version": "3.10.10"
  }
 },
 "nbformat": 4,
 "nbformat_minor": 5
}
