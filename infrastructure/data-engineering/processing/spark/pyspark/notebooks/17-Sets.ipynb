{
 "cells": [
  {
   "attachments": {
    "2f5e12ee-2082-45cf-911a-81e1c1d59bf2.png": {
     "image/png": "[encoded data removed]"
    }
   },
   "cell_type": "markdown",
   "id": "1a11764b-ff29-46fe-a151-1788c0e5be8a",
   "metadata": {
    "tags": []
   },
   "source": [
    "# Sets\n",
    "![image.png](attachment:2f5e12ee-2082-45cf-911a-81e1c1d59bf2.png)"
   ]
  },
  {
   "cell_type": "code",
   "execution_count": null,
   "id": "db7d2f40-41ee-49bd-976e-f214d156b028",
   "metadata": {
    "tags": []
   },
   "outputs": [],
   "source": [
    "from pyspark.sql import SparkSession\n",
    "from pyspark.sql.types import *\n",
    "from pyspark.sql import functions as F\n",
    "from pyspark.sql import Window\n",
    "\n",
    "# Create SparkSession\n",
    "spark = (SparkSession.builder\n",
    "                    .appName('PySparkSyntax')\n",
    "                    .getOrCreate()\n",
    "        )"
   ]
  },
  {
   "cell_type": "code",
   "execution_count": null,
   "id": "cfd9ca66-330a-4ec9-ab65-ce7f1153bdea",
   "metadata": {
    "tags": []
   },
   "outputs": [],
   "source": [
    "# Cria o primeiro DataFrame\n",
    "df1 = spark.createDataFrame([(1, \"João\"), (2, \"Maria\"), (3, \"Pedro\")], [\"id\", \"nome\"])\n",
    "\n",
    "df1 = df1.withColumn(\"origem\", F.lit(\"df1\"))\n",
    "\n",
    "df1.toPandas()"
   ]
  },
  {
   "cell_type": "code",
   "execution_count": null,
   "id": "9c1f5ff7-a3a9-4319-8f2f-52b4e52473c9",
   "metadata": {
    "tags": []
   },
   "outputs": [],
   "source": [
    "# Cria o segundo DataFrame\n",
    "df2 = spark.createDataFrame([(\"José\", 4), (\"Ana\", 5), (\"Marta\", 6)], [\"nome\", \"id\"])\n",
    "\n",
    "# Adiciona uma coluna \"origem\" para identificar de qual DataFrame os dados vieram\n",
    "df2 = df2.withColumn(\"origem\", F.lit(\"df2\"))\n",
    "\n",
    "df2.toPandas()"
   ]
  },
  {
   "cell_type": "code",
   "execution_count": null,
   "id": "7586894f-f0b0-4a91-90b9-4d1deabe5b87",
   "metadata": {
    "tags": []
   },
   "outputs": [],
   "source": [
    "# Cria o terceiro DataFrame\n",
    "df3 = spark.createDataFrame([(1, \"João\", 30), (2, \"Maria\", 27), (3, \"Pedro\", 15)], [\"id\", \"nome\", \"idade\"])\n",
    "\n",
    "df3 = df3.withColumn(\"origem\", F.lit(\"df3\"))\n",
    "\n",
    "df3.toPandas()"
   ]
  },
  {
   "cell_type": "markdown",
   "id": "0d4f08a3-72a9-4d2a-a875-a9c1e7907dda",
   "metadata": {},
   "source": [
    "# [union](https://spark.apache.org/docs/latest/api/python/reference/pyspark.sql/api/pyspark.sql.DataFrame.unionAll.html#pyspark.sql.DataFrame.unionAll)\n",
    "\n",
    "DataFrame.unionAll(other: pyspark.sql.dataframe.DataFrame) → pyspark.sql.dataframe.DataFrame\n",
    "\n",
    "Return a new DataFrame containing union of rows in this and another DataFrame.\n",
    "\n",
    "Also as standard in SQL, this function resolves columns by position (not by name)."
   ]
  },
  {
   "cell_type": "code",
   "execution_count": null,
   "id": "264f015a-dec0-46da-b666-c889378f6023",
   "metadata": {
    "tags": []
   },
   "outputs": [],
   "source": [
    "# Une os dois DataFrames\n",
    "df_union = df1.union(df2)\n",
    "\n",
    "# Exibe o resultado\n",
    "df_union.toPandas()"
   ]
  },
  {
   "cell_type": "code",
   "execution_count": null,
   "id": "4a46eb1d-5e1e-454f-99c4-86b9c071a5e1",
   "metadata": {
    "tags": []
   },
   "outputs": [],
   "source": [
    "# Une os dois DataFrames\n",
    "df_union = df1.union(df3)\n",
    "\n",
    "# Exibe o resultado\n",
    "df_union.toPandas()"
   ]
  },
  {
   "cell_type": "markdown",
   "id": "43540476-7aaf-4c94-8349-06126c27a082",
   "metadata": {},
   "source": [
    "## [unionByName](https://spark.apache.org/docs/latest/api/python/reference/pyspark.sql/api/pyspark.sql.DataFrame.unionByName.html#pyspark.sql.DataFrame.unionByName)\n",
    "\n",
    "DataFrame.unionByName(other: pyspark.sql.dataframe.DataFrame, allowMissingColumns: bool = False) → pyspark.sql.dataframe.DataFrame\n",
    "\n",
    "Returns a new DataFrame containing union of rows in this and another DataFrame."
   ]
  },
  {
   "cell_type": "code",
   "execution_count": null,
   "id": "2f5baf1e-598c-48f7-8908-74e1be7809b3",
   "metadata": {
    "tags": []
   },
   "outputs": [],
   "source": [
    "# Une os dois DataFrames\n",
    "df_unionByName = df1.unionByName(df2)\n",
    "\n",
    "# Exibe o resultado\n",
    "df_unionByName.toPandas()"
   ]
  },
  {
   "cell_type": "code",
   "execution_count": null,
   "id": "bd67c91e-7b1a-4b83-b6a0-cf7e7214e6c8",
   "metadata": {
    "tags": []
   },
   "outputs": [],
   "source": [
    "# Une os dois DataFrames\n",
    "df_unionByName = df1.unionByName(df3)\n",
    "\n",
    "# Exibe o resultado\n",
    "df_unionByName.toPandas()"
   ]
  },
  {
   "cell_type": "code",
   "execution_count": null,
   "id": "7102111a-f427-4025-aa78-69625080e29a",
   "metadata": {
    "tags": []
   },
   "outputs": [],
   "source": [
    "# Une os dois DataFrames\n",
    "df_unionByName = df1.unionByName(df3, True)\n",
    "\n",
    "# Exibe o resultado\n",
    "df_unionByName.toPandas()"
   ]
  },
  {
   "cell_type": "markdown",
   "id": "0b29414f-8389-4344-8e49-db0eb9826769",
   "metadata": {},
   "source": [
    "## [intersect](https://spark.apache.org/docs/latest/api/python/reference/pyspark.sql/api/pyspark.sql.DataFrame.intersect.html)\n",
    "\n",
    "DataFrame.intersect(other: pyspark.sql.dataframe.DataFrame) → pyspark.sql.dataframe.DataFrame\n",
    "\n",
    "Return a new DataFrame containing rows only in both this DataFrame and another DataFrame.\n",
    "\n",
    "This is equivalent to INTERSECT in SQL."
   ]
  },
  {
   "cell_type": "code",
   "execution_count": null,
   "id": "1111ffb1-0bef-45ce-940c-bbafdd8e4eb0",
   "metadata": {
    "tags": []
   },
   "outputs": [],
   "source": [
    "schema = StructType([\n",
    "    StructField(\"name\", StringType(), True),\n",
    "    StructField(\"age\", IntegerType(), True),\n",
    "    StructField(\"city\", StringType(), True)\n",
    "])\n",
    "\n",
    "\n",
    "# Create a DataFrame using the schema\n",
    "data = [(\"Alice\", 25, \"New York\")\n",
    "        , (\"Bob\", 30, \"San Francisco\")\n",
    "        , (\"Bob\", 12, \"Las Vegas\")\n",
    "        , (\"Charlie\", 35, \"Chicago\")\n",
    "        , (\"Charlie\", 35, \"Chicago\")]\n",
    "df1 = spark.createDataFrame(data, schema)\n",
    "\n",
    "df1.toPandas()"
   ]
  },
  {
   "cell_type": "code",
   "execution_count": null,
   "id": "4bf38ecd-ceb3-4cba-9c58-0ff357a9486c",
   "metadata": {
    "tags": []
   },
   "outputs": [],
   "source": [
    "# Create a DataFrame using the schema\n",
    "data = [(\"Alice\", 25, \"New York\")\n",
    "        ,(\"Alice\", 55, \"Miami\")\n",
    "        , (\"Bob\", 30, \"San Francisco\")\n",
    "        , (\"Charlie\", 35, \"Chicago\")\n",
    "        , (\"Charlie\", 35, \"Chicago\")]\n",
    "df2 = spark.createDataFrame(data, schema)\n",
    "\n",
    "df2.toPandas()"
   ]
  },
  {
   "cell_type": "code",
   "execution_count": null,
   "id": "16f921a5-b445-4094-bd81-16726c4a636d",
   "metadata": {
    "tags": []
   },
   "outputs": [],
   "source": [
    "schema = StructType([\n",
    "    StructField(\"city\", StringType(), True),\n",
    "    StructField(\"age\", IntegerType(), True),\n",
    "    StructField(\"name\", StringType(), True)\n",
    "])\n",
    "\n",
    "\n",
    "# Create a DataFrame using the schema\n",
    "data = [(\"New York\", 25, \"Alice\")\n",
    "        , (\"San Francisco\", 30, \"Bob\")\n",
    "        , (\"Las Vegas\", 12, \"Bob\")\n",
    "        , (\"Chicago\", 35, \"Charlie\")\n",
    "        , (\"Chicago\", 35, \"Charlie\")]\n",
    "df3 = spark.createDataFrame(data, schema)\n",
    "\n",
    "df3.toPandas()"
   ]
  },
  {
   "cell_type": "code",
   "execution_count": null,
   "id": "99224e4e-1543-4072-b502-6a899481fcfc",
   "metadata": {
    "tags": []
   },
   "outputs": [],
   "source": [
    "df_intersect = df1.intersect(df2)\n",
    "df_intersect.toPandas()"
   ]
  },
  {
   "cell_type": "code",
   "execution_count": null,
   "id": "b0f717d3-4114-4fec-9533-a56379e73478",
   "metadata": {
    "tags": []
   },
   "outputs": [],
   "source": [
    "df_intersect = df1.intersect(df3)\n",
    "df_intersect.toPandas()"
   ]
  },
  {
   "cell_type": "markdown",
   "id": "00a6ca09-16c0-4161-9354-0c55aaf923cd",
   "metadata": {
    "tags": []
   },
   "source": [
    "## [intersectAll](https://spark.apache.org/docs/latest/api/python/reference/pyspark.sql/api/pyspark.sql.DataFrame.intersectAll.html)\n",
    "\n",
    "DataFrame.intersectAll(other: pyspark.sql.dataframe.DataFrame) → pyspark.sql.dataframe.DataFrame\n",
    "\n",
    "Return a new DataFrame containing rows in both this DataFrame and another DataFrame while preserving duplicates.\n",
    "\n",
    "This is equivalent to INTERSECT ALL in SQL. As standard in SQL, this function resolves columns by position (not by name)."
   ]
  },
  {
   "cell_type": "code",
   "execution_count": null,
   "id": "c6fe08d5-3ad2-4363-88d9-2ec65f0706b3",
   "metadata": {
    "tags": []
   },
   "outputs": [],
   "source": [
    "df_intersectAll = df1.intersectAll(df2)\n",
    "df_intersectAll.toPandas()"
   ]
  },
  {
   "cell_type": "code",
   "execution_count": null,
   "id": "036d8105-8053-49dc-8910-b28671499938",
   "metadata": {
    "tags": []
   },
   "outputs": [],
   "source": [
    "df_intersectAll = df1.intersectAll(df3)\n",
    "df_intersectAll.toPandas()"
   ]
  },
  {
   "cell_type": "markdown",
   "id": "b7391ed1-b285-4c3b-b8d5-c07a2d0ec88c",
   "metadata": {},
   "source": [
    "## [subtract](https://spark.apache.org/docs/latest/api/python/reference/pyspark.sql/api/pyspark.sql.DataFrame.subtract.html)\n",
    "\n",
    "DataFrame.subtract(other: pyspark.sql.dataframe.DataFrame) → pyspark.sql.dataframe.DataFrame\n",
    "\n",
    "Return a new DataFrame containing rows in this DataFrame but not in another DataFrame.\n",
    "\n",
    "This is equivalent to EXCEPT DISTINCT in SQL."
   ]
  },
  {
   "cell_type": "code",
   "execution_count": null,
   "id": "04db9b05-e942-4713-aeb2-c0be0a104095",
   "metadata": {
    "tags": []
   },
   "outputs": [],
   "source": [
    "df_subtract = df1.subtract(df2)\n",
    "df_subtract.toPandas()"
   ]
  },
  {
   "cell_type": "code",
   "execution_count": null,
   "id": "cd3728eb-cdd6-4c13-99c3-b8affe4df11d",
   "metadata": {
    "tags": []
   },
   "outputs": [],
   "source": [
    "df_subtract = df1.subtract(df3)\n",
    "df_subtract.toPandas()"
   ]
  },
  {
   "cell_type": "code",
   "execution_count": null,
   "id": "0300ed36-b3f2-4039-b7e1-4e672756e2ce",
   "metadata": {},
   "outputs": [],
   "source": []
  }
 ],
 "metadata": {
  "kernelspec": {
   "display_name": "Python 3 (ipykernel)",
   "language": "python",
   "name": "python3"
  },
  "language_info": {
   "codemirror_mode": {
    "name": "ipython",
    "version": 3
   },
   "file_extension": ".py",
   "mimetype": "text/x-python",
   "name": "python",
   "nbconvert_exporter": "python",
   "pygments_lexer": "ipython3",
   "version": "3.10.10"
  }
 },
 "nbformat": 4,
 "nbformat_minor": 5
}
