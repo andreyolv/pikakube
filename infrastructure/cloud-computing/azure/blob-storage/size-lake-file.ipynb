{
 "cells": [
  {
   "cell_type": "markdown",
   "id": "3ff07c31-9352-44e0-b1a3-96e5dd81412e",
   "metadata": {},
   "source": [
    "# Functions"
   ]
  },
  {
   "cell_type": "code",
   "execution_count": null,
   "id": "0b92dbe9-91f4-438b-9e4f-f11852aab34b",
   "metadata": {
    "tags": []
   },
   "outputs": [],
   "source": [
    "def get_datalake_client(storage_account_name, tenant_id, client_id, client_secret):\n",
    "    # Use ClientSecretCredential to authenticate with SPN\n",
    "    credential = ClientSecretCredential(\n",
    "                    tenant_id=tenant_id,\n",
    "                    client_id=client_id,\n",
    "                    client_secret=client_secret\n",
    "                )\n",
    "\n",
    "    # Create a DataLakeServiceClient\n",
    "    service_client = DataLakeServiceClient(\n",
    "                        account_url=f\"https://{storage_account_name}.dfs.core.windows.net\",\n",
    "                        credential=credential\n",
    "                    )\n",
    "    \n",
    "    return service_client"
   ]
  },
  {
   "cell_type": "code",
   "execution_count": null,
   "id": "45c87e52-4623-4500-a54e-91909591cb44",
   "metadata": {},
   "outputs": [],
   "source": [
    "def get_file_size(container_name, file_path):\n",
    "    # Get a DataLakeFileClient for the specified file\n",
    "    file_system_client = service_client.get_file_system_client(container_name)\n",
    "    file_client = file_system_client.get_file_client(file_path)\n",
    "\n",
    "    # Get file properties and retrieve file size\n",
    "    file_properties = file_client.get_file_properties()\n",
    "    \n",
    "    return file_properties.size"
   ]
  },
  {
   "cell_type": "code",
   "execution_count": null,
   "id": "1844ae7e-1efd-42d3-ab80-697305d5d09d",
   "metadata": {
    "tags": []
   },
   "outputs": [],
   "source": [
    "def generate_relative_directory_list_level(root_path, directory_path, level):\n",
    "    # Verifique se o root_path está presente no início do directory_path\n",
    "    if not directory_path.startswith(root_path):\n",
    "        return \"Erro: O root_path não está presente no início do directory_path.\"\n",
    "    \n",
    "    # Remova o root_path do início do directory_path\n",
    "    relative_path = directory_path.split(root_path, 1)[1].lstrip('/')\n",
    "    \n",
    "    # Use split para dividir o caminho do diretório em partes\n",
    "    list_path = relative_path.split('/')\n",
    "    \n",
    "    # Retorne o resultado com base no nível especificado\n",
    "    list_level = '/'.join(list_path[:level])\n",
    "    \n",
    "    return list_level\n",
    "\n",
    "def generate_absolute_directory_list_level(root_path, directory_path, level):\n",
    "    # Verifique se o root_path está presente no início do directory_path\n",
    "    if not directory_path.startswith(root_path):\n",
    "        return \"Erro: O root_path não está presente no início do directory_path.\"\n",
    "       \n",
    "    # Use split para dividir o caminho do diretório em partes\n",
    "    list_path = directory_path.split('/')\n",
    "    \n",
    "    # Retorne o resultado com base no nível especificado\n",
    "    list_level = '/'.join(list_path[:len(root_path.split('/'))-1+level])\n",
    "    \n",
    "    return list_level"
   ]
  },
  {
   "cell_type": "code",
   "execution_count": null,
   "id": "882076b1-bf61-4d76-ace6-bebd59063f27",
   "metadata": {
    "tags": []
   },
   "outputs": [],
   "source": [
    "def get_directory_size(container_name, directory_path):\n",
    "    file_system_client = service_client.get_file_system_client(container_name)\n",
    "    paths = file_system_client.get_paths(directory_path)\n",
    "    \n",
    "    total_size = 0\n",
    "    \n",
    "    for path in paths:\n",
    "        file_size = get_file_size(container_name, path)\n",
    "        \n",
    "        total_size += file_size\n",
    "    \n",
    "    return total_size"
   ]
  },
  {
   "cell_type": "code",
   "execution_count": null,
   "id": "4a4747d5-4886-4d54-876e-bbd154f08dc2",
   "metadata": {
    "tags": []
   },
   "outputs": [],
   "source": [
    "def list_subdirectories(container_name, root_path, level_path):\n",
    "    file_system_client = service_client.get_file_system_client(container_name)\n",
    "    paths = file_system_client.get_paths(root_path)\n",
    "\n",
    "    subdirectories = [item.name for item in paths if item.is_directory]\n",
    "\n",
    "    filtered_list = set(generate_absolute_directory_list_level(root_path, subdirectory, level_path) for subdirectory in subdirectories)\n",
    "\n",
    "    return sorted(list(filtered_list))"
   ]
  },
  {
   "cell_type": "code",
   "execution_count": null,
   "id": "6022180f-79bf-43d6-98cd-119f7dca7fad",
   "metadata": {
    "tags": []
   },
   "outputs": [],
   "source": [
    "def get_subdirectories_size(container_name, root_path, level_path):\n",
    "    list_sub = list_subdirectories(container_name, root_path, level_path)\n",
    "    \n",
    "    # Inicialize listas para armazenar os resultados\n",
    "    subdirectory_dict = {}\n",
    "\n",
    "    for subdirectory in list_sub:\n",
    "        subdirectory_name = generate_relative_directory_list_level(root_path, subdirectory, level_path)\n",
    "        subdirectory_size = get_directory_size(container_name, subdirectory)\n",
    "                \n",
    "        subdirectory_dict[subdirectory_name] = subdirectory_size\n",
    "        \n",
    "    df = pd.DataFrame(list(subdirectory_dict.items()), columns=['Subdirectory', 'Size'])\n",
    "\n",
    "    return df"
   ]
  },
  {
   "cell_type": "markdown",
   "id": "2a6c9a91-bf7f-482d-8702-7cb42cffeec4",
   "metadata": {},
   "source": [
    "# Import and Variables"
   ]
  },
  {
   "cell_type": "code",
   "execution_count": null,
   "id": "d8a166ca-d156-442a-806a-4ef37f5efcc4",
   "metadata": {
    "tags": []
   },
   "outputs": [],
   "source": [
    "from azure.identity import ClientSecretCredential\n",
    "from azure.storage.filedatalake import DataLakeServiceClient\n",
    "from azure.storage.filedatalake import FileSystemClient \n",
    "import pandas as pd\n",
    "\n",
    "STORAGE_ACCOUNT_NAME = 'xxxxxx'\n",
    "CONTAINER_NAME = 'xxxxxxxxxx'\n",
    "\n",
    "# SPN CREDENTIALS\n",
    "TENANT_ID = ''\n",
    "CLIENT_ID = ''\n",
    "CLIENT_SECRET = ''"
   ]
  },
  {
   "cell_type": "markdown",
   "id": "664b240a-3c74-4c89-a245-8496ad84835f",
   "metadata": {},
   "source": [
    "# Size for specific file"
   ]
  },
  {
   "cell_type": "code",
   "execution_count": null,
   "id": "0050855d-c8d8-4687-8f90-e5e59f9673fc",
   "metadata": {
    "tags": []
   },
   "outputs": [
    {
     "data": {
      "text/plain": [
       "31"
      ]
     },
     "execution_count": 65,
     "metadata": {},
     "output_type": "execute_result"
    }
   ],
   "source": [
    "FILE_PATH = 'trino/teste.csv'\n",
    "\n",
    "get_datalake_client(STORAGE_ACCOUNT_NAME, TENANT_ID, CLIENT_ID, CLIENT_SECRET)\n",
    "\n",
    "get_file_size(CONTAINER_NAME, FILE_PATH)"
   ]
  },
  {
   "cell_type": "markdown",
   "id": "824bcaf8-42b7-4bb4-bb79-a297ae3ecf8e",
   "metadata": {
    "tags": []
   },
   "source": [
    "# Size for directory"
   ]
  },
  {
   "cell_type": "code",
   "execution_count": null,
   "id": "22f48336-2b80-4d2c-8a36-d284e3ec9ac3",
   "metadata": {
    "tags": []
   },
   "outputs": [
    {
     "data": {
      "text/plain": [
       "29298"
      ]
     },
     "execution_count": 66,
     "metadata": {},
     "output_type": "execute_result"
    }
   ],
   "source": [
    "DIRECTORY_PATH = 'gac-producao2/baseParameter/'\n",
    "\n",
    "get_datalake_client(STORAGE_ACCOUNT_NAME, TENANT_ID, CLIENT_ID, CLIENT_SECRET)\n",
    "\n",
    "get_directory_size(CONTAINER_NAME, DIRECTORY_PATH)"
   ]
  },
  {
   "cell_type": "markdown",
   "id": "3fd96c4a-3f60-4b7a-9ad4-4bcfd5674376",
   "metadata": {},
   "source": [
    "# List all subdirectories"
   ]
  },
  {
   "cell_type": "code",
   "execution_count": 1,
   "id": "4f0e8bbd-d787-4229-9ffb-205194b1748e",
   "metadata": {
    "tags": []
   },
   "outputs": [
    {
     "ename": "NameError",
     "evalue": "name 'get_datalake_client' is not defined",
     "output_type": "error",
     "traceback": [
      "\u001b[31m---------------------------------------------------------------------------\u001b[39m",
      "\u001b[31mNameError\u001b[39m                                 Traceback (most recent call last)",
      "\u001b[36mCell\u001b[39m\u001b[36m \u001b[39m\u001b[32mIn[1]\u001b[39m\u001b[32m, line 4\u001b[39m\n\u001b[32m      1\u001b[39m ROOT_PATH = \u001b[33m'\u001b[39m\u001b[33mgac-dev-staging/\u001b[39m\u001b[33m'\u001b[39m\n\u001b[32m      2\u001b[39m LEVEL_PATH = \u001b[32m1\u001b[39m\n\u001b[32m----> \u001b[39m\u001b[32m4\u001b[39m \u001b[43mget_datalake_client\u001b[49m(STORAGE_ACCOUNT_NAME, TENANT_ID, CLIENT_ID, CLIENT_SECRET)\n\u001b[32m      6\u001b[39m list_subdirectories(CONTAINER_NAME, ROOT_PATH, LEVEL_PATH)\n",
      "\u001b[31mNameError\u001b[39m: name 'get_datalake_client' is not defined"
     ]
    }
   ],
   "source": [
    "ROOT_PATH = 'gac-dev-staging/'\n",
    "LEVEL_PATH = 1\n",
    "\n",
    "get_datalake_client(STORAGE_ACCOUNT_NAME, TENANT_ID, CLIENT_ID, CLIENT_SECRET)\n",
    "\n",
    "list_subdirectories(CONTAINER_NAME, ROOT_PATH, LEVEL_PATH)"
   ]
  },
  {
   "cell_type": "markdown",
   "id": "4897d773-159b-4f65-8a11-45ad780f5091",
   "metadata": {},
   "source": [
    "# Size for subdirectories"
   ]
  },
  {
   "cell_type": "code",
   "execution_count": 2,
   "id": "59481f24-7f64-4538-9566-3a57a55e0276",
   "metadata": {
    "tags": []
   },
   "outputs": [
    {
     "ename": "NameError",
     "evalue": "name 'get_datalake_client' is not defined",
     "output_type": "error",
     "traceback": [
      "\u001b[31m---------------------------------------------------------------------------\u001b[39m",
      "\u001b[31mNameError\u001b[39m                                 Traceback (most recent call last)",
      "\u001b[36mCell\u001b[39m\u001b[36m \u001b[39m\u001b[32mIn[2]\u001b[39m\u001b[32m, line 4\u001b[39m\n\u001b[32m      1\u001b[39m ROOT_PATH = \u001b[33m'\u001b[39m\u001b[33mgac-dev-staging/\u001b[39m\u001b[33m'\u001b[39m\n\u001b[32m      2\u001b[39m LEVEL_PATH = \u001b[32m1\u001b[39m\n\u001b[32m----> \u001b[39m\u001b[32m4\u001b[39m \u001b[43mget_datalake_client\u001b[49m(STORAGE_ACCOUNT_NAME, TENANT_ID, CLIENT_ID, CLIENT_SECRET)\n\u001b[32m      6\u001b[39m get_subdirectories_size(CONTAINER_NAME, ROOT_PATH, LEVEL_PATH)\n",
      "\u001b[31mNameError\u001b[39m: name 'get_datalake_client' is not defined"
     ]
    }
   ],
   "source": [
    "ROOT_PATH = 'gac-dev-staging/'\n",
    "LEVEL_PATH = 1\n",
    "\n",
    "get_datalake_client(STORAGE_ACCOUNT_NAME, TENANT_ID, CLIENT_ID, CLIENT_SECRET)\n",
    "\n",
    "get_subdirectories_size(CONTAINER_NAME, ROOT_PATH, LEVEL_PATH)"
   ]
  },
  {
   "cell_type": "code",
   "execution_count": null,
   "id": "50ed7112-2e4a-4b82-b0f4-616d95fac321",
   "metadata": {},
   "outputs": [],
   "source": []
  }
 ],
 "metadata": {
  "kernelspec": {
   "display_name": "Python 3",
   "language": "python",
   "name": "python3"
  },
  "language_info": {
   "codemirror_mode": {
    "name": "ipython",
    "version": 3
   },
   "file_extension": ".py",
   "mimetype": "text/x-python",
   "name": "python",
   "nbconvert_exporter": "python",
   "pygments_lexer": "ipython3",
   "version": "3.12.3"
  }
 },
 "nbformat": 4,
 "nbformat_minor": 5
}
