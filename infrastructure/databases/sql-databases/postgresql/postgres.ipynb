{
 "cells": [
  {
   "cell_type": "code",
   "execution_count": 1,
   "id": "91773b1c-a985-4dae-a569-a8abf01c91f3",
   "metadata": {
    "tags": []
   },
   "outputs": [
    {
     "name": "stdout",
     "output_type": "stream",
     "text": [
      "Connection to PostgreSQL successful\n"
     ]
    }
   ],
   "source": [
    "import psycopg2\n",
    "\n",
    "HOST = 'xxxxxxx'\n",
    "PORT = 5432\n",
    "DATABASE = 'postgres'\n",
    "USER = 'xxxxxxx'\n",
    "PASSWORD = 'xxxxxxxx'\n",
    "\n",
    "try:\n",
    "    connection = psycopg2.connect(\n",
    "        host=HOST,\n",
    "        port=PORT,\n",
    "        dbname=DATABASE,\n",
    "        user=USER,\n",
    "        password=PASSWORD\n",
    "    )\n",
    "    print(\"Connection to PostgreSQL successful\")\n",
    "    \n",
    "except psycopg2.Error as e:\n",
    "    print(f\"Unable to connect to the database. Error: {e}\")\n"
   ]
  },
  {
   "cell_type": "code",
   "execution_count": 2,
   "id": "112c1198-d622-45fb-b799-93134090e2df",
   "metadata": {
    "tags": []
   },
   "outputs": [
    {
     "name": "stdout",
     "output_type": "stream",
     "text": [
      "Databases disponíveis:\n",
      "postgres\n",
      "template1\n",
      "template0\n",
      "azure_maintenance\n",
      "azure_sys\n",
      "politica_comercial\n",
      "plot\n",
      "datahub\n",
      "digital_twin\n",
      "prog\n"
     ]
    }
   ],
   "source": [
    "try:\n",
    "    cursor = connection.cursor()\n",
    "\n",
    "    cursor.execute(\"SELECT datname FROM pg_database;\")\n",
    "    \n",
    "    databases = cursor.fetchall()\n",
    "\n",
    "    print(\"Databases disponíveis:\")\n",
    "    for db in databases:\n",
    "        print(db[0])\n",
    "\n",
    "except psycopg2.Error as e:\n",
    "    print(f\"Erro: {e}\")\n",
    "\n",
    "finally:\n",
    "    cursor.close()\n",
    "    connection.close()"
   ]
  },
  {
   "cell_type": "code",
   "execution_count": null,
   "id": "df9d2198-8cd6-4873-97d3-fa263acaeab3",
   "metadata": {},
   "outputs": [],
   "source": []
  }
 ],
 "metadata": {
  "kernelspec": {
   "display_name": "Python 3 (ipykernel)",
   "language": "python",
   "name": "python3"
  },
  "language_info": {
   "codemirror_mode": {
    "name": "ipython",
    "version": 3
   },
   "file_extension": ".py",
   "mimetype": "text/x-python",
   "name": "python",
   "nbconvert_exporter": "python",
   "pygments_lexer": "ipython3",
   "version": "3.10.0"
  }
 },
 "nbformat": 4,
 "nbformat_minor": 5
}
