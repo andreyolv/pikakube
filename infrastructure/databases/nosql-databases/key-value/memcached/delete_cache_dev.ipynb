{
 "cells": [
  {
   "cell_type": "code",
   "execution_count": 1,
   "metadata": {},
   "outputs": [],
   "source": [
    "def get_memcache_client(memcache_host=\"memcache\", memcache_port=11211):\n",
    "    from pymemcache import serde\n",
    "    from pymemcache.client import Client as MemcacheClient\n",
    "\n",
    "    memcache_host = \"memcache\"\n",
    "    memcache_port = 11211\n",
    "\n",
    "    client = MemcacheClient(\n",
    "        (memcache_host, memcache_port),\n",
    "        serializer=serde.python_memcache_serializer,\n",
    "        deserializer=serde.python_memcache_deserializer,\n",
    "    )\n",
    "    return client\n",
    "\n",
    "\n",
    "def list_memcache_keys(client=None):\n",
    "    from six import ensure_str\n",
    "\n",
    "    # List all keys in memcache\n",
    "    if not client:\n",
    "        client = get_memcache_client()\n",
    "    keys = {}\n",
    "    for key, val in client.stats(\"items\").items():\n",
    "        _, slab, field = ensure_str(key).split(\":\")\n",
    "        if field != \"number\" or val == 0:\n",
    "            continue\n",
    "        item_request = client.stats(\"cachedump\", slab, str(val + 10))\n",
    "        for record, details in item_request.items():\n",
    "            keys[ensure_str(record)] = ensure_str(details)\n",
    "    return keys\n",
    "\n",
    "\n",
    "def delete_memcache_key(key_prefix: str, client=None):\n",
    "    \"\"\"Delete all keys in memcache that start with the prefix\n",
    "\n",
    "    If running in Jupyter, the prefix is your username.\n",
    "    If running in Airflow, the prefix is the DAG ID.\n",
    "    \"\"\"\n",
    "    from pymemcache import serde\n",
    "    from pymemcache.client import Client as MemcacheClient\n",
    "\n",
    "    if not client:\n",
    "        client = get_memcache_client()\n",
    "\n",
    "    keys = list_memcache_keys(client)\n",
    "\n",
    "    print(f\"Found {len(keys)} keys in memcache\")\n",
    "    print(f\"Deleting keys that start with: {key_prefix}\")\n",
    "\n",
    "    # Delete all keys that start with the prefix\n",
    "    for key in keys:\n",
    "        if key.startswith(key_prefix):\n",
    "            client.delete(key)\n",
    "            print(f\"Deleted key: {key}\")\n",
    "    pass"
   ]
  },
  {
   "cell_type": "code",
   "execution_count": 2,
   "metadata": {},
   "outputs": [
    {
     "name": "stdout",
     "output_type": "stream",
     "text": [
      "Found 0 keys in memcache\n",
      "{}\n"
     ]
    }
   ],
   "source": [
    "# First see which keys are in memcache\n",
    "client = get_memcache_client()\n",
    "keys = list_memcache_keys(client)\n",
    "print(f\"Found {len(keys)} keys in memcache\")\n",
    "print(keys)"
   ]
  },
  {
   "cell_type": "code",
   "execution_count": null,
   "metadata": {},
   "outputs": [
    {
     "ename": "",
     "evalue": "",
     "output_type": "error",
     "traceback": [
      "\u001b[1;31mRunning cells with 'Python 3.12.3' requires the ipykernel package.\n",
      "\u001b[1;31m<a href='command:jupyter.createPythonEnvAndSelectController'>Create a Python Environment</a> with the required packages.\n",
      "\u001b[1;31mOr install 'ipykernel' using the command: '/bin/python3 -m pip install ipykernel -U --user --force-reinstall'"
     ]
    }
   ],
   "source": [
    "# Now delete all keys that start with the prefix\n",
    "prefix = \"xxxxxxxx\"\n",
    "delete_memcache_key(prefix, client)"
   ]
  }
 ],
 "metadata": {
  "kernelspec": {
   "display_name": "Python 3",
   "language": "python",
   "name": "python3"
  },
  "language_info": {
   "codemirror_mode": {
    "name": "ipython",
    "version": 3
   },
   "file_extension": ".py",
   "mimetype": "text/x-python",
   "name": "python",
   "nbconvert_exporter": "python",
   "pygments_lexer": "ipython3",
   "version": "3.12.3"
  },
  "orig_nbformat": 4
 },
 "nbformat": 4,
 "nbformat_minor": 2
}
