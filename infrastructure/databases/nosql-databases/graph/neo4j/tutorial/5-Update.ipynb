{
 "cells": [
  {
   "attachments": {},
   "cell_type": "markdown",
   "metadata": {},
   "source": [
    "## Create uniqueness constraint for a single property"
   ]
  },
  {
   "cell_type": "code",
   "execution_count": null,
   "metadata": {},
   "outputs": [],
   "source": [
    "CREATE CONSTRAINT <constraint_name> IF NOT EXISTS\n",
    "FOR (x:<node_label>)\n",
    "REQUIRE x.<property_key> IS UNIQUE"
   ]
  },
  {
   "cell_type": "code",
   "execution_count": null,
   "metadata": {},
   "outputs": [],
   "source": [
    "CREATE CONSTRAINT Movie_movieId_unique IF NOT EXISTS\n",
    "FOR (x:Movie)\n",
    "REQUIRE x.movieId IS UNIQUE"
   ]
  },
  {
   "attachments": {},
   "cell_type": "markdown",
   "metadata": {},
   "source": [
    "## Create uniqueness constraint for multiple properties"
   ]
  },
  {
   "attachments": {},
   "cell_type": "markdown",
   "metadata": {},
   "source": [
    "CREATE CONSTRAINT <constraint_name> IF NOT EXISTS\n",
    "FOR (x:<node_label>)\n",
    "REQUIRE (x.<property_key1>, x.<property_key2>)  IS UNIQUE"
   ]
  },
  {
   "cell_type": "code",
   "execution_count": null,
   "metadata": {},
   "outputs": [],
   "source": [
    "CREATE CONSTRAINT Movie_released_title_unique IF NOT EXISTS\n",
    "FOR (x:Movie)\n",
    "REQUIRE (x.released,x.title) IS UNIQUE"
   ]
  },
  {
   "attachments": {},
   "cell_type": "markdown",
   "metadata": {},
   "source": [
    "## Listing constraints"
   ]
  },
  {
   "attachments": {},
   "cell_type": "markdown",
   "metadata": {},
   "source": [
    "SHOW CONSTRAINTS"
   ]
  },
  {
   "attachments": {},
   "cell_type": "markdown",
   "metadata": {},
   "source": [
    "## Testing"
   ]
  },
  {
   "cell_type": "code",
   "execution_count": null,
   "metadata": {},
   "outputs": [],
   "source": [
    "MERGE (m:Movie {movieId: '1'})"
   ]
  },
  {
   "cell_type": "code",
   "execution_count": null,
   "metadata": {},
   "outputs": [],
   "source": [
    "CREATE CONSTRAINT Movie_year_unique IF NOT EXISTS\n",
    "FOR (x:Movie)\n",
    "REQUIRE x.year IS UNIQUE"
   ]
  }
 ],
 "metadata": {
  "language_info": {
   "name": "python"
  },
  "orig_nbformat": 4
 },
 "nbformat": 4,
 "nbformat_minor": 2
}
