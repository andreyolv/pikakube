{
 "cells": [
  {
   "cell_type": "code",
   "execution_count": null,
   "metadata": {},
   "outputs": [],
   "source": [
    "!pip install neo4j"
   ]
  },
  {
   "cell_type": "code",
   "execution_count": null,
   "metadata": {},
   "outputs": [],
   "source": [
    "from neo4j import GraphDatabase\n",
    "\n",
    "# Create a new Driver instance\n",
    "driver = GraphDatabase.driver(\"neo4j://localhost:7687\",auth=(\"neo4j\", \"neo\"))"
   ]
  },
  {
   "cell_type": "code",
   "execution_count": null,
   "metadata": {},
   "outputs": [],
   "source": [
    "# Verify the connection details\n",
    "driver.verify_connectivity()"
   ]
  },
  {
   "attachments": {},
   "cell_type": "markdown",
   "metadata": {},
   "source": [
    "# Sessions"
   ]
  },
  {
   "cell_type": "code",
   "execution_count": null,
   "metadata": {},
   "outputs": [],
   "source": [
    "with driver.session(database=\"people\") as session:\n",
    "\n",
    "session.run(\n",
    "    \"MATCH (p:Person {name: $name}) RETURN p\", # Query\n",
    "    name=\"Tom Hanks\" # Named parameters referenced\n",
    ")         "
   ]
  },
  {
   "attachments": {},
   "cell_type": "markdown",
   "metadata": {},
   "source": [
    "# Transactions"
   ]
  },
  {
   "attachments": {},
   "cell_type": "markdown",
   "metadata": {},
   "source": [
    "## execute_read"
   ]
  },
  {
   "cell_type": "code",
   "execution_count": null,
   "metadata": {},
   "outputs": [],
   "source": [
    "def get_movies(tx, title):\n",
    "    return tx.run(\"\"\"\n",
    "        MATCH (p:Person)-[:ACTED_IN]->(m:Movie)\n",
    "        WHERE m.title = $title // (1)\n",
    "        RETURN p.name AS name\n",
    "        LIMIT 10\n",
    "    \"\"\", title=title)\n",
    "\n",
    "# Execute get_movies within a Read Transaction\n",
    "session.execute_read(get_movies,\n",
    "    title=\"Arthur\" # (2)\n",
    ")"
   ]
  },
  {
   "attachments": {},
   "cell_type": "markdown",
   "metadata": {},
   "source": [
    "## execute_write"
   ]
  },
  {
   "attachments": {},
   "cell_type": "markdown",
   "metadata": {},
   "source": [
    "def create_person(tx, name):\n",
    "    return tx.run(\n",
    "        \"CREATE (p:Person {name: $name})\",\n",
    "        name=name\n",
    "    )\n",
    "\n",
    "\n",
    "# Execute the `create_person` \"unit of work\" within a write transaction\n",
    "session.execute_write(create_person, name=\"Michael\")"
   ]
  },
  {
   "attachments": {},
   "cell_type": "markdown",
   "metadata": {},
   "source": [
    "# Manually Creating Transactions"
   ]
  },
  {
   "cell_type": "code",
   "execution_count": null,
   "metadata": {},
   "outputs": [],
   "source": [
    "with session.begin_transaction() as tx:\n",
    "\n",
    "try:\n",
    "    # Run a query\n",
    "    tx.run(query, **params)\n",
    "\n",
    "    # Commit the transaction\n",
    "    tx.commit()\n",
    "except:\n",
    "    # If something goes wrong in the try block,\n",
    "    # then rollback the transaction\n",
    "    tx.rollback()"
   ]
  },
  {
   "attachments": {},
   "cell_type": "markdown",
   "metadata": {},
   "source": [
    "# Closing the Session"
   ]
  },
  {
   "cell_type": "code",
   "execution_count": null,
   "metadata": {},
   "outputs": [],
   "source": [
    "session.close()"
   ]
  }
 ],
 "metadata": {
  "language_info": {
   "name": "python"
  },
  "orig_nbformat": 4
 },
 "nbformat": 4,
 "nbformat_minor": 2
}
