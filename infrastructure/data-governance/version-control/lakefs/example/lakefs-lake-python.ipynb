{
 "cells": [
  {
   "cell_type": "code",
   "execution_count": 1,
   "id": "547da7a3-5f67-4814-b87b-62f3c51ba331",
   "metadata": {},
   "outputs": [
    {
     "name": "stdout",
     "output_type": "stream",
     "text": [
      "Collecting lakefs_client\n",
      "  Downloading lakefs_client-1.7.0-py3-none-any.whl (328 kB)\n",
      "\u001b[2K     \u001b[90m━━━━━━━━━━━━━━━━━━━━━━━━━━━━━━━━━━━━━━━\u001b[0m \u001b[32m328.6/328.6 kB\u001b[0m \u001b[31m6.0 MB/s\u001b[0m eta \u001b[36m0:00:00\u001b[0ma \u001b[36m0:00:01\u001b[0m\n",
      "\u001b[?25hRequirement already satisfied: python-dateutil in /opt/conda/lib/python3.10/site-packages (from lakefs_client) (2.8.2)\n",
      "Requirement already satisfied: urllib3>=1.25.3 in /opt/conda/lib/python3.10/site-packages (from lakefs_client) (1.26.11)\n",
      "Requirement already satisfied: six>=1.5 in /opt/conda/lib/python3.10/site-packages (from python-dateutil->lakefs_client) (1.16.0)\n",
      "Installing collected packages: lakefs_client\n",
      "Successfully installed lakefs_client-1.7.0\n"
     ]
    }
   ],
   "source": [
    "!pip install lakefs_client"
   ]
  },
  {
   "cell_type": "code",
   "execution_count": 47,
   "id": "3ddb50b8-9043-43e3-8e36-a2128e1161f4",
   "metadata": {},
   "outputs": [
    {
     "name": "stdout",
     "output_type": "stream",
     "text": [
      "Collecting deltalake\n",
      "  Downloading deltalake-0.15.1-cp38-abi3-manylinux_2_17_x86_64.manylinux2014_x86_64.whl (23.7 MB)\n",
      "\u001b[2K     \u001b[90m━━━━━━━━━━━━━━━━━━━━━━━━━━━━━━━━━━━━━━━━\u001b[0m \u001b[32m23.7/23.7 MB\u001b[0m \u001b[31m9.6 MB/s\u001b[0m eta \u001b[36m0:00:00\u001b[0m:00:01\u001b[0m00:01\u001b[0m\n",
      "\u001b[?25hRequirement already satisfied: pyarrow>=8 in /opt/conda/lib/python3.10/site-packages (from deltalake) (9.0.0)\n",
      "Collecting pyarrow-hotfix\n",
      "  Downloading pyarrow_hotfix-0.6-py3-none-any.whl (7.9 kB)\n",
      "Requirement already satisfied: numpy>=1.16.6 in /opt/conda/lib/python3.10/site-packages (from pyarrow>=8->deltalake) (1.23.4)\n",
      "Installing collected packages: pyarrow-hotfix, deltalake\n",
      "Successfully installed deltalake-0.15.1 pyarrow-hotfix-0.6\n"
     ]
    }
   ],
   "source": [
    "! pip install deltalake"
   ]
  },
  {
   "cell_type": "code",
   "execution_count": null,
   "id": "cb1f7671-de99-4d70-a37b-5e1e25b42e50",
   "metadata": {},
   "outputs": [],
   "source": [
    "lakefsEndPoint = 'http://lakefs.lakefs.svc.cluster.local:80'\n",
    "lakefsAccessKey = 'xxxxxxxxxxxx'\n",
    "lakefsSecretKey = 'xxxxxxxxxxxxxxxx'"
   ]
  },
  {
   "cell_type": "code",
   "execution_count": 50,
   "id": "c9f8d5a6-e72c-4219-8487-8baef8a98948",
   "metadata": {},
   "outputs": [],
   "source": [
    "storageNamespace = 's3://mlflow'\n",
    "repo_name = \"delta-lake-demo3\""
   ]
  },
  {
   "cell_type": "markdown",
   "id": "7d35d550-fe52-4de3-9e51-3b52a948507a",
   "metadata": {},
   "source": [
    "## Create lakeFSClient"
   ]
  },
  {
   "cell_type": "code",
   "execution_count": 51,
   "id": "ff0d9ffd-f8a8-4a50-a16b-063f30a8ada4",
   "metadata": {},
   "outputs": [],
   "source": [
    "import lakefs_client\n",
    "from lakefs_client.models import *\n",
    "from lakefs_client.client import LakeFSClient\n",
    "\n",
    "# lakeFS credentials and endpoint\n",
    "configuration = lakefs_client.Configuration()\n",
    "configuration.username = lakefsAccessKey\n",
    "configuration.password = lakefsSecretKey\n",
    "configuration.host = lakefsEndPoint\n",
    "\n",
    "lakefs = LakeFSClient(configuration)"
   ]
  },
  {
   "cell_type": "markdown",
   "id": "ec090503-a0d8-4201-a72f-d079f6023ce2",
   "metadata": {},
   "source": [
    "## Create lakeFS Repository"
   ]
  },
  {
   "cell_type": "code",
   "execution_count": 52,
   "id": "7ff31ee9-924f-4777-ac2f-559e3a04ebea",
   "metadata": {},
   "outputs": [
    {
     "name": "stdout",
     "output_type": "stream",
     "text": [
      "Created new repo delta-lake-demo3 using storage namespace s3://mlflow/delta-lake-demo3\n"
     ]
    }
   ],
   "source": [
    "repo= (lakefs.repositories\n",
    "             .create_repository(\n",
    "                  repository_creation=RepositoryCreation(\n",
    "                      name=repo_name,\n",
    "                      storage_namespace=f\"{storageNamespace}/{repo_name}\"\n",
    "                  )\n",
    "             )\n",
    "      )\n",
    "        \n",
    "print(f\"Created new repo {repo.id} using storage namespace {repo.storage_namespace}\")"
   ]
  },
  {
   "cell_type": "markdown",
   "id": "cad0ba79-e40c-4bbd-b6e4-fc38244d645d",
   "metadata": {},
   "source": [
    "## Verify lakeFS Repository"
   ]
  },
  {
   "cell_type": "code",
   "execution_count": 53,
   "id": "99bf546a-5d0c-46e4-a8db-bfd182b9eb82",
   "metadata": {},
   "outputs": [
    {
     "name": "stdout",
     "output_type": "stream",
     "text": [
      "Found existing repo delta-lake-demo3 using storage namespace s3://mlflow/delta-lake-demo3\n"
     ]
    }
   ],
   "source": [
    "repo=lakefs.repositories.get_repository(repo_name)\n",
    "print(f\"Found existing repo {repo.id} using storage namespace {repo.storage_namespace}\")"
   ]
  },
  {
   "cell_type": "markdown",
   "id": "08c2628c-f43e-4bf8-8284-67d735e9b9e8",
   "metadata": {},
   "source": [
    "# Lake Python"
   ]
  },
  {
   "cell_type": "markdown",
   "id": "b84306dc-b49e-4002-989b-933711aa9c41",
   "metadata": {},
   "source": [
    "## Load some test data"
   ]
  },
  {
   "cell_type": "code",
   "execution_count": 54,
   "id": "f7694a00-eccb-4e4f-a011-56f28972cc68",
   "metadata": {},
   "outputs": [],
   "source": [
    "import pandas as pd\n",
    "import deltalake\n",
    "\n",
    "storage_options = {\"AWS_ACCESS_KEY_ID\": lakefsAccessKey, \n",
    "                   \"AWS_SECRET_ACCESS_KEY\":lakefsSecretKey,\n",
    "                   \"AWS_ENDPOINT\": lakefsEndPoint,\n",
    "                   \"AWS_REGION\": \"us-east-1\",\n",
    "                   \"AWS_ALLOW_HTTP\": \"true\",\n",
    "                   \"AWS_S3_ALLOW_UNSAFE_RENAME\": \"true\"\n",
    "                  }"
   ]
  },
  {
   "cell_type": "code",
   "execution_count": 55,
   "id": "aa82c879-4ad2-4a31-bebb-c123c1d37c4d",
   "metadata": {},
   "outputs": [],
   "source": [
    "df = pd.read_parquet('/home/jovyan/userdata1.parquet')"
   ]
  },
  {
   "cell_type": "code",
   "execution_count": 56,
   "id": "4f7215ba-67ee-4963-a2bb-a4bb48403de2",
   "metadata": {},
   "outputs": [
    {
     "data": {
      "text/html": [
       "<div>\n",
       "<style scoped>\n",
       "    .dataframe tbody tr th:only-of-type {\n",
       "        vertical-align: middle;\n",
       "    }\n",
       "\n",
       "    .dataframe tbody tr th {\n",
       "        vertical-align: top;\n",
       "    }\n",
       "\n",
       "    .dataframe thead th {\n",
       "        text-align: right;\n",
       "    }\n",
       "</style>\n",
       "<table border=\"1\" class=\"dataframe\">\n",
       "  <thead>\n",
       "    <tr style=\"text-align: right;\">\n",
       "      <th></th>\n",
       "      <th>registration_dttm</th>\n",
       "      <th>id</th>\n",
       "      <th>first_name</th>\n",
       "      <th>last_name</th>\n",
       "      <th>email</th>\n",
       "      <th>gender</th>\n",
       "      <th>ip_address</th>\n",
       "      <th>cc</th>\n",
       "      <th>country</th>\n",
       "      <th>birthdate</th>\n",
       "      <th>salary</th>\n",
       "      <th>title</th>\n",
       "      <th>comments</th>\n",
       "    </tr>\n",
       "  </thead>\n",
       "  <tbody>\n",
       "    <tr>\n",
       "      <th>492</th>\n",
       "      <td>2016-02-03 11:32:52</td>\n",
       "      <td>493</td>\n",
       "      <td>Anne</td>\n",
       "      <td>Warren</td>\n",
       "      <td>awarrendo@oaic.gov.au</td>\n",
       "      <td>Female</td>\n",
       "      <td>36.74.153.243</td>\n",
       "      <td>3538261440495771</td>\n",
       "      <td>United States</td>\n",
       "      <td></td>\n",
       "      <td>76983.81</td>\n",
       "      <td></td>\n",
       "      <td></td>\n",
       "    </tr>\n",
       "    <tr>\n",
       "      <th>383</th>\n",
       "      <td>2016-02-03 14:23:23</td>\n",
       "      <td>384</td>\n",
       "      <td>Victor</td>\n",
       "      <td>Cunningham</td>\n",
       "      <td>vcunninghaman@mapy.cz</td>\n",
       "      <td>Male</td>\n",
       "      <td>211.58.176.112</td>\n",
       "      <td>5602219786393162</td>\n",
       "      <td>Serbia</td>\n",
       "      <td>10/22/1983</td>\n",
       "      <td>265265.73</td>\n",
       "      <td>Geologist II</td>\n",
       "      <td></td>\n",
       "    </tr>\n",
       "    <tr>\n",
       "      <th>856</th>\n",
       "      <td>2016-02-03 07:00:28</td>\n",
       "      <td>857</td>\n",
       "      <td>Paul</td>\n",
       "      <td>Anderson</td>\n",
       "      <td>pandersonns@wufoo.com</td>\n",
       "      <td></td>\n",
       "      <td>111.188.66.182</td>\n",
       "      <td>3585323481696329</td>\n",
       "      <td>Brunei</td>\n",
       "      <td>9/15/1958</td>\n",
       "      <td>NaN</td>\n",
       "      <td>Software Consultant</td>\n",
       "      <td></td>\n",
       "    </tr>\n",
       "    <tr>\n",
       "      <th>834</th>\n",
       "      <td>2016-02-03 00:18:47</td>\n",
       "      <td>835</td>\n",
       "      <td>Sean</td>\n",
       "      <td>Castillo</td>\n",
       "      <td>scastillon6@altervista.org</td>\n",
       "      <td></td>\n",
       "      <td>211.77.61.195</td>\n",
       "      <td></td>\n",
       "      <td>Portugal</td>\n",
       "      <td>6/15/1979</td>\n",
       "      <td>NaN</td>\n",
       "      <td>Quality Control Specialist</td>\n",
       "      <td></td>\n",
       "    </tr>\n",
       "    <tr>\n",
       "      <th>603</th>\n",
       "      <td>2016-02-03 23:49:09</td>\n",
       "      <td>604</td>\n",
       "      <td>Christine</td>\n",
       "      <td>Wilson</td>\n",
       "      <td>cwilsongr@answers.com</td>\n",
       "      <td>Female</td>\n",
       "      <td>41.182.6.194</td>\n",
       "      <td>4508325302658042</td>\n",
       "      <td>China</td>\n",
       "      <td>11/30/1960</td>\n",
       "      <td>87826.74</td>\n",
       "      <td>Financial Analyst</td>\n",
       "      <td></td>\n",
       "    </tr>\n",
       "    <tr>\n",
       "      <th>712</th>\n",
       "      <td>2016-02-03 22:11:23</td>\n",
       "      <td>713</td>\n",
       "      <td>Eric</td>\n",
       "      <td>Owens</td>\n",
       "      <td>eowensjs@vk.com</td>\n",
       "      <td>Male</td>\n",
       "      <td>207.176.76.46</td>\n",
       "      <td>560224213153440419</td>\n",
       "      <td>Indonesia</td>\n",
       "      <td>9/2/1958</td>\n",
       "      <td>220176.18</td>\n",
       "      <td>Paralegal</td>\n",
       "      <td></td>\n",
       "    </tr>\n",
       "    <tr>\n",
       "      <th>126</th>\n",
       "      <td>2016-02-03 23:01:52</td>\n",
       "      <td>127</td>\n",
       "      <td>Deborah</td>\n",
       "      <td>Porter</td>\n",
       "      <td>dporter3i@istockphoto.com</td>\n",
       "      <td>Female</td>\n",
       "      <td>171.36.77.142</td>\n",
       "      <td>4903389517897807181</td>\n",
       "      <td>China</td>\n",
       "      <td>5/18/1959</td>\n",
       "      <td>271474.26</td>\n",
       "      <td>Engineer II</td>\n",
       "      <td>Ṱ̺̺̕o͞ ̷i̲̬͇̪͙n̝̗͕v̟̜̘̦͟o̶̙̰̠kè͚̮̺̪̹̱̤ ̖t̝͕͞...</td>\n",
       "    </tr>\n",
       "    <tr>\n",
       "      <th>290</th>\n",
       "      <td>2016-02-03 00:27:06</td>\n",
       "      <td>291</td>\n",
       "      <td>Julia</td>\n",
       "      <td>Medina</td>\n",
       "      <td>jmedina82@cbc.ca</td>\n",
       "      <td>Female</td>\n",
       "      <td>43.27.110.171</td>\n",
       "      <td>30163835573619</td>\n",
       "      <td>Russia</td>\n",
       "      <td>8/12/1991</td>\n",
       "      <td>109927.88</td>\n",
       "      <td>Software Engineer II</td>\n",
       "      <td></td>\n",
       "    </tr>\n",
       "    <tr>\n",
       "      <th>549</th>\n",
       "      <td>2016-02-03 00:52:08</td>\n",
       "      <td>550</td>\n",
       "      <td>Cheryl</td>\n",
       "      <td>Evans</td>\n",
       "      <td>cevansf9@yolasite.com</td>\n",
       "      <td>Female</td>\n",
       "      <td>244.155.129.93</td>\n",
       "      <td></td>\n",
       "      <td>Japan</td>\n",
       "      <td>7/24/1955</td>\n",
       "      <td>12380.49</td>\n",
       "      <td>Budget/Accounting Analyst II</td>\n",
       "      <td></td>\n",
       "    </tr>\n",
       "    <tr>\n",
       "      <th>169</th>\n",
       "      <td>2016-02-03 04:13:57</td>\n",
       "      <td>170</td>\n",
       "      <td>Anne</td>\n",
       "      <td>Reed</td>\n",
       "      <td>areed4p@plala.or.jp</td>\n",
       "      <td>Female</td>\n",
       "      <td>223.33.106.169</td>\n",
       "      <td></td>\n",
       "      <td>Russia</td>\n",
       "      <td></td>\n",
       "      <td>244488.50</td>\n",
       "      <td></td>\n",
       "      <td></td>\n",
       "    </tr>\n",
       "    <tr>\n",
       "      <th>689</th>\n",
       "      <td>2016-02-03 23:10:29</td>\n",
       "      <td>690</td>\n",
       "      <td>Raymond</td>\n",
       "      <td>Cox</td>\n",
       "      <td>rcoxj5@hc360.com</td>\n",
       "      <td>Male</td>\n",
       "      <td>117.127.196.48</td>\n",
       "      <td>3545794567550946</td>\n",
       "      <td>Mauritius</td>\n",
       "      <td></td>\n",
       "      <td>261701.73</td>\n",
       "      <td></td>\n",
       "      <td>åß∂ƒ©˙∆˚¬…æ</td>\n",
       "    </tr>\n",
       "  </tbody>\n",
       "</table>\n",
       "</div>"
      ],
      "text/plain": [
       "      registration_dttm   id first_name   last_name  \\\n",
       "492 2016-02-03 11:32:52  493       Anne      Warren   \n",
       "383 2016-02-03 14:23:23  384     Victor  Cunningham   \n",
       "856 2016-02-03 07:00:28  857       Paul    Anderson   \n",
       "834 2016-02-03 00:18:47  835       Sean    Castillo   \n",
       "603 2016-02-03 23:49:09  604  Christine      Wilson   \n",
       "712 2016-02-03 22:11:23  713       Eric       Owens   \n",
       "126 2016-02-03 23:01:52  127    Deborah      Porter   \n",
       "290 2016-02-03 00:27:06  291      Julia      Medina   \n",
       "549 2016-02-03 00:52:08  550     Cheryl       Evans   \n",
       "169 2016-02-03 04:13:57  170       Anne        Reed   \n",
       "689 2016-02-03 23:10:29  690    Raymond         Cox   \n",
       "\n",
       "                          email  gender      ip_address                   cc  \\\n",
       "492       awarrendo@oaic.gov.au  Female   36.74.153.243     3538261440495771   \n",
       "383       vcunninghaman@mapy.cz    Male  211.58.176.112     5602219786393162   \n",
       "856       pandersonns@wufoo.com          111.188.66.182     3585323481696329   \n",
       "834  scastillon6@altervista.org           211.77.61.195                        \n",
       "603       cwilsongr@answers.com  Female    41.182.6.194     4508325302658042   \n",
       "712             eowensjs@vk.com    Male   207.176.76.46   560224213153440419   \n",
       "126   dporter3i@istockphoto.com  Female   171.36.77.142  4903389517897807181   \n",
       "290            jmedina82@cbc.ca  Female   43.27.110.171       30163835573619   \n",
       "549       cevansf9@yolasite.com  Female  244.155.129.93                        \n",
       "169         areed4p@plala.or.jp  Female  223.33.106.169                        \n",
       "689            rcoxj5@hc360.com    Male  117.127.196.48     3545794567550946   \n",
       "\n",
       "           country   birthdate     salary                         title  \\\n",
       "492  United States               76983.81                                 \n",
       "383         Serbia  10/22/1983  265265.73                  Geologist II   \n",
       "856         Brunei   9/15/1958        NaN           Software Consultant   \n",
       "834       Portugal   6/15/1979        NaN    Quality Control Specialist   \n",
       "603          China  11/30/1960   87826.74             Financial Analyst   \n",
       "712      Indonesia    9/2/1958  220176.18                     Paralegal   \n",
       "126          China   5/18/1959  271474.26                   Engineer II   \n",
       "290         Russia   8/12/1991  109927.88          Software Engineer II   \n",
       "549          Japan   7/24/1955   12380.49  Budget/Accounting Analyst II   \n",
       "169         Russia              244488.50                                 \n",
       "689      Mauritius              261701.73                                 \n",
       "\n",
       "                                              comments  \n",
       "492                                                     \n",
       "383                                                     \n",
       "856                                                     \n",
       "834                                                     \n",
       "603                                                     \n",
       "712                                                     \n",
       "126  Ṱ̺̺̕o͞ ̷i̲̬͇̪͙n̝̗͕v̟̜̘̦͟o̶̙̰̠kè͚̮̺̪̹̱̤ ̖t̝͕͞...  \n",
       "290                                                     \n",
       "549                                                     \n",
       "169                                                     \n",
       "689                                        åß∂ƒ©˙∆˚¬…æ  "
      ]
     },
     "execution_count": 56,
     "metadata": {},
     "output_type": "execute_result"
    }
   ],
   "source": [
    "subset"
   ]
  },
  {
   "cell_type": "markdown",
   "id": "1c333a5d-bc7c-464d-9305-28e5db6a9f34",
   "metadata": {},
   "source": [
    "## Write the test data to the main branch as a Delta table"
   ]
  },
  {
   "cell_type": "code",
   "execution_count": 57,
   "id": "1a8bdc49-d4eb-4d6f-8b69-5a4fe6804272",
   "metadata": {},
   "outputs": [
    {
     "name": "stdout",
     "output_type": "stream",
     "text": [
      "There are 11 rows in the sample dataset\n"
     ]
    }
   ],
   "source": [
    "subset = df.sample(frac=0.011, random_state=42)\n",
    "print(f\"There are {subset.shape[0]} rows in the sample dataset\")"
   ]
  },
  {
   "cell_type": "code",
   "execution_count": 58,
   "id": "323a69bf-62d7-4dbd-aedc-d487b2c52069",
   "metadata": {},
   "outputs": [],
   "source": [
    "deltalake.write_deltalake(table_or_uri=f's3a://{repo_name}/main/userdata/', \n",
    "                          data = subset,\n",
    "                          mode='overwrite',\n",
    "                          storage_options=storage_options)"
   ]
  },
  {
   "cell_type": "markdown",
   "id": "1f9e794e-e7c9-4dc1-bc88-d5b57e2964a9",
   "metadata": {},
   "source": [
    "## Read Deltalake from lakeFS and Python"
   ]
  },
  {
   "cell_type": "code",
   "execution_count": 59,
   "id": "ae116552-b871-40c5-9c0b-d2b7b9661938",
   "metadata": {},
   "outputs": [],
   "source": [
    "my_new_dt = deltalake.DeltaTable(f's3a://{repo_name}/main/userdata/', storage_options=storage_options)"
   ]
  },
  {
   "cell_type": "code",
   "execution_count": 60,
   "id": "c1395bfd-79c8-4d0a-b618-50c9936570ce",
   "metadata": {},
   "outputs": [
    {
     "data": {
      "text/plain": [
       "[{'timestamp': 1705253778853,\n",
       "  'operation': 'CREATE TABLE',\n",
       "  'operationParameters': {'metadata': '{\"configuration\":{},\"created_time\":1705253778845,\"description\":null,\"format\":{\"options\":{},\"provider\":\"parquet\"},\"id\":\"ee1d7b48-32c7-41fe-ae32-ac88b5b04413\",\"name\":null,\"partition_columns\":[],\"schema\":{\"fields\":[{\"metadata\":{},\"name\":\"registration_dttm\",\"nullable\":true,\"type\":\"timestamp\"},{\"metadata\":{},\"name\":\"id\",\"nullable\":true,\"type\":\"integer\"},{\"metadata\":{},\"name\":\"first_name\",\"nullable\":true,\"type\":\"string\"},{\"metadata\":{},\"name\":\"last_name\",\"nullable\":true,\"type\":\"string\"},{\"metadata\":{},\"name\":\"email\",\"nullable\":true,\"type\":\"string\"},{\"metadata\":{},\"name\":\"gender\",\"nullable\":true,\"type\":\"string\"},{\"metadata\":{},\"name\":\"ip_address\",\"nullable\":true,\"type\":\"string\"},{\"metadata\":{},\"name\":\"cc\",\"nullable\":true,\"type\":\"string\"},{\"metadata\":{},\"name\":\"country\",\"nullable\":true,\"type\":\"string\"},{\"metadata\":{},\"name\":\"birthdate\",\"nullable\":true,\"type\":\"string\"},{\"metadata\":{},\"name\":\"salary\",\"nullable\":true,\"type\":\"double\"},{\"metadata\":{},\"name\":\"title\",\"nullable\":true,\"type\":\"string\"},{\"metadata\":{},\"name\":\"comments\",\"nullable\":true,\"type\":\"string\"},{\"metadata\":{},\"name\":\"__index_level_0__\",\"nullable\":true,\"type\":\"long\"}],\"type\":\"struct\"}}',\n",
       "   'mode': 'ErrorIfExists',\n",
       "   'protocol': '{\"minReaderVersion\":1,\"minWriterVersion\":2}',\n",
       "   'location': 's3a://delta-lake-demo3/main/userdata'},\n",
       "  'clientVersion': 'delta-rs.0.17.0',\n",
       "  'version': 0}]"
      ]
     },
     "execution_count": 60,
     "metadata": {},
     "output_type": "execute_result"
    }
   ],
   "source": [
    "my_new_dt.history()"
   ]
  },
  {
   "cell_type": "code",
   "execution_count": 61,
   "id": "e4f5c09d-2bd8-4c47-937d-1f134eea5701",
   "metadata": {},
   "outputs": [
    {
     "data": {
      "text/plain": [
       "0"
      ]
     },
     "execution_count": 61,
     "metadata": {},
     "output_type": "execute_result"
    }
   ],
   "source": [
    "my_new_dt.version()"
   ]
  },
  {
   "cell_type": "code",
   "execution_count": 62,
   "id": "6abcc50f-9bbf-4515-a9ed-5755f5113977",
   "metadata": {},
   "outputs": [
    {
     "name": "stdout",
     "output_type": "stream",
     "text": [
      "11 rows read in the table\n"
     ]
    }
   ],
   "source": [
    "print(f\"{my_new_dt.to_pandas().shape[0]} rows read in the table\")"
   ]
  },
  {
   "cell_type": "markdown",
   "id": "bb4f61b4-3d04-4a20-9868-16c39ded299c",
   "metadata": {},
   "source": [
    "## Write some more data to the table"
   ]
  },
  {
   "cell_type": "code",
   "execution_count": 63,
   "id": "44bd624d-75de-48c8-af2d-7e1e03276998",
   "metadata": {},
   "outputs": [
    {
     "name": "stdout",
     "output_type": "stream",
     "text": [
      "There are 11 rows in the sample dataset\n"
     ]
    }
   ],
   "source": [
    "subset = df.sample(frac=0.011, random_state=21)\n",
    "print(f\"There are {subset.shape[0]} rows in the sample dataset\")"
   ]
  },
  {
   "cell_type": "code",
   "execution_count": 64,
   "id": "3d9857cc-4e8d-4336-843a-34fc04ba1cce",
   "metadata": {},
   "outputs": [
    {
     "data": {
      "text/html": [
       "<div>\n",
       "<style scoped>\n",
       "    .dataframe tbody tr th:only-of-type {\n",
       "        vertical-align: middle;\n",
       "    }\n",
       "\n",
       "    .dataframe tbody tr th {\n",
       "        vertical-align: top;\n",
       "    }\n",
       "\n",
       "    .dataframe thead th {\n",
       "        text-align: right;\n",
       "    }\n",
       "</style>\n",
       "<table border=\"1\" class=\"dataframe\">\n",
       "  <thead>\n",
       "    <tr style=\"text-align: right;\">\n",
       "      <th></th>\n",
       "      <th>registration_dttm</th>\n",
       "      <th>id</th>\n",
       "      <th>first_name</th>\n",
       "      <th>last_name</th>\n",
       "      <th>email</th>\n",
       "      <th>gender</th>\n",
       "      <th>ip_address</th>\n",
       "      <th>cc</th>\n",
       "      <th>country</th>\n",
       "      <th>birthdate</th>\n",
       "      <th>salary</th>\n",
       "      <th>title</th>\n",
       "      <th>comments</th>\n",
       "    </tr>\n",
       "  </thead>\n",
       "  <tbody>\n",
       "    <tr>\n",
       "      <th>492</th>\n",
       "      <td>2016-02-03 11:32:52</td>\n",
       "      <td>493</td>\n",
       "      <td>Anne</td>\n",
       "      <td>Warren</td>\n",
       "      <td>awarrendo@oaic.gov.au</td>\n",
       "      <td>Female</td>\n",
       "      <td>36.74.153.243</td>\n",
       "      <td>3538261440495771</td>\n",
       "      <td>United States</td>\n",
       "      <td></td>\n",
       "      <td>76983.81</td>\n",
       "      <td></td>\n",
       "      <td></td>\n",
       "    </tr>\n",
       "    <tr>\n",
       "      <th>383</th>\n",
       "      <td>2016-02-03 14:23:23</td>\n",
       "      <td>384</td>\n",
       "      <td>Victor</td>\n",
       "      <td>Cunningham</td>\n",
       "      <td>vcunninghaman@mapy.cz</td>\n",
       "      <td>Male</td>\n",
       "      <td>211.58.176.112</td>\n",
       "      <td>5602219786393162</td>\n",
       "      <td>Serbia</td>\n",
       "      <td>10/22/1983</td>\n",
       "      <td>265265.73</td>\n",
       "      <td>Geologist II</td>\n",
       "      <td></td>\n",
       "    </tr>\n",
       "    <tr>\n",
       "      <th>856</th>\n",
       "      <td>2016-02-03 07:00:28</td>\n",
       "      <td>857</td>\n",
       "      <td>Paul</td>\n",
       "      <td>Anderson</td>\n",
       "      <td>pandersonns@wufoo.com</td>\n",
       "      <td></td>\n",
       "      <td>111.188.66.182</td>\n",
       "      <td>3585323481696329</td>\n",
       "      <td>Brunei</td>\n",
       "      <td>9/15/1958</td>\n",
       "      <td>NaN</td>\n",
       "      <td>Software Consultant</td>\n",
       "      <td></td>\n",
       "    </tr>\n",
       "    <tr>\n",
       "      <th>834</th>\n",
       "      <td>2016-02-03 00:18:47</td>\n",
       "      <td>835</td>\n",
       "      <td>Sean</td>\n",
       "      <td>Castillo</td>\n",
       "      <td>scastillon6@altervista.org</td>\n",
       "      <td></td>\n",
       "      <td>211.77.61.195</td>\n",
       "      <td></td>\n",
       "      <td>Portugal</td>\n",
       "      <td>6/15/1979</td>\n",
       "      <td>NaN</td>\n",
       "      <td>Quality Control Specialist</td>\n",
       "      <td></td>\n",
       "    </tr>\n",
       "    <tr>\n",
       "      <th>603</th>\n",
       "      <td>2016-02-03 23:49:09</td>\n",
       "      <td>604</td>\n",
       "      <td>Christine</td>\n",
       "      <td>Wilson</td>\n",
       "      <td>cwilsongr@answers.com</td>\n",
       "      <td>Female</td>\n",
       "      <td>41.182.6.194</td>\n",
       "      <td>4508325302658042</td>\n",
       "      <td>China</td>\n",
       "      <td>11/30/1960</td>\n",
       "      <td>87826.74</td>\n",
       "      <td>Financial Analyst</td>\n",
       "      <td></td>\n",
       "    </tr>\n",
       "    <tr>\n",
       "      <th>712</th>\n",
       "      <td>2016-02-03 22:11:23</td>\n",
       "      <td>713</td>\n",
       "      <td>Eric</td>\n",
       "      <td>Owens</td>\n",
       "      <td>eowensjs@vk.com</td>\n",
       "      <td>Male</td>\n",
       "      <td>207.176.76.46</td>\n",
       "      <td>560224213153440419</td>\n",
       "      <td>Indonesia</td>\n",
       "      <td>9/2/1958</td>\n",
       "      <td>220176.18</td>\n",
       "      <td>Paralegal</td>\n",
       "      <td></td>\n",
       "    </tr>\n",
       "    <tr>\n",
       "      <th>126</th>\n",
       "      <td>2016-02-03 23:01:52</td>\n",
       "      <td>127</td>\n",
       "      <td>Deborah</td>\n",
       "      <td>Porter</td>\n",
       "      <td>dporter3i@istockphoto.com</td>\n",
       "      <td>Female</td>\n",
       "      <td>171.36.77.142</td>\n",
       "      <td>4903389517897807181</td>\n",
       "      <td>China</td>\n",
       "      <td>5/18/1959</td>\n",
       "      <td>271474.26</td>\n",
       "      <td>Engineer II</td>\n",
       "      <td>Ṱ̺̺̕o͞ ̷i̲̬͇̪͙n̝̗͕v̟̜̘̦͟o̶̙̰̠kè͚̮̺̪̹̱̤ ̖t̝͕͞...</td>\n",
       "    </tr>\n",
       "    <tr>\n",
       "      <th>290</th>\n",
       "      <td>2016-02-03 00:27:06</td>\n",
       "      <td>291</td>\n",
       "      <td>Julia</td>\n",
       "      <td>Medina</td>\n",
       "      <td>jmedina82@cbc.ca</td>\n",
       "      <td>Female</td>\n",
       "      <td>43.27.110.171</td>\n",
       "      <td>30163835573619</td>\n",
       "      <td>Russia</td>\n",
       "      <td>8/12/1991</td>\n",
       "      <td>109927.88</td>\n",
       "      <td>Software Engineer II</td>\n",
       "      <td></td>\n",
       "    </tr>\n",
       "    <tr>\n",
       "      <th>549</th>\n",
       "      <td>2016-02-03 00:52:08</td>\n",
       "      <td>550</td>\n",
       "      <td>Cheryl</td>\n",
       "      <td>Evans</td>\n",
       "      <td>cevansf9@yolasite.com</td>\n",
       "      <td>Female</td>\n",
       "      <td>244.155.129.93</td>\n",
       "      <td></td>\n",
       "      <td>Japan</td>\n",
       "      <td>7/24/1955</td>\n",
       "      <td>12380.49</td>\n",
       "      <td>Budget/Accounting Analyst II</td>\n",
       "      <td></td>\n",
       "    </tr>\n",
       "    <tr>\n",
       "      <th>169</th>\n",
       "      <td>2016-02-03 04:13:57</td>\n",
       "      <td>170</td>\n",
       "      <td>Anne</td>\n",
       "      <td>Reed</td>\n",
       "      <td>areed4p@plala.or.jp</td>\n",
       "      <td>Female</td>\n",
       "      <td>223.33.106.169</td>\n",
       "      <td></td>\n",
       "      <td>Russia</td>\n",
       "      <td></td>\n",
       "      <td>244488.50</td>\n",
       "      <td></td>\n",
       "      <td></td>\n",
       "    </tr>\n",
       "    <tr>\n",
       "      <th>689</th>\n",
       "      <td>2016-02-03 23:10:29</td>\n",
       "      <td>690</td>\n",
       "      <td>Raymond</td>\n",
       "      <td>Cox</td>\n",
       "      <td>rcoxj5@hc360.com</td>\n",
       "      <td>Male</td>\n",
       "      <td>117.127.196.48</td>\n",
       "      <td>3545794567550946</td>\n",
       "      <td>Mauritius</td>\n",
       "      <td></td>\n",
       "      <td>261701.73</td>\n",
       "      <td></td>\n",
       "      <td>åß∂ƒ©˙∆˚¬…æ</td>\n",
       "    </tr>\n",
       "  </tbody>\n",
       "</table>\n",
       "</div>"
      ],
      "text/plain": [
       "      registration_dttm   id first_name   last_name  \\\n",
       "492 2016-02-03 11:32:52  493       Anne      Warren   \n",
       "383 2016-02-03 14:23:23  384     Victor  Cunningham   \n",
       "856 2016-02-03 07:00:28  857       Paul    Anderson   \n",
       "834 2016-02-03 00:18:47  835       Sean    Castillo   \n",
       "603 2016-02-03 23:49:09  604  Christine      Wilson   \n",
       "712 2016-02-03 22:11:23  713       Eric       Owens   \n",
       "126 2016-02-03 23:01:52  127    Deborah      Porter   \n",
       "290 2016-02-03 00:27:06  291      Julia      Medina   \n",
       "549 2016-02-03 00:52:08  550     Cheryl       Evans   \n",
       "169 2016-02-03 04:13:57  170       Anne        Reed   \n",
       "689 2016-02-03 23:10:29  690    Raymond         Cox   \n",
       "\n",
       "                          email  gender      ip_address                   cc  \\\n",
       "492       awarrendo@oaic.gov.au  Female   36.74.153.243     3538261440495771   \n",
       "383       vcunninghaman@mapy.cz    Male  211.58.176.112     5602219786393162   \n",
       "856       pandersonns@wufoo.com          111.188.66.182     3585323481696329   \n",
       "834  scastillon6@altervista.org           211.77.61.195                        \n",
       "603       cwilsongr@answers.com  Female    41.182.6.194     4508325302658042   \n",
       "712             eowensjs@vk.com    Male   207.176.76.46   560224213153440419   \n",
       "126   dporter3i@istockphoto.com  Female   171.36.77.142  4903389517897807181   \n",
       "290            jmedina82@cbc.ca  Female   43.27.110.171       30163835573619   \n",
       "549       cevansf9@yolasite.com  Female  244.155.129.93                        \n",
       "169         areed4p@plala.or.jp  Female  223.33.106.169                        \n",
       "689            rcoxj5@hc360.com    Male  117.127.196.48     3545794567550946   \n",
       "\n",
       "           country   birthdate     salary                         title  \\\n",
       "492  United States               76983.81                                 \n",
       "383         Serbia  10/22/1983  265265.73                  Geologist II   \n",
       "856         Brunei   9/15/1958        NaN           Software Consultant   \n",
       "834       Portugal   6/15/1979        NaN    Quality Control Specialist   \n",
       "603          China  11/30/1960   87826.74             Financial Analyst   \n",
       "712      Indonesia    9/2/1958  220176.18                     Paralegal   \n",
       "126          China   5/18/1959  271474.26                   Engineer II   \n",
       "290         Russia   8/12/1991  109927.88          Software Engineer II   \n",
       "549          Japan   7/24/1955   12380.49  Budget/Accounting Analyst II   \n",
       "169         Russia              244488.50                                 \n",
       "689      Mauritius              261701.73                                 \n",
       "\n",
       "                                              comments  \n",
       "492                                                     \n",
       "383                                                     \n",
       "856                                                     \n",
       "834                                                     \n",
       "603                                                     \n",
       "712                                                     \n",
       "126  Ṱ̺̺̕o͞ ̷i̲̬͇̪͙n̝̗͕v̟̜̘̦͟o̶̙̰̠kè͚̮̺̪̹̱̤ ̖t̝͕͞...  \n",
       "290                                                     \n",
       "549                                                     \n",
       "169                                                     \n",
       "689                                        åß∂ƒ©˙∆˚¬…æ  "
      ]
     },
     "execution_count": 64,
     "metadata": {},
     "output_type": "execute_result"
    }
   ],
   "source": [
    "subset"
   ]
  },
  {
   "cell_type": "code",
   "execution_count": 65,
   "id": "d052094a-3d49-4d13-be26-e3fd1760376a",
   "metadata": {},
   "outputs": [],
   "source": [
    "deltalake.write_deltalake(table_or_uri=f's3a://{repo_name}/main/userdata/', \n",
    "                          data = subset,\n",
    "                          mode='append',\n",
    "                          storage_options=storage_options)"
   ]
  },
  {
   "cell_type": "markdown",
   "id": "fa6fc94b-ab1d-4322-b81b-1f3879812afe",
   "metadata": {},
   "source": [
    "## Re-Read the Deltalake table"
   ]
  },
  {
   "cell_type": "code",
   "execution_count": 67,
   "id": "709ec3e8-dca9-462e-80ac-975e3ab3649c",
   "metadata": {},
   "outputs": [],
   "source": [
    "my_new_dt = deltalake.DeltaTable(f's3a://{repo_name}/main/userdata/', storage_options=storage_options)"
   ]
  },
  {
   "cell_type": "code",
   "execution_count": 68,
   "id": "885baf06-67d9-4d26-883c-95136f1caaf9",
   "metadata": {},
   "outputs": [
    {
     "data": {
      "text/plain": [
       "[{'timestamp': 1705253785799,\n",
       "  'operation': 'WRITE',\n",
       "  'operationParameters': {'partitionBy': '[]', 'mode': 'Append'},\n",
       "  'clientVersion': 'delta-rs.0.17.0',\n",
       "  'version': 1},\n",
       " {'timestamp': 1705253778853,\n",
       "  'operation': 'CREATE TABLE',\n",
       "  'operationParameters': {'mode': 'ErrorIfExists',\n",
       "   'metadata': '{\"configuration\":{},\"created_time\":1705253778845,\"description\":null,\"format\":{\"options\":{},\"provider\":\"parquet\"},\"id\":\"ee1d7b48-32c7-41fe-ae32-ac88b5b04413\",\"name\":null,\"partition_columns\":[],\"schema\":{\"fields\":[{\"metadata\":{},\"name\":\"registration_dttm\",\"nullable\":true,\"type\":\"timestamp\"},{\"metadata\":{},\"name\":\"id\",\"nullable\":true,\"type\":\"integer\"},{\"metadata\":{},\"name\":\"first_name\",\"nullable\":true,\"type\":\"string\"},{\"metadata\":{},\"name\":\"last_name\",\"nullable\":true,\"type\":\"string\"},{\"metadata\":{},\"name\":\"email\",\"nullable\":true,\"type\":\"string\"},{\"metadata\":{},\"name\":\"gender\",\"nullable\":true,\"type\":\"string\"},{\"metadata\":{},\"name\":\"ip_address\",\"nullable\":true,\"type\":\"string\"},{\"metadata\":{},\"name\":\"cc\",\"nullable\":true,\"type\":\"string\"},{\"metadata\":{},\"name\":\"country\",\"nullable\":true,\"type\":\"string\"},{\"metadata\":{},\"name\":\"birthdate\",\"nullable\":true,\"type\":\"string\"},{\"metadata\":{},\"name\":\"salary\",\"nullable\":true,\"type\":\"double\"},{\"metadata\":{},\"name\":\"title\",\"nullable\":true,\"type\":\"string\"},{\"metadata\":{},\"name\":\"comments\",\"nullable\":true,\"type\":\"string\"},{\"metadata\":{},\"name\":\"__index_level_0__\",\"nullable\":true,\"type\":\"long\"}],\"type\":\"struct\"}}',\n",
       "   'location': 's3a://delta-lake-demo3/main/userdata',\n",
       "   'protocol': '{\"minReaderVersion\":1,\"minWriterVersion\":2}'},\n",
       "  'clientVersion': 'delta-rs.0.17.0',\n",
       "  'version': 0}]"
      ]
     },
     "execution_count": 68,
     "metadata": {},
     "output_type": "execute_result"
    }
   ],
   "source": [
    "my_new_dt.history()"
   ]
  },
  {
   "cell_type": "code",
   "execution_count": 69,
   "id": "8231a30f-5273-441d-bed1-299461144b3c",
   "metadata": {},
   "outputs": [
    {
     "data": {
      "text/plain": [
       "1"
      ]
     },
     "execution_count": 69,
     "metadata": {},
     "output_type": "execute_result"
    }
   ],
   "source": [
    "my_new_dt.version()"
   ]
  },
  {
   "cell_type": "code",
   "execution_count": 70,
   "id": "5c684692-7392-4882-8043-08fc2f208224",
   "metadata": {},
   "outputs": [
    {
     "data": {
      "text/plain": [
       "['s3a://delta-lake-demo3/main/userdata/0-91a074e4-1990-4ec1-a106-cc87050c3127-0.parquet',\n",
       " 's3a://delta-lake-demo3/main/userdata/1-2e0f6d34-8d16-4b20-8a7a-028efa40a101-0.parquet']"
      ]
     },
     "execution_count": 70,
     "metadata": {},
     "output_type": "execute_result"
    }
   ],
   "source": [
    "my_new_dt.file_uris()"
   ]
  },
  {
   "cell_type": "code",
   "execution_count": 71,
   "id": "d1613aa4-80d8-4792-b020-b223e652c8ab",
   "metadata": {},
   "outputs": [
    {
     "name": "stdout",
     "output_type": "stream",
     "text": [
      "22 rows read in the table\n"
     ]
    }
   ],
   "source": [
    "print(f\"{my_new_dt.to_pandas().shape[0]} rows read in the table\")"
   ]
  },
  {
   "cell_type": "markdown",
   "id": "fa4ddad8-4daa-4993-b851-f079e455cebf",
   "metadata": {},
   "source": [
    "## Commit the data in lakeFS"
   ]
  },
  {
   "cell_type": "code",
   "execution_count": 72,
   "id": "5b1e2317-0d7e-480d-b2c4-fd375e8edbad",
   "metadata": {},
   "outputs": [
    {
     "data": {
      "text/plain": [
       "{'committer': 'admin',\n",
       " 'creation_date': 1705253798,\n",
       " 'id': 'c98c6a4a89c40eb5b4544540fd56fcff87ed2c52f11f90786bcc305033c66078',\n",
       " 'message': 'Initial data load',\n",
       " 'meta_range_id': '',\n",
       " 'metadata': {'author': 'rmoff'},\n",
       " 'parents': ['ae6ab42de01f1720d130b769d91ddf3b25dcc88eb6302a326858e1206010ad4c']}"
      ]
     },
     "execution_count": 72,
     "metadata": {},
     "output_type": "execute_result"
    }
   ],
   "source": [
    "lakefs.commits.commit(repo.id, \"main\", CommitCreation(\n",
    "    message=\"Initial data load\",\n",
    "    metadata={'author': 'rmoff'}\n",
    ") )"
   ]
  },
  {
   "cell_type": "code",
   "execution_count": null,
   "id": "285a3550-5c03-4dfa-a1ff-b43575be1c34",
   "metadata": {},
   "outputs": [],
   "source": []
  }
 ],
 "metadata": {
  "kernelspec": {
   "display_name": "Python 3 (ipykernel)",
   "language": "python",
   "name": "python3"
  },
  "language_info": {
   "codemirror_mode": {
    "name": "ipython",
    "version": 3
   },
   "file_extension": ".py",
   "mimetype": "text/x-python",
   "name": "python",
   "nbconvert_exporter": "python",
   "pygments_lexer": "ipython3",
   "version": "3.10.6"
  }
 },
 "nbformat": 4,
 "nbformat_minor": 5
}
