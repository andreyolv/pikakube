{
 "cells": [
  {
   "cell_type": "code",
   "execution_count": 1,
   "id": "547da7a3-5f67-4814-b87b-62f3c51ba331",
   "metadata": {},
   "outputs": [
    {
     "name": "stdout",
     "output_type": "stream",
     "text": [
      "Collecting lakefs_client\n",
      "  Downloading lakefs_client-1.7.0-py3-none-any.whl (328 kB)\n",
      "\u001b[2K     \u001b[90m━━━━━━━━━━━━━━━━━━━━━━━━━━━━━━━━━━━━━━━\u001b[0m \u001b[32m328.6/328.6 kB\u001b[0m \u001b[31m6.0 MB/s\u001b[0m eta \u001b[36m0:00:00\u001b[0ma \u001b[36m0:00:01\u001b[0m\n",
      "\u001b[?25hRequirement already satisfied: python-dateutil in /opt/conda/lib/python3.10/site-packages (from lakefs_client) (2.8.2)\n",
      "Requirement already satisfied: urllib3>=1.25.3 in /opt/conda/lib/python3.10/site-packages (from lakefs_client) (1.26.11)\n",
      "Requirement already satisfied: six>=1.5 in /opt/conda/lib/python3.10/site-packages (from python-dateutil->lakefs_client) (1.16.0)\n",
      "Installing collected packages: lakefs_client\n",
      "Successfully installed lakefs_client-1.7.0\n"
     ]
    }
   ],
   "source": [
    "!pip install lakefs_client"
   ]
  },
  {
   "cell_type": "code",
   "execution_count": null,
   "id": "cb1f7671-de99-4d70-a37b-5e1e25b42e50",
   "metadata": {},
   "outputs": [],
   "source": [
    "lakefsEndPoint = 'http://lakefs.lakefs.svc.cluster.local:80'\n",
    "lakefsAccessKey = 'xxxxxxxxxx'\n",
    "lakefsSecretKey = 'xxxxxxxxxxxxxxx'"
   ]
  },
  {
   "cell_type": "code",
   "execution_count": 14,
   "id": "c9f8d5a6-e72c-4219-8487-8baef8a98948",
   "metadata": {},
   "outputs": [],
   "source": [
    "storageNamespace = 's3://lakehouse'\n",
    "repo_name = \"spark-demo3\""
   ]
  },
  {
   "cell_type": "markdown",
   "id": "7d35d550-fe52-4de3-9e51-3b52a948507a",
   "metadata": {},
   "source": [
    "## Create lakeFSClient"
   ]
  },
  {
   "cell_type": "code",
   "execution_count": 15,
   "id": "ff0d9ffd-f8a8-4a50-a16b-063f30a8ada4",
   "metadata": {},
   "outputs": [],
   "source": [
    "import lakefs_client\n",
    "from lakefs_client.models import *\n",
    "from lakefs_client.client import LakeFSClient\n",
    "\n",
    "# lakeFS credentials and endpoint\n",
    "configuration = lakefs_client.Configuration()\n",
    "configuration.username = lakefsAccessKey\n",
    "configuration.password = lakefsSecretKey\n",
    "configuration.host = lakefsEndPoint\n",
    "\n",
    "lakefs = LakeFSClient(configuration)"
   ]
  },
  {
   "cell_type": "markdown",
   "id": "ec090503-a0d8-4201-a72f-d079f6023ce2",
   "metadata": {},
   "source": [
    "## Create lakeFS Repository"
   ]
  },
  {
   "cell_type": "code",
   "execution_count": 16,
   "id": "7ff31ee9-924f-4777-ac2f-559e3a04ebea",
   "metadata": {},
   "outputs": [
    {
     "name": "stdout",
     "output_type": "stream",
     "text": [
      "Created new repo spark-demo3 using storage namespace s3://lakehouse/spark-demo3\n"
     ]
    }
   ],
   "source": [
    "repo= (lakefs.repositories\n",
    "             .create_repository(\n",
    "                  repository_creation=RepositoryCreation(\n",
    "                      name=repo_name,\n",
    "                      storage_namespace=f\"{storageNamespace}/{repo_name}\"\n",
    "                  )\n",
    "             )\n",
    "      )\n",
    "        \n",
    "print(f\"Created new repo {repo.id} using storage namespace {repo.storage_namespace}\")"
   ]
  },
  {
   "cell_type": "markdown",
   "id": "cad0ba79-e40c-4bbd-b6e4-fc38244d645d",
   "metadata": {},
   "source": [
    "## Verify lakeFS Repository"
   ]
  },
  {
   "cell_type": "code",
   "execution_count": 17,
   "id": "99bf546a-5d0c-46e4-a8db-bfd182b9eb82",
   "metadata": {},
   "outputs": [
    {
     "name": "stdout",
     "output_type": "stream",
     "text": [
      "Found existing repo spark-demo3 using storage namespace s3://lakehouse/spark-demo3\n"
     ]
    }
   ],
   "source": [
    "repo=lakefs.repositories.get_repository(repo_name)\n",
    "print(f\"Found existing repo {repo.id} using storage namespace {repo.storage_namespace}\")"
   ]
  },
  {
   "cell_type": "markdown",
   "id": "08c2628c-f43e-4bf8-8284-67d735e9b9e8",
   "metadata": {},
   "source": [
    "## Spark"
   ]
  },
  {
   "cell_type": "code",
   "execution_count": 18,
   "id": "f6b49bbd-bca3-4b74-90c8-ce8f0ac9ea53",
   "metadata": {},
   "outputs": [
    {
     "data": {
      "text/html": [
       "\n",
       "            <div>\n",
       "                <p><b>SparkSession - in-memory</b></p>\n",
       "                \n",
       "        <div>\n",
       "            <p><b>SparkContext</b></p>\n",
       "\n",
       "            <p><a href=\"http://jupyter-notebook-6c4775dfc7-4v4g8:4041\">Spark UI</a></p>\n",
       "\n",
       "            <dl>\n",
       "              <dt>Version</dt>\n",
       "                <dd><code>v3.3.0</code></dd>\n",
       "              <dt>Master</dt>\n",
       "                <dd><code>local[*]</code></dd>\n",
       "              <dt>AppName</dt>\n",
       "                <dd><code>lakeFS / Jupyter</code></dd>\n",
       "            </dl>\n",
       "        </div>\n",
       "        \n",
       "            </div>\n",
       "        "
      ],
      "text/plain": [
       "<pyspark.sql.session.SparkSession at 0x7f0dec208b80>"
      ]
     },
     "execution_count": 18,
     "metadata": {},
     "output_type": "execute_result"
    }
   ],
   "source": [
    "from pyspark.sql import SparkSession\n",
    "spark = (SparkSession.builder.appName(\"lakeFS / Jupyter\")\n",
    "        .config(\"spark.jars.packages\", \"org.apache.hadoop:hadoop-aws:3.3.1,com.amazonaws:aws-java-sdk-bundle:1.12.481,io.delta:delta-core_2.12:2.3.0\")\n",
    "        .config(\"spark.hadoop.fs.s3.impl\", \"org.apache.hadoop.fs.s3a.S3AFileSystem\")\n",
    "        .config(\"spark.hadoop.fs.s3a.endpoint\", lakefsEndPoint)\n",
    "        .config(\"spark.hadoop.fs.s3a.path.style.access\", \"true\")\n",
    "        .config(\"spark.hadoop.fs.s3a.access.key\", lakefsAccessKey)\n",
    "        .config(\"spark.hadoop.fs.s3a.secret.key\", lakefsSecretKey)\n",
    "        .config(\"spark.sql.extensions\", \"io.delta.sql.DeltaSparkSessionExtension\") \\\n",
    "        .config(\"spark.sql.catalog.spark_catalog\", \"org.apache.spark.sql.delta.catalog.DeltaCatalog\") \\\n",
    "        .getOrCreate()\n",
    "        )\n",
    "spark.sparkContext.setLogLevel(\"INFO\")\n",
    "\n",
    "spark"
   ]
  },
  {
   "cell_type": "code",
   "execution_count": 44,
   "id": "4c281fad-01b2-4095-a797-94b0e403e8cc",
   "metadata": {},
   "outputs": [],
   "source": [
    "spark.stop()"
   ]
  },
  {
   "cell_type": "markdown",
   "id": "09c2511e-dbc0-4ce4-8e33-3cd89c39dec7",
   "metadata": {},
   "source": [
    "## Spark"
   ]
  },
  {
   "cell_type": "code",
   "execution_count": 19,
   "id": "a03993e8-f435-4d5d-8dde-0ab69d7036c3",
   "metadata": {},
   "outputs": [],
   "source": [
    "from pyspark.sql.types import ByteType, IntegerType, LongType, StringType, StructType, StructField\n",
    "from pyspark.sql.functions import *"
   ]
  },
  {
   "cell_type": "code",
   "execution_count": 20,
   "id": "5cf817f5-ceeb-40e6-95bf-1e89744d3f7c",
   "metadata": {},
   "outputs": [],
   "source": [
    "mainBranch = \"main\"\n",
    "deltaLakeETLBranch = \"delta-lake-etl-branch\"\n",
    "customersTable = \"customers\"\n",
    "ordersTable = \"orders\"\n",
    "orderUpdatesTable = \"order_updates\""
   ]
  },
  {
   "cell_type": "code",
   "execution_count": 21,
   "id": "c9901135-786e-497b-96a1-ac30739773e0",
   "metadata": {},
   "outputs": [],
   "source": [
    "def delta_table_compare_branches(table, refs):\n",
    "  spark.createDataFrame(\n",
    "    data=zip(\n",
    "      refs,\n",
    "      map(lambda r: spark.read.format('delta').load(f's3a://{repo.id}/{r}/{table}').count(), refs)\n",
    "    ), \n",
    "    schema=StructType([ \n",
    "      StructField(\"Branch\", StringType(), True),\n",
    "      StructField(\"Count\", IntegerType(), True)\n",
    "    ])\n",
    "  ).show(truncate=False)"
   ]
  },
  {
   "cell_type": "code",
   "execution_count": 22,
   "id": "a05bd5e8-d479-4832-b264-dc3aff6d6d35",
   "metadata": {},
   "outputs": [],
   "source": [
    "def print_diff_refs(diff_refs):\n",
    "    results = map(\n",
    "        lambda n:[n.path,n.path_type,n.size_bytes,n.type],\n",
    "        diff_refs.results)\n",
    "    return results"
   ]
  },
  {
   "cell_type": "code",
   "execution_count": 23,
   "id": "9ffb3f12-4a9b-427a-b0eb-6f1c49937c3a",
   "metadata": {},
   "outputs": [],
   "source": [
    "customersSchema = StructType([\n",
    "  StructField(\"Customer_ID\", IntegerType(), False),\n",
    "  StructField(\"Country\", StringType(), False),\n",
    "  StructField(\"Gender\", StringType(), False),\n",
    "  StructField(\"Personal_ID\", IntegerType(), True),\n",
    "  StructField(\"Customer_Name\", StringType(), False),\n",
    "  StructField(\"Customer_FirstName\", StringType(), False),\n",
    "  StructField(\"Customer_LastName\", StringType(), False),\n",
    "  StructField(\"Birth_Date\", StringType(), False),\n",
    "  StructField(\"Customer_Address\", StringType(), False),\n",
    "  StructField(\"Street_ID\", LongType(), False),\n",
    "  StructField(\"Street_Number\", IntegerType(), False),\n",
    "  StructField(\"Customer_Type_ID\", IntegerType(), False)\n",
    "])"
   ]
  },
  {
   "cell_type": "code",
   "execution_count": 24,
   "id": "9b630da4-8528-485b-a934-15b03b17562a",
   "metadata": {},
   "outputs": [],
   "source": [
    "ordersSchema = StructType([\n",
    "  StructField(\"Customer_ID\", IntegerType(), False),\n",
    "  StructField(\"Employee_ID\", IntegerType(), False),\n",
    "  StructField(\"Street_ID\", LongType(), False),\n",
    "  StructField(\"Order_Date\", StringType(), False),\n",
    "  StructField(\"Delivery_Date\", StringType(), False),\n",
    "  StructField(\"Order_ID\", LongType(), True),\n",
    "  StructField(\"Order_Type\", ByteType(), False),\n",
    "  StructField(\"Product_ID\", LongType(), False),\n",
    "  StructField(\"Quantity\", ByteType(), False),\n",
    "  StructField(\"Total_Retail_Price\", StringType(), False),\n",
    "  StructField(\"CostPrice_Per_Unit\", StringType(), False),\n",
    "  StructField(\"Discount\", LongType(), False)\n",
    "])"
   ]
  },
  {
   "cell_type": "code",
   "execution_count": 25,
   "id": "12fe0c93-aa32-4f57-a92c-f2d805acdace",
   "metadata": {},
   "outputs": [
    {
     "name": "stdout",
     "output_type": "stream",
     "text": [
      "s3a://spark-demo3/main/customers\n"
     ]
    }
   ],
   "source": [
    "customersTablePath = f\"s3a://{repo.id}/{mainBranch}/{customersTable}\"\n",
    "print(customersTablePath)"
   ]
  },
  {
   "cell_type": "code",
   "execution_count": 27,
   "id": "d7887931-6ec7-483b-b648-b3fe0a52b4e9",
   "metadata": {},
   "outputs": [
    {
     "name": "stdout",
     "output_type": "stream",
     "text": [
      "+-----------+-------+------+-----------+-----------------+------------------+-----------------+----------+--------------------+----------+-------------+----------------+\n",
      "|Customer_ID|Country|Gender|Personal_ID|    Customer_Name|Customer_FirstName|Customer_LastName|Birth_Date|    Customer_Address| Street_ID|Street_Number|Customer_Type_ID|\n",
      "+-----------+-------+------+-----------+-----------------+------------------+-----------------+----------+--------------------+----------+-------------+----------------+\n",
      "|          4|     US|     M|       null|    James Kvarniq|             James|          Kvarniq| 27JUN1974|      4382 Gralyn Rd|9260106519|         4382|            1020|\n",
      "|          5|     US|     F|       null|Sandrina Stephano|          Sandrina|         Stephano| 09JUL1979|    6468 Cog Hill Ct|9260114570|         6468|            2020|\n",
      "|          9|     DE|     F|       null|   Cornelia Krahl|          Cornelia|            Krahl| 27FEB1974|   Kallstadterstr. 9|3940106659|            9|            2020|\n",
      "|         10|     US|     F|       null|  Karen Ballinger|             Karen|        Ballinger| 18OCT1984|425 Bryant Estate...|9260129395|          425|            1040|\n",
      "|         11|     DE|     F|       null|    Elke Wallstab|              Elke|         Wallstab| 16AUG1974|  Carl-Zeiss-Str. 15|3940108592|           15|            1040|\n",
      "|         12|     US|     M|       null|      David Black|             David|            Black| 12APR1969|   1068 Haithcock Rd|9260103713|         1068|            1030|\n",
      "|         13|     DE|     M|       null|     Markus Sepke|            Markus|            Sepke| 21JUL1988|              Iese 1|3940105189|            1|            2010|\n",
      "|         16|     DE|     M|       null|     Ulrich Heyde|            Ulrich|            Heyde| 16JAN1939|         Oberstr. 61|3940105865|           61|            3010|\n",
      "|         17|     US|     M|       null|     Jimmie Evans|            Jimmie|            Evans| 17AUG1954|     391 Greywood Dr|9260123306|          391|            1030|\n",
      "|         18|     US|     M|       null|   Tonie Asmussen|             Tonie|         Asmussen| 02FEB1954|     117 Langtree Ln|9260112361|          117|            1020|\n",
      "+-----------+-------+------+-----------+-----------------+------------------+-----------------+----------+--------------------+----------+-------------+----------------+\n",
      "only showing top 10 rows\n",
      "\n"
     ]
    }
   ],
   "source": [
    "df = spark.read.csv('/home/jovyan/CUSTOMER.csv',header=True,schema=customersSchema)\n",
    "df.write.format(\"delta\").mode(\"overwrite\").save(customersTablePath)\n",
    "df.show(10)"
   ]
  },
  {
   "cell_type": "code",
   "execution_count": null,
   "id": "2a22782a-b05b-424e-98b1-8d19a7809d88",
   "metadata": {},
   "outputs": [],
   "source": []
  }
 ],
 "metadata": {
  "kernelspec": {
   "display_name": "Python 3 (ipykernel)",
   "language": "python",
   "name": "python3"
  },
  "language_info": {
   "codemirror_mode": {
    "name": "ipython",
    "version": 3
   },
   "file_extension": ".py",
   "mimetype": "text/x-python",
   "name": "python",
   "nbconvert_exporter": "python",
   "pygments_lexer": "ipython3",
   "version": "3.10.6"
  }
 },
 "nbformat": 4,
 "nbformat_minor": 5
}
