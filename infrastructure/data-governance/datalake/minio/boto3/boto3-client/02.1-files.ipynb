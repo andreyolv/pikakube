{
 "cells": [
  {
   "cell_type": "code",
   "execution_count": null,
   "id": "de710bf0-463d-4f89-8315-fc938115ea66",
   "metadata": {},
   "outputs": [],
   "source": [
    "import os\n",
    "import boto3\n",
    "from dotenv import dotenv_values\n",
    "\n",
    "aws_credentials = dotenv_values(\"../env\")\n",
    "\n",
    "s3 = boto3.client('s3', \n",
    "    endpoint_url=aws_credentials['AWS_ENDPOINT_URL'], \n",
    "    aws_access_key_id=aws_credentials['ACCESS_KEY_ID'], \n",
    "    aws_secret_access_key=aws_credentials['SECRET_ACCESS_KEY']\n",
    ")"
   ]
  },
  {
   "cell_type": "markdown",
   "id": "33be8277-492c-479a-977b-7ee57ed92432",
   "metadata": {},
   "source": [
    "# Files"
   ]
  },
  {
   "cell_type": "markdown",
   "id": "62c9c96a-bd72-4e64-bc4f-aebac85350a8",
   "metadata": {},
   "source": [
    "## [download_file](https://boto3.amazonaws.com/v1/documentation/api/latest/reference/services/s3/client/download_file.html)"
   ]
  },
  {
   "cell_type": "code",
   "execution_count": null,
   "id": "9cc60fa1-5c6f-4f89-beab-518b0f0c692a",
   "metadata": {},
   "outputs": [],
   "source": [
    "!pwd"
   ]
  },
  {
   "cell_type": "code",
   "execution_count": null,
   "id": "614f073c-be56-431d-b368-7f478c6b42fb",
   "metadata": {},
   "outputs": [],
   "source": [
    "BUCKET = 'teste'\n",
    "PATH_ROOT = '/home/jovyan/jsons/'\n",
    "FILENAME = '/home/jovyan/jsons/output_4.json'\n",
    "KEY = 'output_4.json'"
   ]
  },
  {
   "cell_type": "code",
   "execution_count": null,
   "id": "6880d5f8-f501-4219-bdf6-cdfe0f74b033",
   "metadata": {},
   "outputs": [],
   "source": [
    "s3.download_file(BUCKET, KEY, FILENAME)"
   ]
  },
  {
   "cell_type": "markdown",
   "id": "4cb27b37-b31b-42e0-9f40-7d90e08b74a8",
   "metadata": {},
   "source": [
    "## [upload_file](https://boto3.amazonaws.com/v1/documentation/api/latest/reference/services/s3/client/upload_file.html)\n",
    "\n",
    "Upload a file to an S3 object."
   ]
  },
  {
   "cell_type": "code",
   "execution_count": null,
   "id": "22bf7024-9ce9-40f3-8f57-1510af7c4a55",
   "metadata": {},
   "outputs": [],
   "source": [
    "s3.upload_file(Filename=FILENAME\n",
    "               ,Bucket=BUCKET\n",
    "               ,Key=KEY\n",
    "              )"
   ]
  },
  {
   "cell_type": "code",
   "execution_count": null,
   "id": "8a5e7abc-bd90-4445-92b3-682c2649faa2",
   "metadata": {},
   "outputs": [],
   "source": [
    "lista_arquivos = sorted([arquivo for arquivo in os.listdir(PATH_ROOT) if arquivo.endswith('.json')])"
   ]
  },
  {
   "cell_type": "code",
   "execution_count": null,
   "id": "50017fd4-86ad-4780-b30c-26c567479816",
   "metadata": {},
   "outputs": [],
   "source": [
    "lista_arquivos"
   ]
  },
  {
   "cell_type": "code",
   "execution_count": null,
   "id": "74694e4d-0366-47f5-870c-f312a45a6fec",
   "metadata": {},
   "outputs": [],
   "source": [
    "for arquivo in lista_arquivos:\n",
    "    s3.upload_file(PATH_ROOT+arquivo, BUCKET, arquivo)\n",
    "    print(\"Upload Successful \"+arquivo)"
   ]
  },
  {
   "cell_type": "code",
   "execution_count": null,
   "id": "7f1ef8c6-5bcc-4d73-a873-122b6c1df657",
   "metadata": {},
   "outputs": [],
   "source": []
  }
 ],
 "metadata": {
  "kernelspec": {
   "display_name": "Python 3 (ipykernel)",
   "language": "python",
   "name": "python3"
  },
  "language_info": {
   "codemirror_mode": {
    "name": "ipython",
    "version": 3
   },
   "file_extension": ".py",
   "mimetype": "text/x-python",
   "name": "python",
   "nbconvert_exporter": "python",
   "pygments_lexer": "ipython3",
   "version": "3.10.6"
  }
 },
 "nbformat": 4,
 "nbformat_minor": 5
}
