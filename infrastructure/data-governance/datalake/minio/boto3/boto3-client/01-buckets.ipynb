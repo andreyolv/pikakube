{
 "cells": [
  {
   "cell_type": "code",
   "execution_count": null,
   "id": "de710bf0-463d-4f89-8315-fc938115ea66",
   "metadata": {},
   "outputs": [],
   "source": [
    "import json\n",
    "import boto3\n",
    "from dotenv import dotenv_values\n",
    "\n",
    "aws_credentials = dotenv_values(\"../env\")\n",
    "\n",
    "s3 = boto3.client('s3', \n",
    "    endpoint_url=aws_credentials['AWS_ENDPOINT_URL'], \n",
    "    aws_access_key_id=aws_credentials['ACCESS_KEY_ID'], \n",
    "    aws_secret_access_key=aws_credentials['SECRET_ACCESS_KEY']\n",
    ")"
   ]
  },
  {
   "cell_type": "markdown",
   "id": "a468cf50-f348-40e1-8e0f-c0a12d2a2bce",
   "metadata": {},
   "source": [
    "https://boto3.amazonaws.com/v1/documentation/api/latest/reference/services/s3.html"
   ]
  },
  {
   "cell_type": "markdown",
   "id": "09d9b36f-4078-4c21-9a4d-b346fe8d5321",
   "metadata": {},
   "source": [
    "## [list_buckets](https://boto3.amazonaws.com/v1/documentation/api/latest/reference/services/s3/client/list_buckets.html)"
   ]
  },
  {
   "cell_type": "code",
   "execution_count": null,
   "id": "6b5d0187-9756-4eb5-b60d-5138479d9666",
   "metadata": {},
   "outputs": [],
   "source": [
    "response = s3.list_buckets()"
   ]
  },
  {
   "cell_type": "code",
   "execution_count": null,
   "id": "2ff4355a-fd44-4451-944a-e5f3393cf3a8",
   "metadata": {},
   "outputs": [],
   "source": [
    "response"
   ]
  },
  {
   "cell_type": "code",
   "execution_count": null,
   "id": "ab2f9c0f-38af-44c5-a8dc-95bc52e2fe05",
   "metadata": {},
   "outputs": [],
   "source": [
    "for bucket in response[\"Buckets\"]:\n",
    "    print(bucket[\"Name\"])"
   ]
  },
  {
   "cell_type": "markdown",
   "id": "68c09d3c-c7b5-4c71-bf40-818c9e06786c",
   "metadata": {},
   "source": [
    "## [create_bucket](https://boto3.amazonaws.com/v1/documentation/api/latest/reference/services/s3/client/create_bucket.html)"
   ]
  },
  {
   "cell_type": "code",
   "execution_count": null,
   "id": "e96e9710-8020-4d88-aabf-899a486894b7",
   "metadata": {},
   "outputs": [],
   "source": [
    "BUCKET = 'exemplo'"
   ]
  },
  {
   "cell_type": "code",
   "execution_count": null,
   "id": "019d5df2-e803-4605-bd92-943f4914dfba",
   "metadata": {},
   "outputs": [],
   "source": [
    "BUCKET2 = 'plumbers'"
   ]
  },
  {
   "cell_type": "code",
   "execution_count": null,
   "id": "64254c3b-5afb-437f-b509-e80b2192a7a8",
   "metadata": {},
   "outputs": [],
   "source": [
    "response = s3.create_bucket(Bucket=BUCKET)"
   ]
  },
  {
   "cell_type": "code",
   "execution_count": null,
   "id": "1e8196b5-dc7b-4c5e-96c5-29fbee76dcef",
   "metadata": {},
   "outputs": [],
   "source": [
    "response = s3.create_bucket(Bucket=BUCKET2)"
   ]
  },
  {
   "cell_type": "code",
   "execution_count": null,
   "id": "113573b9-26ad-490d-ae2e-8f9bb9e230c7",
   "metadata": {},
   "outputs": [],
   "source": [
    "response"
   ]
  },
  {
   "cell_type": "code",
   "execution_count": null,
   "id": "b2febaf9-8fe8-4782-9612-f8b3697bad75",
   "metadata": {},
   "outputs": [],
   "source": [
    "if response['ResponseMetadata']['HTTPStatusCode'] == 200:\n",
    "    print('S3 bucket was created successfully!')\n",
    "else:\n",
    "    print('Failed to create S3 bucket.')"
   ]
  },
  {
   "cell_type": "markdown",
   "id": "6b2f6767-e769-4487-af27-21fb45a0ae94",
   "metadata": {
    "tags": []
   },
   "source": [
    "## [head_bucket](https://boto3.amazonaws.com/v1/documentation/api/latest/reference/services/s3/client/head_bucket.html)"
   ]
  },
  {
   "cell_type": "code",
   "execution_count": null,
   "id": "0713db9e-a6fa-4cfa-912a-53bab8ebaf36",
   "metadata": {
    "tags": []
   },
   "outputs": [],
   "source": [
    "try:\n",
    "    s3.head_bucket(Bucket=BUCKET)\n",
    "    print(\"The bucket exists!\")\n",
    "except:\n",
    "    print(\"The bucket does not exist.\")"
   ]
  },
  {
   "cell_type": "markdown",
   "id": "4b8a11f7-38dc-4e1a-a48e-91cfd87cf64f",
   "metadata": {},
   "source": [
    "## [delete_bucket](https://boto3.amazonaws.com/v1/documentation/api/latest/reference/services/s3/client/delete_bucket.html)"
   ]
  },
  {
   "cell_type": "code",
   "execution_count": null,
   "id": "04856141-11a1-4c06-9ff0-c854dfcb0778",
   "metadata": {},
   "outputs": [],
   "source": [
    "response = s3.delete_bucket(Bucket=BUCKET)"
   ]
  },
  {
   "cell_type": "code",
   "execution_count": null,
   "id": "e82e7541-95bb-46c3-9b9b-82b20a90a192",
   "metadata": {},
   "outputs": [],
   "source": [
    "response"
   ]
  },
  {
   "cell_type": "code",
   "execution_count": null,
   "id": "a5171c53-04cc-46fc-b38b-07e9f7ebd4fe",
   "metadata": {},
   "outputs": [],
   "source": [
    "if response['ResponseMetadata']['HTTPStatusCode'] == 204:\n",
    "    print('Bucket deleted successfully!')\n",
    "else:\n",
    "    print('Failed to delete bucket.')"
   ]
  },
  {
   "cell_type": "code",
   "execution_count": null,
   "id": "e2872b3c-fa20-494d-9746-4206967e890f",
   "metadata": {},
   "outputs": [],
   "source": []
  }
 ],
 "metadata": {
  "kernelspec": {
   "display_name": "Python 3 (ipykernel)",
   "language": "python",
   "name": "python3"
  },
  "language_info": {
   "codemirror_mode": {
    "name": "ipython",
    "version": 3
   },
   "file_extension": ".py",
   "mimetype": "text/x-python",
   "name": "python",
   "nbconvert_exporter": "python",
   "pygments_lexer": "ipython3",
   "version": "3.10.6"
  }
 },
 "nbformat": 4,
 "nbformat_minor": 5
}
