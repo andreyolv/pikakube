{
 "cells": [
  {
   "cell_type": "code",
   "execution_count": 2,
   "id": "de710bf0-463d-4f89-8315-fc938115ea66",
   "metadata": {},
   "outputs": [],
   "source": [
    "import json\n",
    "from datetime import datetime\n",
    "import boto3\n",
    "from dotenv import dotenv_values\n",
    "\n",
    "aws_credentials = dotenv_values(\"../env\")\n",
    "\n",
    "client = boto3.client('s3', \n",
    "    endpoint_url=aws_credentials['AWS_ENDPOINT_URL'], \n",
    "    aws_access_key_id=aws_credentials['ACCESS_KEY_ID'], \n",
    "    aws_secret_access_key=aws_credentials['SECRET_ACCESS_KEY']\n",
    ")"
   ]
  },
  {
   "cell_type": "markdown",
   "id": "ae1c3ccc-1a2c-4841-9b4a-b873ced6257d",
   "metadata": {},
   "source": [
    "# Bucket Tags"
   ]
  },
  {
   "cell_type": "code",
   "execution_count": 3,
   "id": "9afc61ec-58a6-4de3-ac67-4607a485bff7",
   "metadata": {},
   "outputs": [],
   "source": [
    "BUCKET = 'abacate'"
   ]
  },
  {
   "cell_type": "markdown",
   "id": "d2810194-232c-4768-88e1-0b8d049b868f",
   "metadata": {},
   "source": [
    "## [put_bucket_tagging](https://boto3.amazonaws.com/v1/documentation/api/latest/reference/services/s3/client/put_bucket_tagging.html)"
   ]
  },
  {
   "cell_type": "code",
   "execution_count": 4,
   "id": "f31f2c4f-0d5b-4271-9816-4ac87fb221e5",
   "metadata": {},
   "outputs": [],
   "source": [
    "response = client.put_bucket_tagging(\n",
    "    Bucket=BUCKET,\n",
    "    Tagging={\n",
    "        'TagSet': [\n",
    "            {\n",
    "                'Key': 'Key1',\n",
    "                'Value': 'Value1',\n",
    "            },\n",
    "            {\n",
    "                'Key': 'Key2',\n",
    "                'Value': 'Value2',\n",
    "            },\n",
    "        ],\n",
    "    },\n",
    ")"
   ]
  },
  {
   "cell_type": "code",
   "execution_count": 5,
   "id": "b2eec009-d925-4d13-8000-a9770d121a79",
   "metadata": {},
   "outputs": [
    {
     "data": {
      "text/plain": [
       "{'ResponseMetadata': {'RequestId': '17659D73D9A46380',\n",
       "  'HostId': 'e3b0c44298fc1c149afbf4c8996fb92427ae41e4649b934ca495991b7852b855',\n",
       "  'HTTPStatusCode': 200,\n",
       "  'HTTPHeaders': {'accept-ranges': 'bytes',\n",
       "   'content-length': '0',\n",
       "   'content-security-policy': 'block-all-mixed-content',\n",
       "   'server': 'MinIO',\n",
       "   'strict-transport-security': 'max-age=31536000; includeSubDomains',\n",
       "   'vary': 'Origin, Accept-Encoding',\n",
       "   'x-amz-id-2': 'e3b0c44298fc1c149afbf4c8996fb92427ae41e4649b934ca495991b7852b855',\n",
       "   'x-amz-request-id': '17659D73D9A46380',\n",
       "   'x-content-type-options': 'nosniff',\n",
       "   'x-xss-protection': '1; mode=block',\n",
       "   'date': 'Mon, 05 Jun 2023 00:59:16 GMT'},\n",
       "  'RetryAttempts': 0}}"
      ]
     },
     "execution_count": 5,
     "metadata": {},
     "output_type": "execute_result"
    }
   ],
   "source": [
    "response"
   ]
  },
  {
   "cell_type": "markdown",
   "id": "51730204-aa10-4c31-8c17-63e25d418b78",
   "metadata": {},
   "source": [
    "## [get_bucket_tagging](https://boto3.amazonaws.com/v1/documentation/api/latest/reference/services/s3/client/get_bucket_tagging.html)"
   ]
  },
  {
   "cell_type": "code",
   "execution_count": 6,
   "id": "ab048f77-037b-408d-8685-36108e2edad3",
   "metadata": {},
   "outputs": [],
   "source": [
    "response = client.get_bucket_tagging(\n",
    "    Bucket=BUCKET\n",
    ")"
   ]
  },
  {
   "cell_type": "code",
   "execution_count": 7,
   "id": "37c01adf-e1cd-4861-8a60-20e5ff1feaca",
   "metadata": {},
   "outputs": [
    {
     "data": {
      "text/plain": [
       "{'ResponseMetadata': {'RequestId': '17659D7BEA62C2B6',\n",
       "  'HostId': 'e3b0c44298fc1c149afbf4c8996fb92427ae41e4649b934ca495991b7852b855',\n",
       "  'HTTPStatusCode': 200,\n",
       "  'HTTPHeaders': {'accept-ranges': 'bytes',\n",
       "   'content-length': '130',\n",
       "   'content-security-policy': 'block-all-mixed-content',\n",
       "   'content-type': 'application/xml',\n",
       "   'server': 'MinIO',\n",
       "   'strict-transport-security': 'max-age=31536000; includeSubDomains',\n",
       "   'vary': 'Origin, Accept-Encoding',\n",
       "   'x-amz-id-2': 'e3b0c44298fc1c149afbf4c8996fb92427ae41e4649b934ca495991b7852b855',\n",
       "   'x-amz-request-id': '17659D7BEA62C2B6',\n",
       "   'x-content-type-options': 'nosniff',\n",
       "   'x-xss-protection': '1; mode=block',\n",
       "   'date': 'Mon, 05 Jun 2023 00:59:51 GMT'},\n",
       "  'RetryAttempts': 0},\n",
       " 'TagSet': [{'Key': 'Key1', 'Value': 'Value1'},\n",
       "  {'Key': 'Key2', 'Value': 'Value2'}]}"
      ]
     },
     "execution_count": 7,
     "metadata": {},
     "output_type": "execute_result"
    }
   ],
   "source": [
    "response"
   ]
  },
  {
   "cell_type": "markdown",
   "id": "7f7cdc9e-b526-49fe-80d4-c00e9f6a1ba8",
   "metadata": {},
   "source": [
    "## [delete_bucket_tagging](https://boto3.amazonaws.com/v1/documentation/api/latest/reference/services/s3/client/delete_bucket_tagging.html)"
   ]
  },
  {
   "cell_type": "code",
   "execution_count": 8,
   "id": "0facd502-4360-4222-908c-d89ee166dd63",
   "metadata": {},
   "outputs": [],
   "source": [
    "response = client.delete_bucket_tagging(Bucket=BUCKET)"
   ]
  },
  {
   "cell_type": "code",
   "execution_count": 9,
   "id": "84eefaad-cac0-4d1a-9e2b-9e682a05e0e5",
   "metadata": {},
   "outputs": [
    {
     "data": {
      "text/plain": [
       "{'ResponseMetadata': {'RequestId': '17659D7D5E192404',\n",
       "  'HostId': 'e3b0c44298fc1c149afbf4c8996fb92427ae41e4649b934ca495991b7852b855',\n",
       "  'HTTPStatusCode': 200,\n",
       "  'HTTPHeaders': {'accept-ranges': 'bytes',\n",
       "   'content-length': '0',\n",
       "   'content-security-policy': 'block-all-mixed-content',\n",
       "   'server': 'MinIO',\n",
       "   'strict-transport-security': 'max-age=31536000; includeSubDomains',\n",
       "   'vary': 'Origin, Accept-Encoding',\n",
       "   'x-amz-id-2': 'e3b0c44298fc1c149afbf4c8996fb92427ae41e4649b934ca495991b7852b855',\n",
       "   'x-amz-request-id': '17659D7D5E192404',\n",
       "   'x-content-type-options': 'nosniff',\n",
       "   'x-xss-protection': '1; mode=block',\n",
       "   'date': 'Mon, 05 Jun 2023 00:59:57 GMT'},\n",
       "  'RetryAttempts': 0}}"
      ]
     },
     "execution_count": 9,
     "metadata": {},
     "output_type": "execute_result"
    }
   ],
   "source": [
    "response"
   ]
  },
  {
   "cell_type": "markdown",
   "id": "ae660162-cc4b-4575-b74f-ba4369a8191d",
   "metadata": {},
   "source": [
    "# Object Tags"
   ]
  },
  {
   "cell_type": "code",
   "execution_count": 11,
   "id": "12f721b3-5f48-4d43-84da-03c4eb73f8ef",
   "metadata": {},
   "outputs": [],
   "source": [
    "BUCKET = 'abacate'\n",
    "OBJECT = 'output_0.json'"
   ]
  },
  {
   "cell_type": "markdown",
   "id": "e4bb7f15-923b-40ec-9a12-34e955605317",
   "metadata": {},
   "source": [
    "## [put_object_tagging](https://boto3.amazonaws.com/v1/documentation/api/latest/reference/services/s3/client/put_object_tagging.html)"
   ]
  },
  {
   "cell_type": "code",
   "execution_count": 12,
   "id": "702c1600-ae3f-4606-add0-5750c5059f96",
   "metadata": {},
   "outputs": [],
   "source": [
    "response = client.put_object_tagging(\n",
    "    Bucket=BUCKET,\n",
    "    Key=OBJECT,\n",
    "    Tagging={\n",
    "        'TagSet': [\n",
    "            {\n",
    "                'Key': 'string',\n",
    "                'Value': 'string'\n",
    "            },\n",
    "        ]\n",
    "    }\n",
    ")"
   ]
  },
  {
   "cell_type": "code",
   "execution_count": 13,
   "id": "8c3da88c-f454-4c51-a2ef-30135f629291",
   "metadata": {},
   "outputs": [
    {
     "data": {
      "text/plain": [
       "{'ResponseMetadata': {'RequestId': '17659D8A92F48ABF',\n",
       "  'HostId': 'e3b0c44298fc1c149afbf4c8996fb92427ae41e4649b934ca495991b7852b855',\n",
       "  'HTTPStatusCode': 200,\n",
       "  'HTTPHeaders': {'accept-ranges': 'bytes',\n",
       "   'content-length': '0',\n",
       "   'content-security-policy': 'block-all-mixed-content',\n",
       "   'server': 'MinIO',\n",
       "   'strict-transport-security': 'max-age=31536000; includeSubDomains',\n",
       "   'vary': 'Origin, Accept-Encoding',\n",
       "   'x-amz-id-2': 'e3b0c44298fc1c149afbf4c8996fb92427ae41e4649b934ca495991b7852b855',\n",
       "   'x-amz-request-id': '17659D8A92F48ABF',\n",
       "   'x-content-type-options': 'nosniff',\n",
       "   'x-xss-protection': '1; mode=block',\n",
       "   'x-amz-version-id': '3cc4ec89-c94a-46e1-ae59-448f98ba0826',\n",
       "   'date': 'Mon, 05 Jun 2023 01:00:54 GMT'},\n",
       "  'RetryAttempts': 0},\n",
       " 'VersionId': '3cc4ec89-c94a-46e1-ae59-448f98ba0826'}"
      ]
     },
     "execution_count": 13,
     "metadata": {},
     "output_type": "execute_result"
    }
   ],
   "source": [
    "response"
   ]
  },
  {
   "cell_type": "markdown",
   "id": "740223a5-fb48-4617-a101-0b6697d44c59",
   "metadata": {},
   "source": [
    "## [get_object_tagging](https://boto3.amazonaws.com/v1/documentation/api/latest/reference/services/s3/client/get_object_tagging.html)"
   ]
  },
  {
   "cell_type": "code",
   "execution_count": 14,
   "id": "1b3520be-55a7-4301-b5fc-d6dfaa6e1825",
   "metadata": {},
   "outputs": [],
   "source": [
    "response = client.get_object_tagging(\n",
    "    Bucket=BUCKET,\n",
    "    Key=OBJECT,\n",
    ")"
   ]
  },
  {
   "cell_type": "code",
   "execution_count": 15,
   "id": "cfbdecc7-664c-45a2-8459-9a4840a998b6",
   "metadata": {},
   "outputs": [
    {
     "data": {
      "text/plain": [
       "{'ResponseMetadata': {'RequestId': '17659D96EB559881',\n",
       "  'HostId': 'e3b0c44298fc1c149afbf4c8996fb92427ae41e4649b934ca495991b7852b855',\n",
       "  'HTTPStatusCode': 200,\n",
       "  'HTTPHeaders': {'accept-ranges': 'bytes',\n",
       "   'content-length': '124',\n",
       "   'content-security-policy': 'block-all-mixed-content',\n",
       "   'content-type': 'application/xml',\n",
       "   'server': 'MinIO',\n",
       "   'strict-transport-security': 'max-age=31536000; includeSubDomains',\n",
       "   'vary': 'Origin, Accept-Encoding',\n",
       "   'x-amz-id-2': 'e3b0c44298fc1c149afbf4c8996fb92427ae41e4649b934ca495991b7852b855',\n",
       "   'x-amz-request-id': '17659D96EB559881',\n",
       "   'x-content-type-options': 'nosniff',\n",
       "   'x-xss-protection': '1; mode=block',\n",
       "   'date': 'Mon, 05 Jun 2023 01:01:47 GMT'},\n",
       "  'RetryAttempts': 0},\n",
       " 'TagSet': [{'Key': 'string', 'Value': 'string'}]}"
      ]
     },
     "execution_count": 15,
     "metadata": {},
     "output_type": "execute_result"
    }
   ],
   "source": [
    "response"
   ]
  },
  {
   "cell_type": "markdown",
   "id": "c2f5e726-40a2-49d5-b811-c91ed6440f87",
   "metadata": {},
   "source": [
    "## [delete_object_tagging](https://boto3.amazonaws.com/v1/documentation/api/latest/reference/services/s3/client/delete_object_tagging.html)"
   ]
  },
  {
   "cell_type": "code",
   "execution_count": 16,
   "id": "80d437b9-e8ec-45f5-95c4-b1b339345ae2",
   "metadata": {},
   "outputs": [],
   "source": [
    "response = client.delete_object_tagging(\n",
    "    Bucket=BUCKET,\n",
    "    Key=OBJECT\n",
    ")"
   ]
  },
  {
   "cell_type": "code",
   "execution_count": 17,
   "id": "8093bc59-3d93-4a10-a476-0d1246eb9f17",
   "metadata": {},
   "outputs": [
    {
     "data": {
      "text/plain": [
       "{'ResponseMetadata': {'RequestId': '17659D9AE9A250BB',\n",
       "  'HostId': 'e3b0c44298fc1c149afbf4c8996fb92427ae41e4649b934ca495991b7852b855',\n",
       "  'HTTPStatusCode': 204,\n",
       "  'HTTPHeaders': {'accept-ranges': 'bytes',\n",
       "   'content-security-policy': 'block-all-mixed-content',\n",
       "   'server': 'MinIO',\n",
       "   'strict-transport-security': 'max-age=31536000; includeSubDomains',\n",
       "   'vary': 'Origin, Accept-Encoding',\n",
       "   'x-amz-id-2': 'e3b0c44298fc1c149afbf4c8996fb92427ae41e4649b934ca495991b7852b855',\n",
       "   'x-amz-request-id': '17659D9AE9A250BB',\n",
       "   'x-content-type-options': 'nosniff',\n",
       "   'x-xss-protection': '1; mode=block',\n",
       "   'x-amz-version-id': '3cc4ec89-c94a-46e1-ae59-448f98ba0826',\n",
       "   'date': 'Mon, 05 Jun 2023 01:02:04 GMT'},\n",
       "  'RetryAttempts': 0},\n",
       " 'VersionId': '3cc4ec89-c94a-46e1-ae59-448f98ba0826'}"
      ]
     },
     "execution_count": 17,
     "metadata": {},
     "output_type": "execute_result"
    }
   ],
   "source": [
    "response"
   ]
  },
  {
   "cell_type": "code",
   "execution_count": null,
   "id": "6ef22c43-d8d8-4452-aae4-e189e98ebd0a",
   "metadata": {},
   "outputs": [],
   "source": []
  }
 ],
 "metadata": {
  "kernelspec": {
   "display_name": "Python 3 (ipykernel)",
   "language": "python",
   "name": "python3"
  },
  "language_info": {
   "codemirror_mode": {
    "name": "ipython",
    "version": 3
   },
   "file_extension": ".py",
   "mimetype": "text/x-python",
   "name": "python",
   "nbconvert_exporter": "python",
   "pygments_lexer": "ipython3",
   "version": "3.10.6"
  }
 },
 "nbformat": 4,
 "nbformat_minor": 5
}
