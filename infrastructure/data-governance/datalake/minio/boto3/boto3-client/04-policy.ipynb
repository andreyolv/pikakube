{
 "cells": [
  {
   "cell_type": "code",
   "execution_count": 1,
   "id": "de710bf0-463d-4f89-8315-fc938115ea66",
   "metadata": {},
   "outputs": [],
   "source": [
    "import json\n",
    "from datetime import datetime\n",
    "import boto3\n",
    "from dotenv import dotenv_values\n",
    "\n",
    "aws_credentials = dotenv_values(\"../env\")\n",
    "\n",
    "client = boto3.client('s3', \n",
    "    endpoint_url=aws_credentials['AWS_ENDPOINT_URL'], \n",
    "    aws_access_key_id=aws_credentials['ACCESS_KEY_ID'], \n",
    "    aws_secret_access_key=aws_credentials['SECRET_ACCESS_KEY']\n",
    ")"
   ]
  },
  {
   "cell_type": "markdown",
   "id": "ae1c3ccc-1a2c-4841-9b4a-b873ced6257d",
   "metadata": {},
   "source": [
    "# Policy"
   ]
  },
  {
   "cell_type": "code",
   "execution_count": 10,
   "id": "9afc61ec-58a6-4de3-ac67-4607a485bff7",
   "metadata": {},
   "outputs": [],
   "source": [
    "BUCKET = 'abacate'"
   ]
  },
  {
   "cell_type": "markdown",
   "id": "686ede92-56c2-4bba-a853-a3d4ffc27505",
   "metadata": {},
   "source": [
    "## [put_bucket_policy](https://boto3.amazonaws.com/v1/documentation/api/latest/reference/services/s3/client/put_bucket_policy.html)"
   ]
  },
  {
   "cell_type": "code",
   "execution_count": 14,
   "id": "19fc8d46-7af2-48fa-bc9c-e0a4cc02d203",
   "metadata": {},
   "outputs": [],
   "source": [
    "response = client.put_bucket_policy(\n",
    "    Bucket=BUCKET,\n",
    "    Policy='{\"Version\":\"2012-10-17\",\"Statement\":[{\"Effect\":\"Allow\",\"Principal\":{\"AWS\":[\"*\"]},\"Action\":[\"s3:GetBucketLocation\",\"s3:ListBucket\"],\"Resource\":[\"arn:aws:s3:::abacate\"]},{\"Effect\":\"Allow\",\"Principal\":{\"AWS\":[\"*\"]},\"Action\":[\"s3:GetObject\"],\"Resource\":[\"arn:aws:s3:::abacate/*\"]}]}'\n",
    ")"
   ]
  },
  {
   "cell_type": "code",
   "execution_count": 19,
   "id": "cd2bf28c-97e8-49e5-8bcc-919a8cb11e1d",
   "metadata": {},
   "outputs": [
    {
     "data": {
      "text/plain": [
       "{'ResponseMetadata': {'RequestId': '17659D03838F2F87',\n",
       "  'HostId': 'e3b0c44298fc1c149afbf4c8996fb92427ae41e4649b934ca495991b7852b855',\n",
       "  'HTTPStatusCode': 204,\n",
       "  'HTTPHeaders': {'accept-ranges': 'bytes',\n",
       "   'content-security-policy': 'block-all-mixed-content',\n",
       "   'server': 'MinIO',\n",
       "   'strict-transport-security': 'max-age=31536000; includeSubDomains',\n",
       "   'vary': 'Origin, Accept-Encoding',\n",
       "   'x-amz-id-2': 'e3b0c44298fc1c149afbf4c8996fb92427ae41e4649b934ca495991b7852b855',\n",
       "   'x-amz-request-id': '17659D03838F2F87',\n",
       "   'x-content-type-options': 'nosniff',\n",
       "   'x-xss-protection': '1; mode=block',\n",
       "   'date': 'Mon, 05 Jun 2023 00:51:13 GMT'},\n",
       "  'RetryAttempts': 0}}"
      ]
     },
     "execution_count": 19,
     "metadata": {},
     "output_type": "execute_result"
    }
   ],
   "source": [
    "response"
   ]
  },
  {
   "cell_type": "markdown",
   "id": "a36f54c0-9666-4b94-b91d-77145e568c19",
   "metadata": {},
   "source": [
    "## [get_bucket_policy](https://boto3.amazonaws.com/v1/documentation/api/latest/reference/services/s3/client/get_bucket_policy.html)"
   ]
  },
  {
   "cell_type": "code",
   "execution_count": 15,
   "id": "43eb1485-8624-46c8-8f68-3045f5ce4547",
   "metadata": {},
   "outputs": [],
   "source": [
    "response = client.get_bucket_policy(Bucket=BUCKET)"
   ]
  },
  {
   "cell_type": "code",
   "execution_count": 16,
   "id": "3378b1e3-bf8c-4cc6-a2db-8c48e3856a8d",
   "metadata": {},
   "outputs": [
    {
     "data": {
      "text/plain": [
       "{'ResponseMetadata': {'RequestId': '17659CFF2D562E3E',\n",
       "  'HostId': 'e3b0c44298fc1c149afbf4c8996fb92427ae41e4649b934ca495991b7852b855',\n",
       "  'HTTPStatusCode': 200,\n",
       "  'HTTPHeaders': {'accept-ranges': 'bytes',\n",
       "   'content-length': '278',\n",
       "   'content-security-policy': 'block-all-mixed-content',\n",
       "   'content-type': 'application/json',\n",
       "   'server': 'MinIO',\n",
       "   'strict-transport-security': 'max-age=31536000; includeSubDomains',\n",
       "   'vary': 'Origin, Accept-Encoding',\n",
       "   'x-amz-id-2': 'e3b0c44298fc1c149afbf4c8996fb92427ae41e4649b934ca495991b7852b855',\n",
       "   'x-amz-request-id': '17659CFF2D562E3E',\n",
       "   'x-content-type-options': 'nosniff',\n",
       "   'x-xss-protection': '1; mode=block',\n",
       "   'date': 'Mon, 05 Jun 2023 00:50:55 GMT'},\n",
       "  'RetryAttempts': 0},\n",
       " 'Policy': '{\"Version\":\"2012-10-17\",\"Statement\":[{\"Effect\":\"Allow\",\"Principal\":{\"AWS\":[\"*\"]},\"Action\":[\"s3:GetBucketLocation\",\"s3:ListBucket\"],\"Resource\":[\"arn:aws:s3:::abacate\"]},{\"Effect\":\"Allow\",\"Principal\":{\"AWS\":[\"*\"]},\"Action\":[\"s3:GetObject\"],\"Resource\":[\"arn:aws:s3:::abacate/*\"]}]}'}"
      ]
     },
     "execution_count": 16,
     "metadata": {},
     "output_type": "execute_result"
    }
   ],
   "source": [
    "response"
   ]
  },
  {
   "cell_type": "markdown",
   "id": "ac086732-a119-44f9-9709-6219f75fb126",
   "metadata": {},
   "source": [
    "## [delete_bucket_policy](https://boto3.amazonaws.com/v1/documentation/api/latest/reference/services/s3/client/delete_bucket_policy.html)"
   ]
  },
  {
   "cell_type": "code",
   "execution_count": 17,
   "id": "0ed109fe-94f0-4fcb-a71a-ef01c09b93aa",
   "metadata": {},
   "outputs": [],
   "source": [
    "response = client.delete_bucket_policy(Bucket=BUCKET)"
   ]
  },
  {
   "cell_type": "code",
   "execution_count": 18,
   "id": "6fa9faf5-93c2-4a35-89cf-6c1d53f990fa",
   "metadata": {},
   "outputs": [
    {
     "data": {
      "text/plain": [
       "{'ResponseMetadata': {'RequestId': '17659D03838F2F87',\n",
       "  'HostId': 'e3b0c44298fc1c149afbf4c8996fb92427ae41e4649b934ca495991b7852b855',\n",
       "  'HTTPStatusCode': 204,\n",
       "  'HTTPHeaders': {'accept-ranges': 'bytes',\n",
       "   'content-security-policy': 'block-all-mixed-content',\n",
       "   'server': 'MinIO',\n",
       "   'strict-transport-security': 'max-age=31536000; includeSubDomains',\n",
       "   'vary': 'Origin, Accept-Encoding',\n",
       "   'x-amz-id-2': 'e3b0c44298fc1c149afbf4c8996fb92427ae41e4649b934ca495991b7852b855',\n",
       "   'x-amz-request-id': '17659D03838F2F87',\n",
       "   'x-content-type-options': 'nosniff',\n",
       "   'x-xss-protection': '1; mode=block',\n",
       "   'date': 'Mon, 05 Jun 2023 00:51:13 GMT'},\n",
       "  'RetryAttempts': 0}}"
      ]
     },
     "execution_count": 18,
     "metadata": {},
     "output_type": "execute_result"
    }
   ],
   "source": [
    "response"
   ]
  },
  {
   "cell_type": "code",
   "execution_count": null,
   "id": "a5b7ea60-7a07-49fa-90a2-e6c6ce207a35",
   "metadata": {},
   "outputs": [],
   "source": []
  }
 ],
 "metadata": {
  "kernelspec": {
   "display_name": "Python 3 (ipykernel)",
   "language": "python",
   "name": "python3"
  },
  "language_info": {
   "codemirror_mode": {
    "name": "ipython",
    "version": 3
   },
   "file_extension": ".py",
   "mimetype": "text/x-python",
   "name": "python",
   "nbconvert_exporter": "python",
   "pygments_lexer": "ipython3",
   "version": "3.10.6"
  }
 },
 "nbformat": 4,
 "nbformat_minor": 5
}
