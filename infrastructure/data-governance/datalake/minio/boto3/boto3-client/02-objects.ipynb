{
 "cells": [
  {
   "cell_type": "code",
   "execution_count": null,
   "id": "de710bf0-463d-4f89-8315-fc938115ea66",
   "metadata": {},
   "outputs": [],
   "source": [
    "import io\n",
    "import json\n",
    "import boto3\n",
    "from dotenv import dotenv_values\n",
    "\n",
    "aws_credentials = dotenv_values(\"../env\")\n",
    "\n",
    "s3 = boto3.client('s3', \n",
    "    endpoint_url=aws_credentials['AWS_ENDPOINT_URL'], \n",
    "    aws_access_key_id=aws_credentials['ACCESS_KEY_ID'], \n",
    "    aws_secret_access_key=aws_credentials['SECRET_ACCESS_KEY']\n",
    ")"
   ]
  },
  {
   "cell_type": "markdown",
   "id": "dd76f3af-fd72-42a9-9678-5ed7b9eb631f",
   "metadata": {},
   "source": [
    "## [list_objects_v2](https://boto3.amazonaws.com/v1/documentation/api/latest/reference/services/s3/client/list_objects_v2.html)"
   ]
  },
  {
   "cell_type": "code",
   "execution_count": null,
   "id": "b7f6da5c-369f-4887-bac0-2bc9ab827f2b",
   "metadata": {},
   "outputs": [],
   "source": [
    "BUCKET = 'plumbers'"
   ]
  },
  {
   "cell_type": "code",
   "execution_count": null,
   "id": "28d0fb3d-8625-43b8-8494-856483028585",
   "metadata": {},
   "outputs": [],
   "source": [
    "response = s3.list_objects_v2(Bucket=BUCKET)"
   ]
  },
  {
   "cell_type": "code",
   "execution_count": null,
   "id": "ae2afa97-c287-4a9d-8ecc-256a3db03ede",
   "metadata": {},
   "outputs": [],
   "source": [
    "response"
   ]
  },
  {
   "cell_type": "code",
   "execution_count": null,
   "id": "b2975ce4-32e5-4196-95ae-047c51b1bf83",
   "metadata": {},
   "outputs": [],
   "source": [
    "for obj in response[\"Contents\"]:\n",
    "    print(obj[\"Key\"])"
   ]
  },
  {
   "cell_type": "markdown",
   "id": "42bb9c28-e569-4cf9-9a9c-2143a10bc031",
   "metadata": {},
   "source": [
    "## [get_object](https://boto3.amazonaws.com/v1/documentation/api/latest/reference/services/s3/client/get_object.html)"
   ]
  },
  {
   "cell_type": "code",
   "execution_count": null,
   "id": "a1016bcd-0e14-4ea2-83a7-4ea110675ebc",
   "metadata": {},
   "outputs": [],
   "source": [
    "KEY = 'output_5.json'\n",
    "\n",
    "response = s3.get_object(Bucket=BUCKET, Key=KEY)"
   ]
  },
  {
   "cell_type": "code",
   "execution_count": null,
   "id": "4248b008-8cf4-452d-bd77-96d341f9b4aa",
   "metadata": {},
   "outputs": [],
   "source": [
    "response"
   ]
  },
  {
   "cell_type": "code",
   "execution_count": null,
   "id": "b46b9a40-3629-43ca-8f3d-31a5c61c5623",
   "metadata": {},
   "outputs": [],
   "source": [
    "response[\"Body\"].read()"
   ]
  },
  {
   "cell_type": "code",
   "execution_count": null,
   "id": "0d841a43-e9aa-4f3f-bae5-3f580cd70d68",
   "metadata": {},
   "outputs": [],
   "source": [
    "response[\"Body\"].read().decode()"
   ]
  },
  {
   "cell_type": "markdown",
   "id": "116df862-3d2e-420d-9244-3623decb36fc",
   "metadata": {},
   "source": [
    "## [put_object](https://boto3.amazonaws.com/v1/documentation/api/latest/reference/services/s3/client/put_object.html)\n",
    "\n",
    "Adds an object to a bucket."
   ]
  },
  {
   "cell_type": "code",
   "execution_count": null,
   "id": "c32aefd9-6d89-4911-846c-94a39f17ac16",
   "metadata": {},
   "outputs": [],
   "source": [
    "json_file = {\"clientes\": [{\"id\": \"1b484d189cafc68008fbcb1adef94082\", \"name\": \"BARTOLOMEU\", \"idade\": 38, \"credito_solicitado\": 230311, \"data_solicitacao\": \"01/15/2022 08:11\"}, {\"id\": \"c4e0c38c502b109a9324cf8fd90ef907\", \"name\": \"NIGEL\", \"idade\": 54, \"credito_solicitado\": 345304, \"data_solicitacao\": \"01/15/2022 16:48\"}, {\"id\": \"89d21736d351f3a6445c91f753b1fb1f\", \"name\": \"MAXIMILLIAN\", \"idade\": 60, \"credito_solicitado\": 423406, \"data_solicitacao\": \"01/23/2022 18:10\"}, {\"id\": \"48d605f6dfa428020ba67298ad1a4041\", \"name\": \"AHIL\", \"idade\": 54, \"credito_solicitado\": 402914, \"data_solicitacao\": \"01/02/2022 03:56\"}, {\"id\": \"5e0f2688c5f1c64c92df687ac4917ce3\", \"name\": \"INDIE\", \"idade\": 64, \"credito_solicitado\": 182364, \"data_solicitacao\": \"01/19/2022 08:16\"}]}"
   ]
  },
  {
   "cell_type": "code",
   "execution_count": null,
   "id": "f28a8766-619a-407b-91aa-1a65b6412feb",
   "metadata": {},
   "outputs": [],
   "source": [
    "json_file"
   ]
  },
  {
   "cell_type": "code",
   "execution_count": null,
   "id": "cd341b33-704d-4456-8d95-240e7c35da31",
   "metadata": {},
   "outputs": [],
   "source": [
    "type(json_file)"
   ]
  },
  {
   "cell_type": "code",
   "execution_count": null,
   "id": "0a1a77e6-6b20-4d21-ad2f-b94cb21859d9",
   "metadata": {},
   "outputs": [],
   "source": [
    "json_record = json.dumps(json_file)"
   ]
  },
  {
   "cell_type": "code",
   "execution_count": null,
   "id": "74e937ff-bc02-4d03-8d33-5230d27c098d",
   "metadata": {},
   "outputs": [],
   "source": [
    "json_record"
   ]
  },
  {
   "cell_type": "code",
   "execution_count": null,
   "id": "6473b8f9-b781-4f0d-9565-60a012cdcac5",
   "metadata": {},
   "outputs": [],
   "source": [
    "type(json_record)"
   ]
  },
  {
   "cell_type": "code",
   "execution_count": null,
   "id": "d3441b51-1aaa-4f05-97f0-b48fa2ed40c8",
   "metadata": {},
   "outputs": [],
   "source": [
    "OBJECT_KEY = 'output_105.json'\n",
    "\n",
    "response = s3.put_object(\n",
    "    Bucket=BUCKET, \n",
    "    Key=OBJECT_KEY, \n",
    "    Body=json_record\n",
    ")"
   ]
  },
  {
   "cell_type": "code",
   "execution_count": null,
   "id": "5a753f81-c787-42c5-a586-c2fe123400da",
   "metadata": {},
   "outputs": [],
   "source": [
    "response"
   ]
  },
  {
   "cell_type": "code",
   "execution_count": null,
   "id": "dd417129-c2e1-4c3d-8fe9-c0e9db079858",
   "metadata": {},
   "outputs": [],
   "source": [
    "# Check if the response was successful\n",
    "if response['ResponseMetadata']['HTTPStatusCode'] == 200:\n",
    "    print('JSON file written to S3 successfully!')\n",
    "else:\n",
    "    print('Failed to write JSON file to S3.')"
   ]
  },
  {
   "cell_type": "markdown",
   "id": "3b656063-3bd1-497e-a77e-63157e161c5c",
   "metadata": {},
   "source": [
    "## [head_object](https://boto3.amazonaws.com/v1/documentation/api/latest/reference/services/s3/client/head_object.html)"
   ]
  },
  {
   "cell_type": "code",
   "execution_count": null,
   "id": "a4a86fe8-202a-41fa-be90-3bc29e04b0f6",
   "metadata": {},
   "outputs": [],
   "source": [
    "KEY = 'output_2.json'"
   ]
  },
  {
   "cell_type": "code",
   "execution_count": null,
   "id": "353f63df-e3fa-4b70-8816-da7d068d511f",
   "metadata": {},
   "outputs": [],
   "source": [
    "s3.head_object(Bucket=BUCKET, Key=KEY)"
   ]
  },
  {
   "cell_type": "code",
   "execution_count": null,
   "id": "bb9c1d08-4a07-4db5-9556-d2b87ecb5b99",
   "metadata": {},
   "outputs": [],
   "source": [
    "try:\n",
    "    s3.head_object(Bucket=BUCKET, Key=KEY)\n",
    "    print(\"The object exists!\")\n",
    "except:\n",
    "    print(\"The object does not exist.\")"
   ]
  },
  {
   "cell_type": "markdown",
   "id": "be011ec3-6a27-4539-8d54-f7bea5d5544c",
   "metadata": {},
   "source": [
    "## [delete_object](https://boto3.amazonaws.com/v1/documentation/api/latest/reference/services/s3/client/delete_bucket.html)"
   ]
  },
  {
   "cell_type": "code",
   "execution_count": null,
   "id": "e1e94625-afc1-44ac-af4b-5002a5b26029",
   "metadata": {},
   "outputs": [],
   "source": [
    "KEY = 'output_105.json'\n",
    "\n",
    "response = s3.delete_object(Bucket=BUCKET, Key=KEY)"
   ]
  },
  {
   "cell_type": "markdown",
   "id": "096ffa40-01f4-4f76-a434-ad3457c55376",
   "metadata": {},
   "source": [
    "## [copy_object](https://boto3.amazonaws.com/v1/documentation/api/latest/reference/services/s3/client/copy_object.html)"
   ]
  },
  {
   "cell_type": "code",
   "execution_count": null,
   "id": "1906c9b3-a299-4e85-83ee-cc56dee25992",
   "metadata": {},
   "outputs": [],
   "source": [
    "SOURCE_BUCKET = 'plumbers'\n",
    "SOURCE_KEY = 'output_0.json'\n",
    "SINK_BUCKET = 'velero'\n",
    "SINK_KEY = 'output_0.json'"
   ]
  },
  {
   "cell_type": "code",
   "execution_count": null,
   "id": "a461bfc3-cef3-472d-91fe-b8431afb3b1f",
   "metadata": {},
   "outputs": [],
   "source": [
    "response = s3.copy_object(\n",
    "    CopySource={'Bucket': SOURCE_BUCKET, 'Key': SOURCE_KEY},\n",
    "    Bucket=SINK_BUCKET,\n",
    "    Key=SINK_KEY\n",
    ")"
   ]
  },
  {
   "cell_type": "code",
   "execution_count": null,
   "id": "2c8817be-3bc3-4d18-9c87-0f8936d6d6c1",
   "metadata": {},
   "outputs": [],
   "source": []
  }
 ],
 "metadata": {
  "kernelspec": {
   "display_name": "Python 3 (ipykernel)",
   "language": "python",
   "name": "python3"
  },
  "language_info": {
   "codemirror_mode": {
    "name": "ipython",
    "version": 3
   },
   "file_extension": ".py",
   "mimetype": "text/x-python",
   "name": "python",
   "nbconvert_exporter": "python",
   "pygments_lexer": "ipython3",
   "version": "3.10.6"
  }
 },
 "nbformat": 4,
 "nbformat_minor": 5
}
