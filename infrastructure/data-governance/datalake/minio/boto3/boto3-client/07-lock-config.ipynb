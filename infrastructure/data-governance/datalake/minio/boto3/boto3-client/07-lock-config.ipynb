{
 "cells": [
  {
   "cell_type": "code",
   "execution_count": 2,
   "id": "de710bf0-463d-4f89-8315-fc938115ea66",
   "metadata": {},
   "outputs": [],
   "source": [
    "import json\n",
    "from datetime import datetime\n",
    "import boto3\n",
    "from dotenv import dotenv_values\n",
    "\n",
    "aws_credentials = dotenv_values(\"../env\")\n",
    "\n",
    "client = boto3.client('s3', \n",
    "    endpoint_url=aws_credentials['AWS_ENDPOINT_URL'], \n",
    "    aws_access_key_id=aws_credentials['ACCESS_KEY_ID'], \n",
    "    aws_secret_access_key=aws_credentials['SECRET_ACCESS_KEY']\n",
    ")"
   ]
  },
  {
   "cell_type": "markdown",
   "id": "903a1075-5c0d-4e79-9563-9322ac2ec9e8",
   "metadata": {},
   "source": [
    "# Object Lock Configuration"
   ]
  },
  {
   "cell_type": "code",
   "execution_count": 3,
   "id": "f133df43-237f-46ee-852c-d6b92d2b1362",
   "metadata": {},
   "outputs": [],
   "source": [
    "BUCKET = 'abacate'\n",
    "OBJECT = 'output_0.json'"
   ]
  },
  {
   "cell_type": "markdown",
   "id": "4c4b7db2-500b-4aba-9204-6634a7e014ff",
   "metadata": {},
   "source": [
    "## [put_object_lock_configuration](https://boto3.amazonaws.com/v1/documentation/api/latest/reference/services/s3/client/put_object_lock_configuration.html)"
   ]
  },
  {
   "cell_type": "code",
   "execution_count": 6,
   "id": "9fc186b9-b29a-4917-a36f-db47fbf424e9",
   "metadata": {},
   "outputs": [
    {
     "data": {
      "text/plain": [
       "{'ResponseMetadata': {'RequestId': '17659EE8183FA575',\n",
       "  'HostId': 'e3b0c44298fc1c149afbf4c8996fb92427ae41e4649b934ca495991b7852b855',\n",
       "  'HTTPStatusCode': 200,\n",
       "  'HTTPHeaders': {'accept-ranges': 'bytes',\n",
       "   'content-length': '0',\n",
       "   'content-security-policy': 'block-all-mixed-content',\n",
       "   'server': 'MinIO',\n",
       "   'strict-transport-security': 'max-age=31536000; includeSubDomains',\n",
       "   'vary': 'Origin, Accept-Encoding',\n",
       "   'x-amz-id-2': 'e3b0c44298fc1c149afbf4c8996fb92427ae41e4649b934ca495991b7852b855',\n",
       "   'x-amz-request-id': '17659EE8183FA575',\n",
       "   'x-content-type-options': 'nosniff',\n",
       "   'x-xss-protection': '1; mode=block',\n",
       "   'date': 'Mon, 05 Jun 2023 01:25:55 GMT'},\n",
       "  'RetryAttempts': 0}}"
      ]
     },
     "execution_count": 6,
     "metadata": {},
     "output_type": "execute_result"
    }
   ],
   "source": [
    "client.put_object_lock_configuration(\n",
    "    Bucket=BUCKET,\n",
    "    ObjectLockConfiguration={\n",
    "        'ObjectLockEnabled': 'Enabled',\n",
    "        'Rule': {\n",
    "            'DefaultRetention': {\n",
    "                'Mode': 'GOVERNANCE',\n",
    "                'Days': 123,\n",
    "            }\n",
    "        }\n",
    "    }\n",
    ")"
   ]
  },
  {
   "cell_type": "markdown",
   "id": "9dd8c5a4-f80e-408c-9fc6-a007c3609dda",
   "metadata": {},
   "source": [
    "## [get_object_lock_configuration](https://boto3.amazonaws.com/v1/documentation/api/latest/reference/services/s3/client/get_object_lock_configuration.html)"
   ]
  },
  {
   "cell_type": "code",
   "execution_count": 7,
   "id": "630c82ed-8af5-45af-9e3f-181809e20428",
   "metadata": {},
   "outputs": [
    {
     "data": {
      "text/plain": [
       "{'ResponseMetadata': {'RequestId': '17659EF45DE5A322',\n",
       "  'HostId': 'e3b0c44298fc1c149afbf4c8996fb92427ae41e4649b934ca495991b7852b855',\n",
       "  'HTTPStatusCode': 200,\n",
       "  'HTTPHeaders': {'accept-ranges': 'bytes',\n",
       "   'content-length': '234',\n",
       "   'content-security-policy': 'block-all-mixed-content',\n",
       "   'content-type': 'application/xml',\n",
       "   'server': 'MinIO',\n",
       "   'strict-transport-security': 'max-age=31536000; includeSubDomains',\n",
       "   'vary': 'Origin, Accept-Encoding',\n",
       "   'x-amz-id-2': 'e3b0c44298fc1c149afbf4c8996fb92427ae41e4649b934ca495991b7852b855',\n",
       "   'x-amz-request-id': '17659EF45DE5A322',\n",
       "   'x-content-type-options': 'nosniff',\n",
       "   'x-xss-protection': '1; mode=block',\n",
       "   'date': 'Mon, 05 Jun 2023 01:26:47 GMT'},\n",
       "  'RetryAttempts': 0},\n",
       " 'ObjectLockConfiguration': {'ObjectLockEnabled': 'Enabled',\n",
       "  'Rule': {'DefaultRetention': {'Mode': 'GOVERNANCE', 'Days': 123}}}}"
      ]
     },
     "execution_count": 7,
     "metadata": {},
     "output_type": "execute_result"
    }
   ],
   "source": [
    "client.get_object_lock_configuration(Bucket=BUCKET)"
   ]
  },
  {
   "cell_type": "code",
   "execution_count": null,
   "id": "833f53b1-fcaf-4931-9644-27f205af503e",
   "metadata": {},
   "outputs": [],
   "source": []
  }
 ],
 "metadata": {
  "kernelspec": {
   "display_name": "Python 3 (ipykernel)",
   "language": "python",
   "name": "python3"
  },
  "language_info": {
   "codemirror_mode": {
    "name": "ipython",
    "version": 3
   },
   "file_extension": ".py",
   "mimetype": "text/x-python",
   "name": "python",
   "nbconvert_exporter": "python",
   "pygments_lexer": "ipython3",
   "version": "3.10.6"
  }
 },
 "nbformat": 4,
 "nbformat_minor": 5
}
