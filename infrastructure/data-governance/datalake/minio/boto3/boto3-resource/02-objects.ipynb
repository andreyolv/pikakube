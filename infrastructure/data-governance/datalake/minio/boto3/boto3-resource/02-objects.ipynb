{
 "cells": [
  {
   "cell_type": "code",
   "execution_count": null,
   "id": "cf15478b-8e9c-49ab-b8e9-d86e1646118b",
   "metadata": {},
   "outputs": [],
   "source": [
    "import io\n",
    "import json\n",
    "import boto3\n",
    "from dotenv import dotenv_values\n",
    "\n",
    "aws_credentials = dotenv_values(\"../env\")\n",
    "\n",
    "s3 = boto3.resource('s3', \n",
    "    endpoint_url=aws_credentials['AWS_ENDPOINT_URL'],\n",
    "    aws_access_key_id=aws_credentials['ACCESS_KEY_ID'],\n",
    "    aws_secret_access_key=aws_credentials['SECRET_ACCESS_KEY']\n",
    ")"
   ]
  },
  {
   "cell_type": "markdown",
   "id": "044a351a-4033-490c-a181-4895e8c20c96",
   "metadata": {},
   "source": [
    "# Objects"
   ]
  },
  {
   "cell_type": "code",
   "execution_count": null,
   "id": "1e73115f-e990-4959-95d2-4c086808bcac",
   "metadata": {},
   "outputs": [],
   "source": [
    "BUCKET = 'teste'\n",
    "KEY = 'output_2.json'"
   ]
  },
  {
   "cell_type": "markdown",
   "id": "d3978e6b-cc94-4a23-abd3-e48d5ebb967b",
   "metadata": {},
   "source": [
    "## List objects"
   ]
  },
  {
   "cell_type": "code",
   "execution_count": null,
   "id": "06792263-9843-4ac0-a53c-de7ab894de77",
   "metadata": {},
   "outputs": [],
   "source": [
    "for bucket in s3.buckets.all():\n",
    "    my_bucket = s3.Bucket(bucket.name)\n",
    "\n",
    "    for file in my_bucket.objects.all():\n",
    "        print(f\"Bucket: {bucket.name}, Key: {file.key}\")"
   ]
  },
  {
   "cell_type": "code",
   "execution_count": null,
   "id": "712cfdee-4e0f-4f97-a2fa-66af615f9a26",
   "metadata": {},
   "outputs": [],
   "source": [
    "my_bucket = s3.Bucket(BUCKET)\n",
    "\n",
    "for subbucket in s3.buckets.all():\n",
    "    for obj in subbucket.objects.filter(Prefix='dev'):\n",
    "        print(obj)"
   ]
  },
  {
   "cell_type": "markdown",
   "id": "9ed73f97-4069-49f1-8e04-f74f6f358894",
   "metadata": {},
   "source": [
    "## [get]()"
   ]
  },
  {
   "cell_type": "code",
   "execution_count": null,
   "id": "d7d98771-3cd4-4a14-a13e-0df5d672c37c",
   "metadata": {},
   "outputs": [],
   "source": [
    "s3.Bucket(BUCKET).Object(KEY).get()"
   ]
  },
  {
   "cell_type": "code",
   "execution_count": null,
   "id": "95a2e3c5-6de4-4dde-a155-34d47f80e5cf",
   "metadata": {},
   "outputs": [],
   "source": [
    "s3.Object(BUCKET,KEY).get()['Body'].read()"
   ]
  },
  {
   "cell_type": "code",
   "execution_count": null,
   "id": "c5c5553c-9f77-4b0c-81a8-f01ccc8c2615",
   "metadata": {},
   "outputs": [],
   "source": [
    "s3.Object(BUCKET,KEY).get()['Body'].read().decode()"
   ]
  },
  {
   "cell_type": "markdown",
   "id": "28652e29-decd-4bbf-aed0-2ab9c3266615",
   "metadata": {},
   "source": [
    "## [put]()"
   ]
  },
  {
   "cell_type": "code",
   "execution_count": null,
   "id": "4dbcd83a-5ab9-4782-98d4-a098d66129b8",
   "metadata": {},
   "outputs": [],
   "source": [
    "KEY = 'output_1.json'"
   ]
  },
  {
   "cell_type": "code",
   "execution_count": null,
   "id": "f98fdaac-0d65-4b31-b7f6-5a0bc62edd57",
   "metadata": {},
   "outputs": [],
   "source": [
    "json_file = {\"clientes\": [{\"id\": \"1b484d189cafc68008fbcb1adef94082\", \"name\": \"BARTOLOMEU\", \"idade\": 38, \"credito_solicitado\": 230311, \"data_solicitacao\": \"01/15/2022 08:11\"}, {\"id\": \"c4e0c38c502b109a9324cf8fd90ef907\", \"name\": \"NIGEL\", \"idade\": 54, \"credito_solicitado\": 345304, \"data_solicitacao\": \"01/15/2022 16:48\"}, {\"id\": \"89d21736d351f3a6445c91f753b1fb1f\", \"name\": \"MAXIMILLIAN\", \"idade\": 60, \"credito_solicitado\": 423406, \"data_solicitacao\": \"01/23/2022 18:10\"}, {\"id\": \"48d605f6dfa428020ba67298ad1a4041\", \"name\": \"AHIL\", \"idade\": 54, \"credito_solicitado\": 402914, \"data_solicitacao\": \"01/02/2022 03:56\"}, {\"id\": \"5e0f2688c5f1c64c92df687ac4917ce3\", \"name\": \"INDIE\", \"idade\": 64, \"credito_solicitado\": 182364, \"data_solicitacao\": \"01/19/2022 08:16\"}]}"
   ]
  },
  {
   "cell_type": "code",
   "execution_count": null,
   "id": "1321a7fc-3ce0-4d61-800b-0ca412254e61",
   "metadata": {},
   "outputs": [],
   "source": [
    "json_record = json.dumps(json_file)"
   ]
  },
  {
   "cell_type": "code",
   "execution_count": null,
   "id": "3d470beb-23e6-400c-a06d-e757253b8eb1",
   "metadata": {},
   "outputs": [],
   "source": [
    "s3.Object(BUCKET,KEY).put(Body=json_record)"
   ]
  },
  {
   "cell_type": "code",
   "execution_count": null,
   "id": "ce9c0c81-0b07-41ed-b025-0f0462092b17",
   "metadata": {},
   "outputs": [],
   "source": [
    "s3.Object(BUCKET,KEY).put(Body=json_record)"
   ]
  },
  {
   "cell_type": "markdown",
   "id": "4cce8b5c-070e-4f12-9764-5e74ff9e7bac",
   "metadata": {},
   "source": [
    "## [delete]()"
   ]
  },
  {
   "cell_type": "code",
   "execution_count": null,
   "id": "d9ce5504-bfa9-4077-b920-b0930045e878",
   "metadata": {},
   "outputs": [],
   "source": [
    "KEY = 'output_1.json'"
   ]
  },
  {
   "cell_type": "code",
   "execution_count": null,
   "id": "33a91027-3ab7-4221-85b6-48715428d878",
   "metadata": {},
   "outputs": [],
   "source": [
    "s3.Object(BUCKET, KEY).delete()"
   ]
  },
  {
   "cell_type": "markdown",
   "id": "797db573-18b6-4562-80e9-cdf0a991fc47",
   "metadata": {},
   "source": [
    "## [copy]()"
   ]
  },
  {
   "cell_type": "code",
   "execution_count": null,
   "id": "fff9717c-82f8-47f3-a02b-52dc5db42033",
   "metadata": {},
   "outputs": [],
   "source": [
    "SOURCE_BUCKET = 'plumbers'\n",
    "SOURCE_KEY = 'output_9.json'\n",
    "SINK_BUCKET = 'velero'\n",
    "SINK_KEY = 'output_9.json'"
   ]
  },
  {
   "cell_type": "code",
   "execution_count": null,
   "id": "41945303-1116-46cc-a3ee-87c8eabbe54b",
   "metadata": {},
   "outputs": [],
   "source": [
    "copy_source = {\n",
    "    'Bucket': SOURCE_BUCKET,\n",
    "    'Key': SOURCE_KEY\n",
    "}\n",
    "\n",
    "s3.Bucket(SINK_BUCKET).copy(copy_source, SINK_KEY)"
   ]
  },
  {
   "cell_type": "code",
   "execution_count": null,
   "id": "842c8844-111a-44c4-bdda-406f9ecc71f7",
   "metadata": {},
   "outputs": [],
   "source": []
  }
 ],
 "metadata": {
  "kernelspec": {
   "display_name": "Python 3 (ipykernel)",
   "language": "python",
   "name": "python3"
  },
  "language_info": {
   "codemirror_mode": {
    "name": "ipython",
    "version": 3
   },
   "file_extension": ".py",
   "mimetype": "text/x-python",
   "name": "python",
   "nbconvert_exporter": "python",
   "pygments_lexer": "ipython3",
   "version": "3.10.6"
  }
 },
 "nbformat": 4,
 "nbformat_minor": 5
}
