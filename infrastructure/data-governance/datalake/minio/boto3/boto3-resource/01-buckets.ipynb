{
 "cells": [
  {
   "cell_type": "code",
   "execution_count": null,
   "id": "cf15478b-8e9c-49ab-b8e9-d86e1646118b",
   "metadata": {},
   "outputs": [],
   "source": [
    "import os\n",
    "import boto3\n",
    "from dotenv import dotenv_values\n",
    "\n",
    "aws_credentials = dotenv_values(\"../env\")\n",
    "\n",
    "s3 = boto3.resource('s3', \n",
    "    endpoint_url=aws_credentials['AWS_ENDPOINT_URL'],\n",
    "    aws_access_key_id=aws_credentials['ACCESS_KEY_ID'],\n",
    "    aws_secret_access_key=aws_credentials['SECRET_ACCESS_KEY']\n",
    ")"
   ]
  },
  {
   "cell_type": "markdown",
   "id": "c955cce6-4b60-450a-a1d2-99992ea8ca0e",
   "metadata": {},
   "source": [
    "# Buckets"
   ]
  },
  {
   "cell_type": "markdown",
   "id": "31bfd3fe-9648-4a06-a7c2-8e2bed5b76ad",
   "metadata": {},
   "source": [
    "## List buckets"
   ]
  },
  {
   "cell_type": "code",
   "execution_count": null,
   "id": "27526f29-1339-443c-9de6-79d964a297d4",
   "metadata": {},
   "outputs": [],
   "source": [
    "for bucket in s3.buckets.all():\n",
    "    print(bucket)"
   ]
  },
  {
   "cell_type": "code",
   "execution_count": null,
   "id": "7af52e4d-3115-4b6b-bdbd-e228540b8481",
   "metadata": {},
   "outputs": [],
   "source": [
    "for bucket in s3.buckets.all():\n",
    "    print(bucket.name)"
   ]
  },
  {
   "cell_type": "markdown",
   "id": "4ed7f4db-d9f9-4a7b-a8e4-d18a4dd8608d",
   "metadata": {},
   "source": [
    "## create_bucket"
   ]
  },
  {
   "cell_type": "code",
   "execution_count": null,
   "id": "c4b11b53-ee50-48b2-986c-d3d9a4e0cad1",
   "metadata": {},
   "outputs": [],
   "source": [
    "BUCKET = 'teste'\n",
    "BUCKET2 = 'temp'"
   ]
  },
  {
   "cell_type": "code",
   "execution_count": null,
   "id": "ea2a9f36-d386-40cc-b677-ed9b15760b71",
   "metadata": {},
   "outputs": [],
   "source": [
    "s3.create_bucket(Bucket=BUCKET)"
   ]
  },
  {
   "cell_type": "code",
   "execution_count": null,
   "id": "cf24a2b1-49e6-46fe-971b-26613f44981c",
   "metadata": {},
   "outputs": [],
   "source": [
    "s3.create_bucket(Bucket=BUCKET2)"
   ]
  },
  {
   "cell_type": "markdown",
   "id": "2b67c851-41e2-4915-820f-1a45820127ee",
   "metadata": {},
   "source": [
    "## [delete](https://boto3.amazonaws.com/v1/documentation/api/latest/reference/services/s3/bucket/delete.html)\n",
    "\n",
    "Deletes the S3 bucket. All objects (including all object versions and delete markers) in the bucket must be deleted before the bucket itself can be deleted."
   ]
  },
  {
   "cell_type": "code",
   "execution_count": null,
   "id": "3a9c2f35-cf78-4dcd-842f-7a860eb44398",
   "metadata": {},
   "outputs": [],
   "source": [
    "s3.Bucket(BUCKET2).delete()"
   ]
  }
 ],
 "metadata": {
  "kernelspec": {
   "display_name": "Python 3 (ipykernel)",
   "language": "python",
   "name": "python3"
  },
  "language_info": {
   "codemirror_mode": {
    "name": "ipython",
    "version": 3
   },
   "file_extension": ".py",
   "mimetype": "text/x-python",
   "name": "python",
   "nbconvert_exporter": "python",
   "pygments_lexer": "ipython3",
   "version": "3.10.6"
  }
 },
 "nbformat": 4,
 "nbformat_minor": 5
}
