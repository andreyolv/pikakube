{
 "cells": [
  {
   "cell_type": "code",
   "execution_count": null,
   "id": "cf15478b-8e9c-49ab-b8e9-d86e1646118b",
   "metadata": {},
   "outputs": [],
   "source": [
    "import os\n",
    "import boto3\n",
    "from dotenv import dotenv_values\n",
    "\n",
    "aws_credentials = dotenv_values(\"../env\")\n",
    "\n",
    "s3 = boto3.resource('s3', \n",
    "    endpoint_url=aws_credentials['AWS_ENDPOINT_URL'],\n",
    "    aws_access_key_id=aws_credentials['ACCESS_KEY_ID'],\n",
    "    aws_secret_access_key=aws_credentials['SECRET_ACCESS_KEY']\n",
    ")"
   ]
  },
  {
   "cell_type": "markdown",
   "id": "c955cce6-4b60-450a-a1d2-99992ea8ca0e",
   "metadata": {},
   "source": [
    "# Files"
   ]
  },
  {
   "cell_type": "code",
   "execution_count": null,
   "id": "24734e6c-4adb-4d6f-a603-5dfa7dd085b5",
   "metadata": {},
   "outputs": [],
   "source": [
    "BUCKET = 'teste'\n",
    "KEY = 'output_3.json'\n",
    "PATH_ROOT = '/home/jovyan/jsons/'\n",
    "FILENAME = '/home/jovyan/jsons/output_3.json'"
   ]
  },
  {
   "cell_type": "markdown",
   "id": "6e6dc592-1809-4a14-8555-1d54cd02c66f",
   "metadata": {},
   "source": [
    "## [download_file](https://boto3.amazonaws.com/v1/documentation/api/latest/reference/services/s3/bucket/download_file.html)\n",
    "\n",
    "Download an S3 object to a file."
   ]
  },
  {
   "cell_type": "code",
   "execution_count": null,
   "id": "624f8b43-00f7-4bf1-93b7-99a4bb39a43e",
   "metadata": {},
   "outputs": [],
   "source": [
    "s3.Bucket(BUCKET).download_file(KEY, FILENAME)"
   ]
  },
  {
   "cell_type": "markdown",
   "id": "d6d41cf4-bfae-42f2-9558-790e0c3faa31",
   "metadata": {},
   "source": [
    "## [upload_file](https://boto3.amazonaws.com/v1/documentation/api/latest/reference/services/s3/bucket/upload_file.html)\n",
    "\n",
    "Upload a file to an S3 object."
   ]
  },
  {
   "cell_type": "code",
   "execution_count": null,
   "id": "6a81a96f-96dd-4e0e-b112-5d0aa0f2f9f3",
   "metadata": {},
   "outputs": [],
   "source": [
    "s3.Bucket(BUCKET).upload_file(FILENAME, KEY)"
   ]
  },
  {
   "cell_type": "code",
   "execution_count": null,
   "id": "67225e0a-ce9d-4b4f-b083-03be3db30d60",
   "metadata": {},
   "outputs": [],
   "source": [
    "files_list = sorted([arquivo for arquivo in os.listdir(PATH_ROOT) if arquivo.endswith('.json')])"
   ]
  },
  {
   "cell_type": "code",
   "execution_count": null,
   "id": "d2383ddb-bf02-4933-a3a6-1d5b7589fba1",
   "metadata": {},
   "outputs": [],
   "source": [
    "files_list"
   ]
  },
  {
   "cell_type": "code",
   "execution_count": null,
   "id": "8954da6a-44a8-4175-bfc5-689227321b69",
   "metadata": {},
   "outputs": [],
   "source": [
    "for file in files_list:\n",
    "    s3.Bucket(BUCKET).upload_file(PATH_ROOT+file, file)\n",
    "    print(\"Upload Successful \"+file)"
   ]
  },
  {
   "cell_type": "code",
   "execution_count": null,
   "id": "c83c8304-2b84-4fc9-a861-3c0ae76a5208",
   "metadata": {},
   "outputs": [],
   "source": []
  }
 ],
 "metadata": {
  "kernelspec": {
   "display_name": "Python 3 (ipykernel)",
   "language": "python",
   "name": "python3"
  },
  "language_info": {
   "codemirror_mode": {
    "name": "ipython",
    "version": 3
   },
   "file_extension": ".py",
   "mimetype": "text/x-python",
   "name": "python",
   "nbconvert_exporter": "python",
   "pygments_lexer": "ipython3",
   "version": "3.10.6"
  }
 },
 "nbformat": 4,
 "nbformat_minor": 5
}
