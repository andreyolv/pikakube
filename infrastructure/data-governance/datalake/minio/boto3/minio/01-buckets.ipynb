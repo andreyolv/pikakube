{
 "cells": [
  {
   "cell_type": "code",
   "execution_count": null,
   "id": "bade975e-865f-463b-bd11-4f214c8bd432",
   "metadata": {},
   "outputs": [],
   "source": [
    "from minio import Minio\n",
    "from dotenv import dotenv_values\n",
    "\n",
    "aws_credentials = dotenv_values(\"../env\")\n",
    "\n",
    "client = Minio(\n",
    "    aws_credentials['MINIO_ENDPOINT_URL'],\n",
    "    access_key=aws_credentials['ACCESS_KEY_ID'],\n",
    "    secret_key=aws_credentials['SECRET_ACCESS_KEY'],\n",
    "    secure=False\n",
    ")"
   ]
  },
  {
   "cell_type": "markdown",
   "id": "784c9c22-74b7-431c-9780-bb6b7b3b2231",
   "metadata": {},
   "source": [
    "# Buckets"
   ]
  },
  {
   "cell_type": "code",
   "execution_count": null,
   "id": "5570575d-bfa7-4999-9d00-eeebbdff2b20",
   "metadata": {},
   "outputs": [],
   "source": [
    "BUCKET = 'my-bucket'"
   ]
  },
  {
   "cell_type": "markdown",
   "id": "5c1ca3eb-9720-4f68-91f8-bf21132d9a34",
   "metadata": {},
   "source": [
    "## [make_bucket](https://min.io/docs/minio/linux/developers/python/API.html#make-bucket-bucket-name-location-us-east-1-object-lock-false)\n",
    "\n",
    "Create a bucket with region and object lock."
   ]
  },
  {
   "cell_type": "code",
   "execution_count": null,
   "id": "cf15478b-8e9c-49ab-b8e9-d86e1646118b",
   "metadata": {},
   "outputs": [],
   "source": [
    "client.make_bucket(BUCKET)"
   ]
  },
  {
   "cell_type": "markdown",
   "id": "c40424d2-70d6-4752-96b7-50859eb334d6",
   "metadata": {},
   "source": [
    "## [list_buckets](https://min.io/docs/minio/linux/developers/python/API.html#list-buckets)\n",
    "\n",
    "List information of all accessible buckets."
   ]
  },
  {
   "cell_type": "code",
   "execution_count": null,
   "id": "32206f52-7f81-45c2-bec4-46a6379421a2",
   "metadata": {},
   "outputs": [],
   "source": [
    "buckets = client.list_buckets()\n",
    "for bucket in buckets:\n",
    "    print(bucket.name, bucket.creation_date)"
   ]
  },
  {
   "cell_type": "code",
   "execution_count": null,
   "id": "aa95d85f-82b1-47f9-8acc-fcbad0fb8586",
   "metadata": {},
   "outputs": [],
   "source": [
    "buckets = client.list_buckets()\n",
    "\n",
    "for bucket in buckets:\n",
    "    print(bucket.name)"
   ]
  },
  {
   "cell_type": "markdown",
   "id": "28b23753-3136-452c-8226-a3fbaa013b45",
   "metadata": {},
   "source": [
    "## [bucket_exists](https://min.io/docs/minio/linux/developers/python/API.html#bucket-exists-bucket-name)\n",
    "\n",
    "Check if a bucket exists."
   ]
  },
  {
   "cell_type": "code",
   "execution_count": null,
   "id": "bf8e99a1-6ff2-49b2-aa7b-bdc2e9ce8e0f",
   "metadata": {},
   "outputs": [],
   "source": [
    "client.bucket_exists(BUCKET)"
   ]
  },
  {
   "cell_type": "code",
   "execution_count": null,
   "id": "256acc25-cd0e-4b7e-ab2d-cc48d9416416",
   "metadata": {},
   "outputs": [],
   "source": [
    "if client.bucket_exists(BUCKET):\n",
    "    print(\"my-bucket exists\")\n",
    "else:\n",
    "    print(\"my-bucket does not exist\")"
   ]
  },
  {
   "cell_type": "markdown",
   "id": "4fc9d548-8a03-489e-b79a-121bbdab4bde",
   "metadata": {},
   "source": [
    "## [remove_bucket](https://min.io/docs/minio/linux/developers/python/API.html#remove-bucket-bucket-name)\n",
    "\n",
    "Remove an empty bucket."
   ]
  },
  {
   "cell_type": "code",
   "execution_count": null,
   "id": "7523c31f-1530-4eb6-bcd4-197f579b03d6",
   "metadata": {},
   "outputs": [],
   "source": [
    "REMOVE_BUCKET = 'mlflow'\n",
    "\n",
    "client.remove_bucket(REMOVE_BUCKET)"
   ]
  },
  {
   "cell_type": "markdown",
   "id": "06c54f40-7985-4f9c-a4a0-ac06f4272abe",
   "metadata": {},
   "source": [
    "## [listen_bucket_notification](https://min.io/docs/minio/linux/developers/python/API.html#listen-bucket-notification-bucket-name-prefix-suffix-events-s3-objectcreated-s3-objectremoved-s3-objectaccessed)\n",
    "\n",
    "Listen events of object prefix and suffix of a bucket. Caller should iterate returned iterator to read new events."
   ]
  },
  {
   "cell_type": "code",
   "execution_count": null,
   "id": "7022bc1e-51e0-4246-989a-2844b47a258a",
   "metadata": {},
   "outputs": [],
   "source": [
    "with client.listen_bucket_notification(\n",
    "    bucket_name=BUCKET,\n",
    "    prefix=\"abc/\",\n",
    "    events=[\"s3:ObjectCreated:*\", \"s3:ObjectRemoved:*\"],\n",
    ") as events:\n",
    "    for event in events:\n",
    "        print(event)"
   ]
  },
  {
   "cell_type": "code",
   "execution_count": null,
   "id": "98a8ecaa-bf5e-4ec7-b02e-d4bdb6cd6236",
   "metadata": {},
   "outputs": [],
   "source": []
  }
 ],
 "metadata": {
  "kernelspec": {
   "display_name": "Python 3 (ipykernel)",
   "language": "python",
   "name": "python3"
  },
  "language_info": {
   "codemirror_mode": {
    "name": "ipython",
    "version": 3
   },
   "file_extension": ".py",
   "mimetype": "text/x-python",
   "name": "python",
   "nbconvert_exporter": "python",
   "pygments_lexer": "ipython3",
   "version": "3.10.6"
  }
 },
 "nbformat": 4,
 "nbformat_minor": 5
}
