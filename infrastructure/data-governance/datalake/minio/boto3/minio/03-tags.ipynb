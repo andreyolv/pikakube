{
 "cells": [
  {
   "cell_type": "code",
   "execution_count": null,
   "id": "bade975e-865f-463b-bd11-4f214c8bd432",
   "metadata": {},
   "outputs": [],
   "source": [
    "from minio import Minio\n",
    "from minio.commonconfig import Tags\n",
    "from dotenv import dotenv_values\n",
    "\n",
    "aws_credentials = dotenv_values(\"../env\")\n",
    "\n",
    "client = Minio(\n",
    "    aws_credentials['MINIO_ENDPOINT_URL'],\n",
    "    access_key=aws_credentials['ACCESS_KEY_ID'],\n",
    "    secret_key=aws_credentials['SECRET_ACCESS_KEY'],\n",
    "    secure=False\n",
    ")"
   ]
  },
  {
   "cell_type": "markdown",
   "id": "4bc1ebce-50e0-4ef3-a754-e10e20cf453b",
   "metadata": {},
   "source": [
    "# Bucket Tags"
   ]
  },
  {
   "cell_type": "code",
   "execution_count": null,
   "id": "782f9011-b37d-4836-8f4e-bb2982754932",
   "metadata": {},
   "outputs": [],
   "source": [
    "BUCKET = 'my-bucket'\n",
    "OBJECT = 'output_1.json'"
   ]
  },
  {
   "cell_type": "markdown",
   "id": "568ccdfc-85d1-40b6-97f7-a63ac92694b6",
   "metadata": {},
   "source": [
    "## [set_bucket_tags](https://min.io/docs/minio/linux/developers/python/API.html#set-bucket-tags-bucket-name-tags)\n",
    "\n",
    "Set tags configuration to a bucket."
   ]
  },
  {
   "cell_type": "code",
   "execution_count": null,
   "id": "18f2b027-a73c-446c-b063-78b390394875",
   "metadata": {},
   "outputs": [],
   "source": [
    "tags = Tags.new_bucket_tags()\n",
    "tags[\"Project\"] = \"Project One\"\n",
    "tags[\"User\"] = \"jsmith\"\n",
    "\n",
    "client.set_bucket_tags(BUCKET, tags)"
   ]
  },
  {
   "cell_type": "markdown",
   "id": "3beea3da-29b8-4853-84dd-907ad632376d",
   "metadata": {},
   "source": [
    "## [get_bucket_tags](https://min.io/docs/minio/linux/developers/python/API.html#get-bucket-tags-bucket-name)\n",
    "\n",
    "Get tags configuration of a bucket."
   ]
  },
  {
   "cell_type": "code",
   "execution_count": null,
   "id": "c8bf03f7-c1de-41eb-ba2c-da98a61017f3",
   "metadata": {},
   "outputs": [],
   "source": [
    "client.get_bucket_tags(BUCKET)"
   ]
  },
  {
   "cell_type": "markdown",
   "id": "f2980445-9307-447b-9ed9-77012585791e",
   "metadata": {},
   "source": [
    "## [delete_bucket_tags](https://min.io/docs/minio/linux/developers/python/API.html#delete-bucket-tags-bucket-name)\n",
    "\n",
    "Delete tags configuration of a bucket."
   ]
  },
  {
   "cell_type": "code",
   "execution_count": null,
   "id": "bbcd2990-e6e4-4f00-8568-5dd3c08c5c8a",
   "metadata": {},
   "outputs": [],
   "source": [
    "client.delete_bucket_tags(BUCKET)"
   ]
  },
  {
   "cell_type": "markdown",
   "id": "4f6d39d8-778e-4ab4-bab0-dc7a89168488",
   "metadata": {},
   "source": [
    "# Object Tags"
   ]
  },
  {
   "cell_type": "markdown",
   "id": "df1735ef-20b4-4fed-841d-176be3cce0b8",
   "metadata": {},
   "source": [
    "## [set_object_tags](https://min.io/docs/minio/linux/developers/python/API.html#set-object-tags-bucket-name-object-name-tags-version-id-none)\n",
    "\n",
    "Set tags configuration to an object."
   ]
  },
  {
   "cell_type": "code",
   "execution_count": null,
   "id": "ddfab768-b04f-41d8-982a-f3aa6aa804b6",
   "metadata": {},
   "outputs": [],
   "source": [
    "tags = Tags.new_object_tags()\n",
    "tags[\"Project\"] = \"Project One2\"\n",
    "tags[\"User\"] = \"jsmith2\"\n",
    "\n",
    "client.set_object_tags(BUCKET, OBJECT, tags)"
   ]
  },
  {
   "cell_type": "markdown",
   "id": "94c0cd02-0542-4988-bd35-23f6117d8d09",
   "metadata": {},
   "source": [
    "## [get_object_tags](https://min.io/docs/minio/linux/developers/python/API.html#get-object-tags-bucket-name-object-name-version-id-none)\n",
    "\n",
    "Get tags configuration of an object."
   ]
  },
  {
   "cell_type": "code",
   "execution_count": null,
   "id": "784e0bf7-59e4-4ad5-ba11-0b5efc653bcf",
   "metadata": {},
   "outputs": [],
   "source": [
    "tags = client.get_object_tags(BUCKET, OBJECT)"
   ]
  },
  {
   "cell_type": "markdown",
   "id": "358c5601-763a-4605-8098-e89fa1ce69e9",
   "metadata": {},
   "source": [
    "## [delete_object_tags](https://min.io/docs/minio/linux/developers/python/API.html#delete-object-tags-bucket-name-object-name-version-id-none)\n",
    "\n",
    "Delete tags configuration of an object."
   ]
  },
  {
   "cell_type": "code",
   "execution_count": null,
   "id": "f5f57ca7-2560-473f-bac7-af620bff0312",
   "metadata": {},
   "outputs": [],
   "source": [
    "client.delete_object_tags(BUCKET, OBJECT)"
   ]
  }
 ],
 "metadata": {
  "kernelspec": {
   "display_name": "Python 3 (ipykernel)",
   "language": "python",
   "name": "python3"
  },
  "language_info": {
   "codemirror_mode": {
    "name": "ipython",
    "version": 3
   },
   "file_extension": ".py",
   "mimetype": "text/x-python",
   "name": "python",
   "nbconvert_exporter": "python",
   "pygments_lexer": "ipython3",
   "version": "3.10.6"
  }
 },
 "nbformat": 4,
 "nbformat_minor": 5
}
