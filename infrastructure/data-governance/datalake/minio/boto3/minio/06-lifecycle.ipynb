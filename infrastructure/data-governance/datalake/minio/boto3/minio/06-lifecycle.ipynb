{
 "cells": [
  {
   "cell_type": "code",
   "execution_count": null,
   "id": "bade975e-865f-463b-bd11-4f214c8bd432",
   "metadata": {},
   "outputs": [],
   "source": [
    "from minio import Minio\n",
    "from minio.commonconfig import ENABLED, Filter\n",
    "from minio.lifecycleconfig import Expiration, LifecycleConfig, Rule, Transition\n",
    "from dotenv import dotenv_values\n",
    "\n",
    "aws_credentials = dotenv_values(\"../env\")\n",
    "\n",
    "client = Minio(\n",
    "    aws_credentials['MINIO_ENDPOINT_URL'],\n",
    "    access_key=aws_credentials['ACCESS_KEY_ID'],\n",
    "    secret_key=aws_credentials['SECRET_ACCESS_KEY'],\n",
    "    secure=False\n",
    ")"
   ]
  },
  {
   "cell_type": "markdown",
   "id": "4bc1ebce-50e0-4ef3-a754-e10e20cf453b",
   "metadata": {},
   "source": [
    "# Lifecycle"
   ]
  },
  {
   "cell_type": "code",
   "execution_count": null,
   "id": "c09e45b7-3867-4f54-8c63-32ac723a6c4e",
   "metadata": {},
   "outputs": [],
   "source": [
    "BUCKET = 'my-bucket'"
   ]
  },
  {
   "cell_type": "markdown",
   "id": "db5cec94-ac3f-4cbd-aa89-c6f290c4e11f",
   "metadata": {},
   "source": [
    "## [set_bucket_lifecycle](https://min.io/docs/minio/linux/developers/python/API.html#set-bucket-lifecycle-bucket-name-config)\n",
    "\n",
    "Set lifecycle configuration to a bucket."
   ]
  },
  {
   "cell_type": "code",
   "execution_count": null,
   "id": "10ae1a37-14a5-47ee-967b-ff918721f1f3",
   "metadata": {},
   "outputs": [],
   "source": [
    "config = LifecycleConfig(\n",
    "    [\n",
    "        Rule(\n",
    "            ENABLED,\n",
    "            rule_filter=Filter(prefix=\"documents/\"),\n",
    "            rule_id=\"rule1\",\n",
    "            transition=Transition(days=30, storage_class=\"GLACIER\"),\n",
    "        ),\n",
    "        Rule(\n",
    "            ENABLED,\n",
    "            rule_filter=Filter(prefix=\"logs/\"),\n",
    "            rule_id=\"rule2\",\n",
    "            expiration=Expiration(days=1),\n",
    "        ),\n",
    "    ],\n",
    ")\n",
    "client.set_bucket_lifecycle(BUCKET, config)"
   ]
  },
  {
   "cell_type": "code",
   "execution_count": null,
   "id": "0fc2c9f6-92d0-487c-bc25-314ac272a232",
   "metadata": {},
   "outputs": [],
   "source": [
    "config = LifecycleConfig(\n",
    "    [\n",
    "        Rule(\n",
    "            ENABLED,\n",
    "            rule_filter=Filter(prefix=\"logs/\"),\n",
    "            rule_id=\"rule2\",\n",
    "            expiration=Expiration(days=1),\n",
    "        ),\n",
    "    ],\n",
    ")\n",
    "client.set_bucket_lifecycle(BUCKET, config)"
   ]
  },
  {
   "cell_type": "markdown",
   "id": "761b2c88-4bd7-4048-a50c-22b58efd3282",
   "metadata": {},
   "source": [
    "## [get_bucket_lifecycle](https://min.io/docs/minio/linux/developers/python/API.html#get-bucket-lifecycle-bucket-name)\n",
    "\n",
    "Get lifecycle configuration of a bucket."
   ]
  },
  {
   "cell_type": "code",
   "execution_count": null,
   "id": "8c9b0275-f43f-4a53-8dd5-b192052fc9ac",
   "metadata": {},
   "outputs": [],
   "source": [
    "config = client.get_bucket_lifecycle(BUCKET)"
   ]
  },
  {
   "cell_type": "code",
   "execution_count": null,
   "id": "aaebd74c-36e6-4e06-9821-0804322fea30",
   "metadata": {},
   "outputs": [],
   "source": [
    "config"
   ]
  },
  {
   "cell_type": "code",
   "execution_count": null,
   "id": "64a8aae8-e62b-475f-b033-bb62897afae4",
   "metadata": {},
   "outputs": [],
   "source": [
    "config.rules"
   ]
  },
  {
   "cell_type": "markdown",
   "id": "237b1441-8da9-4883-bb40-45a4bfb341b9",
   "metadata": {},
   "source": [
    "## [delete_bucket_lifecycle](https://min.io/docs/minio/linux/developers/python/API.html#delete-bucket-lifecycle-bucket-name)\n",
    "\n",
    "Delete lifecycle configuration of a bucket."
   ]
  },
  {
   "cell_type": "code",
   "execution_count": null,
   "id": "8226d510-3bde-4330-adf9-84754c84ca9c",
   "metadata": {},
   "outputs": [],
   "source": [
    "client.delete_bucket_lifecycle(BUCKET)"
   ]
  }
 ],
 "metadata": {
  "kernelspec": {
   "display_name": "Python 3 (ipykernel)",
   "language": "python",
   "name": "python3"
  },
  "language_info": {
   "codemirror_mode": {
    "name": "ipython",
    "version": 3
   },
   "file_extension": ".py",
   "mimetype": "text/x-python",
   "name": "python",
   "nbconvert_exporter": "python",
   "pygments_lexer": "ipython3",
   "version": "3.10.6"
  }
 },
 "nbformat": 4,
 "nbformat_minor": 5
}
