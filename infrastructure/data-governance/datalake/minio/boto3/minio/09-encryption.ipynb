{
 "cells": [
  {
   "cell_type": "code",
   "execution_count": null,
   "id": "bade975e-865f-463b-bd11-4f214c8bd432",
   "metadata": {},
   "outputs": [],
   "source": [
    "from minio import Minio\n",
    "from minio.sseconfig import Rule, SSEConfig\n",
    "from dotenv import dotenv_values\n",
    "\n",
    "aws_credentials = dotenv_values(\"../env\")\n",
    "\n",
    "client = Minio(\n",
    "    aws_credentials['MINIO_ENDPOINT_URL'],\n",
    "    access_key=aws_credentials['ACCESS_KEY_ID'],\n",
    "    secret_key=aws_credentials['SECRET_ACCESS_KEY'],\n",
    "    secure=False\n",
    ")"
   ]
  },
  {
   "cell_type": "markdown",
   "id": "4bc1ebce-50e0-4ef3-a754-e10e20cf453b",
   "metadata": {},
   "source": [
    "# Encryption"
   ]
  },
  {
   "cell_type": "code",
   "execution_count": null,
   "id": "e7999212-1d66-4373-b622-049f2e51fbf0",
   "metadata": {},
   "outputs": [],
   "source": [
    "BUCKET = 'my-bucket'"
   ]
  },
  {
   "cell_type": "markdown",
   "id": "7c7a7e72-ec85-4312-8b03-7525d8ca94e8",
   "metadata": {},
   "source": [
    "## [set_bucket_encryption](https://min.io/docs/minio/linux/developers/python/API.html#set-bucket-encryption-bucket-name-config)\n",
    "\n",
    "Set encryption configuration of a bucket."
   ]
  },
  {
   "cell_type": "code",
   "execution_count": null,
   "id": "8be3bea1-b11e-4a5d-91d9-4e8be1a7c64d",
   "metadata": {},
   "outputs": [],
   "source": [
    "client.set_bucket_encryption(\n",
    "    BUCKET, SSEConfig(Rule.new_sse_s3_rule()),\n",
    ")"
   ]
  },
  {
   "cell_type": "markdown",
   "id": "53cdb183-0935-43ff-a015-962d05467c81",
   "metadata": {},
   "source": [
    "## [get_bucket_encryption](https://min.io/docs/minio/linux/developers/python/API.html#get-bucket-encryption-bucket-name)\n",
    "\n",
    "Get encryption configuration of a bucket."
   ]
  },
  {
   "cell_type": "code",
   "execution_count": null,
   "id": "73f3893a-8ff3-4e96-bf8f-3722bcbc0e4e",
   "metadata": {},
   "outputs": [],
   "source": [
    "config = client.get_bucket_encryption(BUCKET)"
   ]
  },
  {
   "cell_type": "markdown",
   "id": "13dbabbc-eedc-4c23-a44b-9315fac6ee2d",
   "metadata": {},
   "source": [
    "## [delete_bucket_encryption](https://min.io/docs/minio/linux/developers/python/API.html#delete_bucket_encryption)\n",
    "\n",
    "Delete encryption configuration of a bucket."
   ]
  },
  {
   "cell_type": "code",
   "execution_count": null,
   "id": "35c8026c-9651-47fd-80f8-a331ddd08342",
   "metadata": {},
   "outputs": [],
   "source": [
    "client.delete_bucket_encryption(BUCKET)"
   ]
  },
  {
   "cell_type": "code",
   "execution_count": null,
   "id": "be89a1e9-8d85-47f3-873d-b4f8603b5ea4",
   "metadata": {},
   "outputs": [],
   "source": []
  }
 ],
 "metadata": {
  "kernelspec": {
   "display_name": "Python 3 (ipykernel)",
   "language": "python",
   "name": "python3"
  },
  "language_info": {
   "codemirror_mode": {
    "name": "ipython",
    "version": 3
   },
   "file_extension": ".py",
   "mimetype": "text/x-python",
   "name": "python",
   "nbconvert_exporter": "python",
   "pygments_lexer": "ipython3",
   "version": "3.10.6"
  }
 },
 "nbformat": 4,
 "nbformat_minor": 5
}
