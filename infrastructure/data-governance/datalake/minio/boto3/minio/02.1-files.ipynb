{
 "cells": [
  {
   "cell_type": "code",
   "execution_count": null,
   "id": "bade975e-865f-463b-bd11-4f214c8bd432",
   "metadata": {},
   "outputs": [],
   "source": [
    "import io\n",
    "import json\n",
    "from minio import Minio\n",
    "from dotenv import dotenv_values\n",
    "\n",
    "aws_credentials = dotenv_values(\"../env\")\n",
    "\n",
    "client = Minio(\n",
    "    aws_credentials['MINIO_ENDPOINT_URL'],\n",
    "    access_key=aws_credentials['ACCESS_KEY_ID'],\n",
    "    secret_key=aws_credentials['SECRET_ACCESS_KEY'],\n",
    "    secure=False\n",
    ")"
   ]
  },
  {
   "cell_type": "markdown",
   "id": "6f7edc2b-2894-4d9d-b45b-9ec70d03803e",
   "metadata": {},
   "source": [
    "# File"
   ]
  },
  {
   "cell_type": "code",
   "execution_count": null,
   "id": "0fd252c1-cb04-4e14-8ca9-24e03bb27e0a",
   "metadata": {},
   "outputs": [],
   "source": [
    "!pwd"
   ]
  },
  {
   "cell_type": "code",
   "execution_count": null,
   "id": "d00d4e6e-fc8b-47e3-85dc-d25552ad355e",
   "metadata": {},
   "outputs": [],
   "source": [
    "BUCKET = 'teste'\n",
    "OBJECT = 'output_2.json'\n",
    "FILE = '/home/jovyan/jsons/output_2.json'"
   ]
  },
  {
   "cell_type": "markdown",
   "id": "a888937f-531a-420f-897e-7b6dc11ff634",
   "metadata": {},
   "source": [
    "## [fget_object](https://min.io/docs/minio/linux/developers/python/API.html#fget-object-bucket-name-object-name-file-path-request-headers-none-ssec-none-version-id-none-extra-query-params-none-tmp-file-path-none)\n",
    "\n",
    "Downloads data of an object to file."
   ]
  },
  {
   "cell_type": "code",
   "execution_count": null,
   "id": "beb56d17-ac4b-49cd-ba79-4fa043a1016c",
   "metadata": {},
   "outputs": [],
   "source": [
    "client.fget_object(\n",
    "    bucket_name=BUCKET, \n",
    "    object_name=OBJECT, \n",
    "    file_path=FILE)"
   ]
  },
  {
   "cell_type": "markdown",
   "id": "9e1b68d7-c09d-409b-a5d1-a2d6068b23ec",
   "metadata": {},
   "source": [
    "## [fput_object](https://min.io/docs/minio/linux/developers/python/API.html#fput-object-bucket-name-object-name-file-path-content-type-application-octet-stream-metadata-none-sse-none-progress-none-part-size-0-num-parallel-uploads-3-tags-none-retention-none-legal-hold-false)\n",
    "\n",
    "Uploads data from a file to an object in a bucket."
   ]
  },
  {
   "cell_type": "code",
   "execution_count": null,
   "id": "e3f4e34a-2124-47dd-97c7-c7fc304b78cd",
   "metadata": {},
   "outputs": [],
   "source": [
    "client.fput_object(\n",
    "    bucket_name=BUCKET, \n",
    "    object_name=OBJECT, \n",
    "    file_path=FILE)"
   ]
  },
  {
   "cell_type": "code",
   "execution_count": null,
   "id": "b7f7240e-27b4-4b26-a2db-9bea968b8c9e",
   "metadata": {},
   "outputs": [],
   "source": []
  }
 ],
 "metadata": {
  "kernelspec": {
   "display_name": "Python 3 (ipykernel)",
   "language": "python",
   "name": "python3"
  },
  "language_info": {
   "codemirror_mode": {
    "name": "ipython",
    "version": 3
   },
   "file_extension": ".py",
   "mimetype": "text/x-python",
   "name": "python",
   "nbconvert_exporter": "python",
   "pygments_lexer": "ipython3",
   "version": "3.10.6"
  }
 },
 "nbformat": 4,
 "nbformat_minor": 5
}
