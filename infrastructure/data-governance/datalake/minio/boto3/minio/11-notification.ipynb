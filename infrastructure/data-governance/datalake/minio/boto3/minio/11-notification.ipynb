{
 "cells": [
  {
   "cell_type": "code",
   "execution_count": null,
   "id": "bade975e-865f-463b-bd11-4f214c8bd432",
   "metadata": {},
   "outputs": [],
   "source": [
    "from minio import Minio\n",
    "from minio.notificationconfig import (NotificationConfig, PrefixFilterRule,\n",
    "                                      QueueConfig)\n",
    "from dotenv import dotenv_values\n",
    "\n",
    "aws_credentials = dotenv_values(\"../env\")\n",
    "\n",
    "client = Minio(\n",
    "    aws_credentials['MINIO_ENDPOINT_URL'],\n",
    "    access_key=aws_credentials['ACCESS_KEY_ID'],\n",
    "    secret_key=aws_credentials['SECRET_ACCESS_KEY'],\n",
    "    secure=False\n",
    ")"
   ]
  },
  {
   "cell_type": "markdown",
   "id": "4bc1ebce-50e0-4ef3-a754-e10e20cf453b",
   "metadata": {},
   "source": [
    "# Notification"
   ]
  },
  {
   "cell_type": "code",
   "execution_count": null,
   "id": "20af3606-92b9-4942-941b-4fa1ff9bce4f",
   "metadata": {},
   "outputs": [],
   "source": [
    "BUCKET = 'my-bucket'"
   ]
  },
  {
   "cell_type": "markdown",
   "id": "1a891956-362c-45ba-bb48-9cb5f04e3841",
   "metadata": {},
   "source": [
    "## [set_bucket_notification](https://min.io/docs/minio/linux/developers/python/API.html#set-bucket-notification-bucket-name-config)\n",
    "\n",
    "Set notification configuration of a bucket."
   ]
  },
  {
   "cell_type": "code",
   "execution_count": null,
   "id": "c27f1af2-fced-4a71-ab63-92f5a2d2d555",
   "metadata": {},
   "outputs": [],
   "source": [
    "config = NotificationConfig(\n",
    "    queue_config_list=[\n",
    "        QueueConfig(\n",
    "            \"QUEUE-ARN-OF-THIS-BUCKET\",\n",
    "            [\"s3:ObjectCreated:*\"],\n",
    "            config_id=\"1\",\n",
    "            prefix_filter_rule=PrefixFilterRule(\"abc\"),\n",
    "        ),\n",
    "    ],\n",
    ")\n",
    "client.set_bucket_notification(BUCKET, config)"
   ]
  },
  {
   "cell_type": "markdown",
   "id": "75f20e69-4ef7-42bc-8aca-ad958e3ca7f5",
   "metadata": {},
   "source": [
    "## [get_bucket_notification](https://min.io/docs/minio/linux/developers/python/API.html#get_bucket_notification)\n",
    "\n",
    "Get notification configuration of a bucket."
   ]
  },
  {
   "cell_type": "code",
   "execution_count": null,
   "id": "8a3b8bf6-816f-42d6-a2fe-62554dd2ddf4",
   "metadata": {},
   "outputs": [],
   "source": [
    "config = client.get_bucket_notification(BUCKET)"
   ]
  },
  {
   "cell_type": "code",
   "execution_count": null,
   "id": "90cc7621-8fa2-48e3-a300-6999b7d27b8a",
   "metadata": {},
   "outputs": [],
   "source": [
    "config.cloud_func_config_list"
   ]
  },
  {
   "cell_type": "code",
   "execution_count": null,
   "id": "f7f23798-616b-4dd3-bd4c-c692b9add9d1",
   "metadata": {},
   "outputs": [],
   "source": [
    "config.queue_config_list"
   ]
  },
  {
   "cell_type": "code",
   "execution_count": null,
   "id": "08706566-2a67-4a1e-a638-5c95858e8e3d",
   "metadata": {},
   "outputs": [],
   "source": [
    "config.topic_config_list"
   ]
  },
  {
   "cell_type": "markdown",
   "id": "b9a7c32d-da70-4a16-be2b-9f30468ff37d",
   "metadata": {},
   "source": [
    "## [delete_bucket_notification](https://min.io/docs/minio/linux/developers/python/API.html#delete-bucket-notification-bucket-name)\n",
    "\n",
    "Delete notification configuration of a bucket. On success, S3 service stops notification of events previously set of the bucket."
   ]
  },
  {
   "cell_type": "code",
   "execution_count": null,
   "id": "da6d5051-4601-48da-8b66-d0015bcf0510",
   "metadata": {},
   "outputs": [],
   "source": [
    "client.delete_bucket_notification(BUCKET)"
   ]
  },
  {
   "cell_type": "markdown",
   "id": "edc8d028-ae9f-425d-b397-cdfa8fc85182",
   "metadata": {},
   "source": [
    "## [listen_bucket_notification](https://min.io/docs/minio/linux/developers/python/API.html#listen-bucket-notification-bucket-name-prefix-suffix-events-s3-objectcreated-s3-objectremoved-s3-objectaccessed)\n",
    "\n",
    "Listen events of object prefix and suffix of a bucket. Caller should iterate returned iterator to read new events."
   ]
  },
  {
   "cell_type": "code",
   "execution_count": null,
   "id": "173bd459-841a-4740-95c4-dcb419a56a9c",
   "metadata": {},
   "outputs": [],
   "source": [
    "with client.listen_bucket_notification(\n",
    "    bucket_name=BUCKET,\n",
    "    prefix=\"abc/\",\n",
    "    events=[\"s3:ObjectCreated:*\", \"s3:ObjectRemoved:*\"],\n",
    ") as events:\n",
    "    for event in events:\n",
    "        print(event)"
   ]
  }
 ],
 "metadata": {
  "kernelspec": {
   "display_name": "Python 3 (ipykernel)",
   "language": "python",
   "name": "python3"
  },
  "language_info": {
   "codemirror_mode": {
    "name": "ipython",
    "version": 3
   },
   "file_extension": ".py",
   "mimetype": "text/x-python",
   "name": "python",
   "nbconvert_exporter": "python",
   "pygments_lexer": "ipython3",
   "version": "3.10.6"
  }
 },
 "nbformat": 4,
 "nbformat_minor": 5
}
