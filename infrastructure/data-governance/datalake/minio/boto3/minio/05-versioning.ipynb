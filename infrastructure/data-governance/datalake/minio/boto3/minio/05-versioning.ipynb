{
 "cells": [
  {
   "cell_type": "code",
   "execution_count": null,
   "id": "bade975e-865f-463b-bd11-4f214c8bd432",
   "metadata": {},
   "outputs": [],
   "source": [
    "from minio import Minio\n",
    "from minio.commonconfig import ENABLED\n",
    "from minio.versioningconfig import VersioningConfig\n",
    "from dotenv import dotenv_values\n",
    "\n",
    "aws_credentials = dotenv_values(\"../env\")\n",
    "\n",
    "client = Minio(\n",
    "    aws_credentials['MINIO_ENDPOINT_URL'],\n",
    "    access_key=aws_credentials['ACCESS_KEY_ID'],\n",
    "    secret_key=aws_credentials['SECRET_ACCESS_KEY'],\n",
    "    secure=False\n",
    ")"
   ]
  },
  {
   "cell_type": "markdown",
   "id": "4bc1ebce-50e0-4ef3-a754-e10e20cf453b",
   "metadata": {},
   "source": [
    "# Versioning"
   ]
  },
  {
   "cell_type": "code",
   "execution_count": null,
   "id": "ab74f79a-ecb9-4fd8-b6d6-74da9583bcff",
   "metadata": {},
   "outputs": [],
   "source": [
    "BUCKET = 'my-bucket'"
   ]
  },
  {
   "cell_type": "markdown",
   "id": "358c5601-763a-4605-8098-e89fa1ce69e9",
   "metadata": {},
   "source": [
    "## [set_bucket_versioning](https://min.io/docs/minio/linux/developers/python/API.html#set-bucket-versioning-bucket-name-config)\n",
    "\n",
    "Set versioning configuration to a bucket."
   ]
  },
  {
   "cell_type": "code",
   "execution_count": null,
   "id": "f5f57ca7-2560-473f-bac7-af620bff0312",
   "metadata": {},
   "outputs": [],
   "source": [
    "client.set_bucket_versioning(BUCKET, VersioningConfig(ENABLED))"
   ]
  },
  {
   "cell_type": "markdown",
   "id": "94c0cd02-0542-4988-bd35-23f6117d8d09",
   "metadata": {},
   "source": [
    "## [get_bucket_versioning](https://min.io/docs/minio/linux/developers/python/API.html#get-bucket-versioning-bucket-name)\n",
    "\n",
    "Get versioning configuration of a bucket."
   ]
  },
  {
   "cell_type": "code",
   "execution_count": null,
   "id": "784e0bf7-59e4-4ad5-ba11-0b5efc653bcf",
   "metadata": {},
   "outputs": [],
   "source": [
    "config = client.get_bucket_versioning(BUCKET)\n",
    "print(config.status)"
   ]
  },
  {
   "cell_type": "code",
   "execution_count": null,
   "id": "9ef5bb74-33bb-4e27-a248-c8ef3af2a769",
   "metadata": {},
   "outputs": [],
   "source": [
    "config = client.get_bucket_versioning(BUCKET)\n",
    "print(config.status)"
   ]
  }
 ],
 "metadata": {
  "kernelspec": {
   "display_name": "Python 3 (ipykernel)",
   "language": "python",
   "name": "python3"
  },
  "language_info": {
   "codemirror_mode": {
    "name": "ipython",
    "version": 3
   },
   "file_extension": ".py",
   "mimetype": "text/x-python",
   "name": "python",
   "nbconvert_exporter": "python",
   "pygments_lexer": "ipython3",
   "version": "3.10.6"
  }
 },
 "nbformat": 4,
 "nbformat_minor": 5
}
