{
 "cells": [
  {
   "cell_type": "code",
   "execution_count": null,
   "id": "bade975e-865f-463b-bd11-4f214c8bd432",
   "metadata": {},
   "outputs": [],
   "source": [
    "from minio import Minio\n",
    "from minio.commonconfig import GOVERNANCE\n",
    "from minio.objectlockconfig import DAYS, ObjectLockConfig\n",
    "from dotenv import dotenv_values\n",
    "\n",
    "aws_credentials = dotenv_values(\"../env\")\n",
    "\n",
    "client = Minio(\n",
    "    aws_credentials['MINIO_ENDPOINT_URL'],\n",
    "    access_key=aws_credentials['ACCESS_KEY_ID'],\n",
    "    secret_key=aws_credentials['SECRET_ACCESS_KEY'],\n",
    "    secure=False\n",
    ")"
   ]
  },
  {
   "cell_type": "markdown",
   "id": "4bc1ebce-50e0-4ef3-a754-e10e20cf453b",
   "metadata": {},
   "source": [
    "# Object Legal Hold"
   ]
  },
  {
   "cell_type": "code",
   "execution_count": null,
   "id": "ac3d5339-cc3d-43e8-8a85-edf161740d30",
   "metadata": {},
   "outputs": [],
   "source": [
    "BUCKET = 'my-bucket3'\n",
    "OBJECT = 'output_0.json'"
   ]
  },
  {
   "cell_type": "markdown",
   "id": "162c8540-9d30-4a70-8bec-bf9ef0a9c451",
   "metadata": {},
   "source": [
    "## [enable_object_legal_hold](https://min.io/docs/minio/linux/developers/python/API.html#enable_object_legal_hold)\n",
    "\n",
    "Enable legal hold on an object."
   ]
  },
  {
   "cell_type": "code",
   "execution_count": null,
   "id": "2db53ea5-2de0-4a5f-bf4f-80508f0915b6",
   "metadata": {},
   "outputs": [],
   "source": [
    "client.enable_object_legal_hold(BUCKET, OBJECT)"
   ]
  },
  {
   "cell_type": "markdown",
   "id": "0efe311a-2c5d-48ab-bf66-353e8c1cecda",
   "metadata": {},
   "source": [
    "## [is_object_legal_hold_enabled](https://min.io/docs/minio/linux/developers/python/API.html#is-object-legal-hold-enabled-bucket-name-object-name-version-id-none)\n",
    "\n",
    "Returns true if legal hold is enabled on an object."
   ]
  },
  {
   "cell_type": "code",
   "execution_count": null,
   "id": "57642017-452e-42b2-98c0-33d216c3d10e",
   "metadata": {},
   "outputs": [],
   "source": [
    "client.is_object_legal_hold_enabled(BUCKET, OBJECT)"
   ]
  },
  {
   "cell_type": "code",
   "execution_count": null,
   "id": "22c70865-4f28-4f15-af45-89946f4f9a93",
   "metadata": {},
   "outputs": [],
   "source": [
    "if client.is_object_legal_hold_enabled(BUCKET, OBJECT):\n",
    "    print(\"legal hold is enabled on my-object\")\n",
    "else:\n",
    "    print(\"legal hold is not enabled on my-object\")"
   ]
  },
  {
   "cell_type": "markdown",
   "id": "20c49561-fd35-45bb-8ef4-059bb35272d7",
   "metadata": {},
   "source": [
    "## [disable_object_legal_hold](https://min.io/docs/minio/linux/developers/python/API.html#disable-object-legal-hold-bucket-name-object-name-version-id-none)\n",
    "\n",
    "Disable legal hold on an object."
   ]
  },
  {
   "cell_type": "code",
   "execution_count": null,
   "id": "119c4c8f-ab20-4951-bccc-0d1255b6531d",
   "metadata": {},
   "outputs": [],
   "source": [
    "client.disable_object_legal_hold(BUCKET, OBJECT)"
   ]
  },
  {
   "cell_type": "code",
   "execution_count": null,
   "id": "44ad39f8-d5fc-4d26-af31-f717aecc03e6",
   "metadata": {},
   "outputs": [],
   "source": []
  }
 ],
 "metadata": {
  "kernelspec": {
   "display_name": "Python 3 (ipykernel)",
   "language": "python",
   "name": "python3"
  },
  "language_info": {
   "codemirror_mode": {
    "name": "ipython",
    "version": 3
   },
   "file_extension": ".py",
   "mimetype": "text/x-python",
   "name": "python",
   "nbconvert_exporter": "python",
   "pygments_lexer": "ipython3",
   "version": "3.10.6"
  }
 },
 "nbformat": 4,
 "nbformat_minor": 5
}
