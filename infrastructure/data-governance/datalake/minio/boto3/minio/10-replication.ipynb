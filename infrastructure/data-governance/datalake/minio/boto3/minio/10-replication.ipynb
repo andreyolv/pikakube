{
 "cells": [
  {
   "cell_type": "code",
   "execution_count": null,
   "id": "bade975e-865f-463b-bd11-4f214c8bd432",
   "metadata": {},
   "outputs": [],
   "source": [
    "from minio import Minio\n",
    "from minio.commonconfig import DISABLED, ENABLED, AndOperator, Filter\n",
    "from minio.replicationconfig import (DeleteMarkerReplication, Destination,\n",
    "                                     ReplicationConfig, Rule)\n",
    "from dotenv import dotenv_values\n",
    "\n",
    "aws_credentials = dotenv_values(\"../env\")\n",
    "\n",
    "client = Minio(\n",
    "    aws_credentials['MINIO_ENDPOINT_URL'],\n",
    "    access_key=aws_credentials['ACCESS_KEY_ID'],\n",
    "    secret_key=aws_credentials['SECRET_ACCESS_KEY'],\n",
    "    secure=False\n",
    ")"
   ]
  },
  {
   "cell_type": "markdown",
   "id": "4bc1ebce-50e0-4ef3-a754-e10e20cf453b",
   "metadata": {},
   "source": [
    "# Replication"
   ]
  },
  {
   "cell_type": "code",
   "execution_count": null,
   "id": "20af3606-92b9-4942-941b-4fa1ff9bce4f",
   "metadata": {},
   "outputs": [],
   "source": [
    "BUCKET = 'my-bucket'"
   ]
  },
  {
   "cell_type": "markdown",
   "id": "1a891956-362c-45ba-bb48-9cb5f04e3841",
   "metadata": {},
   "source": [
    "## [set_bucket_replication](https://min.io/docs/minio/linux/developers/python/API.html#set-bucket-replication-bucket-name-config)\n",
    "\n",
    "Set replication configuration to a bucket."
   ]
  },
  {
   "cell_type": "code",
   "execution_count": null,
   "id": "c27f1af2-fced-4a71-ab63-92f5a2d2d555",
   "metadata": {},
   "outputs": [],
   "source": [
    "config = ReplicationConfig(\n",
    "    \"REPLACE-WITH-ACTUAL-ROLE\",\n",
    "    [\n",
    "        Rule(\n",
    "            Destination(\n",
    "                \"REPLACE-WITH-ACTUAL-DESTINATION-BUCKET-ARN\",\n",
    "            ),\n",
    "            ENABLED,\n",
    "            delete_marker_replication=DeleteMarkerReplication(\n",
    "                DISABLED,\n",
    "            ),\n",
    "            rule_filter=Filter(\n",
    "                AndOperator(\n",
    "                    \"TaxDocs\",\n",
    "                    {\"key1\": \"value1\", \"key2\": \"value2\"},\n",
    "                ),\n",
    "            ),\n",
    "            rule_id=\"rule1\",\n",
    "            priority=1,\n",
    "        ),\n",
    "    ],\n",
    ")\n",
    "client.set_bucket_replication(BUCKET, config)"
   ]
  },
  {
   "cell_type": "markdown",
   "id": "75f20e69-4ef7-42bc-8aca-ad958e3ca7f5",
   "metadata": {},
   "source": [
    "## [get_bucket_replication](https://min.io/docs/minio/linux/developers/python/API.html#get-bucket-replication-bucket-name)\n",
    "\n",
    "Get replication configuration of a bucket."
   ]
  },
  {
   "cell_type": "code",
   "execution_count": null,
   "id": "8a3b8bf6-816f-42d6-a2fe-62554dd2ddf4",
   "metadata": {},
   "outputs": [],
   "source": [
    "config = client.get_bucket_replication(BUCKET)"
   ]
  },
  {
   "cell_type": "markdown",
   "id": "b9a7c32d-da70-4a16-be2b-9f30468ff37d",
   "metadata": {},
   "source": [
    "## [delete_bucket_replication](https://min.io/docs/minio/linux/developers/python/API.html#delete-bucket-replication-bucket-name)\n",
    "\n",
    "Delete replication configuration of a bucket."
   ]
  },
  {
   "cell_type": "code",
   "execution_count": null,
   "id": "da6d5051-4601-48da-8b66-d0015bcf0510",
   "metadata": {},
   "outputs": [],
   "source": [
    "client.delete_bucket_replication(BUCKET)"
   ]
  },
  {
   "cell_type": "code",
   "execution_count": null,
   "id": "68d6cec4-2627-45a0-a16a-6759787ee2ce",
   "metadata": {},
   "outputs": [],
   "source": []
  }
 ],
 "metadata": {
  "kernelspec": {
   "display_name": "Python 3 (ipykernel)",
   "language": "python",
   "name": "python3"
  },
  "language_info": {
   "codemirror_mode": {
    "name": "ipython",
    "version": 3
   },
   "file_extension": ".py",
   "mimetype": "text/x-python",
   "name": "python",
   "nbconvert_exporter": "python",
   "pygments_lexer": "ipython3",
   "version": "3.10.6"
  }
 },
 "nbformat": 4,
 "nbformat_minor": 5
}
