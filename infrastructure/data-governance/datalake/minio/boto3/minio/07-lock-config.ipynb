{
 "cells": [
  {
   "cell_type": "code",
   "execution_count": null,
   "id": "bade975e-865f-463b-bd11-4f214c8bd432",
   "metadata": {},
   "outputs": [],
   "source": [
    "from minio import Minio\n",
    "from minio.commonconfig import GOVERNANCE\n",
    "from minio.objectlockconfig import DAYS, ObjectLockConfig\n",
    "from dotenv import dotenv_values\n",
    "\n",
    "aws_credentials = dotenv_values(\"../env\")\n",
    "\n",
    "client = Minio(\n",
    "    aws_credentials['MINIO_ENDPOINT_URL'],\n",
    "    access_key=aws_credentials['ACCESS_KEY_ID'],\n",
    "    secret_key=aws_credentials['SECRET_ACCESS_KEY'],\n",
    "    secure=False\n",
    ")"
   ]
  },
  {
   "cell_type": "markdown",
   "id": "4bc1ebce-50e0-4ef3-a754-e10e20cf453b",
   "metadata": {},
   "source": [
    "# Lock Config"
   ]
  },
  {
   "cell_type": "code",
   "execution_count": null,
   "id": "b1f2d167-717e-4d6f-93cd-a795a32e37ae",
   "metadata": {},
   "outputs": [],
   "source": [
    "BUCKET = 'my-bucket3'"
   ]
  },
  {
   "cell_type": "code",
   "execution_count": null,
   "id": "fb0cab73-ab0e-4e12-aca9-e90a479532b8",
   "metadata": {},
   "outputs": [],
   "source": [
    "client.make_bucket(BUCKET, \"eu-west-2\", object_lock=True)"
   ]
  },
  {
   "cell_type": "markdown",
   "id": "162c8540-9d30-4a70-8bec-bf9ef0a9c451",
   "metadata": {},
   "source": [
    "## [set_object_lock_config](https://min.io/docs/minio/linux/developers/python/API.html#set-object-lock-config-bucket-name-config)\n",
    "\n",
    "Set object-lock configuration to a bucket."
   ]
  },
  {
   "cell_type": "code",
   "execution_count": null,
   "id": "2db53ea5-2de0-4a5f-bf4f-80508f0915b6",
   "metadata": {},
   "outputs": [],
   "source": [
    "config = ObjectLockConfig(GOVERNANCE, 15, DAYS)\n",
    "\n",
    "client.set_object_lock_config(BUCKET, config)"
   ]
  },
  {
   "cell_type": "markdown",
   "id": "0efe311a-2c5d-48ab-bf66-353e8c1cecda",
   "metadata": {},
   "source": [
    "## [get_object_lock_config](https://min.io/docs/minio/linux/developers/python/API.html#get-object-lock-config-bucket-name)\n",
    "\n",
    "Get object-lock configuration of a bucket."
   ]
  },
  {
   "cell_type": "code",
   "execution_count": null,
   "id": "22c70865-4f28-4f15-af45-89946f4f9a93",
   "metadata": {},
   "outputs": [],
   "source": [
    "config = client.get_object_lock_config(BUCKET)"
   ]
  },
  {
   "cell_type": "code",
   "execution_count": null,
   "id": "ffc0b032-9f40-43db-845b-857a2c179ae1",
   "metadata": {},
   "outputs": [],
   "source": [
    "config.mode"
   ]
  },
  {
   "cell_type": "code",
   "execution_count": null,
   "id": "21beffd1-b9c5-47f1-ae66-3d1407c64d9c",
   "metadata": {},
   "outputs": [],
   "source": [
    "config.duration"
   ]
  },
  {
   "cell_type": "markdown",
   "id": "20c49561-fd35-45bb-8ef4-059bb35272d7",
   "metadata": {},
   "source": [
    "## [delete_object_lock_config](https://min.io/docs/minio/linux/developers/python/API.html#delete-object-lock-config-bucket-name)\n",
    "\n",
    "Delete object-lock configuration of a bucket."
   ]
  },
  {
   "cell_type": "code",
   "execution_count": null,
   "id": "119c4c8f-ab20-4951-bccc-0d1255b6531d",
   "metadata": {},
   "outputs": [],
   "source": [
    "client.delete_object_lock_config(BUCKET)"
   ]
  },
  {
   "cell_type": "code",
   "execution_count": null,
   "id": "56e30530-1429-40ea-92f3-13ed9e0c14f1",
   "metadata": {},
   "outputs": [],
   "source": []
  }
 ],
 "metadata": {
  "kernelspec": {
   "display_name": "Python 3 (ipykernel)",
   "language": "python",
   "name": "python3"
  },
  "language_info": {
   "codemirror_mode": {
    "name": "ipython",
    "version": 3
   },
   "file_extension": ".py",
   "mimetype": "text/x-python",
   "name": "python",
   "nbconvert_exporter": "python",
   "pygments_lexer": "ipython3",
   "version": "3.10.6"
  }
 },
 "nbformat": 4,
 "nbformat_minor": 5
}
