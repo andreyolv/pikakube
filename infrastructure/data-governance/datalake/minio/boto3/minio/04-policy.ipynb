{
 "cells": [
  {
   "cell_type": "code",
   "execution_count": null,
   "id": "bade975e-865f-463b-bd11-4f214c8bd432",
   "metadata": {},
   "outputs": [],
   "source": [
    "import json\n",
    "from minio import Minio\n",
    "from dotenv import dotenv_values\n",
    "\n",
    "aws_credentials = dotenv_values(\"../env\")\n",
    "\n",
    "client = Minio(\n",
    "    aws_credentials['MINIO_ENDPOINT_URL'],\n",
    "    access_key=aws_credentials['ACCESS_KEY_ID'],\n",
    "    secret_key=aws_credentials['SECRET_ACCESS_KEY'],\n",
    "    secure=False\n",
    ")"
   ]
  },
  {
   "cell_type": "markdown",
   "id": "4bc1ebce-50e0-4ef3-a754-e10e20cf453b",
   "metadata": {},
   "source": [
    "# Policy"
   ]
  },
  {
   "cell_type": "code",
   "execution_count": null,
   "id": "d5d474be-3fcb-429f-8848-465ca554f22b",
   "metadata": {},
   "outputs": [],
   "source": [
    "BUCKET = 'my-bucket'"
   ]
  },
  {
   "cell_type": "markdown",
   "id": "162c8540-9d30-4a70-8bec-bf9ef0a9c451",
   "metadata": {},
   "source": [
    "## [set_bucket_policy](https://min.io/docs/minio/linux/developers/python/API.html#set-bucket-policy-bucket-name-policy)\n",
    "\n",
    "Set bucket policy configuration to a bucket."
   ]
  },
  {
   "cell_type": "code",
   "execution_count": null,
   "id": "24946bd6-8f31-4d49-93b4-e9b0f0f69daa",
   "metadata": {},
   "outputs": [],
   "source": [
    "# Example anonymous read-only bucket policy.\n",
    "policy = {\n",
    "    \"Version\": \"2012-10-17\",\n",
    "    \"Statement\": [\n",
    "        {\n",
    "            \"Effect\": \"Allow\",\n",
    "            \"Principal\": {\"AWS\": \"*\"},\n",
    "            \"Action\": [\"s3:GetBucketLocation\", \"s3:ListBucket\"],\n",
    "            \"Resource\": \"arn:aws:s3:::my-bucket\",\n",
    "        },\n",
    "        {\n",
    "            \"Effect\": \"Allow\",\n",
    "            \"Principal\": {\"AWS\": \"*\"},\n",
    "            \"Action\": \"s3:GetObject\",\n",
    "            \"Resource\": \"arn:aws:s3:::my-bucket/*\",\n",
    "        },\n",
    "    ],\n",
    "}\n",
    "client.set_bucket_policy(BUCKET, json.dumps(policy))"
   ]
  },
  {
   "cell_type": "markdown",
   "id": "0efe311a-2c5d-48ab-bf66-353e8c1cecda",
   "metadata": {},
   "source": [
    "## [get_bucket_policy](https://min.io/docs/minio/linux/developers/python/API.html#get_bucket_policy)\n",
    "\n",
    "Get bucket policy configuration of a bucket."
   ]
  },
  {
   "cell_type": "code",
   "execution_count": null,
   "id": "22c70865-4f28-4f15-af45-89946f4f9a93",
   "metadata": {},
   "outputs": [],
   "source": [
    "client.get_bucket_policy(BUCKET)"
   ]
  },
  {
   "cell_type": "markdown",
   "id": "20c49561-fd35-45bb-8ef4-059bb35272d7",
   "metadata": {},
   "source": [
    "## [delete_bucket_policy](https://min.io/docs/minio/linux/developers/python/API.html#delete-bucket-policy-bucket-name)\n",
    "\n",
    "Delete bucket policy configuration of a bucket."
   ]
  },
  {
   "cell_type": "code",
   "execution_count": null,
   "id": "119c4c8f-ab20-4951-bccc-0d1255b6531d",
   "metadata": {},
   "outputs": [],
   "source": [
    "client.delete_bucket_policy(BUCKET)"
   ]
  },
  {
   "cell_type": "code",
   "execution_count": null,
   "id": "ecc63e91-b0b4-42f4-902b-8f3bfa7ab3e3",
   "metadata": {},
   "outputs": [],
   "source": [
    "client.get_bucket_policy(BUCKET)"
   ]
  }
 ],
 "metadata": {
  "kernelspec": {
   "display_name": "Python 3 (ipykernel)",
   "language": "python",
   "name": "python3"
  },
  "language_info": {
   "codemirror_mode": {
    "name": "ipython",
    "version": 3
   },
   "file_extension": ".py",
   "mimetype": "text/x-python",
   "name": "python",
   "nbconvert_exporter": "python",
   "pygments_lexer": "ipython3",
   "version": "3.10.6"
  }
 },
 "nbformat": 4,
 "nbformat_minor": 5
}
