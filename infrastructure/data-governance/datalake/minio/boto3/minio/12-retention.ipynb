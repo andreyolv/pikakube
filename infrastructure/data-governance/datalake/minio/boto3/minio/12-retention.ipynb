{
 "cells": [
  {
   "cell_type": "code",
   "execution_count": null,
   "id": "bade975e-865f-463b-bd11-4f214c8bd432",
   "metadata": {},
   "outputs": [],
   "source": [
    "from datetime import datetime, timedelta\n",
    "from minio import Minio\n",
    "from minio.commonconfig import GOVERNANCE\n",
    "from minio.retention import Retention\n",
    "from dotenv import dotenv_values\n",
    "\n",
    "aws_credentials = dotenv_values(\"../env\")\n",
    "\n",
    "client = Minio(\n",
    "    aws_credentials['MINIO_ENDPOINT_URL'],\n",
    "    access_key=aws_credentials['ACCESS_KEY_ID'],\n",
    "    secret_key=aws_credentials['SECRET_ACCESS_KEY'],\n",
    "    secure=False\n",
    ")"
   ]
  },
  {
   "cell_type": "markdown",
   "id": "4bc1ebce-50e0-4ef3-a754-e10e20cf453b",
   "metadata": {},
   "source": [
    "# Retention"
   ]
  },
  {
   "cell_type": "code",
   "execution_count": null,
   "id": "20af3606-92b9-4942-941b-4fa1ff9bce4f",
   "metadata": {},
   "outputs": [],
   "source": [
    "BUCKET = 'my-bucket3'\n",
    "OBJECT = 'output_1.json'"
   ]
  },
  {
   "cell_type": "markdown",
   "id": "1a891956-362c-45ba-bb48-9cb5f04e3841",
   "metadata": {},
   "source": [
    "## [set_object_retention](https://min.io/docs/minio/linux/developers/python/API.html#set-object-retention-bucket-name-object-name-config-version-id-none)\n",
    "\n",
    "Set versioning configuration to a bucket."
   ]
  },
  {
   "cell_type": "code",
   "execution_count": null,
   "id": "c27f1af2-fced-4a71-ab63-92f5a2d2d555",
   "metadata": {},
   "outputs": [],
   "source": [
    "config = Retention(GOVERNANCE, datetime.utcnow() + timedelta(minutes=1))\n",
    "\n",
    "client.set_object_retention(BUCKET, OBJECT, config)"
   ]
  },
  {
   "cell_type": "markdown",
   "id": "75f20e69-4ef7-42bc-8aca-ad958e3ca7f5",
   "metadata": {},
   "source": [
    "## [get_object_retention](https://min.io/docs/minio/linux/developers/python/API.html#get-object-retention-bucket-name-object-name-version-id-none)\n",
    "\n",
    "Get retention information of an object."
   ]
  },
  {
   "cell_type": "code",
   "execution_count": null,
   "id": "8a3b8bf6-816f-42d6-a2fe-62554dd2ddf4",
   "metadata": {},
   "outputs": [],
   "source": [
    "config = client.get_object_retention(BUCKET, OBJECT)"
   ]
  },
  {
   "cell_type": "code",
   "execution_count": null,
   "id": "24c2c617-58e5-44cb-b849-412d98435939",
   "metadata": {},
   "outputs": [],
   "source": [
    "config.mode"
   ]
  },
  {
   "cell_type": "code",
   "execution_count": null,
   "id": "01c5ed16-047e-48bc-b3cd-96f2dee878f1",
   "metadata": {},
   "outputs": [],
   "source": [
    "config.retain_until_date"
   ]
  },
  {
   "cell_type": "code",
   "execution_count": null,
   "id": "2e05f9e1-1aac-4d07-ba7e-4ad2755767ea",
   "metadata": {},
   "outputs": [],
   "source": [
    "datetime.utcnow()"
   ]
  },
  {
   "cell_type": "code",
   "execution_count": null,
   "id": "f4d2fce9-3968-4efa-b248-89c6c0c4c6b0",
   "metadata": {},
   "outputs": [],
   "source": []
  }
 ],
 "metadata": {
  "kernelspec": {
   "display_name": "Python 3 (ipykernel)",
   "language": "python",
   "name": "python3"
  },
  "language_info": {
   "codemirror_mode": {
    "name": "ipython",
    "version": 3
   },
   "file_extension": ".py",
   "mimetype": "text/x-python",
   "name": "python",
   "nbconvert_exporter": "python",
   "pygments_lexer": "ipython3",
   "version": "3.10.6"
  }
 },
 "nbformat": 4,
 "nbformat_minor": 5
}
