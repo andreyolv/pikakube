{
 "cells": [
  {
   "cell_type": "code",
   "execution_count": null,
   "id": "bade975e-865f-463b-bd11-4f214c8bd432",
   "metadata": {},
   "outputs": [],
   "source": [
    "import io\n",
    "import json\n",
    "from minio import Minio\n",
    "from dotenv import dotenv_values\n",
    "\n",
    "aws_credentials = dotenv_values(\"../env\")\n",
    "\n",
    "client = Minio(\n",
    "    aws_credentials['MINIO_ENDPOINT_URL'],\n",
    "    access_key=aws_credentials['ACCESS_KEY_ID'],\n",
    "    secret_key=aws_credentials['SECRET_ACCESS_KEY'],\n",
    "    secure=False\n",
    ")"
   ]
  },
  {
   "cell_type": "markdown",
   "id": "ede200ae-852d-434a-95e3-5e8a2bf9a57b",
   "metadata": {},
   "source": [
    "# Objects"
   ]
  },
  {
   "cell_type": "code",
   "execution_count": null,
   "id": "b599561e-f571-4e4a-afee-b10f54a8e903",
   "metadata": {},
   "outputs": [],
   "source": [
    "BUCKET = 'my-bucket'\n",
    "OBJECT = 'output_1.json'"
   ]
  },
  {
   "cell_type": "markdown",
   "id": "e51f40c0-2e7a-4b19-a8ed-8705e09fec6e",
   "metadata": {},
   "source": [
    "## [list_objects](https://min.io/docs/minio/linux/developers/python/API.html#list-objects-bucket-name-prefix-none-recursive-false-start-after-none-include-user-meta-false-include-version-false-use-api-v1-false-use-url-encoding-type-true)\n",
    "\n",
    "Lists object information of a bucket."
   ]
  },
  {
   "cell_type": "code",
   "execution_count": null,
   "id": "79560acd-f0ea-4f87-bf62-e22115b4edce",
   "metadata": {},
   "outputs": [],
   "source": [
    "# List objects information.\n",
    "objects = client.list_objects(BUCKET)\n",
    "for obj in objects:\n",
    "    print(obj.object_name)"
   ]
  },
  {
   "cell_type": "code",
   "execution_count": null,
   "id": "a162e926-7883-4784-8186-5151923f5d1a",
   "metadata": {},
   "outputs": [],
   "source": [
    "# List objects information whose names starts with \"my/prefix/\".\n",
    "objects = client.list_objects(BUCKET, prefix=\"abc/\")\n",
    "for obj in objects:\n",
    "    print(obj.object_name)"
   ]
  },
  {
   "cell_type": "code",
   "execution_count": null,
   "id": "f8676484-5e39-4652-ad54-de4fbe90fcc7",
   "metadata": {},
   "outputs": [],
   "source": [
    "# List objects information recursively.\n",
    "objects = client.list_objects(BUCKET, recursive=True)\n",
    "for obj in objects:\n",
    "    print(obj.object_name)"
   ]
  },
  {
   "cell_type": "code",
   "execution_count": null,
   "id": "a52cb4a0-b11b-4511-9c71-f95bab876440",
   "metadata": {},
   "outputs": [],
   "source": [
    "# List objects information recursively whose names starts with\n",
    "# \"my/prefix/\".\n",
    "objects = client.list_objects(\n",
    "    BUCKET, prefix=\"abc\", recursive=True,\n",
    ")\n",
    "for obj in objects:\n",
    "    print(obj.object_name)"
   ]
  },
  {
   "cell_type": "markdown",
   "id": "98717c24-06ac-4a73-939e-961878e8b778",
   "metadata": {},
   "source": [
    "## [get_object](https://min.io/docs/minio/linux/developers/python/API.html#get-object-bucket-name-object-name-offset-0-length-0-request-headers-none-ssec-none-version-id-none-extra-query-params-none)\n",
    "\n",
    "Gets data from offset to length of an object. Returned response should be closed after use to release network resources. To reuse the connection, it’s required to call response.release_conn() explicitly."
   ]
  },
  {
   "cell_type": "code",
   "execution_count": null,
   "id": "41a17ae6-c282-42de-89a1-1bc723cb44ee",
   "metadata": {},
   "outputs": [],
   "source": [
    "response = client.get_object(BUCKET, OBJECT)"
   ]
  },
  {
   "cell_type": "code",
   "execution_count": null,
   "id": "0d3fa952-0be7-4723-b130-7980b693356d",
   "metadata": {},
   "outputs": [],
   "source": [
    "response.data.decode()"
   ]
  },
  {
   "cell_type": "markdown",
   "id": "43ccf6c5-96b0-4657-b1ed-549d523bbd66",
   "metadata": {},
   "source": [
    "## [put_object](https://min.io/docs/minio/linux/developers/python/API.html#put_object)\n",
    "\n",
    "Uploads data from a stream to an object in a bucket."
   ]
  },
  {
   "cell_type": "code",
   "execution_count": null,
   "id": "6c817d6a-df7c-493b-b83b-c539d5b24dfe",
   "metadata": {},
   "outputs": [],
   "source": [
    "json_file = {\"clientes\": [{\"id\": \"1b484d189cafc68008fbcb1adef94082\", \"name\": \"BARTOLOMEU\", \"idade\": 38, \"credito_solicitado\": 230311, \"data_solicitacao\": \"01/15/2022 08:11\"}, {\"id\": \"c4e0c38c502b109a9324cf8fd90ef907\", \"name\": \"NIGEL\", \"idade\": 54, \"credito_solicitado\": 345304, \"data_solicitacao\": \"01/15/2022 16:48\"}, {\"id\": \"89d21736d351f3a6445c91f753b1fb1f\", \"name\": \"MAXIMILLIAN\", \"idade\": 60, \"credito_solicitado\": 423406, \"data_solicitacao\": \"01/23/2022 18:10\"}, {\"id\": \"48d605f6dfa428020ba67298ad1a4041\", \"name\": \"AHIL\", \"idade\": 54, \"credito_solicitado\": 402914, \"data_solicitacao\": \"01/02/2022 03:56\"}, {\"id\": \"5e0f2688c5f1c64c92df687ac4917ce3\", \"name\": \"INDIE\", \"idade\": 64, \"credito_solicitado\": 182364, \"data_solicitacao\": \"01/19/2022 08:16\"}]}\n",
    "\n",
    "json_record = json.dumps(json_file)"
   ]
  },
  {
   "cell_type": "code",
   "execution_count": null,
   "id": "2cdf0201-7c03-4a2c-8628-baf6e48f83a1",
   "metadata": {},
   "outputs": [],
   "source": [
    "result = client.put_object(\n",
    "    bucket_name=BUCKET, \n",
    "    object_name=OBJECT, \n",
    "    data=io.BytesIO(json_record.encode()), \n",
    "    length=-1, \n",
    "    part_size=10000000\n",
    ")"
   ]
  },
  {
   "cell_type": "markdown",
   "id": "3c150cee-b4f6-48a2-bc49-043587f7feb5",
   "metadata": {},
   "source": [
    "# Remove"
   ]
  },
  {
   "cell_type": "markdown",
   "id": "fcaa92b0-4459-46fd-add4-254f884069e0",
   "metadata": {},
   "source": [
    "## [remove_object](https://min.io/docs/minio/linux/developers/python/API.html#remove-object-bucket-name-object-name-version-id-none)\n",
    "\n",
    "Remove an object."
   ]
  },
  {
   "cell_type": "code",
   "execution_count": null,
   "id": "24cf5d48-acda-4c2d-8234-77c41169e1c8",
   "metadata": {},
   "outputs": [],
   "source": [
    "client.remove_object(BUCKET, OBJECT)"
   ]
  },
  {
   "cell_type": "markdown",
   "id": "4085e90f-a6ea-417a-a284-f01f44a457a8",
   "metadata": {},
   "source": [
    "## [remove_objects](https://min.io/docs/minio/linux/developers/python/API.html#remove-objects-bucket-name-delete-object-list-bypass-governance-mode-false)\n",
    "\n",
    "Remove multiple objects."
   ]
  },
  {
   "cell_type": "code",
   "execution_count": null,
   "id": "90a52e42-82ef-4e19-a46a-7c3b428e23ce",
   "metadata": {},
   "outputs": [],
   "source": [
    "from minio.deleteobjects import DeleteObject"
   ]
  },
  {
   "cell_type": "code",
   "execution_count": null,
   "id": "c7b3c9af-3f94-4d5c-a1f8-0ee08a260749",
   "metadata": {},
   "outputs": [],
   "source": [
    "client.remove_objects(\n",
    "    BUCKET,\n",
    "    [\n",
    "        DeleteObject(\"output_7.json\"),\n",
    "        DeleteObject(\"output_8.json\")\n",
    "    ],\n",
    ")"
   ]
  },
  {
   "cell_type": "markdown",
   "id": "67b2744e-adb0-4057-8aee-8b4fd18dbc3e",
   "metadata": {},
   "source": [
    "# Copy"
   ]
  },
  {
   "cell_type": "markdown",
   "id": "998513d2-2216-43ea-a433-63d8e794b90a",
   "metadata": {},
   "source": [
    "## [copy_object](https://min.io/docs/minio/linux/developers/python/API.html#copy-object-bucket-name-object-name-source-sse-none-metadata-none-tags-none-retention-none-legal-hold-false-metadata-directive-none-tagging-directive-none)\n",
    "\n",
    "Create an object by server-side copying data from another object. In this API maximum supported source object size is 5GiB."
   ]
  },
  {
   "cell_type": "code",
   "execution_count": null,
   "id": "c0990445-511d-42a0-857f-4f5939f3a71e",
   "metadata": {},
   "outputs": [],
   "source": [
    "from minio.commonconfig import CopySource"
   ]
  },
  {
   "cell_type": "code",
   "execution_count": null,
   "id": "d7dcb5b2-c080-4daa-8623-e9dfad6fe762",
   "metadata": {},
   "outputs": [],
   "source": [
    "SOURCE_BUCKET = 'my-bucket'\n",
    "SINK_BUCKET = 'velero'\n",
    "OBJECT = 'output_1.json'"
   ]
  },
  {
   "cell_type": "code",
   "execution_count": null,
   "id": "48447fa1-e8fc-4169-a1bb-5f74111275f5",
   "metadata": {
    "tags": []
   },
   "outputs": [],
   "source": [
    "client.copy_object(\n",
    "    SINK_BUCKET,\n",
    "    OBJECT,\n",
    "    CopySource(SOURCE_BUCKET, OBJECT),\n",
    ")"
   ]
  },
  {
   "cell_type": "code",
   "execution_count": null,
   "id": "b7f7240e-27b4-4b26-a2db-9bea968b8c9e",
   "metadata": {},
   "outputs": [],
   "source": []
  }
 ],
 "metadata": {
  "kernelspec": {
   "display_name": "Python 3 (ipykernel)",
   "language": "python",
   "name": "python3"
  },
  "language_info": {
   "codemirror_mode": {
    "name": "ipython",
    "version": 3
   },
   "file_extension": ".py",
   "mimetype": "text/x-python",
   "name": "python",
   "nbconvert_exporter": "python",
   "pygments_lexer": "ipython3",
   "version": "3.10.6"
  }
 },
 "nbformat": 4,
 "nbformat_minor": 5
}
