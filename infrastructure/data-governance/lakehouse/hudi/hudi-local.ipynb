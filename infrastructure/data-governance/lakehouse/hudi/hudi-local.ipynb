{
 "cells": [
  {
   "cell_type": "code",
   "execution_count": 1,
   "id": "23b6369d-43e1-41cf-bed9-68573b0015f8",
   "metadata": {},
   "outputs": [],
   "source": [
    "from pyspark.sql import SparkSession\n",
    "from pyspark.sql.types import *\n",
    "from pyspark.sql import functions as F\n",
    "from pyspark.sql import Window\n",
    "\n",
    "# https://hudi.apache.org/docs/quick-start-guide/#spark-3-support-matrix\n",
    "\n",
    "spark = (SparkSession.builder\n",
    "            .appName('HudiTable')\n",
    "            .config(\"spark.jars.packages\",\"org.apache.hudi:hudi-spark3.3-bundle_2.12:0.14.0\"\n",
    "                   )\n",
    "            .config(\"spark.serializer\", \"org.apache.spark.serializer.KryoSerializer\")\n",
    "            .config(\"spark.sql.catalog.spark_catalog\", \"org.apache.spark.sql.hudi.catalog.HoodieCatalog\")\n",
    "            .config(\"spark.sql.extensions\", \"org.apache.spark.sql.hudi.HoodieSparkSessionExtension\")\n",
    "            .config(\"spark.kryo.registrator\", \"org.apache.spark.HoodieSparkKryoRegistrar\")\n",
    "            .getOrCreate()\n",
    "        )\n"
   ]
  },
  {
   "cell_type": "code",
   "execution_count": 2,
   "id": "adf93319-0436-45f3-b789-bb34f002b590",
   "metadata": {},
   "outputs": [
    {
     "name": "stdout",
     "output_type": "stream",
     "text": [
      "/home/jovyan\n"
     ]
    }
   ],
   "source": [
    "!pwd"
   ]
  },
  {
   "cell_type": "markdown",
   "id": "f3888e38-cfdd-410d-bed3-cfb35a0322ca",
   "metadata": {},
   "source": [
    "## Create Table"
   ]
  },
  {
   "cell_type": "code",
   "execution_count": 19,
   "id": "41e2fb94-2b3b-4ef0-8e06-d9758098a5b9",
   "metadata": {},
   "outputs": [
    {
     "data": {
      "text/plain": [
       "DataFrame[]"
      ]
     },
     "execution_count": 19,
     "metadata": {},
     "output_type": "execute_result"
    }
   ],
   "source": [
    "spark.sql(\"\"\"\n",
    "CREATE TABLE hudi_table3 (\n",
    "    ts BIGINT,\n",
    "    uuid STRING,\n",
    "    rider STRING,\n",
    "    driver STRING,\n",
    "    fare DOUBLE,\n",
    "    city STRING\n",
    ") USING HUDI\n",
    "PARTITIONED BY (city)\n",
    "LOCATION '/home/jovyan/hudi2';\n",
    "\"\"\"\n",
    ")"
   ]
  },
  {
   "cell_type": "code",
   "execution_count": 22,
   "id": "95b57d9e-e3a1-48c4-ba61-bde1422bd41f",
   "metadata": {},
   "outputs": [
    {
     "name": "stdout",
     "output_type": "stream",
     "text": [
      "+-------------------+--------------------+--------------------+----------------------+--------------------+-------------+--------------------+-------+--------+-----+-------------+\n",
      "|_hoodie_commit_time|_hoodie_commit_seqno|  _hoodie_record_key|_hoodie_partition_path|   _hoodie_file_name|           ts|                uuid|  rider|  driver| fare|         city|\n",
      "+-------------------+--------------------+--------------------+----------------------+--------------------+-------------+--------------------+-------+--------+-----+-------------+\n",
      "|  20240427165953591|20240427165953591...|20240427165953591...|    city=san_francisco|0738651c-aec1-447...|1695159649087|334e26e9-8355-45c...|rider-A|driver-K| 19.1|san_francisco|\n",
      "|  20240427165953591|20240427165953591...|20240427165953591...|    city=san_francisco|0738651c-aec1-447...|1695091554788|e96c4396-3fad-413...|rider-C|driver-M| 27.7|san_francisco|\n",
      "|  20240427165953591|20240427165953591...|20240427165953591...|    city=san_francisco|0738651c-aec1-447...|1695046462179|9909a8b1-2d15-4d3...|rider-D|driver-L| 33.9|san_francisco|\n",
      "|  20240427165953591|20240427165953591...|20240427165953591...|    city=san_francisco|0738651c-aec1-447...|1695332066204|1dced545-862b-4ce...|rider-E|driver-O| 93.5|san_francisco|\n",
      "|  20240427165953591|20240427165953591...|20240427165953591...|        city=sao_paulo|6039b0e2-d4a3-486...|1695516137016|e3cf430c-889d-401...|rider-F|driver-P|34.15|    sao_paulo|\n",
      "|  20240427165953591|20240427165953591...|20240427165953591...|        city=sao_paulo|6039b0e2-d4a3-486...|1695376420876|7a84095f-737f-40b...|rider-G|driver-Q| 43.4|    sao_paulo|\n",
      "|  20240427165953591|20240427165953591...|20240427165953591...|          city=chennai|a54b5afd-004f-418...|1695173887231|3eeb61f7-c2b0-463...|rider-I|driver-S|41.06|      chennai|\n",
      "|  20240427165953591|20240427165953591...|20240427165953591...|          city=chennai|a54b5afd-004f-418...|1695115999911|c8abbe79-8d89-47e...|rider-J|driver-T|17.85|      chennai|\n",
      "+-------------------+--------------------+--------------------+----------------------+--------------------+-------------+--------------------+-------+--------+-----+-------------+\n",
      "\n"
     ]
    }
   ],
   "source": [
    "df = spark.read.format(\"hudi\").load('/home/jovyan/hudi2')\n",
    "\n",
    "df.show()"
   ]
  },
  {
   "cell_type": "code",
   "execution_count": 12,
   "id": "703b706f-630e-4574-90f1-97ddd57690e6",
   "metadata": {},
   "outputs": [],
   "source": [
    "# pyspark\n",
    "basePath = '/home/jovyan/hudi'\n",
    "table_name = 'hudi_table2'\n",
    "\n",
    "columns = [\"ts\",\"uuid\",\"rider\",\"driver\",\"fare\",\"city\"]\n",
    "\n",
    "data =[(1695159649087,\"334e26e9-8355-45cc-97c6-c31daf0df330\",\"rider-A\",\"driver-K\",19.10,\"san_francisco\"),\n",
    "       (1695091554788,\"e96c4396-3fad-413a-a942-4cb36106d721\",\"rider-C\",\"driver-M\",27.70 ,\"san_francisco\"),\n",
    "       (1695046462179,\"9909a8b1-2d15-4d3d-8ec9-efc48c536a00\",\"rider-D\",\"driver-L\",33.90 ,\"san_francisco\"),\n",
    "       (1695516137016,\"e3cf430c-889d-4015-bc98-59bdce1e530c\",\"rider-F\",\"driver-P\",34.15,\"sao_paulo\"),\n",
    "       (1695115999911,\"c8abbe79-8d89-47ea-b4ce-4d224bae5bfa\",\"rider-J\",\"driver-T\",17.85,\"chennai\")]\n",
    "\n",
    "df = spark.createDataFrame(data).toDF(*columns)\n",
    "\n",
    "hudi_options = {\n",
    "    'hoodie.table.name': table_name,\n",
    "    'hoodie.datasource.write.partitionpath.field': 'city'\n",
    "}\n",
    "\n",
    "(df.write\n",
    "    .format(\"hudi\")\n",
    "    .options(**hudi_options)\n",
    "    .mode(\"overwrite\")\n",
    "    .save(basePath)\n",
    ")"
   ]
  },
  {
   "cell_type": "code",
   "execution_count": null,
   "id": "5ab9b938-e0f4-4bf3-9dec-a60f74334d7b",
   "metadata": {},
   "outputs": [],
   "source": [
    "df = spark.read.format(\"hudi\").load(basePath)\n",
    "\n",
    "df.show()"
   ]
  },
  {
   "cell_type": "markdown",
   "id": "8ede5e1d-ed61-46d5-925c-a7fba89a999a",
   "metadata": {},
   "source": [
    "## Insert"
   ]
  },
  {
   "cell_type": "code",
   "execution_count": 21,
   "id": "a423a5c4-8953-4cbd-8128-5bea097fa551",
   "metadata": {},
   "outputs": [
    {
     "data": {
      "text/plain": [
       "DataFrame[]"
      ]
     },
     "execution_count": 21,
     "metadata": {},
     "output_type": "execute_result"
    }
   ],
   "source": [
    "spark.sql(\"\"\"\n",
    "INSERT INTO hudi_table3\n",
    "VALUES\n",
    "(1695159649087,'334e26e9-8355-45cc-97c6-c31daf0df330','rider-A','driver-K',19.10,'san_francisco'),\n",
    "(1695091554788,'e96c4396-3fad-413a-a942-4cb36106d721','rider-C','driver-M',27.70 ,'san_francisco'),\n",
    "(1695046462179,'9909a8b1-2d15-4d3d-8ec9-efc48c536a00','rider-D','driver-L',33.90 ,'san_francisco'),\n",
    "(1695332066204,'1dced545-862b-4ceb-8b43-d2a568f6616b','rider-E','driver-O',93.50,'san_francisco'),\n",
    "(1695516137016,'e3cf430c-889d-4015-bc98-59bdce1e530c','rider-F','driver-P',34.15,'sao_paulo'),\n",
    "(1695376420876,'7a84095f-737f-40bc-b62f-6b69664712d2','rider-G','driver-Q',43.40 ,'sao_paulo'),\n",
    "(1695173887231,'3eeb61f7-c2b0-4636-99bd-5d7a5a1d2c04','rider-I','driver-S',41.06 ,'chennai'),\n",
    "(1695115999911,'c8abbe79-8d89-47ea-b4ce-4d224bae5bfa','rider-J','driver-T',17.85,'chennai');;\n",
    "\"\"\"\n",
    ")"
   ]
  },
  {
   "cell_type": "code",
   "execution_count": 24,
   "id": "da78ad6d-2246-441d-97f5-115300e83505",
   "metadata": {},
   "outputs": [
    {
     "name": "stdout",
     "output_type": "stream",
     "text": [
      "+-------------------+--------------------+--------------------+----------------------+--------------------+-------------+--------------------+-------+--------+-----+-------------+\n",
      "|_hoodie_commit_time|_hoodie_commit_seqno|  _hoodie_record_key|_hoodie_partition_path|   _hoodie_file_name|           ts|                uuid|  rider|  driver| fare|         city|\n",
      "+-------------------+--------------------+--------------------+----------------------+--------------------+-------------+--------------------+-------+--------+-----+-------------+\n",
      "|  20240427165953591|20240427165953591...|20240427165953591...|    city=san_francisco|0738651c-aec1-447...|1695159649087|334e26e9-8355-45c...|rider-A|driver-K| 19.1|san_francisco|\n",
      "|  20240427165953591|20240427165953591...|20240427165953591...|    city=san_francisco|0738651c-aec1-447...|1695091554788|e96c4396-3fad-413...|rider-C|driver-M| 27.7|san_francisco|\n",
      "|  20240427165953591|20240427165953591...|20240427165953591...|    city=san_francisco|0738651c-aec1-447...|1695046462179|9909a8b1-2d15-4d3...|rider-D|driver-L| 33.9|san_francisco|\n",
      "|  20240427165953591|20240427165953591...|20240427165953591...|    city=san_francisco|0738651c-aec1-447...|1695332066204|1dced545-862b-4ce...|rider-E|driver-O| 93.5|san_francisco|\n",
      "|  20240427165953591|20240427165953591...|20240427165953591...|        city=sao_paulo|6039b0e2-d4a3-486...|1695516137016|e3cf430c-889d-401...|rider-F|driver-P|34.15|    sao_paulo|\n",
      "|  20240427165953591|20240427165953591...|20240427165953591...|        city=sao_paulo|6039b0e2-d4a3-486...|1695376420876|7a84095f-737f-40b...|rider-G|driver-Q| 43.4|    sao_paulo|\n",
      "|  20240427165953591|20240427165953591...|20240427165953591...|          city=chennai|a54b5afd-004f-418...|1695173887231|3eeb61f7-c2b0-463...|rider-I|driver-S|41.06|      chennai|\n",
      "|  20240427165953591|20240427165953591...|20240427165953591...|          city=chennai|a54b5afd-004f-418...|1695115999911|c8abbe79-8d89-47e...|rider-J|driver-T|17.85|      chennai|\n",
      "+-------------------+--------------------+--------------------+----------------------+--------------------+-------------+--------------------+-------+--------+-----+-------------+\n",
      "\n"
     ]
    }
   ],
   "source": [
    "df = spark.read.format(\"hudi\").table('hudi_table3')\n",
    "\n",
    "df.show()"
   ]
  },
  {
   "cell_type": "code",
   "execution_count": 17,
   "id": "5a2b9e57-8d63-49a0-b3f7-56ee2aa6f275",
   "metadata": {},
   "outputs": [
    {
     "name": "stdout",
     "output_type": "stream",
     "text": [
      "+--------------------+-----+-------------+-------+--------+-------------+\n",
      "|                uuid| fare|           ts|  rider|  driver|         city|\n",
      "+--------------------+-----+-------------+-------+--------+-------------+\n",
      "|e96c4396-3fad-413...| 27.7|1695091554788|rider-C|driver-M|san_francisco|\n",
      "|9909a8b1-2d15-4d3...|339.0|1695046462179|rider-D|driver-L|san_francisco|\n",
      "|e3cf430c-889d-401...|34.15|1695516137016|rider-F|driver-P|    sao_paulo|\n",
      "+--------------------+-----+-------------+-------+--------+-------------+\n",
      "\n"
     ]
    }
   ],
   "source": [
    "df = spark.read.format(\"hudi\").load(basePath)\n",
    "df.createOrReplaceTempView(\"trips_table\")\n",
    "\n",
    "spark.sql(\"\"\"\n",
    "SELECT uuid, fare, ts, rider, driver, city \n",
    "FROM trips_table \n",
    "WHERE fare > 20.0\n",
    "\"\"\"\n",
    ").show()\n"
   ]
  },
  {
   "cell_type": "markdown",
   "id": "ad9cdeb5-5401-4cf0-a296-c045487f5c43",
   "metadata": {},
   "source": [
    "## Update"
   ]
  },
  {
   "cell_type": "code",
   "execution_count": 14,
   "id": "1263e976-e24d-4dea-9773-890bb3c5ab98",
   "metadata": {},
   "outputs": [],
   "source": [
    "df = spark.read.format(\"hudi\").load(basePath)\n",
    "\n",
    "df_update = (df.filter(\"rider == 'rider-D'\")\n",
    "                 .withColumn(\"fare\",F.col(\"fare\")*10)\n",
    "            )\n",
    "\n",
    "(df_update.write\n",
    "    .format(\"hudi\")\n",
    "    .options(**hudi_options)\n",
    "    .mode(\"append\")\n",
    "    .save(basePath)\n",
    ")"
   ]
  },
  {
   "cell_type": "code",
   "execution_count": 15,
   "id": "4612b3af-cabf-4fb4-9999-6079660a513d",
   "metadata": {},
   "outputs": [
    {
     "name": "stdout",
     "output_type": "stream",
     "text": [
      "+-------------------+--------------------+--------------------+----------------------+--------------------+-------------+--------------------+-------+--------+-----+-------------+\n",
      "|_hoodie_commit_time|_hoodie_commit_seqno|  _hoodie_record_key|_hoodie_partition_path|   _hoodie_file_name|           ts|                uuid|  rider|  driver| fare|         city|\n",
      "+-------------------+--------------------+--------------------+----------------------+--------------------+-------------+--------------------+-------+--------+-----+-------------+\n",
      "|  20240427163123273|20240427163123273...|20240427163123273...|         san_francisco|33aa4b27-b1c2-451...|1695159649087|334e26e9-8355-45c...|rider-A|driver-K| 19.1|san_francisco|\n",
      "|  20240427163123273|20240427163123273...|20240427163123273...|         san_francisco|33aa4b27-b1c2-451...|1695091554788|e96c4396-3fad-413...|rider-C|driver-M| 27.7|san_francisco|\n",
      "|  20240427163545966|20240427163545966...|20240427163123273...|         san_francisco|33aa4b27-b1c2-451...|1695046462179|9909a8b1-2d15-4d3...|rider-D|driver-L|339.0|san_francisco|\n",
      "|  20240427163123273|20240427163123273...|20240427163123273...|             sao_paulo|33aa4b27-b1c2-451...|1695516137016|e3cf430c-889d-401...|rider-F|driver-P|34.15|    sao_paulo|\n",
      "|  20240427163123273|20240427163123273...|20240427163123273...|               chennai|33aa4b27-b1c2-451...|1695115999911|c8abbe79-8d89-47e...|rider-J|driver-T|17.85|      chennai|\n",
      "+-------------------+--------------------+--------------------+----------------------+--------------------+-------------+--------------------+-------+--------+-----+-------------+\n",
      "\n"
     ]
    }
   ],
   "source": [
    "df = spark.read.format(\"hudi\").load(basePath)\n",
    "\n",
    "df.show()"
   ]
  },
  {
   "cell_type": "code",
   "execution_count": 18,
   "id": "ca56f6a2-e209-4abf-846f-301a5c333bdb",
   "metadata": {},
   "outputs": [
    {
     "data": {
      "text/html": [
       "<div>\n",
       "<style scoped>\n",
       "    .dataframe tbody tr th:only-of-type {\n",
       "        vertical-align: middle;\n",
       "    }\n",
       "\n",
       "    .dataframe tbody tr th {\n",
       "        vertical-align: top;\n",
       "    }\n",
       "\n",
       "    .dataframe thead th {\n",
       "        text-align: right;\n",
       "    }\n",
       "</style>\n",
       "<table border=\"1\" class=\"dataframe\">\n",
       "  <thead>\n",
       "    <tr style=\"text-align: right;\">\n",
       "      <th></th>\n",
       "      <th>_hoodie_commit_time</th>\n",
       "      <th>_hoodie_commit_seqno</th>\n",
       "      <th>_hoodie_record_key</th>\n",
       "      <th>_hoodie_partition_path</th>\n",
       "      <th>_hoodie_file_name</th>\n",
       "      <th>ts</th>\n",
       "      <th>uuid</th>\n",
       "      <th>rider</th>\n",
       "      <th>driver</th>\n",
       "      <th>fare</th>\n",
       "      <th>city</th>\n",
       "    </tr>\n",
       "  </thead>\n",
       "  <tbody>\n",
       "    <tr>\n",
       "      <th>0</th>\n",
       "      <td>20240427163123273</td>\n",
       "      <td>20240427163123273_0_1</td>\n",
       "      <td>20240427163123273_0_0</td>\n",
       "      <td>san_francisco</td>\n",
       "      <td>33aa4b27-b1c2-451a-9384-a69a4d6e4d11-0_0-53-70...</td>\n",
       "      <td>1695159649087</td>\n",
       "      <td>334e26e9-8355-45cc-97c6-c31daf0df330</td>\n",
       "      <td>rider-A</td>\n",
       "      <td>driver-K</td>\n",
       "      <td>19.10</td>\n",
       "      <td>san_francisco</td>\n",
       "    </tr>\n",
       "    <tr>\n",
       "      <th>1</th>\n",
       "      <td>20240427163123273</td>\n",
       "      <td>20240427163123273_0_2</td>\n",
       "      <td>20240427163123273_0_1</td>\n",
       "      <td>san_francisco</td>\n",
       "      <td>33aa4b27-b1c2-451a-9384-a69a4d6e4d11-0_0-53-70...</td>\n",
       "      <td>1695091554788</td>\n",
       "      <td>e96c4396-3fad-413a-a942-4cb36106d721</td>\n",
       "      <td>rider-C</td>\n",
       "      <td>driver-M</td>\n",
       "      <td>27.70</td>\n",
       "      <td>san_francisco</td>\n",
       "    </tr>\n",
       "    <tr>\n",
       "      <th>2</th>\n",
       "      <td>20240427163545966</td>\n",
       "      <td>20240427163545966_0_2</td>\n",
       "      <td>20240427163123273_0_2</td>\n",
       "      <td>san_francisco</td>\n",
       "      <td>33aa4b27-b1c2-451a-9384-a69a4d6e4d11-0_0-53-70...</td>\n",
       "      <td>1695046462179</td>\n",
       "      <td>9909a8b1-2d15-4d3d-8ec9-efc48c536a00</td>\n",
       "      <td>rider-D</td>\n",
       "      <td>driver-L</td>\n",
       "      <td>339.00</td>\n",
       "      <td>san_francisco</td>\n",
       "    </tr>\n",
       "    <tr>\n",
       "      <th>3</th>\n",
       "      <td>20240427163123273</td>\n",
       "      <td>20240427163123273_0_4</td>\n",
       "      <td>20240427163123273_0_3</td>\n",
       "      <td>sao_paulo</td>\n",
       "      <td>33aa4b27-b1c2-451a-9384-a69a4d6e4d11-1_0-39-0_...</td>\n",
       "      <td>1695516137016</td>\n",
       "      <td>e3cf430c-889d-4015-bc98-59bdce1e530c</td>\n",
       "      <td>rider-F</td>\n",
       "      <td>driver-P</td>\n",
       "      <td>34.15</td>\n",
       "      <td>sao_paulo</td>\n",
       "    </tr>\n",
       "    <tr>\n",
       "      <th>4</th>\n",
       "      <td>20240427163123273</td>\n",
       "      <td>20240427163123273_0_5</td>\n",
       "      <td>20240427163123273_0_4</td>\n",
       "      <td>chennai</td>\n",
       "      <td>33aa4b27-b1c2-451a-9384-a69a4d6e4d11-2_0-39-0_...</td>\n",
       "      <td>1695115999911</td>\n",
       "      <td>c8abbe79-8d89-47ea-b4ce-4d224bae5bfa</td>\n",
       "      <td>rider-J</td>\n",
       "      <td>driver-T</td>\n",
       "      <td>17.85</td>\n",
       "      <td>chennai</td>\n",
       "    </tr>\n",
       "  </tbody>\n",
       "</table>\n",
       "</div>"
      ],
      "text/plain": [
       "  _hoodie_commit_time   _hoodie_commit_seqno     _hoodie_record_key  \\\n",
       "0   20240427163123273  20240427163123273_0_1  20240427163123273_0_0   \n",
       "1   20240427163123273  20240427163123273_0_2  20240427163123273_0_1   \n",
       "2   20240427163545966  20240427163545966_0_2  20240427163123273_0_2   \n",
       "3   20240427163123273  20240427163123273_0_4  20240427163123273_0_3   \n",
       "4   20240427163123273  20240427163123273_0_5  20240427163123273_0_4   \n",
       "\n",
       "  _hoodie_partition_path                                  _hoodie_file_name  \\\n",
       "0          san_francisco  33aa4b27-b1c2-451a-9384-a69a4d6e4d11-0_0-53-70...   \n",
       "1          san_francisco  33aa4b27-b1c2-451a-9384-a69a4d6e4d11-0_0-53-70...   \n",
       "2          san_francisco  33aa4b27-b1c2-451a-9384-a69a4d6e4d11-0_0-53-70...   \n",
       "3              sao_paulo  33aa4b27-b1c2-451a-9384-a69a4d6e4d11-1_0-39-0_...   \n",
       "4                chennai  33aa4b27-b1c2-451a-9384-a69a4d6e4d11-2_0-39-0_...   \n",
       "\n",
       "              ts                                  uuid    rider    driver  \\\n",
       "0  1695159649087  334e26e9-8355-45cc-97c6-c31daf0df330  rider-A  driver-K   \n",
       "1  1695091554788  e96c4396-3fad-413a-a942-4cb36106d721  rider-C  driver-M   \n",
       "2  1695046462179  9909a8b1-2d15-4d3d-8ec9-efc48c536a00  rider-D  driver-L   \n",
       "3  1695516137016  e3cf430c-889d-4015-bc98-59bdce1e530c  rider-F  driver-P   \n",
       "4  1695115999911  c8abbe79-8d89-47ea-b4ce-4d224bae5bfa  rider-J  driver-T   \n",
       "\n",
       "     fare           city  \n",
       "0   19.10  san_francisco  \n",
       "1   27.70  san_francisco  \n",
       "2  339.00  san_francisco  \n",
       "3   34.15      sao_paulo  \n",
       "4   17.85        chennai  "
      ]
     },
     "execution_count": 18,
     "metadata": {},
     "output_type": "execute_result"
    }
   ],
   "source": [
    "df = spark.read.format(\"hudi\").load(basePath).createOrReplaceTempView(\"df_table\")\n",
    "\n",
    "spark.sql(\"\"\"\n",
    "SELECT * FROM df_table\n",
    "\"\"\"\n",
    ").show()"
   ]
  },
  {
   "cell_type": "markdown",
   "id": "f5586819-a564-4b70-ac19-1383afb8e044",
   "metadata": {},
   "source": [
    "## Merge"
   ]
  },
  {
   "cell_type": "code",
   "execution_count": null,
   "id": "0201050e-588d-488e-89f8-ab16d2e483f2",
   "metadata": {},
   "outputs": [],
   "source": [
    "https://hudi.apache.org/docs/quick-start-guide/"
   ]
  },
  {
   "cell_type": "markdown",
   "id": "0018cf3c-592d-4170-8001-e89970221d48",
   "metadata": {},
   "source": [
    "## Delete"
   ]
  },
  {
   "cell_type": "code",
   "execution_count": null,
   "id": "9ad4c9a3-ba1d-49de-8daf-4711c91359aa",
   "metadata": {},
   "outputs": [],
   "source": []
  },
  {
   "cell_type": "markdown",
   "id": "4f86aeca-fad8-48f4-9aa3-6e0a3f72f0f0",
   "metadata": {},
   "source": [
    "## Time Travel"
   ]
  },
  {
   "cell_type": "code",
   "execution_count": null,
   "id": "e7b75909-7927-4b55-88d5-921d5029eb55",
   "metadata": {},
   "outputs": [],
   "source": []
  },
  {
   "cell_type": "markdown",
   "id": "8d5f3ea4-d588-4c6c-b977-32cfcf4e7bb6",
   "metadata": {},
   "source": [
    "## Incremental"
   ]
  },
  {
   "cell_type": "code",
   "execution_count": null,
   "id": "3027a69a-0b4d-4922-a81a-e2f173228411",
   "metadata": {},
   "outputs": [],
   "source": []
  },
  {
   "cell_type": "markdown",
   "id": "7b62ec1e-7d4a-4043-9112-b2837a0ca70b",
   "metadata": {},
   "source": [
    "## Change Data Capture"
   ]
  },
  {
   "cell_type": "code",
   "execution_count": null,
   "id": "2655a570-2eef-48ba-9b4d-80b1d1293e48",
   "metadata": {},
   "outputs": [],
   "source": []
  },
  {
   "cell_type": "code",
   "execution_count": null,
   "id": "48e37eca-c0bc-4776-aea3-802134a07f3a",
   "metadata": {},
   "outputs": [],
   "source": []
  },
  {
   "cell_type": "code",
   "execution_count": null,
   "id": "bf58b2d6-7ab6-41e4-99e9-61ae6ae7eb89",
   "metadata": {},
   "outputs": [],
   "source": []
  }
 ],
 "metadata": {
  "kernelspec": {
   "display_name": "Python 3 (ipykernel)",
   "language": "python",
   "name": "python3"
  },
  "language_info": {
   "codemirror_mode": {
    "name": "ipython",
    "version": 3
   },
   "file_extension": ".py",
   "mimetype": "text/x-python",
   "name": "python",
   "nbconvert_exporter": "python",
   "pygments_lexer": "ipython3",
   "version": "3.10.6"
  }
 },
 "nbformat": 4,
 "nbformat_minor": 5
}
