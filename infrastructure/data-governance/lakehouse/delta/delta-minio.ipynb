{
 "cells": [
  {
   "cell_type": "code",
   "execution_count": null,
   "id": "cb7cbcc6-1eec-4b9c-861c-deda00c10e89",
   "metadata": {},
   "outputs": [],
   "source": [
    "from pyspark.sql import SparkSession\n",
    "from pyspark.sql.types import *\n",
    "from pyspark.sql import functions as F\n",
    "from pyspark.sql import Window\n",
    "\n",
    "spark = (SparkSession.builder\n",
    "            .appName('DeltaMinIO')\n",
    "            .config(\"spark.jars.packages\", \"org.apache.hadoop:hadoop-aws:3.3.1,\"\n",
    "                                            \"com.amazonaws:aws-java-sdk-bundle:1.12.709,\"\n",
    "                                            \"io.delta:delta-core_2.12:2.3.0\"\n",
    "                    )\n",
    "            # S3 / Minio\n",
    "            .config(\"spark.hadoop.fs.s3a.access.key\", \"andreyolv\")\n",
    "            .config(\"spark.hadoop.fs.s3a.secret.key\", \"andreyolv\")\n",
    "            .config(\"spark.hadoop.fs.s3a.endpoint\", \"http://minio.minio:9000\")\n",
    "            .config(\"spark.hadoop.fs.s3a.path.style.access\", True)\n",
    "            .config(\"spark.hadoop.fs.s3a.fast.upload\", True)\n",
    "            .config(\"spark.hadoop.fs.s3a.multipart.size\", 104857600)\n",
    "            .config(\"fs.s3a.connection.maximum\", 100)\n",
    "            .config(\"spark.hadoop.fs.s3a.impl\", \"org.apache.hadoop.fs.s3a.S3AFileSystem\")\n",
    "            # Delta\n",
    "            .config(\"spark.delta.logStore.class\", \"org.apache.spark.sql.delta.storage.S3SingleDriverLogStore\")\n",
    "            .config(\"spark.sql.extensions\", \"io.delta.sql.DeltaSparkSessionExtension\")\n",
    "            .config(\"spark.sql.catalog.spark_catalog\", \"org.apache.spark.sql.delta.catalog.DeltaCatalog\")\n",
    "            .getOrCreate()\n",
    "        )"
   ]
  },
  {
   "cell_type": "code",
   "execution_count": null,
   "id": "db901275-40a1-435f-b1e1-92d7dfed8af5",
   "metadata": {},
   "outputs": [],
   "source": [
    "# Define the schema for a DataFrame\n",
    "schema = StructType([\n",
    "    StructField(\"id\", IntegerType(), True),\n",
    "    StructField(\"name\", StringType(), True),\n",
    "    StructField(\"age\", IntegerType(), True),\n",
    "    StructField(\"city\", StringType(), True)\n",
    "])\n",
    "\n",
    "# Create a DataFrame using the schema\n",
    "data = [(1, \"Alice\", 25, \"New York\"), \n",
    "        (2, \"Bob\", 30, \"San Francisco\"), \n",
    "        (3, \"Charlie\", 35, \"Chicago\")]\n",
    "\n",
    "df = spark.createDataFrame(data, schema)\n",
    "\n",
    "# Show the DataFrame\n",
    "df.toPandas()"
   ]
  },
  {
   "cell_type": "markdown",
   "id": "34f24391-0d39-45a2-a3ec-5397aad973f0",
   "metadata": {},
   "source": [
    "## Save Delta"
   ]
  },
  {
   "cell_type": "code",
   "execution_count": null,
   "id": "af4ab22a-f400-4d11-a2a7-5cbaf877ad17",
   "metadata": {},
   "outputs": [],
   "source": [
    "s3_location = 's3a://lakehouse/delta'"
   ]
  },
  {
   "cell_type": "code",
   "execution_count": null,
   "id": "1862ffd8-195d-4228-aff1-82c2f26d067e",
   "metadata": {},
   "outputs": [],
   "source": [
    "df.write.format(\"delta\").save(s3_location)"
   ]
  },
  {
   "cell_type": "markdown",
   "id": "3a5bfd01-d0f9-47c2-820d-db8ea777b60b",
   "metadata": {},
   "source": [
    "## Load Delta"
   ]
  },
  {
   "cell_type": "code",
   "execution_count": null,
   "id": "b1d240f2-75cc-4ac4-be28-9b5c6c542883",
   "metadata": {},
   "outputs": [],
   "source": [
    "spark.read.format(\"delta\").load(s3_location).toPandas()"
   ]
  },
  {
   "cell_type": "code",
   "execution_count": null,
   "id": "10722328-e4af-4fd5-8adb-fcc5261d8c5a",
   "metadata": {},
   "outputs": [],
   "source": []
  }
 ],
 "metadata": {
  "kernelspec": {
   "display_name": "Python 3 (ipykernel)",
   "language": "python",
   "name": "python3"
  },
  "language_info": {
   "codemirror_mode": {
    "name": "ipython",
    "version": 3
   },
   "file_extension": ".py",
   "mimetype": "text/x-python",
   "name": "python",
   "nbconvert_exporter": "python",
   "pygments_lexer": "ipython3",
   "version": "3.10.6"
  }
 },
 "nbformat": 4,
 "nbformat_minor": 5
}
