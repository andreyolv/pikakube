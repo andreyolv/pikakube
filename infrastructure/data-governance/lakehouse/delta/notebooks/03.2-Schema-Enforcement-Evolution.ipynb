{
 "cells": [
  {
   "cell_type": "code",
   "execution_count": null,
   "id": "e6b6c7d4-23ad-4140-921c-746a853aeb46",
   "metadata": {},
   "outputs": [],
   "source": [
    "import warnings\n",
    "from pyspark.sql import SparkSession\n",
    "from pyspark.sql.types import *\n",
    "from pyspark.sql import functions as F\n",
    "from pyspark.sql import Window\n",
    "from delta.tables import DeltaTable\n",
    "\n",
    "warnings.filterwarnings(\"ignore\", category=FutureWarning)\n",
    "\n",
    "# Create SparkSession\n",
    "spark = SparkSession.builder.appName(\"DeltaSession\") \\\n",
    "            .config(\"spark.jars.packages\", \"io.delta:delta-core_2.12:2.3.0\") \\\n",
    "            .config(\"spark.sql.extensions\", \"io.delta.sql.DeltaSparkSessionExtension\") \\\n",
    "            .config(\"spark.sql.catalog.spark_catalog\", \"org.apache.spark.sql.delta.catalog.DeltaCatalog\")\\\n",
    "            .getOrCreate()"
   ]
  },
  {
   "cell_type": "markdown",
   "id": "275a0378-5f83-4df8-8593-64abaffc73de",
   "metadata": {},
   "source": [
    "## Parquet tables don't have schema enforcement"
   ]
  },
  {
   "cell_type": "code",
   "execution_count": null,
   "id": "a2b3f93d-2336-4980-8749-0c1bc70df53c",
   "metadata": {},
   "outputs": [],
   "source": [
    "columns = [\"first_name\", \"age\"]\n",
    "data = [(\"bob\", 47), (\"li\", 23), (\"leonard\", 51)]\n",
    "\n",
    "df = spark.createDataFrame(data, columns)\n",
    "\n",
    "df.toPandas()"
   ]
  },
  {
   "cell_type": "code",
   "execution_count": null,
   "id": "56799b8e-0758-45ec-b6c4-085951bd3b0a",
   "metadata": {},
   "outputs": [],
   "source": [
    "df.write.mode(\"overwrite\").format(\"parquet\").save(\"extract/03schema_parquet\")"
   ]
  },
  {
   "cell_type": "code",
   "execution_count": null,
   "id": "661b067a-ff8c-4b3d-be6b-f2b661802540",
   "metadata": {},
   "outputs": [],
   "source": [
    "columns = [\"first_name\", \"favorite_color\"]\n",
    "data = [(\"sal\", \"red\"), (\"cat\", \"pink\")]\n",
    "\n",
    "df = spark.createDataFrame(data, columns)\n",
    "\n",
    "df.toPandas()"
   ]
  },
  {
   "cell_type": "code",
   "execution_count": null,
   "id": "7a1845c7-0346-4397-a348-0d31cf4e9704",
   "metadata": {},
   "outputs": [],
   "source": [
    "df.write.mode(\"append\").format(\"parquet\").save(\"extract/03schema_parquet\")"
   ]
  },
  {
   "cell_type": "code",
   "execution_count": null,
   "id": "54ca7d51-8178-4414-9567-3e5870718df5",
   "metadata": {},
   "outputs": [],
   "source": [
    "spark.read.format(\"parquet\").load(\"extract/03schema_parquet\").toPandas()"
   ]
  },
  {
   "cell_type": "markdown",
   "id": "0dd0bf65-9866-4a41-9c5d-f5e6d01496c6",
   "metadata": {},
   "source": [
    "## Parquet tables with metastore have schema enforcement\n"
   ]
  },
  {
   "cell_type": "code",
   "execution_count": null,
   "id": "7a0b7238-37a1-4cc6-9def-1bd37a0be436",
   "metadata": {},
   "outputs": [],
   "source": [
    "columns = [\"first_name\", \"age\"]\n",
    "data = [(\"bob\", 47), (\"li\", 23), (\"leonard\", 51)]\n",
    "\n",
    "df = spark.createDataFrame(data, columns)\n",
    "\n",
    "df.toPandas()"
   ]
  },
  {
   "cell_type": "code",
   "execution_count": null,
   "id": "01d94400-046a-42ec-9ccf-1d78fdc49233",
   "metadata": {},
   "outputs": [],
   "source": [
    "df.write.format(\"parquet\").saveAsTable(\"03schema_parquet2\")"
   ]
  },
  {
   "cell_type": "code",
   "execution_count": null,
   "id": "28f4122b-2ff5-4a56-ac98-927203236a04",
   "metadata": {},
   "outputs": [],
   "source": [
    "columns = [\"first_name\", \"favorite_color\"]\n",
    "data = [(\"sal\", \"red\"), (\"cat\", \"pink\")]\n",
    "\n",
    "df = spark.createDataFrame(data, columns)\n",
    "\n",
    "df.toPandas()"
   ]
  },
  {
   "cell_type": "code",
   "execution_count": null,
   "id": "efa0df40-6b9a-4ce3-9a6f-cc6dc50aa733",
   "metadata": {},
   "outputs": [],
   "source": [
    "df.write.mode(\"append\").format(\"parquet\").saveAsTable(\"03schema_parquet2\")"
   ]
  },
  {
   "cell_type": "markdown",
   "id": "2697c1d0-77a4-4ec0-98e6-14d57c320fb6",
   "metadata": {},
   "source": [
    "## Delta Lake schema enforcement is built-in"
   ]
  },
  {
   "cell_type": "code",
   "execution_count": null,
   "id": "4d1b840d-0f39-4f76-a1a6-d17fa75283cf",
   "metadata": {},
   "outputs": [],
   "source": [
    "columns = [\"first_name\", \"age\"]\n",
    "data = [(\"bob\", 47), (\"li\", 23), (\"leonard\", 51)]\n",
    "\n",
    "df = spark.createDataFrame(data, columns)\n",
    "\n",
    "df.toPandas()"
   ]
  },
  {
   "cell_type": "code",
   "execution_count": null,
   "id": "22a912f6-57a0-4bcc-a4a3-859367a673b2",
   "metadata": {},
   "outputs": [],
   "source": [
    "df.write.format(\"delta\").save(\"extract/03schema_enf1\")"
   ]
  },
  {
   "cell_type": "code",
   "execution_count": null,
   "id": "8380405b-c5d7-4a3e-844d-a2c6c1088e4f",
   "metadata": {},
   "outputs": [],
   "source": [
    "columns = [\"first_name\", \"favorite_color\"]\n",
    "data = [(\"sal\", \"red\"), (\"cat\", \"pink\")]\n",
    "\n",
    "df = spark.createDataFrame(data, columns)\n",
    "\n",
    "df.toPandas()"
   ]
  },
  {
   "cell_type": "code",
   "execution_count": null,
   "id": "86daaf0f-e832-43dd-89ec-2c55374dabe0",
   "metadata": {},
   "outputs": [],
   "source": [
    "df.write.mode(\"append\").format(\"delta\").save(\"extract/03schema_enf1\")"
   ]
  },
  {
   "cell_type": "markdown",
   "id": "5f71e10f-21ee-4b7e-aecc-27540e6c9850",
   "metadata": {},
   "source": [
    "## option(\"mergeSchema\", \"true\") "
   ]
  },
  {
   "cell_type": "code",
   "execution_count": null,
   "id": "f8bf9ab3-d2a3-4b0f-ac19-5954d23dc466",
   "metadata": {},
   "outputs": [],
   "source": [
    "columns = [\"first_name\", \"age\"]\n",
    "data = [(\"bob\", 47), (\"li\", 23), (\"leonard\", 51)]\n",
    "\n",
    "df = spark.createDataFrame(data, columns)\n",
    "\n",
    "df.toPandas()"
   ]
  },
  {
   "cell_type": "code",
   "execution_count": null,
   "id": "0213c441-5319-4aa7-b586-28a7e7d5cd7f",
   "metadata": {},
   "outputs": [],
   "source": [
    "df.write.format(\"delta\").save(\"extract/03schema_enf2\")"
   ]
  },
  {
   "cell_type": "code",
   "execution_count": null,
   "id": "59216837-5c43-489e-a289-2a2035c0fefc",
   "metadata": {},
   "outputs": [],
   "source": [
    "columns = [\"first_name\", \"favorite_color\"]\n",
    "data = [(\"sal\", \"red\"), (\"cat\", \"pink\")]\n",
    "\n",
    "df = spark.createDataFrame(data, columns)\n",
    "\n",
    "df.toPandas()"
   ]
  },
  {
   "cell_type": "code",
   "execution_count": null,
   "id": "b0592d5e-a3c2-4a02-b5d8-1fed7ec29b1f",
   "metadata": {},
   "outputs": [],
   "source": [
    "(df.write\n",
    "    .option(\"mergeSchema\", \"true\")\n",
    "    .mode(\"append\")\n",
    "    .format(\"delta\")\n",
    "    .save(\"extract/03schema_enf2\")\n",
    ")"
   ]
  },
  {
   "cell_type": "code",
   "execution_count": null,
   "id": "b5c55875-4dfe-4c2b-ab28-7c809a2db106",
   "metadata": {},
   "outputs": [],
   "source": [
    "spark.read.format(\"delta\").load(\"extract/03schema_enf2\").toPandas()"
   ]
  },
  {
   "cell_type": "markdown",
   "id": "7471acd1-87b2-4f53-ab09-8ac3de5bd2ed",
   "metadata": {},
   "source": [
    "## Set mergeSchema to true"
   ]
  },
  {
   "cell_type": "code",
   "execution_count": null,
   "id": "e02424d5-59e1-4843-a4ca-fab42e02014b",
   "metadata": {},
   "outputs": [],
   "source": [
    "# python\n",
    "spark.conf.set(\"spark.databricks.delta.schema.autoMerge.enabled\", \"true\")"
   ]
  },
  {
   "cell_type": "code",
   "execution_count": null,
   "id": "26b260bc-beaa-4d8c-99ea-008d9a55acb7",
   "metadata": {},
   "outputs": [],
   "source": [
    "columns = [\"first_name\", \"age\"]\n",
    "data = [(\"bob\", 47), (\"li\", 23), (\"leonard\", 51)]\n",
    "\n",
    "df = spark.createDataFrame(data, columns)\n",
    "\n",
    "df.toPandas()"
   ]
  },
  {
   "cell_type": "code",
   "execution_count": null,
   "id": "8fc58758-f50b-47a5-9d0b-7ca1a8a8482c",
   "metadata": {},
   "outputs": [],
   "source": [
    "df.write.format(\"delta\").save(\"extract/03schema_enf3\")"
   ]
  },
  {
   "cell_type": "code",
   "execution_count": null,
   "id": "0b4a0715-d4a1-4db5-890b-efc267e616d0",
   "metadata": {},
   "outputs": [],
   "source": [
    "columns = [\"first_name\", \"favorite_color\"]\n",
    "data = [(\"sal\", \"red\"), (\"cat\", \"pink\")]\n",
    "\n",
    "df = spark.createDataFrame(data, columns)\n",
    "\n",
    "df.toPandas()"
   ]
  },
  {
   "cell_type": "code",
   "execution_count": null,
   "id": "26e2cab8-aee8-40c0-aa54-4a024cdf9084",
   "metadata": {},
   "outputs": [],
   "source": [
    "(df.write\n",
    "    #.option(\"mergeSchema\", \"true\")\n",
    "    .mode(\"append\")\n",
    "    .format(\"delta\")\n",
    "    .save(\"extract/03schema_enf3\")\n",
    ")"
   ]
  },
  {
   "cell_type": "code",
   "execution_count": null,
   "id": "6d5f1489-8b2e-412a-b380-d3c19292f279",
   "metadata": {},
   "outputs": [],
   "source": [
    "spark.read.format(\"delta\").load(\"extract/03schema_enf3\").toPandas()"
   ]
  },
  {
   "cell_type": "code",
   "execution_count": null,
   "id": "886b6483-54b3-4af5-9c39-2ce23d334420",
   "metadata": {},
   "outputs": [],
   "source": []
  }
 ],
 "metadata": {
  "kernelspec": {
   "display_name": "Python 3 (ipykernel)",
   "language": "python",
   "name": "python3"
  },
  "language_info": {
   "codemirror_mode": {
    "name": "ipython",
    "version": 3
   },
   "file_extension": ".py",
   "mimetype": "text/x-python",
   "name": "python",
   "nbconvert_exporter": "python",
   "pygments_lexer": "ipython3",
   "version": "3.10.6"
  }
 },
 "nbformat": 4,
 "nbformat_minor": 5
}
