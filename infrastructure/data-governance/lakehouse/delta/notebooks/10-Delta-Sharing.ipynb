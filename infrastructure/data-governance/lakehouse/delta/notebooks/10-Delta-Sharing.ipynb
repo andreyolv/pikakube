{
 "cells": [
  {
   "cell_type": "code",
   "execution_count": null,
   "id": "dfc6dab1-9ba6-4bb3-987e-51fb19ae5ca1",
   "metadata": {},
   "outputs": [],
   "source": [
    "!pip install delta-sharing"
   ]
  },
  {
   "cell_type": "code",
   "execution_count": null,
   "id": "43eed213-62dc-4a0e-a565-71ee88309cbb",
   "metadata": {
    "tags": []
   },
   "outputs": [],
   "source": [
    "import os\n",
    "import pandas as pd\n",
    "import delta_sharing\n",
    "from pyspark.sql import SparkSession\n",
    "from delta.pip_utils import configure_spark_with_delta_pip\n",
    "\n",
    "builder = (SparkSession\n",
    "            .builder\n",
    "            .appName(\"DeltaSession\")\n",
    "            .config(\"spark.sql.extensions\", \"io.delta.sql.DeltaSparkSessionExtension\")\n",
    "            .config(\"spark.sql.catalog.spark_catalog\", \"org.apache.spark.sql.delta.catalog.DeltaCatalog\")\n",
    "        )\n",
    "\n",
    "\n",
    "jars = [\n",
    "    \"io.delta:delta-core_2.12:2.3.0\", # run delta\n",
    "    \"io.delta:delta-sharing-spark_2.12:0.6.3\" # run delta sharing\n",
    "]\n",
    "\n",
    "spark = configure_spark_with_delta_pip(\n",
    "            spark_session_builder=builder\n",
    "            ,extra_packages=jars).getOrCreate()"
   ]
  },
  {
   "cell_type": "code",
   "execution_count": null,
   "id": "137302ad-34a1-477a-a307-ea016d8305a1",
   "metadata": {
    "tags": []
   },
   "outputs": [],
   "source": [
    "# Point to the profile file. \n",
    "# It can be a file on the local file system or a file on a remote storage.\n",
    "profile_file = 'delta-sharing/open-datasets.share'\n",
    "\n",
    "# Create a SharingClient.\n",
    "client = delta_sharing.SharingClient(profile_file)"
   ]
  },
  {
   "cell_type": "code",
   "execution_count": null,
   "id": "2011f765-2da0-4092-a55f-583305965a6e",
   "metadata": {
    "tags": []
   },
   "outputs": [],
   "source": [
    "client"
   ]
  },
  {
   "cell_type": "code",
   "execution_count": null,
   "id": "c64983c5-3a08-43b0-b8cd-07af4cdbeab3",
   "metadata": {
    "tags": []
   },
   "outputs": [],
   "source": [
    "# List all shared tables.\n",
    "print(client.list_all_tables())"
   ]
  },
  {
   "cell_type": "code",
   "execution_count": null,
   "id": "3befefca-7b31-4fab-8ecb-0aeda6553185",
   "metadata": {
    "tags": []
   },
   "outputs": [],
   "source": [
    "df = pd.DataFrame([(t.share, t.schema, t.name) for t in client.list_all_tables()],\n",
    "                  columns=['share', 'schema', 'name'])\n",
    "df.head(10)"
   ]
  },
  {
   "cell_type": "markdown",
   "id": "085c8aa6-77c6-4cb4-9f18-545347fbb2d7",
   "metadata": {},
   "source": [
    "## load_as_pandas"
   ]
  },
  {
   "cell_type": "code",
   "execution_count": null,
   "id": "6d33ead3-cd89-46c5-8aa1-77880a1c9ad2",
   "metadata": {
    "tags": []
   },
   "outputs": [],
   "source": [
    "# Create a url to access a shared table.\n",
    "# A table path is the profile file path following with `#` \n",
    "# and the fully qualified name of a table (`<share-name>.<schema-name>.<table-name>`).\n",
    "profile_file = 'delta-sharing/open-datasets.share'\n",
    "table_url = profile_file + \"#delta_sharing.default.boston-housing\"\n",
    "\n",
    "# Fetch 10 rows from a table and convert it to a Pandas DataFrame. \n",
    "# This can be used to read sample data from a table that cannot fit in the memory.\n",
    "data = delta_sharing.load_as_pandas(table_url, limit=10)\n",
    "\n",
    "data.head(15)"
   ]
  },
  {
   "cell_type": "markdown",
   "id": "38c4e6b8-aaa7-4c8b-8c8d-71998d32244c",
   "metadata": {},
   "source": [
    "## load_as_spark"
   ]
  },
  {
   "cell_type": "code",
   "execution_count": null,
   "id": "a4912693-97c2-4827-bc4d-d4e7e5898695",
   "metadata": {
    "tags": []
   },
   "outputs": [],
   "source": [
    "profile_file = 'delta-sharing/open-datasets.share'\n",
    "table_url = profile_file + \"#delta_sharing.default.owid-covid-data\""
   ]
  },
  {
   "cell_type": "code",
   "execution_count": null,
   "id": "18eb8118-9a77-48b7-b983-2993190ad7c5",
   "metadata": {
    "tags": []
   },
   "outputs": [],
   "source": [
    "# Read data using format \"deltaSharing\"\n",
    "df1 = spark.read.format(\"deltaSharing\").load(table_url)\n",
    "\n",
    "df1.limit(10).toPandas()"
   ]
  },
  {
   "cell_type": "code",
   "execution_count": null,
   "id": "0da2c38c-331d-46b9-9ede-fa2befc19917",
   "metadata": {},
   "outputs": [],
   "source": [
    "# Or you can use `load_as_spark` to load the table as a Spark DataFrame.\n",
    "df2 = delta_sharing.load_as_spark(table_url)\n",
    "\n",
    "df2.limit(10).toPandas()"
   ]
  },
  {
   "cell_type": "code",
   "execution_count": null,
   "id": "6f51cab1-6926-44b0-a961-e195e9d17591",
   "metadata": {},
   "outputs": [],
   "source": []
  }
 ],
 "metadata": {
  "kernelspec": {
   "display_name": "Python 3 (ipykernel)",
   "language": "python",
   "name": "python3"
  },
  "language_info": {
   "codemirror_mode": {
    "name": "ipython",
    "version": 3
   },
   "file_extension": ".py",
   "mimetype": "text/x-python",
   "name": "python",
   "nbconvert_exporter": "python",
   "pygments_lexer": "ipython3",
   "version": "3.10.6"
  }
 },
 "nbformat": 4,
 "nbformat_minor": 5
}
