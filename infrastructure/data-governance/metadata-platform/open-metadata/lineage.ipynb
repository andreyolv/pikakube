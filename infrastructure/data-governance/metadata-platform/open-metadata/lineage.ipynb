{
 "cells": [
  {
   "cell_type": "code",
   "execution_count": null,
   "id": "be05d6d4-5ded-4b6c-a21f-5e19dece0c64",
   "metadata": {},
   "outputs": [],
   "source": [
    "from pyspark.sql import SparkSession\n",
    "from pyspark.sql.types import *\n",
    "from pyspark.sql import functions as F\n",
    "from pyspark.sql import Window\n",
    "\n",
    "# https://mvnrepository.com/artifact/mysql/mysql-connector-java\n",
    "# download jar spark agent https://github.com/open-metadata/openmetadata-spark-agent/releases\n",
    "\n",
    "# https://docs.open-metadata.org/v1.3.x/deployment/security/enable-jwt-tokens#generate-token\n",
    "jwtToken = 'xxxxxxxxxxxx'\n",
    "\n",
    "spark = (SparkSession.builder\n",
    "         .appName('sample_spark')\n",
    "         .config('spark.extraListeners', 'org.openmetadata.spark.agent.OpenMetadataSparkListener')\n",
    "         .config('spark.jars.packages', 'mysql:mysql-connector-java:8.0.30')\n",
    "         .config('spark.jars', '/home/jovyan/openmetadata-spark-agent-1.0-beta.jar')\n",
    "         .config(\"spark.openmetadata.transport.hostPort\", 'http://openmetadata.openmetadata:8585')\n",
    "         .config('spark.openmetadata.transport.type', 'openmetadata')\n",
    "         .config('spark.openmetadata.transport.jwtToken', jwtToken)\n",
    "         .config('spark.openmetadata.transport.pipelineServiceName', 'my_pipeline_service')\n",
    "         .config('spark.openmetadata.transport.pipelineName', 'my_pipeline_name')\n",
    "       #  .config('spark.openmetadata.transport.pipelineSourceUrl', '')\n",
    "         .config('spark.openmetadata.transport.pipelineDescription', 'My ETL Pipeline')\n",
    "       #  .config('spark.openmetadata.transport.databaseServiceNames', 'random,local_mysql')\n",
    "         .config('spark.openmetadata.transport.timeout', '30')\n",
    "         .getOrCreate()\n",
    "        )"
   ]
  },
  {
   "cell_type": "code",
   "execution_count": 2,
   "id": "9eb7f7b4-8a9f-4691-9b7d-b07ff99dbe6c",
   "metadata": {},
   "outputs": [
    {
     "name": "stdout",
     "output_type": "stream",
     "text": [
      "+----------+------------+\n",
      "|produto_id|produto_nome|\n",
      "+----------+------------+\n",
      "|         1|       Arroz|\n",
      "|         2|      Feijão|\n",
      "|         4|        Óleo|\n",
      "+----------+------------+\n",
      "\n"
     ]
    }
   ],
   "source": [
    "df_produtos = spark.read.format('parquet').load('tables/produtos')\n",
    "\n",
    "df_produtos.show()"
   ]
  },
  {
   "cell_type": "code",
   "execution_count": 3,
   "id": "a7d721f6-011c-4647-b970-cae951aedc5d",
   "metadata": {},
   "outputs": [
    {
     "name": "stdout",
     "output_type": "stream",
     "text": [
      "+----------+----------+-----+\n",
      "|      data|produto_id|valor|\n",
      "+----------+----------+-----+\n",
      "|2022-01-01|         1|100.0|\n",
      "|2022-01-02|         2| 50.0|\n",
      "|2022-01-03|         3| 25.0|\n",
      "+----------+----------+-----+\n",
      "\n"
     ]
    }
   ],
   "source": [
    "df_vendas = spark.read.format('parquet').load('tables/vendas')\n",
    "\n",
    "df_vendas.show()"
   ]
  },
  {
   "cell_type": "code",
   "execution_count": 4,
   "id": "7e87925e-0416-47aa-8a83-38f039aa955e",
   "metadata": {},
   "outputs": [
    {
     "name": "stdout",
     "output_type": "stream",
     "text": [
      "+----------+----------+-----+------------+\n",
      "|produto_id|      data|valor|produto_nome|\n",
      "+----------+----------+-----+------------+\n",
      "|         1|2022-01-01|100.0|       Arroz|\n",
      "|         2|2022-01-02| 50.0|      Feijão|\n",
      "|         3|2022-01-03| 25.0|        null|\n",
      "+----------+----------+-----+------------+\n",
      "\n"
     ]
    }
   ],
   "source": [
    "df_final = df_vendas.join(df_produtos, \"produto_id\", \"left\")\n",
    "\n",
    "df_final.show()"
   ]
  },
  {
   "cell_type": "code",
   "execution_count": 5,
   "id": "5f322823-c11b-46cf-924c-46afcbb2d659",
   "metadata": {},
   "outputs": [],
   "source": [
    "df_final.write.mode('overwrite').format(\"parquet\").save(\"tables/final\")"
   ]
  },
  {
   "cell_type": "code",
   "execution_count": null,
   "id": "537636e6-577d-4372-9d0e-7aeed667e148",
   "metadata": {},
   "outputs": [],
   "source": []
  }
 ],
 "metadata": {
  "kernelspec": {
   "display_name": "Python 3 (ipykernel)",
   "language": "python",
   "name": "python3"
  },
  "language_info": {
   "codemirror_mode": {
    "name": "ipython",
    "version": 3
   },
   "file_extension": ".py",
   "mimetype": "text/x-python",
   "name": "python",
   "nbconvert_exporter": "python",
   "pygments_lexer": "ipython3",
   "version": "3.10.6"
  }
 },
 "nbformat": 4,
 "nbformat_minor": 5
}
