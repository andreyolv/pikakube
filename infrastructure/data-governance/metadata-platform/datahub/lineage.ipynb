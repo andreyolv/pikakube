{
 "cells": [
  {
   "cell_type": "code",
   "execution_count": null,
   "id": "ff5f42e7-fb20-4a97-986b-946b68a824ba",
   "metadata": {},
   "outputs": [],
   "source": [
    "from pyspark.sql import SparkSession\n",
    "from pyspark.sql.types import *\n",
    "from pyspark.sql import functions as F\n",
    "from pyspark.sql import Window\n",
    "\n",
    "# https://mvnrepository.com/artifact/io.acryl/datahub-spark-lineage\n",
    "\n",
    "token = 'xxxxxxxxxx'\n",
    "\n",
    "spark = (SparkSession.builder\n",
    "         .appName('sample_spark')\n",
    "         .config('spark.extraListeners', 'datahub.spark.DatahubSparkListener')\n",
    "         .config('spark.jars.packages', 'io.acryl:datahub-spark-lineage:0.13.1-3')\n",
    "         .config(\"spark.datahub.rest.server\", \"http://datahub-datahub-gms.datahub:8080\")\n",
    "         .config(\"spark.datahub.rest.token\", token)\n",
    "         .getOrCreate()\n",
    "        )\n",
    "\n"
   ]
  },
  {
   "cell_type": "code",
   "execution_count": 2,
   "id": "300f8f70-d46b-4a22-abe3-9e98f54e243e",
   "metadata": {},
   "outputs": [
    {
     "name": "stdout",
     "output_type": "stream",
     "text": [
      "+----------+------------+\n",
      "|produto_id|produto_nome|\n",
      "+----------+------------+\n",
      "|         1|       Arroz|\n",
      "|         2|      Feijão|\n",
      "|         4|        Óleo|\n",
      "+----------+------------+\n",
      "\n"
     ]
    }
   ],
   "source": [
    "df_produtos = spark.read.format('parquet').load('tables/produtos')\n",
    "\n",
    "df_produtos.show()"
   ]
  },
  {
   "cell_type": "code",
   "execution_count": 3,
   "id": "68bea05e-ad88-4f4a-9297-4f728e858235",
   "metadata": {},
   "outputs": [
    {
     "name": "stdout",
     "output_type": "stream",
     "text": [
      "+----------+----------+-----+\n",
      "|      data|produto_id|valor|\n",
      "+----------+----------+-----+\n",
      "|2022-01-01|         1|100.0|\n",
      "|2022-01-02|         2| 50.0|\n",
      "|2022-01-03|         3| 25.0|\n",
      "+----------+----------+-----+\n",
      "\n"
     ]
    }
   ],
   "source": [
    "df_vendas = spark.read.format('parquet').load('tables/vendas')\n",
    "\n",
    "df_vendas.show()"
   ]
  },
  {
   "cell_type": "code",
   "execution_count": 4,
   "id": "79791a60-02e2-40e6-8053-ee7ba7cef2a4",
   "metadata": {},
   "outputs": [
    {
     "name": "stdout",
     "output_type": "stream",
     "text": [
      "+----------+----------+-----+------------+\n",
      "|produto_id|      data|valor|produto_nome|\n",
      "+----------+----------+-----+------------+\n",
      "|         1|2022-01-01|100.0|       Arroz|\n",
      "|         2|2022-01-02| 50.0|      Feijão|\n",
      "|         3|2022-01-03| 25.0|        null|\n",
      "+----------+----------+-----+------------+\n",
      "\n"
     ]
    }
   ],
   "source": [
    "df_final = df_vendas.join(df_produtos, \"produto_id\", \"left\")\n",
    "\n",
    "df_final.show()"
   ]
  },
  {
   "cell_type": "code",
   "execution_count": 5,
   "id": "9646b2f2-4151-4661-9244-82382b33429a",
   "metadata": {},
   "outputs": [],
   "source": [
    "df_final.write.mode('overwrite').format(\"parquet\").save(\"tables/final\")"
   ]
  },
  {
   "cell_type": "code",
   "execution_count": null,
   "id": "5baeade8-8493-4016-af9d-bcdec07435aa",
   "metadata": {},
   "outputs": [],
   "source": []
  }
 ],
 "metadata": {
  "kernelspec": {
   "display_name": "Python 3 (ipykernel)",
   "language": "python",
   "name": "python3"
  },
  "language_info": {
   "codemirror_mode": {
    "name": "ipython",
    "version": 3
   },
   "file_extension": ".py",
   "mimetype": "text/x-python",
   "name": "python",
   "nbconvert_exporter": "python",
   "pygments_lexer": "ipython3",
   "version": "3.10.6"
  }
 },
 "nbformat": 4,
 "nbformat_minor": 5
}
