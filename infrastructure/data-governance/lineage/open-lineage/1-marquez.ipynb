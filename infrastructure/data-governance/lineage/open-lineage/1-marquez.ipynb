{
 "cells": [
  {
   "cell_type": "code",
   "execution_count": 1,
   "id": "6aa66853-3962-4627-b3a9-fd83ac985348",
   "metadata": {},
   "outputs": [],
   "source": [
    "from pyspark.sql import SparkSession\n",
    "from pyspark.sql.types import *\n",
    "from pyspark.sql import functions as F\n",
    "from pyspark.sql import Window\n",
    "\n",
    "# https://mvnrepository.com/artifact/io.openlineage/openlineage-spark\n",
    "\n",
    "marquez_host = 'http://marquez.marquez:80'\n",
    "\n",
    "spark = (SparkSession.builder\n",
    "         .appName('sample_spark')\n",
    "         .config('spark.extraListeners', 'io.openlineage.spark.agent.OpenLineageSparkListener')\n",
    "         .config('spark.jars.packages', 'io.openlineage:openlineage-spark:1.4.1')\n",
    "         .config(\"spark.openlineage.namespace\", \"andreyolv\")\n",
    "         .config('spark.openlineage.transport.type', 'http')\n",
    "         .config('spark.openlineage.transport.url', marquez_host)\n",
    "         .getOrCreate()\n",
    "        )\n",
    "\n"
   ]
  },
  {
   "cell_type": "code",
   "execution_count": 11,
   "id": "6b86e1ac-9444-46cd-9489-fc9467791f7b",
   "metadata": {},
   "outputs": [
    {
     "name": "stdout",
     "output_type": "stream",
     "text": [
      "+----------+------------+\n",
      "|produto_id|produto_nome|\n",
      "+----------+------------+\n",
      "|         1|       Arroz|\n",
      "|         2|      Feijão|\n",
      "|         4|        Óleo|\n",
      "+----------+------------+\n",
      "\n"
     ]
    }
   ],
   "source": [
    "df_produtos = spark.read.format('parquet').load('tables/produtos')\n",
    "\n",
    "df_produtos.show()"
   ]
  },
  {
   "cell_type": "code",
   "execution_count": 10,
   "id": "a5078239-325e-45bf-8260-f19b43d7a880",
   "metadata": {},
   "outputs": [
    {
     "name": "stdout",
     "output_type": "stream",
     "text": [
      "+----------+----------+-----+\n",
      "|      data|produto_id|valor|\n",
      "+----------+----------+-----+\n",
      "|2022-01-01|         1|100.0|\n",
      "|2022-01-02|         2| 50.0|\n",
      "|2022-01-03|         3| 25.0|\n",
      "+----------+----------+-----+\n",
      "\n"
     ]
    }
   ],
   "source": [
    "df_vendas = spark.read.format('parquet').load('tables/vendas')\n",
    "\n",
    "df_vendas.show()"
   ]
  },
  {
   "cell_type": "code",
   "execution_count": 12,
   "id": "826ed496-38ad-4a8c-8abe-af9dea1b7139",
   "metadata": {},
   "outputs": [
    {
     "name": "stdout",
     "output_type": "stream",
     "text": [
      "+----------+----------+-----+------------+\n",
      "|produto_id|      data|valor|produto_nome|\n",
      "+----------+----------+-----+------------+\n",
      "|         1|2022-01-01|100.0|       Arroz|\n",
      "|         2|2022-01-02| 50.0|      Feijão|\n",
      "|         3|2022-01-03| 25.0|        null|\n",
      "+----------+----------+-----+------------+\n",
      "\n"
     ]
    }
   ],
   "source": [
    "df_final = df_vendas.join(df_produtos, \"produto_id\", \"left\")\n",
    "\n",
    "df_final.show()"
   ]
  },
  {
   "cell_type": "code",
   "execution_count": 13,
   "id": "a6776306-903d-49c5-bf75-1959188b6ddf",
   "metadata": {},
   "outputs": [],
   "source": [
    "df_final.write.mode('overwrite').format(\"parquet\").save(\"tables/final\")"
   ]
  },
  {
   "cell_type": "code",
   "execution_count": null,
   "id": "791998b9-c5b9-4765-a667-bc0886ce63d0",
   "metadata": {},
   "outputs": [],
   "source": []
  }
 ],
 "metadata": {
  "kernelspec": {
   "display_name": "Python 3 (ipykernel)",
   "language": "python",
   "name": "python3"
  },
  "language_info": {
   "codemirror_mode": {
    "name": "ipython",
    "version": 3
   },
   "file_extension": ".py",
   "mimetype": "text/x-python",
   "name": "python",
   "nbconvert_exporter": "python",
   "pygments_lexer": "ipython3",
   "version": "3.10.6"
  }
 },
 "nbformat": 4,
 "nbformat_minor": 5
}
