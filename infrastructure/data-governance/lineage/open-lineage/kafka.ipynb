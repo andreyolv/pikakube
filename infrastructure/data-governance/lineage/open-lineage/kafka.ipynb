{
 "cells": [
  {
   "cell_type": "code",
   "execution_count": null,
   "id": "65d08233-b3ba-4a7a-ad74-188d62d8fea6",
   "metadata": {},
   "outputs": [],
   "source": [
    "spark.conf.set(\"spark.jars.packages\", \"io.openlineage:openlineage-spark:0.22\")\n",
    "spark.conf.set(\"spark.extraListeners\", \"io.openlineage.spark.agent.OpenLineageSparkListener\")\n",
    "spark.conf.set(\"spark.openlineage.namespace\", \"andreyolv\")\n",
    "spark.conf.set(\"spark.openlineage.parentJobName\", \"test-andrey\")\n",
    "spark.conf.set(\"spark.openlineage.facets.disabled\", \"[spark_unknown;spark.logicalPlan]\")\n",
    "spark.conf.set(\"spark.openlineage.transport.type\", \"kafka\")\n",
    "spark.conf.set(\"spark.openlineage.transport.topicName\", \"open-lineage\")\n",
    "spark.conf.set(\"spark.openlineage.transport.properties.bootstrap.servers\", \"andreyolv-kafka-bootstrap.kafka-strimzi:9092\",)\n",
    "spark.conf.set(\"spark.openlineage.transport.properties.key.serializer\", \"org.apache.kafka.common.serialization.StringSerializer\",)\n",
    "spark.conf.set(\"spark.openlineage.transport.properties.value.serializer\", \"org.apache.kafka.common.serialization.StringSerializer\",)"
   ]
  }
 ],
 "metadata": {
  "kernelspec": {
   "display_name": "Python 3 (ipykernel)",
   "language": "python",
   "name": "python3"
  },
  "language_info": {
   "codemirror_mode": {
    "name": "ipython",
    "version": 3
   },
   "file_extension": ".py",
   "mimetype": "text/x-python",
   "name": "python",
   "nbconvert_exporter": "python",
   "pygments_lexer": "ipython3",
   "version": "3.10.6"
  }
 },
 "nbformat": 4,
 "nbformat_minor": 5
}
