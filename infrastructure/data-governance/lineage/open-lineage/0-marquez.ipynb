{
 "cells": [
  {
   "cell_type": "code",
   "execution_count": 1,
   "id": "945d0850-5f0b-4960-9fe8-091d8e7e7600",
   "metadata": {},
   "outputs": [],
   "source": [
    "from pyspark.sql import SparkSession\n",
    "\n",
    "spark = (SparkSession.builder.master('local')\n",
    "         .appName('sample_spark')\n",
    "         .getOrCreate()\n",
    "        )"
   ]
  },
  {
   "cell_type": "code",
   "execution_count": 6,
   "id": "af932fda-64c7-4bda-952a-97a712a3faed",
   "metadata": {},
   "outputs": [],
   "source": [
    "# Cria um DataFrame com informações de vendas\n",
    "vendas_data = [(\"2022-01-01\", 1, 100.0),\n",
    "               (\"2022-01-02\", 2, 50.0),\n",
    "               (\"2022-01-03\", 3, 25.0)]\n",
    "\n",
    "df_vendas = spark.createDataFrame(vendas_data, [\"data\", \"produto_id\", \"valor\"])\n",
    "\n",
    "df_vendas.write.mode('overwrite').format(\"parquet\").save(\"tables/vendas\")"
   ]
  },
  {
   "cell_type": "code",
   "execution_count": 7,
   "id": "d542b35d-b3c3-4c7a-b11d-f6390643932e",
   "metadata": {},
   "outputs": [],
   "source": [
    "# Cria um DataFrame com informações de produtos\n",
    "produtos_data = [(1, \"Arroz\"),\n",
    "                 (2, \"Feijão\"),\n",
    "                 (4, \"Óleo\")]\n",
    "\n",
    "df_produtos = spark.createDataFrame(produtos_data, [\"produto_id\", \"produto_nome\"])\n",
    "\n",
    "df_produtos.write.mode('overwrite').format(\"parquet\").save(\"tables/produtos\")"
   ]
  },
  {
   "cell_type": "code",
   "execution_count": null,
   "id": "8a50a376-2a73-4943-b255-6210a53599a1",
   "metadata": {},
   "outputs": [],
   "source": []
  }
 ],
 "metadata": {
  "kernelspec": {
   "display_name": "Python 3 (ipykernel)",
   "language": "python",
   "name": "python3"
  },
  "language_info": {
   "codemirror_mode": {
    "name": "ipython",
    "version": 3
   },
   "file_extension": ".py",
   "mimetype": "text/x-python",
   "name": "python",
   "nbconvert_exporter": "python",
   "pygments_lexer": "ipython3",
   "version": "3.10.6"
  }
 },
 "nbformat": 4,
 "nbformat_minor": 5
}
