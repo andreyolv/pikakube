{
 "cells": [
  {
   "cell_type": "code",
   "execution_count": 1,
   "id": "38109757-b00c-4b2c-9cd7-4c71a996735b",
   "metadata": {},
   "outputs": [],
   "source": [
    "from pyspark.sql import SparkSession\n",
    "\n",
    "# https://mvnrepository.com/artifact/io.openlineage/openlineage-spark\n",
    "\n",
    "spark = (SparkSession.builder.master('local')\n",
    "         .appName('sample_spark')\n",
    "         .config('spark.extraListeners', 'io.openlineage.spark.agent.OpenLineageSparkListener')\n",
    "         .config('spark.jars.packages', 'io.openlineage:openlineage-spark:1.4.1')\n",
    "         .config('spark.openlineage.transport.type', 'console')\n",
    "         .getOrCreate())\n",
    "\n",
    "spark.sparkContext.setLogLevel(\"INFO\")\n",
    "\n",
    "spark.createDataFrame([\n",
    "    {'a': 1, 'b': 2},\n",
    "    {'a': 3, 'b': 4}\n",
    "]).write.mode(\"overwrite\").saveAsTable(\"teste2\")"
   ]
  },
  {
   "cell_type": "code",
   "execution_count": null,
   "id": "bf1a00a8-7745-4af3-b8b8-5210e8db25b9",
   "metadata": {},
   "outputs": [],
   "source": [
    "# ver logs no pod do jupyter"
   ]
  }
 ],
 "metadata": {
  "kernelspec": {
   "display_name": "Python 3 (ipykernel)",
   "language": "python",
   "name": "python3"
  },
  "language_info": {
   "codemirror_mode": {
    "name": "ipython",
    "version": 3
   },
   "file_extension": ".py",
   "mimetype": "text/x-python",
   "name": "python",
   "nbconvert_exporter": "python",
   "pygments_lexer": "ipython3",
   "version": "3.10.6"
  }
 },
 "nbformat": 4,
 "nbformat_minor": 5
}
