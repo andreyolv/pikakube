{
 "cells": [
  {
   "cell_type": "code",
   "execution_count": 2,
   "id": "4587e708-b3fc-4273-8228-de7501d089b2",
   "metadata": {},
   "outputs": [
    {
     "name": "stdout",
     "output_type": "stream",
     "text": [
      "Collecting pika\n",
      "  Downloading pika-1.3.2-py3-none-any.whl (155 kB)\n",
      "\u001b[2K     \u001b[90m━━━━━━━━━━━━━━━━━━━━━━━━━━━━━━━━━━━━━━━\u001b[0m \u001b[32m155.4/155.4 kB\u001b[0m \u001b[31m5.8 MB/s\u001b[0m eta \u001b[36m0:00:00\u001b[0m\n",
      "\u001b[?25hInstalling collected packages: pika\n",
      "Successfully installed pika-1.3.2\n"
     ]
    }
   ],
   "source": [
    "!pip install pika"
   ]
  },
  {
   "cell_type": "code",
   "execution_count": null,
   "id": "9803bc8d-3962-4e03-b7b0-cc4d5a5992fb",
   "metadata": {},
   "outputs": [],
   "source": [
    "import pika\n",
    "\n",
    "#host = 'rabbitmq.rabbitmq.svc.cluster.local'\n",
    "host = '127.0.0.1'\n",
    "port = 5672\n",
    "user = 'pikakube'\n",
    "password = 'pikakube'\n",
    "\n",
    "credentials = pika.PlainCredentials(user, password)\n",
    "\n",
    "connection = pika.BlockingConnection(pika.ConnectionParameters(host=host, port=port, credentials=credentials))\n",
    "channel = connection.channel()"
   ]
  },
  {
   "cell_type": "code",
   "execution_count": 80,
   "id": "ea902d43-9151-4c75-bddb-d7ce4bd69e8c",
   "metadata": {},
   "outputs": [
    {
     "data": {
      "text/plain": [
       "<METHOD(['channel_number=1', 'frame_type=1', \"method=<Queue.DeclareOk(['consumer_count=0', 'message_count=2', 'queue=testqueue'])>\"])>"
      ]
     },
     "execution_count": 80,
     "metadata": {},
     "output_type": "execute_result"
    }
   ],
   "source": [
    "queue_name = 'testqueue'\n",
    "channel.queue_declare(queue=queue_name , durable=True)"
   ]
  },
  {
   "cell_type": "code",
   "execution_count": 87,
   "id": "c0c6af0f-2c44-4945-abb4-855851408b78",
   "metadata": {},
   "outputs": [
    {
     "name": "stdout",
     "output_type": "stream",
     "text": [
      "Mensagem enviada: 'Olá, RabbitMQ!'\n"
     ]
    }
   ],
   "source": [
    "mensagem = 'Olá, RabbitMQ!'\n",
    "\n",
    "channel.basic_publish(exchange='', routing_key=queue_name, body=mensagem)\n",
    "\n",
    "print(f\"Mensagem enviada: '{mensagem}'\")"
   ]
  },
  {
   "cell_type": "code",
   "execution_count": 88,
   "id": "bc9f2d64-ba21-4d75-8954-45ab1315b950",
   "metadata": {},
   "outputs": [
    {
     "name": "stdout",
     "output_type": "stream",
     "text": [
      "Quantidade de mensagem enviada: '6'\n"
     ]
    }
   ],
   "source": [
    "message_count = channel.queue_declare(queue=queue_name, passive=True).method.message_count\n",
    "\n",
    "print(f\"Quantidade de mensagem enviada: '{message_count}'\")"
   ]
  },
  {
   "cell_type": "code",
   "execution_count": null,
   "id": "2dbfa453-801b-47af-9508-c319880df00f",
   "metadata": {},
   "outputs": [
    {
     "name": "stdout",
     "output_type": "stream",
     "text": [
      "Aguardando mensagens. Para sair pressione CTRL+C\n",
      "Recebi a mensagem: b'Ol\\xc3\\xa1, RabbitMQ!'\n",
      "Recebi a mensagem: b'Ol\\xc3\\xa1, RabbitMQ!'\n",
      "Recebi a mensagem: b'Ol\\xc3\\xa1, RabbitMQ!'\n",
      "Recebi a mensagem: b'Ol\\xc3\\xa1, RabbitMQ!'\n",
      "Recebi a mensagem: b'Ol\\xc3\\xa1, RabbitMQ!'\n",
      "Recebi a mensagem: b'Ol\\xc3\\xa1, RabbitMQ!'\n"
     ]
    }
   ],
   "source": [
    "def callback(ch, method, properties, body):\n",
    "    print(f\"Recebi a mensagem: {body}\")\n",
    "    \n",
    "channel.basic_consume(queue=queue_name, on_message_callback=callback, auto_ack=True)\n",
    "\n",
    "print('Aguardando mensagens. Para sair pressione CTRL+C')\n",
    "\n",
    "channel.start_consuming()"
   ]
  },
  {
   "cell_type": "code",
   "execution_count": 70,
   "id": "c05b75d1-bac0-4001-8251-a9f6e6f8febf",
   "metadata": {},
   "outputs": [],
   "source": [
    "connection.close()"
   ]
  },
  {
   "cell_type": "code",
   "execution_count": null,
   "id": "e3afcf6a-4797-481d-a7d5-15b8f1012ad4",
   "metadata": {},
   "outputs": [],
   "source": []
  }
 ],
 "metadata": {
  "kernelspec": {
   "display_name": "Python 3",
   "language": "python",
   "name": "python3"
  },
  "language_info": {
   "codemirror_mode": {
    "name": "ipython",
    "version": 3
   },
   "file_extension": ".py",
   "mimetype": "text/x-python",
   "name": "python",
   "nbconvert_exporter": "python",
   "pygments_lexer": "ipython3",
   "version": "3.12.3"
  }
 },
 "nbformat": 4,
 "nbformat_minor": 5
}
