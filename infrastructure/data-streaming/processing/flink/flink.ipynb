{
 "cells": [
  {
   "cell_type": "code",
   "execution_count": null,
   "metadata": {},
   "outputs": [],
   "source": [
    "import os\n",
    "\n",
    "from pyflink.datastream import StreamExecutionEnvironment\n",
    "from pyflink.table import *\n",
    "\n",
    "def main():\n",
    "    # Create streaming environment\n",
    "    env = StreamExecutionEnvironment.get_execution_environment()\n",
    "\n",
    "    (settings = EnvironmentSettings.new_instance()\n",
    "                                .in_streaming_mode()\n",
    "                                .build()\n",
    "    )\n",
    "\n",
    "    # Create table environment\n",
    "    (tbl_env = StreamTableEnvironment.create(stream_execution_environment=env, \n",
    "                                            environment_settings=settings)\n",
    "    )"
   ]
  },
  {
   "cell_type": "code",
   "execution_count": null,
   "metadata": {},
   "outputs": [],
   "source": [
    "# Add kafka connector dependency\n",
    "kafka_jar = os.path.join(os.path.abspath(os.path.dirname(__file__)), \"flink-connector-kafka_2.11-1.14.4.jar\")\n",
    "\n",
    "# Set configurations\n",
    "tbl_env.get_config().get_configuration().set_string(\"pipeline.jars\", f\"file://{kafka_jar}\") \\\n",
    "    .set_string(\"execution.checkpointing.mode\", \"EXACTLY_ONCE\") \\\n",
    "    .set_string(\"execution.checkpointing.interval\", \"10s\") \\"
   ]
  },
  {
   "cell_type": "code",
   "execution_count": null,
   "metadata": {},
   "outputs": [],
   "source": [
    "IMAGEM"
   ]
  },
  {
   "cell_type": "code",
   "execution_count": null,
   "metadata": {},
   "outputs": [],
   "source": [
    "tbl_env.execute_sql(table).execute_insert().wait()"
   ]
  }
 ],
 "metadata": {
  "language_info": {
   "name": "python"
  },
  "orig_nbformat": 4
 },
 "nbformat": 4,
 "nbformat_minor": 2
}
